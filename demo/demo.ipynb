{
 "cells": [
  {
   "cell_type": "markdown",
   "id": "a4c9bf32-e591-4144-8f7b-c9011b3fdb68",
   "metadata": {},
   "source": [
    "# Demo"
   ]
  },
  {
   "cell_type": "markdown",
   "id": "61388014-a9f5-4967-aa27-3f39442df5ce",
   "metadata": {},
   "source": [
    "## Libraries"
   ]
  },
  {
   "cell_type": "code",
   "execution_count": 1,
   "id": "902260b7-43b4-470f-a20f-d21df7ba2eaf",
   "metadata": {},
   "outputs": [],
   "source": [
    "library(dplyr, warn.conflicts = FALSE)\n",
    "library(tidyr)\n",
    "library(purrr)\n",
    "library(ggplot2)\n",
    "library(Matrix, warn.conflicts = FALSE)\n",
    "library(uwot)\n",
    "library(MGMM)"
   ]
  },
  {
   "cell_type": "markdown",
   "id": "7b232f3b-f6f6-4a12-a138-233d9376d857",
   "metadata": {},
   "source": [
    "## Concordant and discordant profile parameters"
   ]
  },
  {
   "cell_type": "code",
   "execution_count": 2,
   "id": "e15d22b8-8962-4331-8845-e1e4487acdd5",
   "metadata": {},
   "outputs": [],
   "source": [
    "load(\"../data/validclusmod.RData\")"
   ]
  },
  {
   "cell_type": "code",
   "execution_count": 4,
   "id": "6c0330c7-d074-49c5-b905-d6e2cae737c8",
   "metadata": {},
   "outputs": [
    {
     "name": "stdout",
     "output_type": "stream",
     "text": [
      "\u001b[90m# A tibble: 2 × 3\u001b[39m\n",
      "  sex    residmod          clusmod         \n",
      "  \u001b[3m\u001b[90m<chr>\u001b[39m\u001b[23m  \u001b[3m\u001b[90m<list>\u001b[39m\u001b[23m            \u001b[3m\u001b[90m<list>\u001b[39m\u001b[23m          \n",
      "\u001b[90m1\u001b[39m Female \u001b[90m<tibble [10 × 6]>\u001b[39m \u001b[90m<tibble [6 × 4]>\u001b[39m\n",
      "\u001b[90m2\u001b[39m Male   \u001b[90m<tibble [10 × 6]>\u001b[39m \u001b[90m<tibble [5 × 4]>\u001b[39m\n"
     ]
    }
   ],
   "source": [
    "print(validclusmod)"
   ]
  },
  {
   "cell_type": "markdown",
   "id": "c4e694fd-a40d-4f45-8de0-f31cec5d8656",
   "metadata": {},
   "source": [
    "This table contains, for both sexes:\n",
    "\n",
    "- The column `residmod`, which contains the expected relationship between BMI and each biomarker.\n",
    "- The column `clusmod`, which contains the parameters of each profile."
   ]
  },
  {
   "cell_type": "markdown",
   "id": "aa1d24e3-9ea4-47c3-af83-e48631eff401",
   "metadata": {},
   "source": [
    "## Generating random dataset"
   ]
  },
  {
   "cell_type": "code",
   "execution_count": 14,
   "id": "f8aebf91-e11f-45a3-8a62-2af7a7a63abf",
   "metadata": {},
   "outputs": [
    {
     "name": "stdout",
     "output_type": "stream",
     "text": [
      "\u001b[90m# A tibble: 2 × 2\u001b[39m\n",
      "  sex    residtab           \n",
      "  \u001b[3m\u001b[90m<chr>\u001b[39m\u001b[23m  \u001b[3m\u001b[90m<list>\u001b[39m\u001b[23m             \n",
      "\u001b[90m1\u001b[39m Female \u001b[90m<dbl [10,000 × 10]>\u001b[39m\n",
      "\u001b[90m2\u001b[39m Male   \u001b[90m<dbl [10,000 × 10]>\u001b[39m\n"
     ]
    }
   ],
   "source": [
    "randdat <- validclusmod %>%\n",
    "  transmute(\n",
    "    sex,\n",
    "    residtab = map(\n",
    "      clusmod,\n",
    "      ~{\n",
    "        rd <- rGMM(\n",
    "          n = 1e4, \n",
    "          d = length(.x$validclus_centers[[1]]), \n",
    "          k = nrow(.x), \n",
    "          pi = .x$validclus_weights, \n",
    "          means = .x$validclus_centers, \n",
    "          covs = .x$validclus_covmats\n",
    "        )\n",
    "        rownames(rd) <- NULL\n",
    "        colnames(rd) <- names(.x$validclus_centers[[1]])\n",
    "        return(rd)\n",
    "      }\n",
    "    )\n",
    "  )\n",
    "print(randdat)"
   ]
  },
  {
   "cell_type": "code",
   "execution_count": 15,
   "id": "7a0d3770-c65c-4591-8063-32fdb8c52962",
   "metadata": {},
   "outputs": [
    {
     "data": {
      "text/html": [
       "<table class=\"dataframe\">\n",
       "<caption>A matrix: 6 × 10 of type dbl</caption>\n",
       "<thead>\n",
       "\t<tr><th scope=col>whr</th><th scope=col>sbp</th><th scope=col>dbp</th><th scope=col>alt</th><th scope=col>scr</th><th scope=col>crp</th><th scope=col>hdl</th><th scope=col>tg</th><th scope=col>ldl</th><th scope=col>fg</th></tr>\n",
       "</thead>\n",
       "<tbody>\n",
       "\t<tr><td> 1.2382070</td><td> 0.9010439</td><td>-0.8605634</td><td>-0.8878634</td><td> 0.1720702</td><td>-0.6773330</td><td>-0.7042340</td><td> 0.450992647</td><td>-1.44664182</td><td>-0.7551757</td></tr>\n",
       "\t<tr><td> 0.6509267</td><td> 1.2646431</td><td> 1.1541489</td><td>-0.2108984</td><td> 0.3915154</td><td>-0.1446573</td><td>-0.6152030</td><td>-0.005421713</td><td> 0.73543817</td><td>-0.4262263</td></tr>\n",
       "\t<tr><td>-0.7815373</td><td>-0.8341194</td><td> 0.3972551</td><td> 0.7741551</td><td> 1.3874029</td><td> 0.5776448</td><td>-0.5450179</td><td>-1.167076835</td><td>-0.86341808</td><td>-1.7945125</td></tr>\n",
       "\t<tr><td> 0.8666506</td><td>-0.6828689</td><td> 0.7359644</td><td> 0.5707173</td><td> 0.3613407</td><td> 1.6968013</td><td>-0.6082400</td><td> 0.249278099</td><td>-0.08619793</td><td>-0.6583755</td></tr>\n",
       "\t<tr><td>-0.1048721</td><td> 0.7171803</td><td>-1.8522450</td><td>-0.7129176</td><td>-1.6890679</td><td> 0.5053533</td><td> 0.2006623</td><td> 0.837582803</td><td> 0.14832942</td><td>-0.6972426</td></tr>\n",
       "\t<tr><td>-1.3087081</td><td>-0.8298099</td><td>-1.7856920</td><td> 0.6417700</td><td>-0.2966076</td><td>-1.1392729</td><td> 0.6860815</td><td>-0.158033410</td><td>-0.95645537</td><td>-1.1748905</td></tr>\n",
       "</tbody>\n",
       "</table>\n"
      ],
      "text/latex": [
       "A matrix: 6 × 10 of type dbl\n",
       "\\begin{tabular}{llllllllll}\n",
       " whr & sbp & dbp & alt & scr & crp & hdl & tg & ldl & fg\\\\\n",
       "\\hline\n",
       "\t  1.2382070 &  0.9010439 & -0.8605634 & -0.8878634 &  0.1720702 & -0.6773330 & -0.7042340 &  0.450992647 & -1.44664182 & -0.7551757\\\\\n",
       "\t  0.6509267 &  1.2646431 &  1.1541489 & -0.2108984 &  0.3915154 & -0.1446573 & -0.6152030 & -0.005421713 &  0.73543817 & -0.4262263\\\\\n",
       "\t -0.7815373 & -0.8341194 &  0.3972551 &  0.7741551 &  1.3874029 &  0.5776448 & -0.5450179 & -1.167076835 & -0.86341808 & -1.7945125\\\\\n",
       "\t  0.8666506 & -0.6828689 &  0.7359644 &  0.5707173 &  0.3613407 &  1.6968013 & -0.6082400 &  0.249278099 & -0.08619793 & -0.6583755\\\\\n",
       "\t -0.1048721 &  0.7171803 & -1.8522450 & -0.7129176 & -1.6890679 &  0.5053533 &  0.2006623 &  0.837582803 &  0.14832942 & -0.6972426\\\\\n",
       "\t -1.3087081 & -0.8298099 & -1.7856920 &  0.6417700 & -0.2966076 & -1.1392729 &  0.6860815 & -0.158033410 & -0.95645537 & -1.1748905\\\\\n",
       "\\end{tabular}\n"
      ],
      "text/markdown": [
       "\n",
       "A matrix: 6 × 10 of type dbl\n",
       "\n",
       "| whr | sbp | dbp | alt | scr | crp | hdl | tg | ldl | fg |\n",
       "|---|---|---|---|---|---|---|---|---|---|\n",
       "|  1.2382070 |  0.9010439 | -0.8605634 | -0.8878634 |  0.1720702 | -0.6773330 | -0.7042340 |  0.450992647 | -1.44664182 | -0.7551757 |\n",
       "|  0.6509267 |  1.2646431 |  1.1541489 | -0.2108984 |  0.3915154 | -0.1446573 | -0.6152030 | -0.005421713 |  0.73543817 | -0.4262263 |\n",
       "| -0.7815373 | -0.8341194 |  0.3972551 |  0.7741551 |  1.3874029 |  0.5776448 | -0.5450179 | -1.167076835 | -0.86341808 | -1.7945125 |\n",
       "|  0.8666506 | -0.6828689 |  0.7359644 |  0.5707173 |  0.3613407 |  1.6968013 | -0.6082400 |  0.249278099 | -0.08619793 | -0.6583755 |\n",
       "| -0.1048721 |  0.7171803 | -1.8522450 | -0.7129176 | -1.6890679 |  0.5053533 |  0.2006623 |  0.837582803 |  0.14832942 | -0.6972426 |\n",
       "| -1.3087081 | -0.8298099 | -1.7856920 |  0.6417700 | -0.2966076 | -1.1392729 |  0.6860815 | -0.158033410 | -0.95645537 | -1.1748905 |\n",
       "\n"
      ],
      "text/plain": [
       "     whr        sbp        dbp        alt        scr        crp       \n",
       "[1,]  1.2382070  0.9010439 -0.8605634 -0.8878634  0.1720702 -0.6773330\n",
       "[2,]  0.6509267  1.2646431  1.1541489 -0.2108984  0.3915154 -0.1446573\n",
       "[3,] -0.7815373 -0.8341194  0.3972551  0.7741551  1.3874029  0.5776448\n",
       "[4,]  0.8666506 -0.6828689  0.7359644  0.5707173  0.3613407  1.6968013\n",
       "[5,] -0.1048721  0.7171803 -1.8522450 -0.7129176 -1.6890679  0.5053533\n",
       "[6,] -1.3087081 -0.8298099 -1.7856920  0.6417700 -0.2966076 -1.1392729\n",
       "     hdl        tg           ldl         fg        \n",
       "[1,] -0.7042340  0.450992647 -1.44664182 -0.7551757\n",
       "[2,] -0.6152030 -0.005421713  0.73543817 -0.4262263\n",
       "[3,] -0.5450179 -1.167076835 -0.86341808 -1.7945125\n",
       "[4,] -0.6082400  0.249278099 -0.08619793 -0.6583755\n",
       "[5,]  0.2006623  0.837582803  0.14832942 -0.6972426\n",
       "[6,]  0.6860815 -0.158033410 -0.95645537 -1.1748905"
      ]
     },
     "metadata": {},
     "output_type": "display_data"
    }
   ],
   "source": [
    "randdat$residtab[[1]] %>% head"
   ]
  },
  {
   "cell_type": "code",
   "execution_count": 8,
   "id": "7b4e9971-e3e8-442b-b07f-3c68a65f4722",
   "metadata": {},
   "outputs": [
    {
     "data": {
      "text/html": [
       "<table class=\"dataframe\">\n",
       "<caption>A tibble: 6 × 6</caption>\n",
       "<thead>\n",
       "\t<tr><th scope=col>Biomarker</th><th scope=col>Intercept</th><th scope=col>bmi</th><th scope=col>age</th><th scope=col>smoking</th><th scope=col>SDRes</th></tr>\n",
       "\t<tr><th scope=col>&lt;chr&gt;</th><th scope=col>&lt;dbl&gt;</th><th scope=col>&lt;dbl&gt;</th><th scope=col>&lt;dbl&gt;</th><th scope=col>&lt;dbl&gt;</th><th scope=col>&lt;dbl&gt;</th></tr>\n",
       "</thead>\n",
       "<tbody>\n",
       "\t<tr><td>whr</td><td> 0.57262</td><td>0.00623</td><td>0.00131</td><td> 0.02104</td><td> 0.06072735</td></tr>\n",
       "\t<tr><td>sbp</td><td>69.54710</td><td>0.59574</td><td>0.90572</td><td>-2.46168</td><td>17.76019780</td></tr>\n",
       "\t<tr><td>dbp</td><td>63.15773</td><td>0.55954</td><td>0.05639</td><td>-0.87401</td><td> 9.48405390</td></tr>\n",
       "\t<tr><td>alt</td><td> 1.20955</td><td>0.47599</td><td>0.10352</td><td>-0.96029</td><td> 9.34625891</td></tr>\n",
       "\t<tr><td>scr</td><td>53.38579</td><td>0.22466</td><td>0.08609</td><td>-1.28687</td><td>10.64546948</td></tr>\n",
       "\t<tr><td>crp</td><td>-5.49441</td><td>0.25187</td><td>0.01957</td><td> 0.73578</td><td> 2.90579754</td></tr>\n",
       "</tbody>\n",
       "</table>\n"
      ],
      "text/latex": [
       "A tibble: 6 × 6\n",
       "\\begin{tabular}{llllll}\n",
       " Biomarker & Intercept & bmi & age & smoking & SDRes\\\\\n",
       " <chr> & <dbl> & <dbl> & <dbl> & <dbl> & <dbl>\\\\\n",
       "\\hline\n",
       "\t whr &  0.57262 & 0.00623 & 0.00131 &  0.02104 &  0.06072735\\\\\n",
       "\t sbp & 69.54710 & 0.59574 & 0.90572 & -2.46168 & 17.76019780\\\\\n",
       "\t dbp & 63.15773 & 0.55954 & 0.05639 & -0.87401 &  9.48405390\\\\\n",
       "\t alt &  1.20955 & 0.47599 & 0.10352 & -0.96029 &  9.34625891\\\\\n",
       "\t scr & 53.38579 & 0.22466 & 0.08609 & -1.28687 & 10.64546948\\\\\n",
       "\t crp & -5.49441 & 0.25187 & 0.01957 &  0.73578 &  2.90579754\\\\\n",
       "\\end{tabular}\n"
      ],
      "text/markdown": [
       "\n",
       "A tibble: 6 × 6\n",
       "\n",
       "| Biomarker &lt;chr&gt; | Intercept &lt;dbl&gt; | bmi &lt;dbl&gt; | age &lt;dbl&gt; | smoking &lt;dbl&gt; | SDRes &lt;dbl&gt; |\n",
       "|---|---|---|---|---|---|\n",
       "| whr |  0.57262 | 0.00623 | 0.00131 |  0.02104 |  0.06072735 |\n",
       "| sbp | 69.54710 | 0.59574 | 0.90572 | -2.46168 | 17.76019780 |\n",
       "| dbp | 63.15773 | 0.55954 | 0.05639 | -0.87401 |  9.48405390 |\n",
       "| alt |  1.20955 | 0.47599 | 0.10352 | -0.96029 |  9.34625891 |\n",
       "| scr | 53.38579 | 0.22466 | 0.08609 | -1.28687 | 10.64546948 |\n",
       "| crp | -5.49441 | 0.25187 | 0.01957 |  0.73578 |  2.90579754 |\n",
       "\n"
      ],
      "text/plain": [
       "  Biomarker Intercept bmi     age     smoking  SDRes      \n",
       "1 whr        0.57262  0.00623 0.00131  0.02104  0.06072735\n",
       "2 sbp       69.54710  0.59574 0.90572 -2.46168 17.76019780\n",
       "3 dbp       63.15773  0.55954 0.05639 -0.87401  9.48405390\n",
       "4 alt        1.20955  0.47599 0.10352 -0.96029  9.34625891\n",
       "5 scr       53.38579  0.22466 0.08609 -1.28687 10.64546948\n",
       "6 crp       -5.49441  0.25187 0.01957  0.73578  2.90579754"
      ]
     },
     "metadata": {},
     "output_type": "display_data"
    }
   ],
   "source": [
    "validclusmod$residmod[[1]] %>% head"
   ]
  },
  {
   "cell_type": "code",
   "execution_count": null,
   "id": "54ae9e3c-32c9-4a34-a5f5-a49667adb60f",
   "metadata": {},
   "outputs": [],
   "source": [
    "randdat %>%\n",
    "  mutate(\n",
    "    bmdat = map2(\n",
    "      sex, residtab,\n",
    "      ~"
   ]
  }
 ],
 "metadata": {
  "kernelspec": {
   "display_name": "R",
   "language": "R",
   "name": "ir"
  },
  "language_info": {
   "codemirror_mode": "r",
   "file_extension": ".r",
   "mimetype": "text/x-r-source",
   "name": "R",
   "pygments_lexer": "r",
   "version": "4.3.3"
  }
 },
 "nbformat": 4,
 "nbformat_minor": 5
}
