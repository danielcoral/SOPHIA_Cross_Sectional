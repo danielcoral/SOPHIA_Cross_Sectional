{
 "cells": [
  {
   "cell_type": "markdown",
   "id": "a96e4bf6-fb57-47af-9064-300fe9f7ad1a",
   "metadata": {},
   "source": [
    "# Cluster probabilities and outcomes"
   ]
  },
  {
   "cell_type": "markdown",
   "id": "8e469b09-3e69-422a-a048-d5c7874b6056",
   "metadata": {},
   "source": [
    "---"
   ]
  },
  {
   "cell_type": "markdown",
   "id": "8aae7afc-bc9e-4a95-94ed-86d2920fef94",
   "metadata": {},
   "source": [
    "***Authors:***\n",
    "\n",
    "- Daniel E. Coral\n",
    "\n",
    "- Femke Smit\n",
    "\n",
    "- Elena Santos\n",
    "\n",
    "- Ali Farzaneh"
   ]
  },
  {
   "cell_type": "markdown",
   "id": "9da52659-0a24-4e02-85bd-80b71d9e3d42",
   "metadata": {},
   "source": [
    "---"
   ]
  },
  {
   "cell_type": "markdown",
   "id": "bd5a2d07-103f-4959-af47-86b3c4db1908",
   "metadata": {},
   "source": [
    "In this second part of the analysis, we will examine how the clusters we have validated across cohorts are associated with prevalent diseases at the time of clustering, and also assess whether they add significant information for prediction of MACE events and diabetes progression on top  of commonly used risk stratification tools."
   ]
  },
  {
   "cell_type": "markdown",
   "id": "0e97d0be-cddc-4a4c-964c-bed92cb195fd",
   "metadata": {},
   "source": [
    "## Libraries and functions"
   ]
  },
  {
   "cell_type": "markdown",
   "id": "14bd06e9-caba-470c-939f-88c6fd4f611d",
   "metadata": {},
   "source": [
    "The libraries needed to run this analysis:"
   ]
  },
  {
   "cell_type": "code",
   "execution_count": 1,
   "id": "89ab62db-ba66-42fb-9275-84c30eab8917",
   "metadata": {},
   "outputs": [],
   "source": [
    "library(readr)\n",
    "library(dplyr, warn.conflicts = FALSE)\n",
    "library(tidyr, warn.conflicts = FALSE)\n",
    "library(purrr)\n",
    "library(survival)"
   ]
  },
  {
   "cell_type": "markdown",
   "id": "f8592ce1-9f99-49ba-a63e-283c7aa81ee9",
   "metadata": {},
   "source": [
    "And the functions we have prepared to facilitate some steps:"
   ]
  },
  {
   "cell_type": "code",
   "execution_count": 2,
   "id": "3d5998f4-9f02-4771-a739-356b79153b95",
   "metadata": {},
   "outputs": [],
   "source": [
    "source(\"cross_sectional_FX2.R\")"
   ]
  },
  {
   "cell_type": "markdown",
   "id": "aa2679b8-a140-4972-9fb5-73fba0eea2dc",
   "metadata": {},
   "source": [
    "---"
   ]
  },
  {
   "cell_type": "markdown",
   "id": "f74c2a7d-3145-4e12-9b2e-ca29e13b37ac",
   "metadata": {
    "toc-hr-collapsed": true
   },
   "source": [
    "## Loading data needed"
   ]
  },
  {
   "cell_type": "markdown",
   "id": "be5946f6-133d-4a1d-b5c5-a9b56307cc39",
   "metadata": {},
   "source": [
    "### Initial input table of biomarkers and basic covariates"
   ]
  },
  {
   "cell_type": "markdown",
   "id": "1b6e3b23-dfb9-466e-9eb8-0984e4841d19",
   "metadata": {},
   "source": [
    "The input table is the same table of 10 traits we had prior to run UMAP. Here is a description of this table:"
   ]
  },
  {
   "cell_type": "markdown",
   "id": "2e9e3531-1b99-4fb6-ad5e-201ecb455bba",
   "metadata": {},
   "source": [
    "|System targeted |Biomarker               |Units                        |Column name|\n",
    "|----------------|------------------------|-----------------------------|-----------|\n",
    "|                |                        |                             |           |\n",
    "|Individual ID   |-                       |-                            |eid        |\n",
    "|                |                        |                             |           |\n",
    "|Blood pressure  |Systolic blood pressure |millimeters of mercury (mmHg)|sbp        |\n",
    "|                |Diastolic blood pressure|millimeters of mercury (mmHg)|dbp        |\n",
    "|                |                        |                             |           |\n",
    "|Lipid fractions |High density lipoprotein|mmol/L                       |hdl        |\n",
    "|                |Low density lipoprotein |mmol/L                       |ldl        |\n",
    "|                |Tryglicerides           |mmol/L                       |tg         |\n",
    "|                |                        |                             |           |\n",
    "|Glycemia        |Fasting glucose         |mmol/L                       |fg         |\n",
    "|                |                        |                             |           |\n",
    "|Liver metabolism|Alanine transaminase    |U/L                          |alt        |\n",
    "|                |                        |                             |           |\n",
    "|Fat distribution|Waist-to-hip ratio      |cm/cm                        |whr        |\n",
    "|                |                        |                             |           |\n",
    "|Kidney function |Serum creatinine        |umol/L                       |scr        |\n",
    "|                |                        |                             |           |\n",
    "|Inflammation    |C reactive protein      |mg/L                         |crp        |\n",
    "|                |                        |                             |           |\n",
    "|Basic covariates|Current smoking status  |1 if yes, 0 if not           |smoking    |\n",
    "|                |Sex                     |String (\"Female\" or \"Male\")  |sex        |\n",
    "|                |Age                     |Years                        |age        |"
   ]
  },
  {
   "cell_type": "markdown",
   "id": "2e46c4fe-b709-42ae-a851-459836747cc7",
   "metadata": {},
   "source": [
    "***Important note:*** All columns should be there in the units required, and the names should match, so that the functions we have prepared for the analyses work properly. This is true for this and all the following tables we require for our analysis."
   ]
  },
  {
   "cell_type": "markdown",
   "id": "2bba582e-2e35-45e7-a686-783ba3501853",
   "metadata": {},
   "source": [
    "This input table has been preprocessed by:\n",
    "\n",
    "1. Filtering out values that are possible errors in measurement (>5 SD away from the mean in continuous variables).\n",
    "2. Only including complete cases.\n",
    "3. Stratifying by sex."
   ]
  },
  {
   "cell_type": "markdown",
   "id": "c2d96d06-e938-40b4-b8ad-95b30cc9c5b4",
   "metadata": {},
   "source": [
    "Here is how the input table should look like - a list of two data frames, one for each sex:"
   ]
  },
  {
   "cell_type": "code",
   "execution_count": 3,
   "id": "f64058c7-f872-431c-a2b9-fddfcb84cc87",
   "metadata": {},
   "outputs": [],
   "source": [
    "load(\"../data/ukb/strat_dat.RData\")"
   ]
  },
  {
   "cell_type": "code",
   "execution_count": 4,
   "id": "ec01f531-5c90-47fc-b50a-d84d8ec5c9bc",
   "metadata": {},
   "outputs": [
    {
     "data": {
      "text/html": [
       "<dl>\n",
       "\t<dt>$Female</dt>\n",
       "\t\t<dd><table class=\"dataframe\">\n",
       "<caption>A tibble: 6 × 15</caption>\n",
       "<thead>\n",
       "\t<tr><th scope=col>eid</th><th scope=col>age</th><th scope=col>sex</th><th scope=col>bmi</th><th scope=col>whr</th><th scope=col>sbp</th><th scope=col>dbp</th><th scope=col>alt</th><th scope=col>scr</th><th scope=col>crp</th><th scope=col>hdl</th><th scope=col>tg</th><th scope=col>ldl</th><th scope=col>fg</th><th scope=col>smoking</th></tr>\n",
       "\t<tr><th scope=col>&lt;dbl&gt;</th><th scope=col>&lt;dbl&gt;</th><th scope=col>&lt;chr&gt;</th><th scope=col>&lt;dbl&gt;</th><th scope=col>&lt;dbl&gt;</th><th scope=col>&lt;dbl&gt;</th><th scope=col>&lt;dbl&gt;</th><th scope=col>&lt;dbl&gt;</th><th scope=col>&lt;dbl&gt;</th><th scope=col>&lt;dbl&gt;</th><th scope=col>&lt;dbl&gt;</th><th scope=col>&lt;dbl&gt;</th><th scope=col>&lt;dbl&gt;</th><th scope=col>&lt;dbl&gt;</th><th scope=col>&lt;dbl&gt;</th></tr>\n",
       "</thead>\n",
       "<tbody>\n",
       "\t<tr><td>1000117</td><td>47</td><td>Female</td><td>23.8408</td><td>0.7254902</td><td>147.5</td><td> 84.0</td><td>14.07</td><td>61.0</td><td>0.24</td><td>1.972</td><td>0.591</td><td>2.252</td><td>4.395</td><td>0</td></tr>\n",
       "\t<tr><td>1000132</td><td>43</td><td>Female</td><td>35.6559</td><td>0.8403361</td><td>137.0</td><td>100.5</td><td>18.89</td><td>60.5</td><td>4.31</td><td>1.236</td><td>2.037</td><td>3.686</td><td>5.214</td><td>0</td></tr>\n",
       "\t<tr><td>1000176</td><td>69</td><td>Female</td><td>38.1271</td><td>0.8897638</td><td>137.5</td><td> 93.5</td><td>36.39</td><td>68.9</td><td>3.69</td><td>1.601</td><td>1.988</td><td>4.551</td><td>4.266</td><td>0</td></tr>\n",
       "\t<tr><td>1000223</td><td>63</td><td>Female</td><td>25.4603</td><td>0.7789474</td><td>163.0</td><td> 94.0</td><td> 6.10</td><td>67.1</td><td>1.29</td><td>1.453</td><td>2.829</td><td>3.491</td><td>5.876</td><td>0</td></tr>\n",
       "\t<tr><td>1000282</td><td>48</td><td>Female</td><td>25.4297</td><td>0.7708333</td><td>135.5</td><td> 89.0</td><td> 9.63</td><td>46.2</td><td>0.16</td><td>2.185</td><td>0.722</td><td>3.584</td><td>5.212</td><td>0</td></tr>\n",
       "\t<tr><td>1000367</td><td>42</td><td>Female</td><td>19.3280</td><td>0.6777778</td><td>107.0</td><td> 72.5</td><td> 9.34</td><td>57.1</td><td>0.69</td><td>2.346</td><td>0.395</td><td>3.072</td><td>4.649</td><td>0</td></tr>\n",
       "</tbody>\n",
       "</table>\n",
       "</dd>\n",
       "\t<dt>$Male</dt>\n",
       "\t\t<dd><table class=\"dataframe\">\n",
       "<caption>A tibble: 6 × 15</caption>\n",
       "<thead>\n",
       "\t<tr><th scope=col>eid</th><th scope=col>age</th><th scope=col>sex</th><th scope=col>bmi</th><th scope=col>whr</th><th scope=col>sbp</th><th scope=col>dbp</th><th scope=col>alt</th><th scope=col>scr</th><th scope=col>crp</th><th scope=col>hdl</th><th scope=col>tg</th><th scope=col>ldl</th><th scope=col>fg</th><th scope=col>smoking</th></tr>\n",
       "\t<tr><th scope=col>&lt;dbl&gt;</th><th scope=col>&lt;dbl&gt;</th><th scope=col>&lt;chr&gt;</th><th scope=col>&lt;dbl&gt;</th><th scope=col>&lt;dbl&gt;</th><th scope=col>&lt;dbl&gt;</th><th scope=col>&lt;dbl&gt;</th><th scope=col>&lt;dbl&gt;</th><th scope=col>&lt;dbl&gt;</th><th scope=col>&lt;dbl&gt;</th><th scope=col>&lt;dbl&gt;</th><th scope=col>&lt;dbl&gt;</th><th scope=col>&lt;dbl&gt;</th><th scope=col>&lt;dbl&gt;</th><th scope=col>&lt;dbl&gt;</th></tr>\n",
       "</thead>\n",
       "<tbody>\n",
       "\t<tr><td>1000039</td><td>44</td><td>Male</td><td>36.6959</td><td>0.9911504</td><td>124.5</td><td> 64.5</td><td>34.97</td><td>93.0</td><td> 3.60</td><td>1.158</td><td>2.800</td><td>3.956</td><td>5.427</td><td>0</td></tr>\n",
       "\t<tr><td>1000071</td><td>67</td><td>Male</td><td>39.4807</td><td>0.8857143</td><td>179.5</td><td>103.0</td><td>46.74</td><td>68.7</td><td> 9.41</td><td>1.372</td><td>1.127</td><td>2.311</td><td>7.079</td><td>0</td></tr>\n",
       "\t<tr><td>1000088</td><td>60</td><td>Male</td><td>24.2786</td><td>0.8761905</td><td>152.0</td><td> 89.0</td><td>13.14</td><td>80.6</td><td> 1.20</td><td>0.983</td><td>1.590</td><td>4.200</td><td>5.401</td><td>0</td></tr>\n",
       "\t<tr><td>1000096</td><td>41</td><td>Male</td><td>26.5744</td><td>0.9587629</td><td>143.0</td><td> 90.0</td><td>30.32</td><td>80.1</td><td> 6.13</td><td>1.041</td><td>2.713</td><td>4.029</td><td>4.239</td><td>0</td></tr>\n",
       "\t<tr><td>1000109</td><td>62</td><td>Male</td><td>33.8719</td><td>1.0818182</td><td>156.5</td><td>104.5</td><td>16.26</td><td>89.3</td><td>14.42</td><td>0.890</td><td>2.437</td><td>3.525</td><td>6.100</td><td>0</td></tr>\n",
       "\t<tr><td>1000125</td><td>66</td><td>Male</td><td>36.1100</td><td>1.0625000</td><td>155.0</td><td>102.5</td><td>25.59</td><td>88.7</td><td> 1.91</td><td>1.061</td><td>1.320</td><td>2.538</td><td>4.531</td><td>1</td></tr>\n",
       "</tbody>\n",
       "</table>\n",
       "</dd>\n",
       "</dl>\n"
      ],
      "text/latex": [
       "\\begin{description}\n",
       "\\item[\\$Female] A tibble: 6 × 15\n",
       "\\begin{tabular}{lllllllllllllll}\n",
       " eid & age & sex & bmi & whr & sbp & dbp & alt & scr & crp & hdl & tg & ldl & fg & smoking\\\\\n",
       " <dbl> & <dbl> & <chr> & <dbl> & <dbl> & <dbl> & <dbl> & <dbl> & <dbl> & <dbl> & <dbl> & <dbl> & <dbl> & <dbl> & <dbl>\\\\\n",
       "\\hline\n",
       "\t 1000117 & 47 & Female & 23.8408 & 0.7254902 & 147.5 &  84.0 & 14.07 & 61.0 & 0.24 & 1.972 & 0.591 & 2.252 & 4.395 & 0\\\\\n",
       "\t 1000132 & 43 & Female & 35.6559 & 0.8403361 & 137.0 & 100.5 & 18.89 & 60.5 & 4.31 & 1.236 & 2.037 & 3.686 & 5.214 & 0\\\\\n",
       "\t 1000176 & 69 & Female & 38.1271 & 0.8897638 & 137.5 &  93.5 & 36.39 & 68.9 & 3.69 & 1.601 & 1.988 & 4.551 & 4.266 & 0\\\\\n",
       "\t 1000223 & 63 & Female & 25.4603 & 0.7789474 & 163.0 &  94.0 &  6.10 & 67.1 & 1.29 & 1.453 & 2.829 & 3.491 & 5.876 & 0\\\\\n",
       "\t 1000282 & 48 & Female & 25.4297 & 0.7708333 & 135.5 &  89.0 &  9.63 & 46.2 & 0.16 & 2.185 & 0.722 & 3.584 & 5.212 & 0\\\\\n",
       "\t 1000367 & 42 & Female & 19.3280 & 0.6777778 & 107.0 &  72.5 &  9.34 & 57.1 & 0.69 & 2.346 & 0.395 & 3.072 & 4.649 & 0\\\\\n",
       "\\end{tabular}\n",
       "\n",
       "\\item[\\$Male] A tibble: 6 × 15\n",
       "\\begin{tabular}{lllllllllllllll}\n",
       " eid & age & sex & bmi & whr & sbp & dbp & alt & scr & crp & hdl & tg & ldl & fg & smoking\\\\\n",
       " <dbl> & <dbl> & <chr> & <dbl> & <dbl> & <dbl> & <dbl> & <dbl> & <dbl> & <dbl> & <dbl> & <dbl> & <dbl> & <dbl> & <dbl>\\\\\n",
       "\\hline\n",
       "\t 1000039 & 44 & Male & 36.6959 & 0.9911504 & 124.5 &  64.5 & 34.97 & 93.0 &  3.60 & 1.158 & 2.800 & 3.956 & 5.427 & 0\\\\\n",
       "\t 1000071 & 67 & Male & 39.4807 & 0.8857143 & 179.5 & 103.0 & 46.74 & 68.7 &  9.41 & 1.372 & 1.127 & 2.311 & 7.079 & 0\\\\\n",
       "\t 1000088 & 60 & Male & 24.2786 & 0.8761905 & 152.0 &  89.0 & 13.14 & 80.6 &  1.20 & 0.983 & 1.590 & 4.200 & 5.401 & 0\\\\\n",
       "\t 1000096 & 41 & Male & 26.5744 & 0.9587629 & 143.0 &  90.0 & 30.32 & 80.1 &  6.13 & 1.041 & 2.713 & 4.029 & 4.239 & 0\\\\\n",
       "\t 1000109 & 62 & Male & 33.8719 & 1.0818182 & 156.5 & 104.5 & 16.26 & 89.3 & 14.42 & 0.890 & 2.437 & 3.525 & 6.100 & 0\\\\\n",
       "\t 1000125 & 66 & Male & 36.1100 & 1.0625000 & 155.0 & 102.5 & 25.59 & 88.7 &  1.91 & 1.061 & 1.320 & 2.538 & 4.531 & 1\\\\\n",
       "\\end{tabular}\n",
       "\n",
       "\\end{description}\n"
      ],
      "text/markdown": [
       "$Female\n",
       ":   \n",
       "A tibble: 6 × 15\n",
       "\n",
       "| eid &lt;dbl&gt; | age &lt;dbl&gt; | sex &lt;chr&gt; | bmi &lt;dbl&gt; | whr &lt;dbl&gt; | sbp &lt;dbl&gt; | dbp &lt;dbl&gt; | alt &lt;dbl&gt; | scr &lt;dbl&gt; | crp &lt;dbl&gt; | hdl &lt;dbl&gt; | tg &lt;dbl&gt; | ldl &lt;dbl&gt; | fg &lt;dbl&gt; | smoking &lt;dbl&gt; |\n",
       "|---|---|---|---|---|---|---|---|---|---|---|---|---|---|---|\n",
       "| 1000117 | 47 | Female | 23.8408 | 0.7254902 | 147.5 |  84.0 | 14.07 | 61.0 | 0.24 | 1.972 | 0.591 | 2.252 | 4.395 | 0 |\n",
       "| 1000132 | 43 | Female | 35.6559 | 0.8403361 | 137.0 | 100.5 | 18.89 | 60.5 | 4.31 | 1.236 | 2.037 | 3.686 | 5.214 | 0 |\n",
       "| 1000176 | 69 | Female | 38.1271 | 0.8897638 | 137.5 |  93.5 | 36.39 | 68.9 | 3.69 | 1.601 | 1.988 | 4.551 | 4.266 | 0 |\n",
       "| 1000223 | 63 | Female | 25.4603 | 0.7789474 | 163.0 |  94.0 |  6.10 | 67.1 | 1.29 | 1.453 | 2.829 | 3.491 | 5.876 | 0 |\n",
       "| 1000282 | 48 | Female | 25.4297 | 0.7708333 | 135.5 |  89.0 |  9.63 | 46.2 | 0.16 | 2.185 | 0.722 | 3.584 | 5.212 | 0 |\n",
       "| 1000367 | 42 | Female | 19.3280 | 0.6777778 | 107.0 |  72.5 |  9.34 | 57.1 | 0.69 | 2.346 | 0.395 | 3.072 | 4.649 | 0 |\n",
       "\n",
       "\n",
       "$Male\n",
       ":   \n",
       "A tibble: 6 × 15\n",
       "\n",
       "| eid &lt;dbl&gt; | age &lt;dbl&gt; | sex &lt;chr&gt; | bmi &lt;dbl&gt; | whr &lt;dbl&gt; | sbp &lt;dbl&gt; | dbp &lt;dbl&gt; | alt &lt;dbl&gt; | scr &lt;dbl&gt; | crp &lt;dbl&gt; | hdl &lt;dbl&gt; | tg &lt;dbl&gt; | ldl &lt;dbl&gt; | fg &lt;dbl&gt; | smoking &lt;dbl&gt; |\n",
       "|---|---|---|---|---|---|---|---|---|---|---|---|---|---|---|\n",
       "| 1000039 | 44 | Male | 36.6959 | 0.9911504 | 124.5 |  64.5 | 34.97 | 93.0 |  3.60 | 1.158 | 2.800 | 3.956 | 5.427 | 0 |\n",
       "| 1000071 | 67 | Male | 39.4807 | 0.8857143 | 179.5 | 103.0 | 46.74 | 68.7 |  9.41 | 1.372 | 1.127 | 2.311 | 7.079 | 0 |\n",
       "| 1000088 | 60 | Male | 24.2786 | 0.8761905 | 152.0 |  89.0 | 13.14 | 80.6 |  1.20 | 0.983 | 1.590 | 4.200 | 5.401 | 0 |\n",
       "| 1000096 | 41 | Male | 26.5744 | 0.9587629 | 143.0 |  90.0 | 30.32 | 80.1 |  6.13 | 1.041 | 2.713 | 4.029 | 4.239 | 0 |\n",
       "| 1000109 | 62 | Male | 33.8719 | 1.0818182 | 156.5 | 104.5 | 16.26 | 89.3 | 14.42 | 0.890 | 2.437 | 3.525 | 6.100 | 0 |\n",
       "| 1000125 | 66 | Male | 36.1100 | 1.0625000 | 155.0 | 102.5 | 25.59 | 88.7 |  1.91 | 1.061 | 1.320 | 2.538 | 4.531 | 1 |\n",
       "\n",
       "\n",
       "\n",
       "\n"
      ],
      "text/plain": [
       "$Female\n",
       "\u001b[90m# A tibble: 6 x 15\u001b[39m\n",
       "     eid   age sex     bmi   whr   sbp   dbp   alt   scr   crp   hdl    tg   ldl\n",
       "   \u001b[3m\u001b[90m<dbl>\u001b[39m\u001b[23m \u001b[3m\u001b[90m<dbl>\u001b[39m\u001b[23m \u001b[3m\u001b[90m<chr>\u001b[39m\u001b[23m \u001b[3m\u001b[90m<dbl>\u001b[39m\u001b[23m \u001b[3m\u001b[90m<dbl>\u001b[39m\u001b[23m \u001b[3m\u001b[90m<dbl>\u001b[39m\u001b[23m \u001b[3m\u001b[90m<dbl>\u001b[39m\u001b[23m \u001b[3m\u001b[90m<dbl>\u001b[39m\u001b[23m \u001b[3m\u001b[90m<dbl>\u001b[39m\u001b[23m \u001b[3m\u001b[90m<dbl>\u001b[39m\u001b[23m \u001b[3m\u001b[90m<dbl>\u001b[39m\u001b[23m \u001b[3m\u001b[90m<dbl>\u001b[39m\u001b[23m \u001b[3m\u001b[90m<dbl>\u001b[39m\u001b[23m\n",
       "\u001b[90m1\u001b[39m 1.00\u001b[90me\u001b[39m6    47 Fema~  23.8 0.725  148.  84   14.1   61    0.24  1.97 0.591  2.25\n",
       "\u001b[90m2\u001b[39m 1.00\u001b[90me\u001b[39m6    43 Fema~  35.7 0.840  137  100.  18.9   60.5  4.31  1.24 2.04   3.69\n",
       "\u001b[90m3\u001b[39m 1.00\u001b[90me\u001b[39m6    69 Fema~  38.1 0.890  138.  93.5 36.4   68.9  3.69  1.60 1.99   4.55\n",
       "\u001b[90m4\u001b[39m 1.00\u001b[90me\u001b[39m6    63 Fema~  25.5 0.779  163   94    6.1   67.1  1.29  1.45 2.83   3.49\n",
       "\u001b[90m5\u001b[39m 1.00\u001b[90me\u001b[39m6    48 Fema~  25.4 0.771  136.  89    9.63  46.2  0.16  2.18 0.722  3.58\n",
       "\u001b[90m6\u001b[39m 1.00\u001b[90me\u001b[39m6    42 Fema~  19.3 0.678  107   72.5  9.34  57.1  0.69  2.35 0.395  3.07\n",
       "\u001b[90m# i 2 more variables: fg <dbl>, smoking <dbl>\u001b[39m\n",
       "\n",
       "$Male\n",
       "\u001b[90m# A tibble: 6 x 15\u001b[39m\n",
       "     eid   age sex     bmi   whr   sbp   dbp   alt   scr   crp   hdl    tg   ldl\n",
       "   \u001b[3m\u001b[90m<dbl>\u001b[39m\u001b[23m \u001b[3m\u001b[90m<dbl>\u001b[39m\u001b[23m \u001b[3m\u001b[90m<chr>\u001b[39m\u001b[23m \u001b[3m\u001b[90m<dbl>\u001b[39m\u001b[23m \u001b[3m\u001b[90m<dbl>\u001b[39m\u001b[23m \u001b[3m\u001b[90m<dbl>\u001b[39m\u001b[23m \u001b[3m\u001b[90m<dbl>\u001b[39m\u001b[23m \u001b[3m\u001b[90m<dbl>\u001b[39m\u001b[23m \u001b[3m\u001b[90m<dbl>\u001b[39m\u001b[23m \u001b[3m\u001b[90m<dbl>\u001b[39m\u001b[23m \u001b[3m\u001b[90m<dbl>\u001b[39m\u001b[23m \u001b[3m\u001b[90m<dbl>\u001b[39m\u001b[23m \u001b[3m\u001b[90m<dbl>\u001b[39m\u001b[23m\n",
       "\u001b[90m1\u001b[39m 1.00\u001b[90me\u001b[39m6    44 Male   36.7 0.991  124.  64.5  35.0  93    3.6  1.16   2.8   3.96\n",
       "\u001b[90m2\u001b[39m 1.00\u001b[90me\u001b[39m6    67 Male   39.5 0.886  180. 103    46.7  68.7  9.41 1.37   1.13  2.31\n",
       "\u001b[90m3\u001b[39m 1.00\u001b[90me\u001b[39m6    60 Male   24.3 0.876  152   89    13.1  80.6  1.2  0.983  1.59  4.2 \n",
       "\u001b[90m4\u001b[39m 1.00\u001b[90me\u001b[39m6    41 Male   26.6 0.959  143   90    30.3  80.1  6.13 1.04   2.71  4.03\n",
       "\u001b[90m5\u001b[39m 1.00\u001b[90me\u001b[39m6    62 Male   33.9 1.08   156. 104.   16.3  89.3 14.4  0.89   2.44  3.52\n",
       "\u001b[90m6\u001b[39m 1.00\u001b[90me\u001b[39m6    66 Male   36.1 1.06   155  102.   25.6  88.7  1.91 1.06   1.32  2.54\n",
       "\u001b[90m# i 2 more variables: fg <dbl>, smoking <dbl>\u001b[39m\n"
      ]
     },
     "metadata": {},
     "output_type": "display_data"
    }
   ],
   "source": [
    "map(strat_dat, head)"
   ]
  },
  {
   "cell_type": "markdown",
   "id": "5c8aaa77-ef81-45f6-9e36-1d72e9b417ab",
   "metadata": {},
   "source": [
    "### Table of validated clusters"
   ]
  },
  {
   "cell_type": "markdown",
   "id": "7b9a40d6-6089-4826-a1fe-4e13f22e2707",
   "metadata": {},
   "source": [
    "The second thing needed is the clusters we have validated. We have put this in an R file called `validclusmod`:"
   ]
  },
  {
   "cell_type": "code",
   "execution_count": 5,
   "id": "cf905a75-e610-4aea-9125-5ee4f18be8c4",
   "metadata": {},
   "outputs": [
    {
     "name": "stdout",
     "output_type": "stream",
     "text": [
      "\u001b[90m# A tibble: 2 x 3\u001b[39m\n",
      "  sex    residmod          clusmod         \n",
      "  \u001b[3m\u001b[90m<chr>\u001b[39m\u001b[23m  \u001b[3m\u001b[90m<list>\u001b[39m\u001b[23m            \u001b[3m\u001b[90m<list>\u001b[39m\u001b[23m          \n",
      "\u001b[90m1\u001b[39m Female \u001b[90m<tibble [10 x 6]>\u001b[39m \u001b[90m<tibble [6 x 4]>\u001b[39m\n",
      "\u001b[90m2\u001b[39m Male   \u001b[90m<tibble [10 x 6]>\u001b[39m \u001b[90m<tibble [5 x 4]>\u001b[39m\n"
     ]
    }
   ],
   "source": [
    "load(\"../data/validclusmod.RData\")\n",
    "print(validclusmod)"
   ]
  },
  {
   "cell_type": "markdown",
   "id": "1ee0e6a9-dfc4-4d6a-b61f-cc555d60573b",
   "metadata": {},
   "source": [
    "This object contais, for each sex:\n",
    "- `residmod`: The model to obtain residuals for each variable, i.e., the variability beyond what is explained by BMI, adjusting for age and smoking.\n",
    "- `clusmod`: The clustering model to apply to the residuals."
   ]
  },
  {
   "cell_type": "markdown",
   "id": "aa74e8cd-93f3-460c-b2c9-88843e636087",
   "metadata": {},
   "source": [
    "### Table of pre-existing conditions and medications"
   ]
  },
  {
   "cell_type": "markdown",
   "id": "7466c83b-f457-404c-8d8d-3abc5ca45e8f",
   "metadata": {},
   "source": [
    "The third thing we need is a table of pre-existing conditions and medications participants are currently taking:"
   ]
  },
  {
   "cell_type": "code",
   "execution_count": 6,
   "id": "a8a5b749-0923-4f74-b7f9-4193b6c0f495",
   "metadata": {},
   "outputs": [
    {
     "data": {
      "text/html": [
       "<table class=\"dataframe\">\n",
       "<caption>A tibble: 6 × 15</caption>\n",
       "<thead>\n",
       "\t<tr><th scope=col>eid</th><th scope=col>HT</th><th scope=col>CHD</th><th scope=col>Stroke</th><th scope=col>PAD</th><th scope=col>CKD</th><th scope=col>LiverFailure</th><th scope=col>RA</th><th scope=col>T2D</th><th scope=col>T1D</th><th scope=col>T2Dage</th><th scope=col>Insulin</th><th scope=col>AntiDM</th><th scope=col>AntiHT</th><th scope=col>LipidLower</th></tr>\n",
       "\t<tr><th scope=col>&lt;dbl&gt;</th><th scope=col>&lt;dbl&gt;</th><th scope=col>&lt;dbl&gt;</th><th scope=col>&lt;dbl&gt;</th><th scope=col>&lt;dbl&gt;</th><th scope=col>&lt;dbl&gt;</th><th scope=col>&lt;dbl&gt;</th><th scope=col>&lt;dbl&gt;</th><th scope=col>&lt;dbl&gt;</th><th scope=col>&lt;dbl&gt;</th><th scope=col>&lt;dbl&gt;</th><th scope=col>&lt;dbl&gt;</th><th scope=col>&lt;dbl&gt;</th><th scope=col>&lt;dbl&gt;</th><th scope=col>&lt;dbl&gt;</th></tr>\n",
       "</thead>\n",
       "<tbody>\n",
       "\t<tr><td>1000027</td><td>0</td><td>0</td><td>0</td><td>0</td><td>0</td><td>0</td><td>0</td><td>0</td><td>0</td><td> 0.0</td><td>0</td><td>0</td><td>0</td><td>0</td></tr>\n",
       "\t<tr><td>1000039</td><td>0</td><td>0</td><td>0</td><td>0</td><td>0</td><td>0</td><td>0</td><td>0</td><td>0</td><td> 0.0</td><td>0</td><td>0</td><td>0</td><td>0</td></tr>\n",
       "\t<tr><td>1000040</td><td>1</td><td>0</td><td>0</td><td>0</td><td>0</td><td>0</td><td>0</td><td>0</td><td>0</td><td> 0.0</td><td>0</td><td>0</td><td>0</td><td>0</td></tr>\n",
       "\t<tr><td>1000053</td><td>0</td><td>0</td><td>0</td><td>0</td><td>0</td><td>0</td><td>0</td><td>0</td><td>0</td><td> 0.0</td><td>0</td><td>0</td><td>0</td><td>0</td></tr>\n",
       "\t<tr><td>1000064</td><td>1</td><td>0</td><td>0</td><td>0</td><td>0</td><td>0</td><td>0</td><td>1</td><td>0</td><td>49.5</td><td>0</td><td>1</td><td>1</td><td>0</td></tr>\n",
       "\t<tr><td>1000071</td><td>1</td><td>0</td><td>0</td><td>0</td><td>0</td><td>0</td><td>0</td><td>1</td><td>0</td><td>65.5</td><td>0</td><td>0</td><td>1</td><td>1</td></tr>\n",
       "</tbody>\n",
       "</table>\n"
      ],
      "text/latex": [
       "A tibble: 6 × 15\n",
       "\\begin{tabular}{lllllllllllllll}\n",
       " eid & HT & CHD & Stroke & PAD & CKD & LiverFailure & RA & T2D & T1D & T2Dage & Insulin & AntiDM & AntiHT & LipidLower\\\\\n",
       " <dbl> & <dbl> & <dbl> & <dbl> & <dbl> & <dbl> & <dbl> & <dbl> & <dbl> & <dbl> & <dbl> & <dbl> & <dbl> & <dbl> & <dbl>\\\\\n",
       "\\hline\n",
       "\t 1000027 & 0 & 0 & 0 & 0 & 0 & 0 & 0 & 0 & 0 &  0.0 & 0 & 0 & 0 & 0\\\\\n",
       "\t 1000039 & 0 & 0 & 0 & 0 & 0 & 0 & 0 & 0 & 0 &  0.0 & 0 & 0 & 0 & 0\\\\\n",
       "\t 1000040 & 1 & 0 & 0 & 0 & 0 & 0 & 0 & 0 & 0 &  0.0 & 0 & 0 & 0 & 0\\\\\n",
       "\t 1000053 & 0 & 0 & 0 & 0 & 0 & 0 & 0 & 0 & 0 &  0.0 & 0 & 0 & 0 & 0\\\\\n",
       "\t 1000064 & 1 & 0 & 0 & 0 & 0 & 0 & 0 & 1 & 0 & 49.5 & 0 & 1 & 1 & 0\\\\\n",
       "\t 1000071 & 1 & 0 & 0 & 0 & 0 & 0 & 0 & 1 & 0 & 65.5 & 0 & 0 & 1 & 1\\\\\n",
       "\\end{tabular}\n"
      ],
      "text/markdown": [
       "\n",
       "A tibble: 6 × 15\n",
       "\n",
       "| eid &lt;dbl&gt; | HT &lt;dbl&gt; | CHD &lt;dbl&gt; | Stroke &lt;dbl&gt; | PAD &lt;dbl&gt; | CKD &lt;dbl&gt; | LiverFailure &lt;dbl&gt; | RA &lt;dbl&gt; | T2D &lt;dbl&gt; | T1D &lt;dbl&gt; | T2Dage &lt;dbl&gt; | Insulin &lt;dbl&gt; | AntiDM &lt;dbl&gt; | AntiHT &lt;dbl&gt; | LipidLower &lt;dbl&gt; |\n",
       "|---|---|---|---|---|---|---|---|---|---|---|---|---|---|---|\n",
       "| 1000027 | 0 | 0 | 0 | 0 | 0 | 0 | 0 | 0 | 0 |  0.0 | 0 | 0 | 0 | 0 |\n",
       "| 1000039 | 0 | 0 | 0 | 0 | 0 | 0 | 0 | 0 | 0 |  0.0 | 0 | 0 | 0 | 0 |\n",
       "| 1000040 | 1 | 0 | 0 | 0 | 0 | 0 | 0 | 0 | 0 |  0.0 | 0 | 0 | 0 | 0 |\n",
       "| 1000053 | 0 | 0 | 0 | 0 | 0 | 0 | 0 | 0 | 0 |  0.0 | 0 | 0 | 0 | 0 |\n",
       "| 1000064 | 1 | 0 | 0 | 0 | 0 | 0 | 0 | 1 | 0 | 49.5 | 0 | 1 | 1 | 0 |\n",
       "| 1000071 | 1 | 0 | 0 | 0 | 0 | 0 | 0 | 1 | 0 | 65.5 | 0 | 0 | 1 | 1 |\n",
       "\n"
      ],
      "text/plain": [
       "  eid     HT CHD Stroke PAD CKD LiverFailure RA T2D T1D T2Dage Insulin AntiDM\n",
       "1 1000027 0  0   0      0   0   0            0  0   0    0.0   0       0     \n",
       "2 1000039 0  0   0      0   0   0            0  0   0    0.0   0       0     \n",
       "3 1000040 1  0   0      0   0   0            0  0   0    0.0   0       0     \n",
       "4 1000053 0  0   0      0   0   0            0  0   0    0.0   0       0     \n",
       "5 1000064 1  0   0      0   0   0            0  1   0   49.5   0       1     \n",
       "6 1000071 1  0   0      0   0   0            0  1   0   65.5   0       0     \n",
       "  AntiHT LipidLower\n",
       "1 0      0         \n",
       "2 0      0         \n",
       "3 0      0         \n",
       "4 0      0         \n",
       "5 1      0         \n",
       "6 1      1         "
      ]
     },
     "metadata": {},
     "output_type": "display_data"
    }
   ],
   "source": [
    "covar_dat <- read_tsv(\"../data/covar_dat.tsv\", show_col_types = FALSE)\n",
    "head(covar_dat)"
   ]
  },
  {
   "cell_type": "markdown",
   "id": "9b410ac2-7f55-4a79-808c-1001d16f1156",
   "metadata": {},
   "source": [
    "All the columns in this table are coded 1 or 0 representing current diagnosis of a disease or whether the person is taking the medications specified. The exception is `T2Dage`, which is the age of onset of T2D. This is what each column represent:"
   ]
  },
  {
   "cell_type": "markdown",
   "id": "f141d69e-8e5d-44b2-b282-a95cfab7bbea",
   "metadata": {},
   "source": [
    "|Group       |Column name |Meaning\n",
    "|------------|------------|--------\n",
    "|Diagnoses   |HT          |Hypertension\n",
    "|            |CHD         |Coronary heart disease\n",
    "|            |Stroke      |Stroke\n",
    "|            |PAD         |Peripheral artery disease\n",
    "|            |CKD         |Chronic kidney disease\n",
    "|            |LiverFailure|Liver failure\n",
    "|            |RA          |Rheumatoid arthritis\n",
    "|            |T2D         |Type 2 diabetes\n",
    "|            |T1D         |Type 1 diabetes\n",
    "|Age at onset|T2Dage      |Age at onset of T2D - It is 0 if `T2D` is 0. Needed in SCORE2.\n",
    "|Medication  |Insulin     |Taking insulin\n",
    "|            |AntiDM      |Taking medication for diabetes other than insulin\n",
    "|            |AntiHT      |Taking medication for hypertension\n",
    "|            |LipidLower  |Taking lipid-lowering medication "
   ]
  },
  {
   "cell_type": "markdown",
   "id": "77fe68f9-a605-41ad-90a8-c639fd119487",
   "metadata": {},
   "source": [
    "If any of the columns in this table are missing in your data, one option is to assume that none in your population had the disease, i.e., you should have a column with all 0."
   ]
  },
  {
   "cell_type": "markdown",
   "id": "43d43419-af58-4828-8157-d172a4463a1d",
   "metadata": {},
   "source": [
    "### Survival data"
   ]
  },
  {
   "cell_type": "markdown",
   "id": "d25cf7ff-efa1-4307-bace-b149168bcd91",
   "metadata": {},
   "source": [
    "Lastly, we need survival data for MACE and diabetes progression. They should look like this:"
   ]
  },
  {
   "cell_type": "code",
   "execution_count": 7,
   "id": "42be6bd5-9508-49ff-ba02-5bcce8f812a0",
   "metadata": {},
   "outputs": [
    {
     "data": {
      "text/html": [
       "<table class=\"dataframe\">\n",
       "<caption>A tibble: 6 × 3</caption>\n",
       "<thead>\n",
       "\t<tr><th scope=col>eid</th><th scope=col>outcome_value</th><th scope=col>outcome_timeyrs</th></tr>\n",
       "\t<tr><th scope=col>&lt;dbl&gt;</th><th scope=col>&lt;dbl&gt;</th><th scope=col>&lt;dbl&gt;</th></tr>\n",
       "</thead>\n",
       "<tbody>\n",
       "\t<tr><td>1000071</td><td>0</td><td>10.001369</td></tr>\n",
       "\t<tr><td>1000223</td><td>1</td><td> 6.874743</td></tr>\n",
       "\t<tr><td>1000324</td><td>1</td><td> 3.101985</td></tr>\n",
       "\t<tr><td>1000583</td><td>1</td><td> 3.761807</td></tr>\n",
       "\t<tr><td>1001175</td><td>1</td><td> 4.539357</td></tr>\n",
       "\t<tr><td>1001892</td><td>1</td><td> 9.185489</td></tr>\n",
       "</tbody>\n",
       "</table>\n"
      ],
      "text/latex": [
       "A tibble: 6 × 3\n",
       "\\begin{tabular}{lll}\n",
       " eid & outcome\\_value & outcome\\_timeyrs\\\\\n",
       " <dbl> & <dbl> & <dbl>\\\\\n",
       "\\hline\n",
       "\t 1000071 & 0 & 10.001369\\\\\n",
       "\t 1000223 & 1 &  6.874743\\\\\n",
       "\t 1000324 & 1 &  3.101985\\\\\n",
       "\t 1000583 & 1 &  3.761807\\\\\n",
       "\t 1001175 & 1 &  4.539357\\\\\n",
       "\t 1001892 & 1 &  9.185489\\\\\n",
       "\\end{tabular}\n"
      ],
      "text/markdown": [
       "\n",
       "A tibble: 6 × 3\n",
       "\n",
       "| eid &lt;dbl&gt; | outcome_value &lt;dbl&gt; | outcome_timeyrs &lt;dbl&gt; |\n",
       "|---|---|---|\n",
       "| 1000071 | 0 | 10.001369 |\n",
       "| 1000223 | 1 |  6.874743 |\n",
       "| 1000324 | 1 |  3.101985 |\n",
       "| 1000583 | 1 |  3.761807 |\n",
       "| 1001175 | 1 |  4.539357 |\n",
       "| 1001892 | 1 |  9.185489 |\n",
       "\n"
      ],
      "text/plain": [
       "  eid     outcome_value outcome_timeyrs\n",
       "1 1000071 0             10.001369      \n",
       "2 1000223 1              6.874743      \n",
       "3 1000324 1              3.101985      \n",
       "4 1000583 1              3.761807      \n",
       "5 1001175 1              4.539357      \n",
       "6 1001892 1              9.185489      "
      ]
     },
     "metadata": {},
     "output_type": "display_data"
    }
   ],
   "source": [
    "survmacedat <- read_tsv(\"../data/survmacedat.tsv\", show_col_types = FALSE)\n",
    "head(survmacedat)"
   ]
  },
  {
   "cell_type": "code",
   "execution_count": 8,
   "id": "10e97ed2-cede-4fac-a0a5-144ca1818095",
   "metadata": {},
   "outputs": [
    {
     "data": {
      "text/html": [
       "<table class=\"dataframe\">\n",
       "<caption>A tibble: 6 × 3</caption>\n",
       "<thead>\n",
       "\t<tr><th scope=col>eid</th><th scope=col>outcome_value</th><th scope=col>outcome_timeyrs</th></tr>\n",
       "\t<tr><th scope=col>&lt;dbl&gt;</th><th scope=col>&lt;dbl&gt;</th><th scope=col>&lt;dbl&gt;</th></tr>\n",
       "</thead>\n",
       "<tbody>\n",
       "\t<tr><td>1000109</td><td>1</td><td>3.600274</td></tr>\n",
       "\t<tr><td>1000132</td><td>1</td><td>1.248460</td></tr>\n",
       "\t<tr><td>1004267</td><td>1</td><td>4.550308</td></tr>\n",
       "\t<tr><td>1006281</td><td>1</td><td>1.957563</td></tr>\n",
       "\t<tr><td>1007454</td><td>0</td><td>9.423682</td></tr>\n",
       "\t<tr><td>1010295</td><td>1</td><td>6.852841</td></tr>\n",
       "</tbody>\n",
       "</table>\n"
      ],
      "text/latex": [
       "A tibble: 6 × 3\n",
       "\\begin{tabular}{lll}\n",
       " eid & outcome\\_value & outcome\\_timeyrs\\\\\n",
       " <dbl> & <dbl> & <dbl>\\\\\n",
       "\\hline\n",
       "\t 1000109 & 1 & 3.600274\\\\\n",
       "\t 1000132 & 1 & 1.248460\\\\\n",
       "\t 1004267 & 1 & 4.550308\\\\\n",
       "\t 1006281 & 1 & 1.957563\\\\\n",
       "\t 1007454 & 0 & 9.423682\\\\\n",
       "\t 1010295 & 1 & 6.852841\\\\\n",
       "\\end{tabular}\n"
      ],
      "text/markdown": [
       "\n",
       "A tibble: 6 × 3\n",
       "\n",
       "| eid &lt;dbl&gt; | outcome_value &lt;dbl&gt; | outcome_timeyrs &lt;dbl&gt; |\n",
       "|---|---|---|\n",
       "| 1000109 | 1 | 3.600274 |\n",
       "| 1000132 | 1 | 1.248460 |\n",
       "| 1004267 | 1 | 4.550308 |\n",
       "| 1006281 | 1 | 1.957563 |\n",
       "| 1007454 | 0 | 9.423682 |\n",
       "| 1010295 | 1 | 6.852841 |\n",
       "\n"
      ],
      "text/plain": [
       "  eid     outcome_value outcome_timeyrs\n",
       "1 1000109 1             3.600274       \n",
       "2 1000132 1             1.248460       \n",
       "3 1004267 1             4.550308       \n",
       "4 1006281 1             1.957563       \n",
       "5 1007454 0             9.423682       \n",
       "6 1010295 1             6.852841       "
      ]
     },
     "metadata": {},
     "output_type": "display_data"
    }
   ],
   "source": [
    "survdmdat <- read_tsv(\"../data/survdmdat.tsv\", show_col_types = FALSE)\n",
    "head(survdmdat)"
   ]
  },
  {
   "cell_type": "markdown",
   "id": "93cebcdd-574d-4b74-9edd-f048b296f69f",
   "metadata": {},
   "source": [
    "These two tables include individuals followed ***up to 10 years***. This means that any outcome after 10 years is censored. `outcome_value` is 1 if the person experienced the event during the follow-up time and 0 if not. `outcome_timeyrs` is the time of follow-up in years, up to the first event or up to 10 years. \n",
    "\n",
    "It is important that these tables ***do not include*** individuals who already experience the events we will study. In any case, we will make sure of this in the next step, when we combine all the data. For example, any individual in the `survmacedat` table with a value of 1 in the columns `CHD`, `Stroke` or `PAD` of the `covar_tab` table, will be excluded from the analysis."
   ]
  },
  {
   "cell_type": "markdown",
   "id": "906e1c34-43b9-485a-985f-d694b5a2c2ff",
   "metadata": {},
   "source": [
    "In case your cohort does not have survival data, then follow this guideline until the section below entitled \"Prevalent diseases and medication\"."
   ]
  },
  {
   "cell_type": "markdown",
   "id": "8609fdc5-c1de-47a0-beb4-8f25f7554444",
   "metadata": {},
   "source": [
    "---"
   ]
  },
  {
   "cell_type": "markdown",
   "id": "d815d2b2-9a99-4901-af75-5b143da09bd3",
   "metadata": {},
   "source": [
    "## Calculation of cluster probabilities"
   ]
  },
  {
   "cell_type": "markdown",
   "id": "e8338479-570d-4375-963d-bce43b381028",
   "metadata": {},
   "source": [
    "With the data needed in place, we can start by calculating cluster allocation probabilities given the biomarker data. For that we will first add a new column called `data` to the `validclusmod` table where we will put the biomarker data for each sex:"
   ]
  },
  {
   "cell_type": "code",
   "execution_count": 9,
   "id": "15389800-3038-4e34-a089-6b05f6c82f9d",
   "metadata": {},
   "outputs": [
    {
     "name": "stdout",
     "output_type": "stream",
     "text": [
      "\u001b[90m# A tibble: 2 x 4\u001b[39m\n",
      "  sex    residmod          clusmod          data                  \n",
      "  \u001b[3m\u001b[90m<chr>\u001b[39m\u001b[23m  \u001b[3m\u001b[90m<list>\u001b[39m\u001b[23m            \u001b[3m\u001b[90m<list>\u001b[39m\u001b[23m           \u001b[3m\u001b[90m<list>\u001b[39m\u001b[23m                \n",
      "\u001b[90m1\u001b[39m Female \u001b[90m<tibble [10 x 6]>\u001b[39m \u001b[90m<tibble [6 x 4]>\u001b[39m \u001b[90m<tibble [77,207 x 15]>\u001b[39m\n",
      "\u001b[90m2\u001b[39m Male   \u001b[90m<tibble [10 x 6]>\u001b[39m \u001b[90m<tibble [5 x 4]>\u001b[39m \u001b[90m<tibble [67,904 x 15]>\u001b[39m\n"
     ]
    }
   ],
   "source": [
    "alldat <- mutate(\n",
    "    validclusmod,\n",
    "    data = map(sex, ~strat_dat[[.x]])\n",
    ")\n",
    "print(alldat)"
   ]
  },
  {
   "cell_type": "markdown",
   "id": "b4303cb5-8433-4b57-878a-757e40002182",
   "metadata": {},
   "source": [
    "Once we have this table, we can run the function to calculate cluster probabilities:"
   ]
  },
  {
   "cell_type": "code",
   "execution_count": 10,
   "id": "8d0ae5ab-e2ae-4123-a516-210716946198",
   "metadata": {},
   "outputs": [
    {
     "name": "stdout",
     "output_type": "stream",
     "text": [
      "\u001b[90m# A tibble: 2 x 4\u001b[39m\n",
      "  sex    residmod          clusmod          data                  \n",
      "  \u001b[3m\u001b[90m<chr>\u001b[39m\u001b[23m  \u001b[3m\u001b[90m<list>\u001b[39m\u001b[23m            \u001b[3m\u001b[90m<list>\u001b[39m\u001b[23m           \u001b[3m\u001b[90m<list>\u001b[39m\u001b[23m                \n",
      "\u001b[90m1\u001b[39m Female \u001b[90m<tibble [10 x 6]>\u001b[39m \u001b[90m<tibble [6 x 4]>\u001b[39m \u001b[90m<tibble [77,207 x 21]>\u001b[39m\n",
      "\u001b[90m2\u001b[39m Male   \u001b[90m<tibble [10 x 6]>\u001b[39m \u001b[90m<tibble [5 x 4]>\u001b[39m \u001b[90m<tibble [67,904 x 20]>\u001b[39m\n"
     ]
    }
   ],
   "source": [
    "alldat <- clusterprobcalc(alldat)\n",
    "print(alldat)"
   ]
  },
  {
   "cell_type": "markdown",
   "id": "79cdcba2-05da-451e-aa60-b1cb818133bf",
   "metadata": {},
   "source": [
    "Checking that the probabilities were calculated for each sex:"
   ]
  },
  {
   "cell_type": "code",
   "execution_count": 11,
   "id": "b3acb20a-0855-4ea3-b5b9-b23a220745a2",
   "metadata": {},
   "outputs": [
    {
     "data": {
      "text/html": [
       "<table class=\"dataframe\">\n",
       "<caption>A tibble: 6 × 21</caption>\n",
       "<thead>\n",
       "\t<tr><th scope=col>eid</th><th scope=col>age</th><th scope=col>sex</th><th scope=col>bmi</th><th scope=col>whr</th><th scope=col>sbp</th><th scope=col>dbp</th><th scope=col>alt</th><th scope=col>scr</th><th scope=col>crp</th><th scope=col>⋯</th><th scope=col>tg</th><th scope=col>ldl</th><th scope=col>fg</th><th scope=col>smoking</th><th scope=col>probBC</th><th scope=col>probDHT</th><th scope=col>probDAL</th><th scope=col>probDLT</th><th scope=col>probDIS</th><th scope=col>probDHG</th></tr>\n",
       "\t<tr><th scope=col>&lt;dbl&gt;</th><th scope=col>&lt;dbl&gt;</th><th scope=col>&lt;chr&gt;</th><th scope=col>&lt;dbl&gt;</th><th scope=col>&lt;dbl&gt;</th><th scope=col>&lt;dbl&gt;</th><th scope=col>&lt;dbl&gt;</th><th scope=col>&lt;dbl&gt;</th><th scope=col>&lt;dbl&gt;</th><th scope=col>&lt;dbl&gt;</th><th scope=col>⋯</th><th scope=col>&lt;dbl&gt;</th><th scope=col>&lt;dbl&gt;</th><th scope=col>&lt;dbl&gt;</th><th scope=col>&lt;dbl&gt;</th><th scope=col>&lt;dbl&gt;</th><th scope=col>&lt;dbl&gt;</th><th scope=col>&lt;dbl&gt;</th><th scope=col>&lt;dbl&gt;</th><th scope=col>&lt;dbl&gt;</th><th scope=col>&lt;dbl&gt;</th></tr>\n",
       "</thead>\n",
       "<tbody>\n",
       "\t<tr><td>1000117</td><td>47</td><td>Female</td><td>23.8408</td><td>0.7254902</td><td>147.5</td><td> 84.0</td><td>14.07</td><td>61.0</td><td>0.24</td><td>⋯</td><td>0.591</td><td>2.252</td><td>4.395</td><td>0</td><td>0.1008059</td><td>8.982179e-01</td><td>8.145289e-08</td><td>0.0006249365</td><td>0.0002629902</td><td>8.816286e-05</td></tr>\n",
       "\t<tr><td>1000132</td><td>43</td><td>Female</td><td>35.6559</td><td>0.8403361</td><td>137.0</td><td>100.5</td><td>18.89</td><td>60.5</td><td>4.31</td><td>⋯</td><td>2.037</td><td>3.686</td><td>5.214</td><td>0</td><td>0.3995536</td><td>5.942413e-01</td><td>2.669602e-03</td><td>0.0014612974</td><td>0.0009994929</td><td>1.074671e-03</td></tr>\n",
       "\t<tr><td>1000176</td><td>69</td><td>Female</td><td>38.1271</td><td>0.8897638</td><td>137.5</td><td> 93.5</td><td>36.39</td><td>68.9</td><td>3.69</td><td>⋯</td><td>1.988</td><td>4.551</td><td>4.266</td><td>0</td><td>0.9885268</td><td>9.507371e-06</td><td>5.394490e-05</td><td>0.0110183762</td><td>0.0002941394</td><td>9.725173e-05</td></tr>\n",
       "\t<tr><td>1000223</td><td>63</td><td>Female</td><td>25.4603</td><td>0.7789474</td><td>163.0</td><td> 94.0</td><td> 6.10</td><td>67.1</td><td>1.29</td><td>⋯</td><td>2.829</td><td>3.491</td><td>5.876</td><td>0</td><td>0.9391540</td><td>2.297826e-04</td><td>5.226406e-02</td><td>0.0004234940</td><td>0.0001454109</td><td>7.783232e-03</td></tr>\n",
       "\t<tr><td>1000282</td><td>48</td><td>Female</td><td>25.4297</td><td>0.7708333</td><td>135.5</td><td> 89.0</td><td> 9.63</td><td>46.2</td><td>0.16</td><td>⋯</td><td>0.722</td><td>3.584</td><td>5.212</td><td>0</td><td>0.7901985</td><td>2.027605e-01</td><td>5.046971e-07</td><td>0.0019040940</td><td>0.0015270843</td><td>3.609283e-03</td></tr>\n",
       "\t<tr><td>1000367</td><td>42</td><td>Female</td><td>19.3280</td><td>0.6777778</td><td>107.0</td><td> 72.5</td><td> 9.34</td><td>57.1</td><td>0.69</td><td>⋯</td><td>0.395</td><td>3.072</td><td>4.649</td><td>0</td><td>0.9827497</td><td>2.825642e-03</td><td>2.925853e-07</td><td>0.0033190879</td><td>0.0093330496</td><td>1.772251e-03</td></tr>\n",
       "</tbody>\n",
       "</table>\n"
      ],
      "text/latex": [
       "A tibble: 6 × 21\n",
       "\\begin{tabular}{lllllllllllllllllllll}\n",
       " eid & age & sex & bmi & whr & sbp & dbp & alt & scr & crp & ⋯ & tg & ldl & fg & smoking & probBC & probDHT & probDAL & probDLT & probDIS & probDHG\\\\\n",
       " <dbl> & <dbl> & <chr> & <dbl> & <dbl> & <dbl> & <dbl> & <dbl> & <dbl> & <dbl> & ⋯ & <dbl> & <dbl> & <dbl> & <dbl> & <dbl> & <dbl> & <dbl> & <dbl> & <dbl> & <dbl>\\\\\n",
       "\\hline\n",
       "\t 1000117 & 47 & Female & 23.8408 & 0.7254902 & 147.5 &  84.0 & 14.07 & 61.0 & 0.24 & ⋯ & 0.591 & 2.252 & 4.395 & 0 & 0.1008059 & 8.982179e-01 & 8.145289e-08 & 0.0006249365 & 0.0002629902 & 8.816286e-05\\\\\n",
       "\t 1000132 & 43 & Female & 35.6559 & 0.8403361 & 137.0 & 100.5 & 18.89 & 60.5 & 4.31 & ⋯ & 2.037 & 3.686 & 5.214 & 0 & 0.3995536 & 5.942413e-01 & 2.669602e-03 & 0.0014612974 & 0.0009994929 & 1.074671e-03\\\\\n",
       "\t 1000176 & 69 & Female & 38.1271 & 0.8897638 & 137.5 &  93.5 & 36.39 & 68.9 & 3.69 & ⋯ & 1.988 & 4.551 & 4.266 & 0 & 0.9885268 & 9.507371e-06 & 5.394490e-05 & 0.0110183762 & 0.0002941394 & 9.725173e-05\\\\\n",
       "\t 1000223 & 63 & Female & 25.4603 & 0.7789474 & 163.0 &  94.0 &  6.10 & 67.1 & 1.29 & ⋯ & 2.829 & 3.491 & 5.876 & 0 & 0.9391540 & 2.297826e-04 & 5.226406e-02 & 0.0004234940 & 0.0001454109 & 7.783232e-03\\\\\n",
       "\t 1000282 & 48 & Female & 25.4297 & 0.7708333 & 135.5 &  89.0 &  9.63 & 46.2 & 0.16 & ⋯ & 0.722 & 3.584 & 5.212 & 0 & 0.7901985 & 2.027605e-01 & 5.046971e-07 & 0.0019040940 & 0.0015270843 & 3.609283e-03\\\\\n",
       "\t 1000367 & 42 & Female & 19.3280 & 0.6777778 & 107.0 &  72.5 &  9.34 & 57.1 & 0.69 & ⋯ & 0.395 & 3.072 & 4.649 & 0 & 0.9827497 & 2.825642e-03 & 2.925853e-07 & 0.0033190879 & 0.0093330496 & 1.772251e-03\\\\\n",
       "\\end{tabular}\n"
      ],
      "text/markdown": [
       "\n",
       "A tibble: 6 × 21\n",
       "\n",
       "| eid &lt;dbl&gt; | age &lt;dbl&gt; | sex &lt;chr&gt; | bmi &lt;dbl&gt; | whr &lt;dbl&gt; | sbp &lt;dbl&gt; | dbp &lt;dbl&gt; | alt &lt;dbl&gt; | scr &lt;dbl&gt; | crp &lt;dbl&gt; | ⋯ ⋯ | tg &lt;dbl&gt; | ldl &lt;dbl&gt; | fg &lt;dbl&gt; | smoking &lt;dbl&gt; | probBC &lt;dbl&gt; | probDHT &lt;dbl&gt; | probDAL &lt;dbl&gt; | probDLT &lt;dbl&gt; | probDIS &lt;dbl&gt; | probDHG &lt;dbl&gt; |\n",
       "|---|---|---|---|---|---|---|---|---|---|---|---|---|---|---|---|---|---|---|---|---|\n",
       "| 1000117 | 47 | Female | 23.8408 | 0.7254902 | 147.5 |  84.0 | 14.07 | 61.0 | 0.24 | ⋯ | 0.591 | 2.252 | 4.395 | 0 | 0.1008059 | 8.982179e-01 | 8.145289e-08 | 0.0006249365 | 0.0002629902 | 8.816286e-05 |\n",
       "| 1000132 | 43 | Female | 35.6559 | 0.8403361 | 137.0 | 100.5 | 18.89 | 60.5 | 4.31 | ⋯ | 2.037 | 3.686 | 5.214 | 0 | 0.3995536 | 5.942413e-01 | 2.669602e-03 | 0.0014612974 | 0.0009994929 | 1.074671e-03 |\n",
       "| 1000176 | 69 | Female | 38.1271 | 0.8897638 | 137.5 |  93.5 | 36.39 | 68.9 | 3.69 | ⋯ | 1.988 | 4.551 | 4.266 | 0 | 0.9885268 | 9.507371e-06 | 5.394490e-05 | 0.0110183762 | 0.0002941394 | 9.725173e-05 |\n",
       "| 1000223 | 63 | Female | 25.4603 | 0.7789474 | 163.0 |  94.0 |  6.10 | 67.1 | 1.29 | ⋯ | 2.829 | 3.491 | 5.876 | 0 | 0.9391540 | 2.297826e-04 | 5.226406e-02 | 0.0004234940 | 0.0001454109 | 7.783232e-03 |\n",
       "| 1000282 | 48 | Female | 25.4297 | 0.7708333 | 135.5 |  89.0 |  9.63 | 46.2 | 0.16 | ⋯ | 0.722 | 3.584 | 5.212 | 0 | 0.7901985 | 2.027605e-01 | 5.046971e-07 | 0.0019040940 | 0.0015270843 | 3.609283e-03 |\n",
       "| 1000367 | 42 | Female | 19.3280 | 0.6777778 | 107.0 |  72.5 |  9.34 | 57.1 | 0.69 | ⋯ | 0.395 | 3.072 | 4.649 | 0 | 0.9827497 | 2.825642e-03 | 2.925853e-07 | 0.0033190879 | 0.0093330496 | 1.772251e-03 |\n",
       "\n"
      ],
      "text/plain": [
       "  eid     age sex    bmi     whr       sbp   dbp   alt   scr  crp  <U+22EF>  \n",
       "1 1000117 47  Female 23.8408 0.7254902 147.5  84.0 14.07 61.0 0.24 <U+22EF>\n",
       "2 1000132 43  Female 35.6559 0.8403361 137.0 100.5 18.89 60.5 4.31 <U+22EF>\n",
       "3 1000176 69  Female 38.1271 0.8897638 137.5  93.5 36.39 68.9 3.69 <U+22EF>\n",
       "4 1000223 63  Female 25.4603 0.7789474 163.0  94.0  6.10 67.1 1.29 <U+22EF>\n",
       "5 1000282 48  Female 25.4297 0.7708333 135.5  89.0  9.63 46.2 0.16 <U+22EF>\n",
       "6 1000367 42  Female 19.3280 0.6777778 107.0  72.5  9.34 57.1 0.69 <U+22EF>\n",
       "  tg    ldl   fg    smoking probBC    probDHT      probDAL      probDLT     \n",
       "1 0.591 2.252 4.395 0       0.1008059 8.982179e-01 8.145289e-08 0.0006249365\n",
       "2 2.037 3.686 5.214 0       0.3995536 5.942413e-01 2.669602e-03 0.0014612974\n",
       "3 1.988 4.551 4.266 0       0.9885268 9.507371e-06 5.394490e-05 0.0110183762\n",
       "4 2.829 3.491 5.876 0       0.9391540 2.297826e-04 5.226406e-02 0.0004234940\n",
       "5 0.722 3.584 5.212 0       0.7901985 2.027605e-01 5.046971e-07 0.0019040940\n",
       "6 0.395 3.072 4.649 0       0.9827497 2.825642e-03 2.925853e-07 0.0033190879\n",
       "  probDIS      probDHG     \n",
       "1 0.0002629902 8.816286e-05\n",
       "2 0.0009994929 1.074671e-03\n",
       "3 0.0002941394 9.725173e-05\n",
       "4 0.0001454109 7.783232e-03\n",
       "5 0.0015270843 3.609283e-03\n",
       "6 0.0093330496 1.772251e-03"
      ]
     },
     "metadata": {},
     "output_type": "display_data"
    }
   ],
   "source": [
    "head(alldat$data[[1]])"
   ]
  },
  {
   "cell_type": "markdown",
   "id": "5929c5ad-79fc-4620-8c72-295c155c8bf2",
   "metadata": {},
   "source": [
    "---"
   ]
  },
  {
   "cell_type": "markdown",
   "id": "97c7eab0-b8f0-468b-b75c-a06d9ab07ad6",
   "metadata": {},
   "source": [
    "## Descriptive statistics"
   ]
  },
  {
   "cell_type": "markdown",
   "id": "d8a8109b-de93-4996-95a0-16dd68e53f6a",
   "metadata": {},
   "source": [
    "At this point we will recheck some of the characteristics of the clusters as we did in our previous script, weighting calculations by cluster probabilities."
   ]
  },
  {
   "cell_type": "markdown",
   "id": "24a8451b-b3d6-4de5-bb60-5fb45c209090",
   "metadata": {},
   "source": [
    "The distribution of biomarkers per cluster:"
   ]
  },
  {
   "cell_type": "code",
   "execution_count": 12,
   "id": "4bb85d9c-1c1f-47dc-91e6-fbbd704cc5f9",
   "metadata": {},
   "outputs": [],
   "source": [
    "markerdistribdf <- markerdistribfx(alldat)"
   ]
  },
  {
   "cell_type": "code",
   "execution_count": 13,
   "id": "09ac6ac7-e318-4e7e-8e6b-3e37ae485c16",
   "metadata": {},
   "outputs": [
    {
     "data": {
      "text/html": [
       "<table class=\"dataframe\">\n",
       "<caption>A tibble: 6 × 7</caption>\n",
       "<thead>\n",
       "\t<tr><th scope=col>sex</th><th scope=col>Variable</th><th scope=col>Cluster</th><th scope=col>Type</th><th scope=col>N</th><th scope=col>Summary1</th><th scope=col>Summary2</th></tr>\n",
       "\t<tr><th scope=col>&lt;chr&gt;</th><th scope=col>&lt;chr&gt;</th><th scope=col>&lt;chr&gt;</th><th scope=col>&lt;chr&gt;</th><th scope=col>&lt;dbl&gt;</th><th scope=col>&lt;chr&gt;</th><th scope=col>&lt;chr&gt;</th></tr>\n",
       "</thead>\n",
       "<tbody>\n",
       "\t<tr><td>Female</td><td>whr</td><td>BC </td><td>Numeric</td><td>58707.879</td><td>0.82 (0.07)</td><td>0.81 (0.7 - 0.77 - 0.86 - 0.96) </td></tr>\n",
       "\t<tr><td>Female</td><td>whr</td><td>DHT</td><td>Numeric</td><td> 7483.777</td><td>0.79 (0.05)</td><td>0.78 (0.69 - 0.75 - 0.82 - 0.9) </td></tr>\n",
       "\t<tr><td>Female</td><td>whr</td><td>DAL</td><td>Numeric</td><td> 3950.988</td><td>0.87 (0.06)</td><td>0.86 (0.76 - 0.83 - 0.91 - 0.99)</td></tr>\n",
       "\t<tr><td>Female</td><td>whr</td><td>DLT</td><td>Numeric</td><td> 2835.984</td><td>0.84 (0.07)</td><td>0.84 (0.71 - 0.79 - 0.89 - 0.98)</td></tr>\n",
       "\t<tr><td>Female</td><td>whr</td><td>DIS</td><td>Numeric</td><td> 2750.474</td><td>0.84 (0.07)</td><td>0.83 (0.71 - 0.79 - 0.89 - 0.98)</td></tr>\n",
       "\t<tr><td>Female</td><td>whr</td><td>DHG</td><td>Numeric</td><td> 1477.897</td><td>0.85 (0.08)</td><td>0.85 (0.71 - 0.79 - 0.91 - 1.02)</td></tr>\n",
       "</tbody>\n",
       "</table>\n"
      ],
      "text/latex": [
       "A tibble: 6 × 7\n",
       "\\begin{tabular}{lllllll}\n",
       " sex & Variable & Cluster & Type & N & Summary1 & Summary2\\\\\n",
       " <chr> & <chr> & <chr> & <chr> & <dbl> & <chr> & <chr>\\\\\n",
       "\\hline\n",
       "\t Female & whr & BC  & Numeric & 58707.879 & 0.82 (0.07) & 0.81 (0.7 - 0.77 - 0.86 - 0.96) \\\\\n",
       "\t Female & whr & DHT & Numeric &  7483.777 & 0.79 (0.05) & 0.78 (0.69 - 0.75 - 0.82 - 0.9) \\\\\n",
       "\t Female & whr & DAL & Numeric &  3950.988 & 0.87 (0.06) & 0.86 (0.76 - 0.83 - 0.91 - 0.99)\\\\\n",
       "\t Female & whr & DLT & Numeric &  2835.984 & 0.84 (0.07) & 0.84 (0.71 - 0.79 - 0.89 - 0.98)\\\\\n",
       "\t Female & whr & DIS & Numeric &  2750.474 & 0.84 (0.07) & 0.83 (0.71 - 0.79 - 0.89 - 0.98)\\\\\n",
       "\t Female & whr & DHG & Numeric &  1477.897 & 0.85 (0.08) & 0.85 (0.71 - 0.79 - 0.91 - 1.02)\\\\\n",
       "\\end{tabular}\n"
      ],
      "text/markdown": [
       "\n",
       "A tibble: 6 × 7\n",
       "\n",
       "| sex &lt;chr&gt; | Variable &lt;chr&gt; | Cluster &lt;chr&gt; | Type &lt;chr&gt; | N &lt;dbl&gt; | Summary1 &lt;chr&gt; | Summary2 &lt;chr&gt; |\n",
       "|---|---|---|---|---|---|---|\n",
       "| Female | whr | BC  | Numeric | 58707.879 | 0.82 (0.07) | 0.81 (0.7 - 0.77 - 0.86 - 0.96)  |\n",
       "| Female | whr | DHT | Numeric |  7483.777 | 0.79 (0.05) | 0.78 (0.69 - 0.75 - 0.82 - 0.9)  |\n",
       "| Female | whr | DAL | Numeric |  3950.988 | 0.87 (0.06) | 0.86 (0.76 - 0.83 - 0.91 - 0.99) |\n",
       "| Female | whr | DLT | Numeric |  2835.984 | 0.84 (0.07) | 0.84 (0.71 - 0.79 - 0.89 - 0.98) |\n",
       "| Female | whr | DIS | Numeric |  2750.474 | 0.84 (0.07) | 0.83 (0.71 - 0.79 - 0.89 - 0.98) |\n",
       "| Female | whr | DHG | Numeric |  1477.897 | 0.85 (0.08) | 0.85 (0.71 - 0.79 - 0.91 - 1.02) |\n",
       "\n"
      ],
      "text/plain": [
       "  sex    Variable Cluster Type    N         Summary1   \n",
       "1 Female whr      BC      Numeric 58707.879 0.82 (0.07)\n",
       "2 Female whr      DHT     Numeric  7483.777 0.79 (0.05)\n",
       "3 Female whr      DAL     Numeric  3950.988 0.87 (0.06)\n",
       "4 Female whr      DLT     Numeric  2835.984 0.84 (0.07)\n",
       "5 Female whr      DIS     Numeric  2750.474 0.84 (0.07)\n",
       "6 Female whr      DHG     Numeric  1477.897 0.85 (0.08)\n",
       "  Summary2                        \n",
       "1 0.81 (0.7 - 0.77 - 0.86 - 0.96) \n",
       "2 0.78 (0.69 - 0.75 - 0.82 - 0.9) \n",
       "3 0.86 (0.76 - 0.83 - 0.91 - 0.99)\n",
       "4 0.84 (0.71 - 0.79 - 0.89 - 0.98)\n",
       "5 0.83 (0.71 - 0.79 - 0.89 - 0.98)\n",
       "6 0.85 (0.71 - 0.79 - 0.91 - 1.02)"
      ]
     },
     "metadata": {},
     "output_type": "display_data"
    }
   ],
   "source": [
    "head(markerdistribdf)"
   ]
  },
  {
   "cell_type": "markdown",
   "id": "f9497168-971e-49ef-8b35-95249eb765e8",
   "metadata": {},
   "source": [
    "The effect of BMI on biomarkers specifically within each cluster, adjusted for age and smoking:"
   ]
  },
  {
   "cell_type": "code",
   "execution_count": 14,
   "id": "d2a1536b-5881-4e7a-9894-199d2391fb84",
   "metadata": {},
   "outputs": [],
   "source": [
    "bmieffmarkerdf <- bmieffmarkerfx(alldat)"
   ]
  },
  {
   "cell_type": "code",
   "execution_count": 15,
   "id": "43c78da0-0d74-400c-b5db-972e4aad4e1c",
   "metadata": {},
   "outputs": [
    {
     "data": {
      "text/html": [
       "<table class=\"dataframe\">\n",
       "<caption>A tibble: 6 × 6</caption>\n",
       "<thead>\n",
       "\t<tr><th scope=col>sex</th><th scope=col>Variable</th><th scope=col>Cluster</th><th scope=col>term</th><th scope=col>estimate</th><th scope=col>se</th></tr>\n",
       "\t<tr><th scope=col>&lt;chr&gt;</th><th scope=col>&lt;chr&gt;</th><th scope=col>&lt;chr&gt;</th><th scope=col>&lt;chr&gt;</th><th scope=col>&lt;dbl&gt;</th><th scope=col>&lt;dbl&gt;</th></tr>\n",
       "</thead>\n",
       "<tbody>\n",
       "\t<tr><td>Female</td><td>whr</td><td>BC </td><td>(Intercept)</td><td>0.576753560</td><td>1.917410e-03</td></tr>\n",
       "\t<tr><td>Female</td><td>whr</td><td>BC </td><td>age        </td><td>0.001289826</td><td>2.768274e-05</td></tr>\n",
       "\t<tr><td>Female</td><td>whr</td><td>BC </td><td>smoking    </td><td>0.020114650</td><td>7.707873e-04</td></tr>\n",
       "\t<tr><td>Female</td><td>whr</td><td>BC </td><td>bmi        </td><td>0.006069039</td><td>4.309974e-05</td></tr>\n",
       "\t<tr><td>Female</td><td>whr</td><td>DHT</td><td>(Intercept)</td><td>0.569642086</td><td>1.568987e-03</td></tr>\n",
       "\t<tr><td>Female</td><td>whr</td><td>DHT</td><td>age        </td><td>0.001087705</td><td>2.096435e-05</td></tr>\n",
       "</tbody>\n",
       "</table>\n"
      ],
      "text/latex": [
       "A tibble: 6 × 6\n",
       "\\begin{tabular}{llllll}\n",
       " sex & Variable & Cluster & term & estimate & se\\\\\n",
       " <chr> & <chr> & <chr> & <chr> & <dbl> & <dbl>\\\\\n",
       "\\hline\n",
       "\t Female & whr & BC  & (Intercept) & 0.576753560 & 1.917410e-03\\\\\n",
       "\t Female & whr & BC  & age         & 0.001289826 & 2.768274e-05\\\\\n",
       "\t Female & whr & BC  & smoking     & 0.020114650 & 7.707873e-04\\\\\n",
       "\t Female & whr & BC  & bmi         & 0.006069039 & 4.309974e-05\\\\\n",
       "\t Female & whr & DHT & (Intercept) & 0.569642086 & 1.568987e-03\\\\\n",
       "\t Female & whr & DHT & age         & 0.001087705 & 2.096435e-05\\\\\n",
       "\\end{tabular}\n"
      ],
      "text/markdown": [
       "\n",
       "A tibble: 6 × 6\n",
       "\n",
       "| sex &lt;chr&gt; | Variable &lt;chr&gt; | Cluster &lt;chr&gt; | term &lt;chr&gt; | estimate &lt;dbl&gt; | se &lt;dbl&gt; |\n",
       "|---|---|---|---|---|---|\n",
       "| Female | whr | BC  | (Intercept) | 0.576753560 | 1.917410e-03 |\n",
       "| Female | whr | BC  | age         | 0.001289826 | 2.768274e-05 |\n",
       "| Female | whr | BC  | smoking     | 0.020114650 | 7.707873e-04 |\n",
       "| Female | whr | BC  | bmi         | 0.006069039 | 4.309974e-05 |\n",
       "| Female | whr | DHT | (Intercept) | 0.569642086 | 1.568987e-03 |\n",
       "| Female | whr | DHT | age         | 0.001087705 | 2.096435e-05 |\n",
       "\n"
      ],
      "text/plain": [
       "  sex    Variable Cluster term        estimate    se          \n",
       "1 Female whr      BC      (Intercept) 0.576753560 1.917410e-03\n",
       "2 Female whr      BC      age         0.001289826 2.768274e-05\n",
       "3 Female whr      BC      smoking     0.020114650 7.707873e-04\n",
       "4 Female whr      BC      bmi         0.006069039 4.309974e-05\n",
       "5 Female whr      DHT     (Intercept) 0.569642086 1.568987e-03\n",
       "6 Female whr      DHT     age         0.001087705 2.096435e-05"
      ]
     },
     "metadata": {},
     "output_type": "display_data"
    }
   ],
   "source": [
    "head(bmieffmarkerdf)"
   ]
  },
  {
   "cell_type": "markdown",
   "id": "7831d4cd-ed94-45c3-82df-519b945d4b41",
   "metadata": {},
   "source": [
    "---"
   ]
  },
  {
   "cell_type": "markdown",
   "id": "01b70650-f688-48e0-a47c-d3b5dcad9b7a",
   "metadata": {},
   "source": [
    "## Prevalent diseases and medication"
   ]
  },
  {
   "cell_type": "markdown",
   "id": "4734e073-50da-4117-863b-5b7e27bb9f72",
   "metadata": {},
   "source": [
    "To add covariate data to the `alldat` table we will do the following:"
   ]
  },
  {
   "cell_type": "code",
   "execution_count": 16,
   "id": "d5a81e4f-4b35-4ac7-aa29-6e82b9b97294",
   "metadata": {},
   "outputs": [
    {
     "name": "stdout",
     "output_type": "stream",
     "text": [
      "\u001b[90m# A tibble: 2 x 4\u001b[39m\n",
      "  sex    residmod          clusmod          data                  \n",
      "  \u001b[3m\u001b[90m<chr>\u001b[39m\u001b[23m  \u001b[3m\u001b[90m<list>\u001b[39m\u001b[23m            \u001b[3m\u001b[90m<list>\u001b[39m\u001b[23m           \u001b[3m\u001b[90m<list>\u001b[39m\u001b[23m                \n",
      "\u001b[90m1\u001b[39m Female \u001b[90m<tibble [10 x 6]>\u001b[39m \u001b[90m<tibble [6 x 4]>\u001b[39m \u001b[90m<tibble [77,151 x 35]>\u001b[39m\n",
      "\u001b[90m2\u001b[39m Male   \u001b[90m<tibble [10 x 6]>\u001b[39m \u001b[90m<tibble [5 x 4]>\u001b[39m \u001b[90m<tibble [67,848 x 34]>\u001b[39m\n"
     ]
    }
   ],
   "source": [
    "alldat <- mutate(\n",
    "    alldat,\n",
    "    data = map(data, inner_join, covar_dat, by = \"eid\")\n",
    ")\n",
    "print(alldat)"
   ]
  },
  {
   "cell_type": "markdown",
   "id": "24e6b45c-7a74-4db9-929d-75a0dbc5b215",
   "metadata": {},
   "source": [
    "Checking again if the columns were added as expected:"
   ]
  },
  {
   "cell_type": "code",
   "execution_count": 17,
   "id": "28c26893-20f3-4f43-abb3-c7fe0b552891",
   "metadata": {},
   "outputs": [
    {
     "data": {
      "text/html": [
       "<table class=\"dataframe\">\n",
       "<caption>A tibble: 6 × 35</caption>\n",
       "<thead>\n",
       "\t<tr><th scope=col>eid</th><th scope=col>age</th><th scope=col>sex</th><th scope=col>bmi</th><th scope=col>whr</th><th scope=col>sbp</th><th scope=col>dbp</th><th scope=col>alt</th><th scope=col>scr</th><th scope=col>crp</th><th scope=col>⋯</th><th scope=col>CKD</th><th scope=col>LiverFailure</th><th scope=col>RA</th><th scope=col>T2D</th><th scope=col>T1D</th><th scope=col>T2Dage</th><th scope=col>Insulin</th><th scope=col>AntiDM</th><th scope=col>AntiHT</th><th scope=col>LipidLower</th></tr>\n",
       "\t<tr><th scope=col>&lt;dbl&gt;</th><th scope=col>&lt;dbl&gt;</th><th scope=col>&lt;chr&gt;</th><th scope=col>&lt;dbl&gt;</th><th scope=col>&lt;dbl&gt;</th><th scope=col>&lt;dbl&gt;</th><th scope=col>&lt;dbl&gt;</th><th scope=col>&lt;dbl&gt;</th><th scope=col>&lt;dbl&gt;</th><th scope=col>&lt;dbl&gt;</th><th scope=col>⋯</th><th scope=col>&lt;dbl&gt;</th><th scope=col>&lt;dbl&gt;</th><th scope=col>&lt;dbl&gt;</th><th scope=col>&lt;dbl&gt;</th><th scope=col>&lt;dbl&gt;</th><th scope=col>&lt;dbl&gt;</th><th scope=col>&lt;dbl&gt;</th><th scope=col>&lt;dbl&gt;</th><th scope=col>&lt;dbl&gt;</th><th scope=col>&lt;dbl&gt;</th></tr>\n",
       "</thead>\n",
       "<tbody>\n",
       "\t<tr><td>1000117</td><td>47</td><td>Female</td><td>23.8408</td><td>0.7254902</td><td>147.5</td><td> 84.0</td><td>14.07</td><td>61.0</td><td>0.24</td><td>⋯</td><td>0</td><td>0</td><td>0</td><td>0</td><td>0</td><td>0</td><td>0</td><td>0</td><td>0</td><td>0</td></tr>\n",
       "\t<tr><td>1000132</td><td>43</td><td>Female</td><td>35.6559</td><td>0.8403361</td><td>137.0</td><td>100.5</td><td>18.89</td><td>60.5</td><td>4.31</td><td>⋯</td><td>0</td><td>0</td><td>0</td><td>0</td><td>0</td><td>0</td><td>0</td><td>0</td><td>1</td><td>0</td></tr>\n",
       "\t<tr><td>1000176</td><td>69</td><td>Female</td><td>38.1271</td><td>0.8897638</td><td>137.5</td><td> 93.5</td><td>36.39</td><td>68.9</td><td>3.69</td><td>⋯</td><td>0</td><td>0</td><td>0</td><td>0</td><td>0</td><td>0</td><td>0</td><td>0</td><td>1</td><td>0</td></tr>\n",
       "\t<tr><td>1000223</td><td>63</td><td>Female</td><td>25.4603</td><td>0.7789474</td><td>163.0</td><td> 94.0</td><td> 6.10</td><td>67.1</td><td>1.29</td><td>⋯</td><td>0</td><td>0</td><td>0</td><td>0</td><td>0</td><td>0</td><td>0</td><td>0</td><td>1</td><td>1</td></tr>\n",
       "\t<tr><td>1000282</td><td>48</td><td>Female</td><td>25.4297</td><td>0.7708333</td><td>135.5</td><td> 89.0</td><td> 9.63</td><td>46.2</td><td>0.16</td><td>⋯</td><td>0</td><td>0</td><td>0</td><td>0</td><td>0</td><td>0</td><td>0</td><td>0</td><td>0</td><td>0</td></tr>\n",
       "\t<tr><td>1000367</td><td>42</td><td>Female</td><td>19.3280</td><td>0.6777778</td><td>107.0</td><td> 72.5</td><td> 9.34</td><td>57.1</td><td>0.69</td><td>⋯</td><td>0</td><td>0</td><td>0</td><td>0</td><td>0</td><td>0</td><td>0</td><td>0</td><td>0</td><td>0</td></tr>\n",
       "</tbody>\n",
       "</table>\n"
      ],
      "text/latex": [
       "A tibble: 6 × 35\n",
       "\\begin{tabular}{lllllllllllllllllllll}\n",
       " eid & age & sex & bmi & whr & sbp & dbp & alt & scr & crp & ⋯ & CKD & LiverFailure & RA & T2D & T1D & T2Dage & Insulin & AntiDM & AntiHT & LipidLower\\\\\n",
       " <dbl> & <dbl> & <chr> & <dbl> & <dbl> & <dbl> & <dbl> & <dbl> & <dbl> & <dbl> & ⋯ & <dbl> & <dbl> & <dbl> & <dbl> & <dbl> & <dbl> & <dbl> & <dbl> & <dbl> & <dbl>\\\\\n",
       "\\hline\n",
       "\t 1000117 & 47 & Female & 23.8408 & 0.7254902 & 147.5 &  84.0 & 14.07 & 61.0 & 0.24 & ⋯ & 0 & 0 & 0 & 0 & 0 & 0 & 0 & 0 & 0 & 0\\\\\n",
       "\t 1000132 & 43 & Female & 35.6559 & 0.8403361 & 137.0 & 100.5 & 18.89 & 60.5 & 4.31 & ⋯ & 0 & 0 & 0 & 0 & 0 & 0 & 0 & 0 & 1 & 0\\\\\n",
       "\t 1000176 & 69 & Female & 38.1271 & 0.8897638 & 137.5 &  93.5 & 36.39 & 68.9 & 3.69 & ⋯ & 0 & 0 & 0 & 0 & 0 & 0 & 0 & 0 & 1 & 0\\\\\n",
       "\t 1000223 & 63 & Female & 25.4603 & 0.7789474 & 163.0 &  94.0 &  6.10 & 67.1 & 1.29 & ⋯ & 0 & 0 & 0 & 0 & 0 & 0 & 0 & 0 & 1 & 1\\\\\n",
       "\t 1000282 & 48 & Female & 25.4297 & 0.7708333 & 135.5 &  89.0 &  9.63 & 46.2 & 0.16 & ⋯ & 0 & 0 & 0 & 0 & 0 & 0 & 0 & 0 & 0 & 0\\\\\n",
       "\t 1000367 & 42 & Female & 19.3280 & 0.6777778 & 107.0 &  72.5 &  9.34 & 57.1 & 0.69 & ⋯ & 0 & 0 & 0 & 0 & 0 & 0 & 0 & 0 & 0 & 0\\\\\n",
       "\\end{tabular}\n"
      ],
      "text/markdown": [
       "\n",
       "A tibble: 6 × 35\n",
       "\n",
       "| eid &lt;dbl&gt; | age &lt;dbl&gt; | sex &lt;chr&gt; | bmi &lt;dbl&gt; | whr &lt;dbl&gt; | sbp &lt;dbl&gt; | dbp &lt;dbl&gt; | alt &lt;dbl&gt; | scr &lt;dbl&gt; | crp &lt;dbl&gt; | ⋯ ⋯ | CKD &lt;dbl&gt; | LiverFailure &lt;dbl&gt; | RA &lt;dbl&gt; | T2D &lt;dbl&gt; | T1D &lt;dbl&gt; | T2Dage &lt;dbl&gt; | Insulin &lt;dbl&gt; | AntiDM &lt;dbl&gt; | AntiHT &lt;dbl&gt; | LipidLower &lt;dbl&gt; |\n",
       "|---|---|---|---|---|---|---|---|---|---|---|---|---|---|---|---|---|---|---|---|---|\n",
       "| 1000117 | 47 | Female | 23.8408 | 0.7254902 | 147.5 |  84.0 | 14.07 | 61.0 | 0.24 | ⋯ | 0 | 0 | 0 | 0 | 0 | 0 | 0 | 0 | 0 | 0 |\n",
       "| 1000132 | 43 | Female | 35.6559 | 0.8403361 | 137.0 | 100.5 | 18.89 | 60.5 | 4.31 | ⋯ | 0 | 0 | 0 | 0 | 0 | 0 | 0 | 0 | 1 | 0 |\n",
       "| 1000176 | 69 | Female | 38.1271 | 0.8897638 | 137.5 |  93.5 | 36.39 | 68.9 | 3.69 | ⋯ | 0 | 0 | 0 | 0 | 0 | 0 | 0 | 0 | 1 | 0 |\n",
       "| 1000223 | 63 | Female | 25.4603 | 0.7789474 | 163.0 |  94.0 |  6.10 | 67.1 | 1.29 | ⋯ | 0 | 0 | 0 | 0 | 0 | 0 | 0 | 0 | 1 | 1 |\n",
       "| 1000282 | 48 | Female | 25.4297 | 0.7708333 | 135.5 |  89.0 |  9.63 | 46.2 | 0.16 | ⋯ | 0 | 0 | 0 | 0 | 0 | 0 | 0 | 0 | 0 | 0 |\n",
       "| 1000367 | 42 | Female | 19.3280 | 0.6777778 | 107.0 |  72.5 |  9.34 | 57.1 | 0.69 | ⋯ | 0 | 0 | 0 | 0 | 0 | 0 | 0 | 0 | 0 | 0 |\n",
       "\n"
      ],
      "text/plain": [
       "  eid     age sex    bmi     whr       sbp   dbp   alt   scr  crp  <U+22EF>   CKD\n",
       "1 1000117 47  Female 23.8408 0.7254902 147.5  84.0 14.07 61.0 0.24 <U+22EF> 0  \n",
       "2 1000132 43  Female 35.6559 0.8403361 137.0 100.5 18.89 60.5 4.31 <U+22EF> 0  \n",
       "3 1000176 69  Female 38.1271 0.8897638 137.5  93.5 36.39 68.9 3.69 <U+22EF> 0  \n",
       "4 1000223 63  Female 25.4603 0.7789474 163.0  94.0  6.10 67.1 1.29 <U+22EF> 0  \n",
       "5 1000282 48  Female 25.4297 0.7708333 135.5  89.0  9.63 46.2 0.16 <U+22EF> 0  \n",
       "6 1000367 42  Female 19.3280 0.6777778 107.0  72.5  9.34 57.1 0.69 <U+22EF> 0  \n",
       "  LiverFailure RA T2D T1D T2Dage Insulin AntiDM AntiHT LipidLower\n",
       "1 0            0  0   0   0      0       0      0      0         \n",
       "2 0            0  0   0   0      0       0      1      0         \n",
       "3 0            0  0   0   0      0       0      1      0         \n",
       "4 0            0  0   0   0      0       0      1      1         \n",
       "5 0            0  0   0   0      0       0      0      0         \n",
       "6 0            0  0   0   0      0       0      0      0         "
      ]
     },
     "metadata": {},
     "output_type": "display_data"
    }
   ],
   "source": [
    "head(alldat$data[[1]])"
   ]
  },
  {
   "cell_type": "markdown",
   "id": "ff3d495d-ce08-4d8c-bea4-80b49b085f9d",
   "metadata": {},
   "source": [
    "We will first count the number of individuals with disease in each cluster. Here we will also count the number of individuals taking each class of medications in each cluster."
   ]
  },
  {
   "cell_type": "code",
   "execution_count": 18,
   "id": "5c3b19e3-6e86-4a30-a157-fb5f04f0ed18",
   "metadata": {},
   "outputs": [],
   "source": [
    "countcovarsdf <- countcovarsfx(alldat)"
   ]
  },
  {
   "cell_type": "code",
   "execution_count": 19,
   "id": "34f5a4dd-e80f-46b8-9565-acdd81df4442",
   "metadata": {},
   "outputs": [
    {
     "data": {
      "text/html": [
       "<table class=\"dataframe\">\n",
       "<caption>A tibble: 6 × 5</caption>\n",
       "<thead>\n",
       "\t<tr><th scope=col>sex</th><th scope=col>Cluster</th><th scope=col>Covariate</th><th scope=col>Nclus</th><th scope=col>NclusDX</th></tr>\n",
       "\t<tr><th scope=col>&lt;chr&gt;</th><th scope=col>&lt;chr&gt;</th><th scope=col>&lt;chr&gt;</th><th scope=col>&lt;dbl&gt;</th><th scope=col>&lt;dbl&gt;</th></tr>\n",
       "</thead>\n",
       "<tbody>\n",
       "\t<tr><td>Female</td><td>BC</td><td>HT          </td><td>58673.33</td><td>12946.70991</td></tr>\n",
       "\t<tr><td>Female</td><td>BC</td><td>CHD         </td><td>58673.33</td><td> 1659.00050</td></tr>\n",
       "\t<tr><td>Female</td><td>BC</td><td>Stroke      </td><td>58673.33</td><td>  848.10719</td></tr>\n",
       "\t<tr><td>Female</td><td>BC</td><td>PAD         </td><td>58673.33</td><td>  147.89695</td></tr>\n",
       "\t<tr><td>Female</td><td>BC</td><td>CKD         </td><td>58673.33</td><td>   67.25413</td></tr>\n",
       "\t<tr><td>Female</td><td>BC</td><td>LiverFailure</td><td>58673.33</td><td>   50.16266</td></tr>\n",
       "</tbody>\n",
       "</table>\n"
      ],
      "text/latex": [
       "A tibble: 6 × 5\n",
       "\\begin{tabular}{lllll}\n",
       " sex & Cluster & Covariate & Nclus & NclusDX\\\\\n",
       " <chr> & <chr> & <chr> & <dbl> & <dbl>\\\\\n",
       "\\hline\n",
       "\t Female & BC & HT           & 58673.33 & 12946.70991\\\\\n",
       "\t Female & BC & CHD          & 58673.33 &  1659.00050\\\\\n",
       "\t Female & BC & Stroke       & 58673.33 &   848.10719\\\\\n",
       "\t Female & BC & PAD          & 58673.33 &   147.89695\\\\\n",
       "\t Female & BC & CKD          & 58673.33 &    67.25413\\\\\n",
       "\t Female & BC & LiverFailure & 58673.33 &    50.16266\\\\\n",
       "\\end{tabular}\n"
      ],
      "text/markdown": [
       "\n",
       "A tibble: 6 × 5\n",
       "\n",
       "| sex &lt;chr&gt; | Cluster &lt;chr&gt; | Covariate &lt;chr&gt; | Nclus &lt;dbl&gt; | NclusDX &lt;dbl&gt; |\n",
       "|---|---|---|---|---|\n",
       "| Female | BC | HT           | 58673.33 | 12946.70991 |\n",
       "| Female | BC | CHD          | 58673.33 |  1659.00050 |\n",
       "| Female | BC | Stroke       | 58673.33 |   848.10719 |\n",
       "| Female | BC | PAD          | 58673.33 |   147.89695 |\n",
       "| Female | BC | CKD          | 58673.33 |    67.25413 |\n",
       "| Female | BC | LiverFailure | 58673.33 |    50.16266 |\n",
       "\n"
      ],
      "text/plain": [
       "  sex    Cluster Covariate    Nclus    NclusDX    \n",
       "1 Female BC      HT           58673.33 12946.70991\n",
       "2 Female BC      CHD          58673.33  1659.00050\n",
       "3 Female BC      Stroke       58673.33   848.10719\n",
       "4 Female BC      PAD          58673.33   147.89695\n",
       "5 Female BC      CKD          58673.33    67.25413\n",
       "6 Female BC      LiverFailure 58673.33    50.16266"
      ]
     },
     "metadata": {},
     "output_type": "display_data"
    }
   ],
   "source": [
    "head(countcovarsdf)"
   ]
  },
  {
   "cell_type": "markdown",
   "id": "1b4534fc-e4ff-4b43-98ef-ade01140f4e3",
   "metadata": {},
   "source": [
    "We will use this table to calculate prevalences and compare prevalences across clusters."
   ]
  },
  {
   "cell_type": "markdown",
   "id": "b9a37f78-44aa-4c30-9c56-d0ba480b508f",
   "metadata": {},
   "source": [
    "We are also interesting in looking at the following proportions in each cluster:"
   ]
  },
  {
   "cell_type": "markdown",
   "id": "ca151f9b-3e78-404f-9d52-b029270f4c89",
   "metadata": {},
   "source": [
    "- Proportion of individuals with hypertension receiving antihypertensives.\n",
    "- Proportion of individuals with CHD receiving lipid-lowering medication.\n",
    "- Proportion of individuals with T2D taking insulin.\n",
    "- Proportion of individuals with T2D taking insulin or any other anti-diabetic medication."
   ]
  },
  {
   "cell_type": "code",
   "execution_count": 20,
   "id": "9b9eb471-3193-4ff5-a4e4-d6af646d2b3d",
   "metadata": {},
   "outputs": [],
   "source": [
    "countspectxdf <- countspectxfx(alldat)"
   ]
  },
  {
   "cell_type": "code",
   "execution_count": 21,
   "id": "f6132775-1c04-44fd-80e7-31b8ec05a7d7",
   "metadata": {},
   "outputs": [
    {
     "data": {
      "text/html": [
       "<table class=\"dataframe\">\n",
       "<caption>A tibble: 6 × 5</caption>\n",
       "<thead>\n",
       "\t<tr><th scope=col>sex</th><th scope=col>DX</th><th scope=col>MED</th><th scope=col>Cluster</th><th scope=col>NclusDXM</th></tr>\n",
       "\t<tr><th scope=col>&lt;chr&gt;</th><th scope=col>&lt;chr&gt;</th><th scope=col>&lt;chr&gt;</th><th scope=col>&lt;chr&gt;</th><th scope=col>&lt;dbl&gt;</th></tr>\n",
       "</thead>\n",
       "<tbody>\n",
       "\t<tr><td>Female</td><td>HT</td><td>AntiHT</td><td>BC </td><td>9868.8856</td></tr>\n",
       "\t<tr><td>Female</td><td>HT</td><td>AntiHT</td><td>DHT</td><td>1366.1636</td></tr>\n",
       "\t<tr><td>Female</td><td>HT</td><td>AntiHT</td><td>DAL</td><td> 791.7766</td></tr>\n",
       "\t<tr><td>Female</td><td>HT</td><td>AntiHT</td><td>DLT</td><td> 654.6246</td></tr>\n",
       "\t<tr><td>Female</td><td>HT</td><td>AntiHT</td><td>DIS</td><td> 671.0381</td></tr>\n",
       "\t<tr><td>Female</td><td>HT</td><td>AntiHT</td><td>DHG</td><td> 550.5115</td></tr>\n",
       "</tbody>\n",
       "</table>\n"
      ],
      "text/latex": [
       "A tibble: 6 × 5\n",
       "\\begin{tabular}{lllll}\n",
       " sex & DX & MED & Cluster & NclusDXM\\\\\n",
       " <chr> & <chr> & <chr> & <chr> & <dbl>\\\\\n",
       "\\hline\n",
       "\t Female & HT & AntiHT & BC  & 9868.8856\\\\\n",
       "\t Female & HT & AntiHT & DHT & 1366.1636\\\\\n",
       "\t Female & HT & AntiHT & DAL &  791.7766\\\\\n",
       "\t Female & HT & AntiHT & DLT &  654.6246\\\\\n",
       "\t Female & HT & AntiHT & DIS &  671.0381\\\\\n",
       "\t Female & HT & AntiHT & DHG &  550.5115\\\\\n",
       "\\end{tabular}\n"
      ],
      "text/markdown": [
       "\n",
       "A tibble: 6 × 5\n",
       "\n",
       "| sex &lt;chr&gt; | DX &lt;chr&gt; | MED &lt;chr&gt; | Cluster &lt;chr&gt; | NclusDXM &lt;dbl&gt; |\n",
       "|---|---|---|---|---|\n",
       "| Female | HT | AntiHT | BC  | 9868.8856 |\n",
       "| Female | HT | AntiHT | DHT | 1366.1636 |\n",
       "| Female | HT | AntiHT | DAL |  791.7766 |\n",
       "| Female | HT | AntiHT | DLT |  654.6246 |\n",
       "| Female | HT | AntiHT | DIS |  671.0381 |\n",
       "| Female | HT | AntiHT | DHG |  550.5115 |\n",
       "\n"
      ],
      "text/plain": [
       "  sex    DX MED    Cluster NclusDXM \n",
       "1 Female HT AntiHT BC      9868.8856\n",
       "2 Female HT AntiHT DHT     1366.1636\n",
       "3 Female HT AntiHT DAL      791.7766\n",
       "4 Female HT AntiHT DLT      654.6246\n",
       "5 Female HT AntiHT DIS      671.0381\n",
       "6 Female HT AntiHT DHG      550.5115"
      ]
     },
     "metadata": {},
     "output_type": "display_data"
    }
   ],
   "source": [
    "head(countspectxdf)"
   ]
  },
  {
   "cell_type": "markdown",
   "id": "2aca985a-b831-4a66-b8d6-5193d7489f11",
   "metadata": {},
   "source": [
    "We will also formally test the association between cluster allocation and diseases using logistic regressions where the outcome is each disease and the predictors are the cluster allocations. We will have two models for each disease, one with only clusters, and a second one adjusting for medication."
   ]
  },
  {
   "cell_type": "code",
   "execution_count": 22,
   "id": "dfd12beb-4467-42a4-8ef3-939a35f530f6",
   "metadata": {},
   "outputs": [],
   "source": [
    "assocdxdf <- assocdxfx(alldat)"
   ]
  },
  {
   "cell_type": "code",
   "execution_count": 23,
   "id": "fc83a91f-3aba-46c2-ad08-822afb3bd122",
   "metadata": {},
   "outputs": [
    {
     "data": {
      "text/html": [
       "<table class=\"dataframe\">\n",
       "<caption>A tibble: 6 × 6</caption>\n",
       "<thead>\n",
       "\t<tr><th scope=col>sex</th><th scope=col>DX</th><th scope=col>model</th><th scope=col>term</th><th scope=col>estimate</th><th scope=col>se</th></tr>\n",
       "\t<tr><th scope=col>&lt;chr&gt;</th><th scope=col>&lt;chr&gt;</th><th scope=col>&lt;chr&gt;</th><th scope=col>&lt;chr&gt;</th><th scope=col>&lt;dbl&gt;</th><th scope=col>&lt;dbl&gt;</th></tr>\n",
       "</thead>\n",
       "<tbody>\n",
       "\t<tr><td>Female</td><td>HT</td><td>OnlyClusters</td><td>(Intercept)</td><td>-1.34906659</td><td>0.010818331</td></tr>\n",
       "\t<tr><td>Female</td><td>HT</td><td>OnlyClusters</td><td>probDHT    </td><td> 0.09715432</td><td>0.003340768</td></tr>\n",
       "\t<tr><td>Female</td><td>HT</td><td>OnlyClusters</td><td>probDAL    </td><td> 0.05051826</td><td>0.004554858</td></tr>\n",
       "\t<tr><td>Female</td><td>HT</td><td>OnlyClusters</td><td>probDLT    </td><td> 0.07656229</td><td>0.005173978</td></tr>\n",
       "\t<tr><td>Female</td><td>HT</td><td>OnlyClusters</td><td>probDIS    </td><td> 0.07378141</td><td>0.004870324</td></tr>\n",
       "\t<tr><td>Female</td><td>HT</td><td>OnlyClusters</td><td>probDHG    </td><td> 0.14847308</td><td>0.006453885</td></tr>\n",
       "</tbody>\n",
       "</table>\n"
      ],
      "text/latex": [
       "A tibble: 6 × 6\n",
       "\\begin{tabular}{llllll}\n",
       " sex & DX & model & term & estimate & se\\\\\n",
       " <chr> & <chr> & <chr> & <chr> & <dbl> & <dbl>\\\\\n",
       "\\hline\n",
       "\t Female & HT & OnlyClusters & (Intercept) & -1.34906659 & 0.010818331\\\\\n",
       "\t Female & HT & OnlyClusters & probDHT     &  0.09715432 & 0.003340768\\\\\n",
       "\t Female & HT & OnlyClusters & probDAL     &  0.05051826 & 0.004554858\\\\\n",
       "\t Female & HT & OnlyClusters & probDLT     &  0.07656229 & 0.005173978\\\\\n",
       "\t Female & HT & OnlyClusters & probDIS     &  0.07378141 & 0.004870324\\\\\n",
       "\t Female & HT & OnlyClusters & probDHG     &  0.14847308 & 0.006453885\\\\\n",
       "\\end{tabular}\n"
      ],
      "text/markdown": [
       "\n",
       "A tibble: 6 × 6\n",
       "\n",
       "| sex &lt;chr&gt; | DX &lt;chr&gt; | model &lt;chr&gt; | term &lt;chr&gt; | estimate &lt;dbl&gt; | se &lt;dbl&gt; |\n",
       "|---|---|---|---|---|---|\n",
       "| Female | HT | OnlyClusters | (Intercept) | -1.34906659 | 0.010818331 |\n",
       "| Female | HT | OnlyClusters | probDHT     |  0.09715432 | 0.003340768 |\n",
       "| Female | HT | OnlyClusters | probDAL     |  0.05051826 | 0.004554858 |\n",
       "| Female | HT | OnlyClusters | probDLT     |  0.07656229 | 0.005173978 |\n",
       "| Female | HT | OnlyClusters | probDIS     |  0.07378141 | 0.004870324 |\n",
       "| Female | HT | OnlyClusters | probDHG     |  0.14847308 | 0.006453885 |\n",
       "\n"
      ],
      "text/plain": [
       "  sex    DX model        term        estimate    se         \n",
       "1 Female HT OnlyClusters (Intercept) -1.34906659 0.010818331\n",
       "2 Female HT OnlyClusters probDHT      0.09715432 0.003340768\n",
       "3 Female HT OnlyClusters probDAL      0.05051826 0.004554858\n",
       "4 Female HT OnlyClusters probDLT      0.07656229 0.005173978\n",
       "5 Female HT OnlyClusters probDIS      0.07378141 0.004870324\n",
       "6 Female HT OnlyClusters probDHG      0.14847308 0.006453885"
      ]
     },
     "metadata": {},
     "output_type": "display_data"
    }
   ],
   "source": [
    "head(assocdxdf)"
   ]
  },
  {
   "cell_type": "markdown",
   "id": "99772975-df04-46b4-9f64-768fb08beab1",
   "metadata": {},
   "source": [
    "---"
   ]
  },
  {
   "cell_type": "markdown",
   "id": "d104bd00-e939-42a3-8e1c-67f2e9cb5800",
   "metadata": {},
   "source": [
    "## Adding survival data"
   ]
  },
  {
   "cell_type": "markdown",
   "id": "8cd06418-f7c6-41c9-b7d7-251f3ccdc51c",
   "metadata": {},
   "source": [
    "As explained before, since we want to be careful when adding survival data for analysis, we have prepared a function separately for both outcomes, and making sure we exclude individuals who already experience the events under study:"
   ]
  },
  {
   "cell_type": "code",
   "execution_count": 24,
   "id": "177178b2-203d-4d13-85a0-95347b0a64d9",
   "metadata": {},
   "outputs": [
    {
     "name": "stdout",
     "output_type": "stream",
     "text": [
      "\u001b[90m# A tibble: 2 x 6\u001b[39m\n",
      "  sex    residmod          clusmod          data     macedf   dmdf    \n",
      "  \u001b[3m\u001b[90m<chr>\u001b[39m\u001b[23m  \u001b[3m\u001b[90m<list>\u001b[39m\u001b[23m            \u001b[3m\u001b[90m<list>\u001b[39m\u001b[23m           \u001b[3m\u001b[90m<list>\u001b[39m\u001b[23m   \u001b[3m\u001b[90m<list>\u001b[39m\u001b[23m   \u001b[3m\u001b[90m<list>\u001b[39m\u001b[23m  \n",
      "\u001b[90m1\u001b[39m Female \u001b[90m<tibble [10 x 6]>\u001b[39m \u001b[90m<tibble [6 x 4]>\u001b[39m \u001b[90m<tibble>\u001b[39m \u001b[90m<tibble>\u001b[39m \u001b[90m<tibble>\u001b[39m\n",
      "\u001b[90m2\u001b[39m Male   \u001b[90m<tibble [10 x 6]>\u001b[39m \u001b[90m<tibble [5 x 4]>\u001b[39m \u001b[90m<tibble>\u001b[39m \u001b[90m<tibble>\u001b[39m \u001b[90m<tibble>\u001b[39m\n"
     ]
    }
   ],
   "source": [
    "alldat <- alldat %>%\n",
    "    mutate(\n",
    "        macedf = purrr::map(data, addsurvmacedat, SURVDATA = survmacedat),\n",
    "        dmdf = purrr::map(data, addsurvdmdat, SURVDATA = survdmdat)\n",
    "    )\n",
    "print(alldat)"
   ]
  },
  {
   "cell_type": "markdown",
   "id": "fcd0326f-64a3-48d6-a6b3-e0727b3b2a43",
   "metadata": {},
   "source": [
    "`macedf` and `dmdf` now contain the data necessary to run survival analysis."
   ]
  },
  {
   "cell_type": "markdown",
   "id": "02b1fd24-8e46-40af-ace6-0b8258f5c8e8",
   "metadata": {},
   "source": [
    "---"
   ]
  },
  {
   "cell_type": "markdown",
   "id": "38606e69-403b-477a-9082-aebf61368306",
   "metadata": {},
   "source": [
    "## Overall and cluster-specific Kaplan-Meier estimates"
   ]
  },
  {
   "cell_type": "markdown",
   "id": "4d4d05af-8b08-4623-bf3c-0578c427223a",
   "metadata": {},
   "source": [
    "The first thing to do is to obtain overall and cluster-specific cumulative incidence rates using the Kaplan-Meier method:"
   ]
  },
  {
   "cell_type": "code",
   "execution_count": 25,
   "id": "d64aa02b-ee4a-4beb-8569-39df2adc8cdb",
   "metadata": {},
   "outputs": [],
   "source": [
    "kmestdf <- kmestfx(alldat)"
   ]
  },
  {
   "cell_type": "code",
   "execution_count": 26,
   "id": "11c95867-0dc0-4178-8d65-d3f9e7eefc70",
   "metadata": {},
   "outputs": [
    {
     "data": {
      "text/html": [
       "<table class=\"dataframe\">\n",
       "<caption>A tibble: 6 × 6</caption>\n",
       "<thead>\n",
       "\t<tr><th scope=col>sex</th><th scope=col>Outcome</th><th scope=col>Cluster</th><th scope=col>risk</th><th scope=col>lower</th><th scope=col>upper</th></tr>\n",
       "\t<tr><th scope=col>&lt;chr&gt;</th><th scope=col>&lt;chr&gt;</th><th scope=col>&lt;chr&gt;</th><th scope=col>&lt;dbl&gt;</th><th scope=col>&lt;dbl&gt;</th><th scope=col>&lt;dbl&gt;</th></tr>\n",
       "</thead>\n",
       "<tbody>\n",
       "\t<tr><td>Female</td><td>MACE</td><td>Overall</td><td>0.04651655</td><td>0.04468811</td><td>0.04834149</td></tr>\n",
       "\t<tr><td>Female</td><td>MACE</td><td>probBC </td><td>0.04399324</td><td>0.04194391</td><td>0.04603818</td></tr>\n",
       "\t<tr><td>Female</td><td>MACE</td><td>probDHT</td><td>0.04512474</td><td>0.03942353</td><td>0.05079211</td></tr>\n",
       "\t<tr><td>Female</td><td>MACE</td><td>probDAL</td><td>0.06075845</td><td>0.05173248</td><td>0.06969851</td></tr>\n",
       "\t<tr><td>Female</td><td>MACE</td><td>probDLT</td><td>0.04782438</td><td>0.03785284</td><td>0.05769258</td></tr>\n",
       "\t<tr><td>Female</td><td>MACE</td><td>probDIS</td><td>0.06237728</td><td>0.05175902</td><td>0.07287664</td></tr>\n",
       "</tbody>\n",
       "</table>\n"
      ],
      "text/latex": [
       "A tibble: 6 × 6\n",
       "\\begin{tabular}{llllll}\n",
       " sex & Outcome & Cluster & risk & lower & upper\\\\\n",
       " <chr> & <chr> & <chr> & <dbl> & <dbl> & <dbl>\\\\\n",
       "\\hline\n",
       "\t Female & MACE & Overall & 0.04651655 & 0.04468811 & 0.04834149\\\\\n",
       "\t Female & MACE & probBC  & 0.04399324 & 0.04194391 & 0.04603818\\\\\n",
       "\t Female & MACE & probDHT & 0.04512474 & 0.03942353 & 0.05079211\\\\\n",
       "\t Female & MACE & probDAL & 0.06075845 & 0.05173248 & 0.06969851\\\\\n",
       "\t Female & MACE & probDLT & 0.04782438 & 0.03785284 & 0.05769258\\\\\n",
       "\t Female & MACE & probDIS & 0.06237728 & 0.05175902 & 0.07287664\\\\\n",
       "\\end{tabular}\n"
      ],
      "text/markdown": [
       "\n",
       "A tibble: 6 × 6\n",
       "\n",
       "| sex &lt;chr&gt; | Outcome &lt;chr&gt; | Cluster &lt;chr&gt; | risk &lt;dbl&gt; | lower &lt;dbl&gt; | upper &lt;dbl&gt; |\n",
       "|---|---|---|---|---|---|\n",
       "| Female | MACE | Overall | 0.04651655 | 0.04468811 | 0.04834149 |\n",
       "| Female | MACE | probBC  | 0.04399324 | 0.04194391 | 0.04603818 |\n",
       "| Female | MACE | probDHT | 0.04512474 | 0.03942353 | 0.05079211 |\n",
       "| Female | MACE | probDAL | 0.06075845 | 0.05173248 | 0.06969851 |\n",
       "| Female | MACE | probDLT | 0.04782438 | 0.03785284 | 0.05769258 |\n",
       "| Female | MACE | probDIS | 0.06237728 | 0.05175902 | 0.07287664 |\n",
       "\n"
      ],
      "text/plain": [
       "  sex    Outcome Cluster risk       lower      upper     \n",
       "1 Female MACE    Overall 0.04651655 0.04468811 0.04834149\n",
       "2 Female MACE    probBC  0.04399324 0.04194391 0.04603818\n",
       "3 Female MACE    probDHT 0.04512474 0.03942353 0.05079211\n",
       "4 Female MACE    probDAL 0.06075845 0.05173248 0.06969851\n",
       "5 Female MACE    probDLT 0.04782438 0.03785284 0.05769258\n",
       "6 Female MACE    probDIS 0.06237728 0.05175902 0.07287664"
      ]
     },
     "metadata": {},
     "output_type": "display_data"
    }
   ],
   "source": [
    "head(kmestdf)"
   ]
  },
  {
   "cell_type": "markdown",
   "id": "cbc9cb74-592e-4a85-b088-683b0ea3db80",
   "metadata": {},
   "source": [
    "---"
   ]
  },
  {
   "cell_type": "markdown",
   "id": "242f879b-7e83-4a03-81c5-16ebe2121dcd",
   "metadata": {},
   "source": [
    "## Cox models"
   ]
  },
  {
   "cell_type": "markdown",
   "id": "3aa0fb45-82ad-4b22-9995-0cfd9fcc6a1f",
   "metadata": {},
   "source": [
    "### MACE"
   ]
  },
  {
   "cell_type": "markdown",
   "id": "67d841d9-f714-4a28-babb-4a7fb5a6d650",
   "metadata": {
    "citation-manager": {
     "citations": {
      "itp38": [
       {
        "id": "10831815/FPUFQKFI",
        "source": "zotero"
       }
      ],
      "pzdxs": [
       {
        "id": "10831815/ZY2CL5NC",
        "source": "zotero"
       }
      ]
     }
    },
    "tags": []
   },
   "source": [
    "To quantify the association of clusters to MACE, as well as its potential contribution for prediction, we will compare two models. The reference model will include all predictors that are part of SCORE2, the risk stratification tool for CVD recommended by the European Society of Cardiology <cite id=\"pzdxs\"><a href=\"#zotero|10831815/ZY2CL5NC\">(SCORE2 working group and ESC Cardiovascular risk collaboration, 2021)</a></cite>. We will use a version of this score that has been validated in diabetic populations, and includes some additional clinically useful predictors <cite id=\"itp38\"><a href=\"#zotero|10831815/FPUFQKFI\">(SCORE2-Diabetes Working Group and the ESC Cardiovascular Risk Collaboration, 2023)</a></cite>. Additionally, for the sake of completeness, some important pre-existing conditions and pharmacological treatments, such as hypertension/antihypertensives, as well as any predictor that we had in our initial input table that are not part of SCORE2, will also be included. We will compare this reference model to one that includes also the cluster probabilities and then we'll compare the ability of these two models to predict MACE."
   ]
  },
  {
   "cell_type": "markdown",
   "id": "dd15cec7-9a05-40ad-a6c0-9ae590f0041a",
   "metadata": {},
   "source": [
    "#### Fitting models"
   ]
  },
  {
   "cell_type": "code",
   "execution_count": 27,
   "id": "6083ca6a-eaea-4f7e-a62c-f1e9fc6a644c",
   "metadata": {},
   "outputs": [],
   "source": [
    "coxmodmacedf <- coxmodelsmace(alldat)"
   ]
  },
  {
   "cell_type": "code",
   "execution_count": 28,
   "id": "e7959ce1-1d58-4291-93f1-44bb8a0cb74c",
   "metadata": {},
   "outputs": [
    {
     "name": "stdout",
     "output_type": "stream",
     "text": [
      "\u001b[90m# A tibble: 2 x 6\u001b[39m\n",
      "  sex    macedf                 score2   mod_null   mod_score2 mod_score2clus\n",
      "  \u001b[3m\u001b[90m<chr>\u001b[39m\u001b[23m  \u001b[3m\u001b[90m<list>\u001b[39m\u001b[23m                 \u001b[3m\u001b[90m<list>\u001b[39m\u001b[23m   \u001b[3m\u001b[90m<list>\u001b[39m\u001b[23m     \u001b[3m\u001b[90m<list>\u001b[39m\u001b[23m     \u001b[3m\u001b[90m<list>\u001b[39m\u001b[23m        \n",
      "\u001b[90m1\u001b[39m Female \u001b[90m<tibble [73,378 x 37]>\u001b[39m \u001b[90m<tibble>\u001b[39m \u001b[90m<cxph.nll>\u001b[39m \u001b[90m<coxph>\u001b[39m    \u001b[90m<coxph>\u001b[39m       \n",
      "\u001b[90m2\u001b[39m Male   \u001b[90m<tibble [60,348 x 36]>\u001b[39m \u001b[90m<tibble>\u001b[39m \u001b[90m<cxph.nll>\u001b[39m \u001b[90m<coxph>\u001b[39m    \u001b[90m<coxph>\u001b[39m       \n"
     ]
    }
   ],
   "source": [
    "print(coxmodmacedf)"
   ]
  },
  {
   "cell_type": "markdown",
   "id": "86bdab42-0645-41f0-9659-1bcfccbb01a6",
   "metadata": {},
   "source": [
    "Here `score2` contains the predictors used in SCORE2-Diabetes, plus other predictors that we have in our input table and cluster allocations. The two models are contained in the last two columns. `mod_null` contains the null model, which we will use to calculate our metrics."
   ]
  },
  {
   "cell_type": "markdown",
   "id": "8288eff6-a1f0-44f4-b1ba-8b438b75664c",
   "metadata": {},
   "source": [
    "#### Coefficient estimates"
   ]
  },
  {
   "cell_type": "code",
   "execution_count": 29,
   "id": "cc63ed72-dfe0-4374-82bc-635447a83f99",
   "metadata": {},
   "outputs": [],
   "source": [
    "macesurvcoefs <- macesurvcoefx(coxmodmacedf)"
   ]
  },
  {
   "cell_type": "code",
   "execution_count": 30,
   "id": "5bb4f7d0-a662-4ee7-925f-decff09b6fba",
   "metadata": {},
   "outputs": [
    {
     "data": {
      "text/html": [
       "<table class=\"dataframe\">\n",
       "<caption>A tibble: 6 × 5</caption>\n",
       "<thead>\n",
       "\t<tr><th scope=col>sex</th><th scope=col>model</th><th scope=col>term</th><th scope=col>estimate</th><th scope=col>se</th></tr>\n",
       "\t<tr><th scope=col>&lt;chr&gt;</th><th scope=col>&lt;chr&gt;</th><th scope=col>&lt;chr&gt;</th><th scope=col>&lt;dbl&gt;</th><th scope=col>&lt;dbl&gt;</th></tr>\n",
       "</thead>\n",
       "<tbody>\n",
       "\t<tr><td>Female</td><td>score2</td><td>age    </td><td> 0.07172804</td><td>0.098409552</td></tr>\n",
       "\t<tr><td>Female</td><td>score2</td><td>smoking</td><td> 1.84491130</td><td>0.482558654</td></tr>\n",
       "\t<tr><td>Female</td><td>score2</td><td>sbp    </td><td> 0.03008216</td><td>0.009867439</td></tr>\n",
       "\t<tr><td>Female</td><td>score2</td><td>T2D    </td><td> 0.46023335</td><td>1.019902541</td></tr>\n",
       "\t<tr><td>Female</td><td>score2</td><td>tchol  </td><td> 0.48286593</td><td>0.179341661</td></tr>\n",
       "\t<tr><td>Female</td><td>score2</td><td>hdl    </td><td>-1.89109301</td><td>0.541588011</td></tr>\n",
       "</tbody>\n",
       "</table>\n"
      ],
      "text/latex": [
       "A tibble: 6 × 5\n",
       "\\begin{tabular}{lllll}\n",
       " sex & model & term & estimate & se\\\\\n",
       " <chr> & <chr> & <chr> & <dbl> & <dbl>\\\\\n",
       "\\hline\n",
       "\t Female & score2 & age     &  0.07172804 & 0.098409552\\\\\n",
       "\t Female & score2 & smoking &  1.84491130 & 0.482558654\\\\\n",
       "\t Female & score2 & sbp     &  0.03008216 & 0.009867439\\\\\n",
       "\t Female & score2 & T2D     &  0.46023335 & 1.019902541\\\\\n",
       "\t Female & score2 & tchol   &  0.48286593 & 0.179341661\\\\\n",
       "\t Female & score2 & hdl     & -1.89109301 & 0.541588011\\\\\n",
       "\\end{tabular}\n"
      ],
      "text/markdown": [
       "\n",
       "A tibble: 6 × 5\n",
       "\n",
       "| sex &lt;chr&gt; | model &lt;chr&gt; | term &lt;chr&gt; | estimate &lt;dbl&gt; | se &lt;dbl&gt; |\n",
       "|---|---|---|---|---|\n",
       "| Female | score2 | age     |  0.07172804 | 0.098409552 |\n",
       "| Female | score2 | smoking |  1.84491130 | 0.482558654 |\n",
       "| Female | score2 | sbp     |  0.03008216 | 0.009867439 |\n",
       "| Female | score2 | T2D     |  0.46023335 | 1.019902541 |\n",
       "| Female | score2 | tchol   |  0.48286593 | 0.179341661 |\n",
       "| Female | score2 | hdl     | -1.89109301 | 0.541588011 |\n",
       "\n"
      ],
      "text/plain": [
       "  sex    model  term    estimate    se         \n",
       "1 Female score2 age      0.07172804 0.098409552\n",
       "2 Female score2 smoking  1.84491130 0.482558654\n",
       "3 Female score2 sbp      0.03008216 0.009867439\n",
       "4 Female score2 T2D      0.46023335 1.019902541\n",
       "5 Female score2 tchol    0.48286593 0.179341661\n",
       "6 Female score2 hdl     -1.89109301 0.541588011"
      ]
     },
     "metadata": {},
     "output_type": "display_data"
    }
   ],
   "source": [
    "head(macesurvcoefs)"
   ]
  },
  {
   "cell_type": "markdown",
   "id": "3b739200-30e7-4e21-be1a-e7f7397acfb5",
   "metadata": {},
   "source": [
    "#### Comparison of predictive ability"
   ]
  },
  {
   "cell_type": "markdown",
   "id": "350f3846-70d8-45d4-b361-7712c7381799",
   "metadata": {},
   "source": [
    "We can now assess the predictive ability of each model and compare them. As the models are nested, we will use the gold-standard method, the likelihood ratio test. Given the wide use of the c-statistic, we will also use this metric. However, comparing two c-statistics is not as powerful as the likelihood ratio test."
   ]
  },
  {
   "cell_type": "code",
   "execution_count": 31,
   "id": "db73b1bc-0ea9-49ac-b89c-05bdf3cf4c1c",
   "metadata": {},
   "outputs": [
    {
     "data": {
      "text/html": [
       "<table class=\"dataframe\">\n",
       "<caption>A tibble: 2 × 17</caption>\n",
       "<thead>\n",
       "\t<tr><th scope=col>sex</th><th scope=col>LL0</th><th scope=col>LLmod_score2</th><th scope=col>LLmod_score2clus</th><th scope=col>NVmod_score2</th><th scope=col>NVmod_score2clus</th><th scope=col>LRTstat</th><th scope=col>LRTdf</th><th scope=col>LRTp</th><th scope=col>AdeqInd</th><th scope=col>Cmod_score2</th><th scope=col>Cmodse_score2</th><th scope=col>Cmod_score2clus</th><th scope=col>Cmodse_score2clus</th><th scope=col>Cdiff</th><th scope=col>Cdiffse</th><th scope=col>Cdiffp</th></tr>\n",
       "\t<tr><th scope=col>&lt;chr&gt;</th><th scope=col>&lt;dbl&gt;</th><th scope=col>&lt;dbl&gt;</th><th scope=col>&lt;dbl&gt;</th><th scope=col>&lt;dbl&gt;</th><th scope=col>&lt;dbl&gt;</th><th scope=col>&lt;dbl&gt;</th><th scope=col>&lt;dbl&gt;</th><th scope=col>&lt;dbl&gt;</th><th scope=col>&lt;dbl&gt;</th><th scope=col>&lt;dbl&gt;</th><th scope=col>&lt;dbl&gt;</th><th scope=col>&lt;dbl&gt;</th><th scope=col>&lt;dbl&gt;</th><th scope=col>&lt;dbl&gt;</th><th scope=col>&lt;dbl&gt;</th><th scope=col>&lt;dbl&gt;</th></tr>\n",
       "</thead>\n",
       "<tbody>\n",
       "\t<tr><td>Female</td><td>-32431.04</td><td>-31447.77</td><td>-31438.68</td><td>29</td><td>34</td><td>18.17871</td><td>5</td><td>2.730575e-03</td><td>0.9908407</td><td>0.7264359</td><td>1.992463e-05</td><td>0.7269904</td><td>1.992463e-05</td><td>-0.0005545383</td><td>0.0004228024</td><td>0.189662633</td></tr>\n",
       "\t<tr><td>Male  </td><td>-53605.73</td><td>-52508.64</td><td>-52487.42</td><td>29</td><td>33</td><td>42.45329</td><td>4</td><td>1.343569e-08</td><td>0.9810191</td><td>0.6852298</td><td>1.245548e-05</td><td>0.6868959</td><td>1.245548e-05</td><td>-0.0016661126</td><td>0.0005453441</td><td>0.002249415</td></tr>\n",
       "</tbody>\n",
       "</table>\n"
      ],
      "text/latex": [
       "A tibble: 2 × 17\n",
       "\\begin{tabular}{lllllllllllllllll}\n",
       " sex & LL0 & LLmod\\_score2 & LLmod\\_score2clus & NVmod\\_score2 & NVmod\\_score2clus & LRTstat & LRTdf & LRTp & AdeqInd & Cmod\\_score2 & Cmodse\\_score2 & Cmod\\_score2clus & Cmodse\\_score2clus & Cdiff & Cdiffse & Cdiffp\\\\\n",
       " <chr> & <dbl> & <dbl> & <dbl> & <dbl> & <dbl> & <dbl> & <dbl> & <dbl> & <dbl> & <dbl> & <dbl> & <dbl> & <dbl> & <dbl> & <dbl> & <dbl>\\\\\n",
       "\\hline\n",
       "\t Female & -32431.04 & -31447.77 & -31438.68 & 29 & 34 & 18.17871 & 5 & 2.730575e-03 & 0.9908407 & 0.7264359 & 1.992463e-05 & 0.7269904 & 1.992463e-05 & -0.0005545383 & 0.0004228024 & 0.189662633\\\\\n",
       "\t Male   & -53605.73 & -52508.64 & -52487.42 & 29 & 33 & 42.45329 & 4 & 1.343569e-08 & 0.9810191 & 0.6852298 & 1.245548e-05 & 0.6868959 & 1.245548e-05 & -0.0016661126 & 0.0005453441 & 0.002249415\\\\\n",
       "\\end{tabular}\n"
      ],
      "text/markdown": [
       "\n",
       "A tibble: 2 × 17\n",
       "\n",
       "| sex &lt;chr&gt; | LL0 &lt;dbl&gt; | LLmod_score2 &lt;dbl&gt; | LLmod_score2clus &lt;dbl&gt; | NVmod_score2 &lt;dbl&gt; | NVmod_score2clus &lt;dbl&gt; | LRTstat &lt;dbl&gt; | LRTdf &lt;dbl&gt; | LRTp &lt;dbl&gt; | AdeqInd &lt;dbl&gt; | Cmod_score2 &lt;dbl&gt; | Cmodse_score2 &lt;dbl&gt; | Cmod_score2clus &lt;dbl&gt; | Cmodse_score2clus &lt;dbl&gt; | Cdiff &lt;dbl&gt; | Cdiffse &lt;dbl&gt; | Cdiffp &lt;dbl&gt; |\n",
       "|---|---|---|---|---|---|---|---|---|---|---|---|---|---|---|---|---|\n",
       "| Female | -32431.04 | -31447.77 | -31438.68 | 29 | 34 | 18.17871 | 5 | 2.730575e-03 | 0.9908407 | 0.7264359 | 1.992463e-05 | 0.7269904 | 1.992463e-05 | -0.0005545383 | 0.0004228024 | 0.189662633 |\n",
       "| Male   | -53605.73 | -52508.64 | -52487.42 | 29 | 33 | 42.45329 | 4 | 1.343569e-08 | 0.9810191 | 0.6852298 | 1.245548e-05 | 0.6868959 | 1.245548e-05 | -0.0016661126 | 0.0005453441 | 0.002249415 |\n",
       "\n"
      ],
      "text/plain": [
       "  sex    LL0       LLmod_score2 LLmod_score2clus NVmod_score2 NVmod_score2clus\n",
       "1 Female -32431.04 -31447.77    -31438.68        29           34              \n",
       "2 Male   -53605.73 -52508.64    -52487.42        29           33              \n",
       "  LRTstat  LRTdf LRTp         AdeqInd   Cmod_score2 Cmodse_score2\n",
       "1 18.17871 5     2.730575e-03 0.9908407 0.7264359   1.992463e-05 \n",
       "2 42.45329 4     1.343569e-08 0.9810191 0.6852298   1.245548e-05 \n",
       "  Cmod_score2clus Cmodse_score2clus Cdiff         Cdiffse      Cdiffp     \n",
       "1 0.7269904       1.992463e-05      -0.0005545383 0.0004228024 0.189662633\n",
       "2 0.6868959       1.245548e-05      -0.0016661126 0.0005453441 0.002249415"
      ]
     },
     "metadata": {},
     "output_type": "display_data"
    }
   ],
   "source": [
    "compmodmacedf <- comparemodsmace(coxmodmacedf)\n",
    "compmodmacedf"
   ]
  },
  {
   "cell_type": "markdown",
   "id": "537d791e-90dd-4578-bf6c-ebe927f11b85",
   "metadata": {},
   "source": [
    "Some details of these columns:"
   ]
  },
  {
   "cell_type": "markdown",
   "id": "c5c07a2d-3bed-413f-a679-695a01cc8b38",
   "metadata": {},
   "source": [
    "- `LRTp` is the p-value of the likelihood ratio test comparing models with or without cluster allocations.\n",
    "- `AdeqInd` is the adequacy index comparing likelihood ratios of the two models. 1 minus this value represent the fraction of added information by cluster allocation.\n",
    "- `cdiffp` is the p-value of the difference between c-statistics of the two models."
   ]
  },
  {
   "cell_type": "markdown",
   "id": "9278fcbd-e3d2-46d5-8aa2-93c0fffaf35a",
   "metadata": {},
   "source": [
    "While p-values of both the likelihood ratio tests and the difference between C-statistics show evidence of added value, the adequacy index quantifies how much additional information is obtained when cluster allocations are added on top of common biomarkers contained the SCORE2."
   ]
  },
  {
   "cell_type": "markdown",
   "id": "eba7a514-c501-4e9a-a259-b8197ff0faa0",
   "metadata": {},
   "source": [
    "#### Adequacy index by cluster"
   ]
  },
  {
   "cell_type": "markdown",
   "id": "af2331f4-6ace-4d09-96af-ab8c451d49da",
   "metadata": {},
   "source": [
    "Next we quantify how much is the added value of the new model to each cluster. We do this by recalculating the log likelihood of each model but this time weighting individuals by their cluster probabilities. "
   ]
  },
  {
   "cell_type": "code",
   "execution_count": 32,
   "id": "6c33294e-a8d7-4bb2-9165-5140982126c3",
   "metadata": {},
   "outputs": [],
   "source": [
    "adeqindbyclusmace <- AdeqIndClusMACEFx(coxmodmacedf)"
   ]
  },
  {
   "cell_type": "code",
   "execution_count": 33,
   "id": "a65006e6-a660-4828-bb37-a341f4335e68",
   "metadata": {},
   "outputs": [
    {
     "data": {
      "text/html": [
       "<table class=\"dataframe\">\n",
       "<caption>A tibble: 11 × 3</caption>\n",
       "<thead>\n",
       "\t<tr><th scope=col>sex</th><th scope=col>Cluster</th><th scope=col>AdeqInd</th></tr>\n",
       "\t<tr><th scope=col>&lt;chr&gt;</th><th scope=col>&lt;chr&gt;</th><th scope=col>&lt;dbl&gt;</th></tr>\n",
       "</thead>\n",
       "<tbody>\n",
       "\t<tr><td>Female</td><td>probBC </td><td>0.9948141</td></tr>\n",
       "\t<tr><td>Female</td><td>probDHT</td><td>0.9894939</td></tr>\n",
       "\t<tr><td>Female</td><td>probDAL</td><td>1.0000000</td></tr>\n",
       "\t<tr><td>Female</td><td>probDLT</td><td>0.9925278</td></tr>\n",
       "\t<tr><td>Female</td><td>probDIS</td><td>0.9680502</td></tr>\n",
       "\t<tr><td>Female</td><td>probDHG</td><td>0.9718811</td></tr>\n",
       "\t<tr><td>Male  </td><td>probBC </td><td>0.9920569</td></tr>\n",
       "\t<tr><td>Male  </td><td>probDAL</td><td>0.9501901</td></tr>\n",
       "\t<tr><td>Male  </td><td>probDLT</td><td>0.9795781</td></tr>\n",
       "\t<tr><td>Male  </td><td>probDIS</td><td>0.9077753</td></tr>\n",
       "\t<tr><td>Male  </td><td>probDHG</td><td>1.0000000</td></tr>\n",
       "</tbody>\n",
       "</table>\n"
      ],
      "text/latex": [
       "A tibble: 11 × 3\n",
       "\\begin{tabular}{lll}\n",
       " sex & Cluster & AdeqInd\\\\\n",
       " <chr> & <chr> & <dbl>\\\\\n",
       "\\hline\n",
       "\t Female & probBC  & 0.9948141\\\\\n",
       "\t Female & probDHT & 0.9894939\\\\\n",
       "\t Female & probDAL & 1.0000000\\\\\n",
       "\t Female & probDLT & 0.9925278\\\\\n",
       "\t Female & probDIS & 0.9680502\\\\\n",
       "\t Female & probDHG & 0.9718811\\\\\n",
       "\t Male   & probBC  & 0.9920569\\\\\n",
       "\t Male   & probDAL & 0.9501901\\\\\n",
       "\t Male   & probDLT & 0.9795781\\\\\n",
       "\t Male   & probDIS & 0.9077753\\\\\n",
       "\t Male   & probDHG & 1.0000000\\\\\n",
       "\\end{tabular}\n"
      ],
      "text/markdown": [
       "\n",
       "A tibble: 11 × 3\n",
       "\n",
       "| sex &lt;chr&gt; | Cluster &lt;chr&gt; | AdeqInd &lt;dbl&gt; |\n",
       "|---|---|---|\n",
       "| Female | probBC  | 0.9948141 |\n",
       "| Female | probDHT | 0.9894939 |\n",
       "| Female | probDAL | 1.0000000 |\n",
       "| Female | probDLT | 0.9925278 |\n",
       "| Female | probDIS | 0.9680502 |\n",
       "| Female | probDHG | 0.9718811 |\n",
       "| Male   | probBC  | 0.9920569 |\n",
       "| Male   | probDAL | 0.9501901 |\n",
       "| Male   | probDLT | 0.9795781 |\n",
       "| Male   | probDIS | 0.9077753 |\n",
       "| Male   | probDHG | 1.0000000 |\n",
       "\n"
      ],
      "text/plain": [
       "   sex    Cluster AdeqInd  \n",
       "1  Female probBC  0.9948141\n",
       "2  Female probDHT 0.9894939\n",
       "3  Female probDAL 1.0000000\n",
       "4  Female probDLT 0.9925278\n",
       "5  Female probDIS 0.9680502\n",
       "6  Female probDHG 0.9718811\n",
       "7  Male   probBC  0.9920569\n",
       "8  Male   probDAL 0.9501901\n",
       "9  Male   probDLT 0.9795781\n",
       "10 Male   probDIS 0.9077753\n",
       "11 Male   probDHG 1.0000000"
      ]
     },
     "metadata": {},
     "output_type": "display_data"
    }
   ],
   "source": [
    "adeqindbyclusmace"
   ]
  },
  {
   "cell_type": "markdown",
   "id": "e7049bc3-8dd7-4567-8ed0-4950e113864e",
   "metadata": {},
   "source": [
    "#### Adequacy index by SCORE2 probabilities"
   ]
  },
  {
   "cell_type": "markdown",
   "id": "377d0856-2ff4-41f3-8ffd-cde4d7a15d28",
   "metadata": {},
   "source": [
    "We will also assess the adequacy index in individuals over certain thresholds of 10-year probability of MACE calculated by SCORE2. This is to have an idea of the utility of adding cluster allocation information across the scale of SCALE2."
   ]
  },
  {
   "cell_type": "code",
   "execution_count": 34,
   "id": "c02a86bc-4286-4ea2-a90d-657c7fb86bb2",
   "metadata": {},
   "outputs": [],
   "source": [
    "adeqindbypremace <- AdeqIndByPreMACEFx(coxmodmacedf)"
   ]
  },
  {
   "cell_type": "code",
   "execution_count": 35,
   "id": "4fa5c127-c204-4254-b906-69ade3d5a5e3",
   "metadata": {},
   "outputs": [
    {
     "data": {
      "text/html": [
       "<table class=\"dataframe\">\n",
       "<caption>A tibble: 12 × 3</caption>\n",
       "<thead>\n",
       "\t<tr><th scope=col>sex</th><th scope=col>threshold</th><th scope=col>AdeqInd</th></tr>\n",
       "\t<tr><th scope=col>&lt;chr&gt;</th><th scope=col>&lt;chr&gt;</th><th scope=col>&lt;dbl&gt;</th></tr>\n",
       "</thead>\n",
       "<tbody>\n",
       "\t<tr><td>Female</td><td>0   </td><td>0.9908407</td></tr>\n",
       "\t<tr><td>Female</td><td>0.05</td><td>0.9544240</td></tr>\n",
       "\t<tr><td>Female</td><td>0.1 </td><td>0.7869291</td></tr>\n",
       "\t<tr><td>Female</td><td>0.15</td><td>0.4383541</td></tr>\n",
       "\t<tr><td>Female</td><td>0.2 </td><td>0.7576286</td></tr>\n",
       "\t<tr><td>Female</td><td>0.25</td><td>0.7010158</td></tr>\n",
       "\t<tr><td>Male  </td><td>0   </td><td>0.9810191</td></tr>\n",
       "\t<tr><td>Male  </td><td>0.05</td><td>0.9491618</td></tr>\n",
       "\t<tr><td>Male  </td><td>0.1 </td><td>0.8630751</td></tr>\n",
       "\t<tr><td>Male  </td><td>0.15</td><td>0.7697056</td></tr>\n",
       "\t<tr><td>Male  </td><td>0.2 </td><td>0.7769828</td></tr>\n",
       "\t<tr><td>Male  </td><td>0.25</td><td>0.9189144</td></tr>\n",
       "</tbody>\n",
       "</table>\n"
      ],
      "text/latex": [
       "A tibble: 12 × 3\n",
       "\\begin{tabular}{lll}\n",
       " sex & threshold & AdeqInd\\\\\n",
       " <chr> & <chr> & <dbl>\\\\\n",
       "\\hline\n",
       "\t Female & 0    & 0.9908407\\\\\n",
       "\t Female & 0.05 & 0.9544240\\\\\n",
       "\t Female & 0.1  & 0.7869291\\\\\n",
       "\t Female & 0.15 & 0.4383541\\\\\n",
       "\t Female & 0.2  & 0.7576286\\\\\n",
       "\t Female & 0.25 & 0.7010158\\\\\n",
       "\t Male   & 0    & 0.9810191\\\\\n",
       "\t Male   & 0.05 & 0.9491618\\\\\n",
       "\t Male   & 0.1  & 0.8630751\\\\\n",
       "\t Male   & 0.15 & 0.7697056\\\\\n",
       "\t Male   & 0.2  & 0.7769828\\\\\n",
       "\t Male   & 0.25 & 0.9189144\\\\\n",
       "\\end{tabular}\n"
      ],
      "text/markdown": [
       "\n",
       "A tibble: 12 × 3\n",
       "\n",
       "| sex &lt;chr&gt; | threshold &lt;chr&gt; | AdeqInd &lt;dbl&gt; |\n",
       "|---|---|---|\n",
       "| Female | 0    | 0.9908407 |\n",
       "| Female | 0.05 | 0.9544240 |\n",
       "| Female | 0.1  | 0.7869291 |\n",
       "| Female | 0.15 | 0.4383541 |\n",
       "| Female | 0.2  | 0.7576286 |\n",
       "| Female | 0.25 | 0.7010158 |\n",
       "| Male   | 0    | 0.9810191 |\n",
       "| Male   | 0.05 | 0.9491618 |\n",
       "| Male   | 0.1  | 0.8630751 |\n",
       "| Male   | 0.15 | 0.7697056 |\n",
       "| Male   | 0.2  | 0.7769828 |\n",
       "| Male   | 0.25 | 0.9189144 |\n",
       "\n"
      ],
      "text/plain": [
       "   sex    threshold AdeqInd  \n",
       "1  Female 0         0.9908407\n",
       "2  Female 0.05      0.9544240\n",
       "3  Female 0.1       0.7869291\n",
       "4  Female 0.15      0.4383541\n",
       "5  Female 0.2       0.7576286\n",
       "6  Female 0.25      0.7010158\n",
       "7  Male   0         0.9810191\n",
       "8  Male   0.05      0.9491618\n",
       "9  Male   0.1       0.8630751\n",
       "10 Male   0.15      0.7697056\n",
       "11 Male   0.2       0.7769828\n",
       "12 Male   0.25      0.9189144"
      ]
     },
     "metadata": {},
     "output_type": "display_data"
    }
   ],
   "source": [
    "adeqindbypremace"
   ]
  },
  {
   "cell_type": "markdown",
   "id": "ccd9194b-ba07-4aff-a1b7-96b2cbc964bf",
   "metadata": {},
   "source": [
    "#### Decision curve analysis"
   ]
  },
  {
   "cell_type": "markdown",
   "id": "4f5a9d88-9bef-4a31-81f6-dbee280b826d",
   "metadata": {},
   "source": [
    "The last step in assessing clinical utility of clustering allocations is to perform a decision curve analysis. First we will assess the overall net benefit of both models:"
   ]
  },
  {
   "cell_type": "code",
   "execution_count": 36,
   "id": "0c66afc6-abe9-4581-8a25-2af59f5a8015",
   "metadata": {},
   "outputs": [
    {
     "data": {
      "text/html": [
       "<table class=\"dataframe\">\n",
       "<caption>A tibble: 6 × 9</caption>\n",
       "<thead>\n",
       "\t<tr><th scope=col>sex</th><th scope=col>pred</th><th scope=col>n</th><th scope=col>threshold</th><th scope=col>pos_rate</th><th scope=col>tp_rate</th><th scope=col>fp_rate</th><th scope=col>net_benefit</th><th scope=col>net_intervention_avoided</th></tr>\n",
       "\t<tr><th scope=col>&lt;chr&gt;</th><th scope=col>&lt;chr&gt;</th><th scope=col>&lt;dbl&gt;</th><th scope=col>&lt;dbl&gt;</th><th scope=col>&lt;dbl&gt;</th><th scope=col>&lt;dbl&gt;</th><th scope=col>&lt;dbl&gt;</th><th scope=col>&lt;dbl&gt;</th><th scope=col>&lt;dbl&gt;</th></tr>\n",
       "</thead>\n",
       "<tbody>\n",
       "\t<tr><td>Female</td><td>score2_y</td><td>73378</td><td>0.00</td><td>0.04662649</td><td>0.04662649</td><td>0.9533735</td><td>0.04662649</td><td>       NaN</td></tr>\n",
       "\t<tr><td>Female</td><td>score2_y</td><td>73378</td><td>0.01</td><td>0.04662649</td><td>0.04589481</td><td>0.8266147</td><td>0.03754517</td><td>0.05432287</td></tr>\n",
       "\t<tr><td>Female</td><td>score2_y</td><td>73378</td><td>0.02</td><td>0.04662649</td><td>0.04369676</td><td>0.6703592</td><td>0.03001596</td><td>0.13945778</td></tr>\n",
       "\t<tr><td>Female</td><td>score2_y</td><td>73378</td><td>0.03</td><td>0.04662649</td><td>0.04079859</td><td>0.5411470</td><td>0.02406208</td><td>0.22379113</td></tr>\n",
       "\t<tr><td>Female</td><td>score2_y</td><td>73378</td><td>0.04</td><td>0.04662649</td><td>0.03676295</td><td>0.4268229</td><td>0.01897866</td><td>0.28982569</td></tr>\n",
       "\t<tr><td>Female</td><td>score2_y</td><td>73378</td><td>0.05</td><td>0.04662649</td><td>0.03215872</td><td>0.3282218</td><td>0.01488389</td><td>0.35026414</td></tr>\n",
       "</tbody>\n",
       "</table>\n"
      ],
      "text/latex": [
       "A tibble: 6 × 9\n",
       "\\begin{tabular}{lllllllll}\n",
       " sex & pred & n & threshold & pos\\_rate & tp\\_rate & fp\\_rate & net\\_benefit & net\\_intervention\\_avoided\\\\\n",
       " <chr> & <chr> & <dbl> & <dbl> & <dbl> & <dbl> & <dbl> & <dbl> & <dbl>\\\\\n",
       "\\hline\n",
       "\t Female & score2\\_y & 73378 & 0.00 & 0.04662649 & 0.04662649 & 0.9533735 & 0.04662649 &        NaN\\\\\n",
       "\t Female & score2\\_y & 73378 & 0.01 & 0.04662649 & 0.04589481 & 0.8266147 & 0.03754517 & 0.05432287\\\\\n",
       "\t Female & score2\\_y & 73378 & 0.02 & 0.04662649 & 0.04369676 & 0.6703592 & 0.03001596 & 0.13945778\\\\\n",
       "\t Female & score2\\_y & 73378 & 0.03 & 0.04662649 & 0.04079859 & 0.5411470 & 0.02406208 & 0.22379113\\\\\n",
       "\t Female & score2\\_y & 73378 & 0.04 & 0.04662649 & 0.03676295 & 0.4268229 & 0.01897866 & 0.28982569\\\\\n",
       "\t Female & score2\\_y & 73378 & 0.05 & 0.04662649 & 0.03215872 & 0.3282218 & 0.01488389 & 0.35026414\\\\\n",
       "\\end{tabular}\n"
      ],
      "text/markdown": [
       "\n",
       "A tibble: 6 × 9\n",
       "\n",
       "| sex &lt;chr&gt; | pred &lt;chr&gt; | n &lt;dbl&gt; | threshold &lt;dbl&gt; | pos_rate &lt;dbl&gt; | tp_rate &lt;dbl&gt; | fp_rate &lt;dbl&gt; | net_benefit &lt;dbl&gt; | net_intervention_avoided &lt;dbl&gt; |\n",
       "|---|---|---|---|---|---|---|---|---|\n",
       "| Female | score2_y | 73378 | 0.00 | 0.04662649 | 0.04662649 | 0.9533735 | 0.04662649 |        NaN |\n",
       "| Female | score2_y | 73378 | 0.01 | 0.04662649 | 0.04589481 | 0.8266147 | 0.03754517 | 0.05432287 |\n",
       "| Female | score2_y | 73378 | 0.02 | 0.04662649 | 0.04369676 | 0.6703592 | 0.03001596 | 0.13945778 |\n",
       "| Female | score2_y | 73378 | 0.03 | 0.04662649 | 0.04079859 | 0.5411470 | 0.02406208 | 0.22379113 |\n",
       "| Female | score2_y | 73378 | 0.04 | 0.04662649 | 0.03676295 | 0.4268229 | 0.01897866 | 0.28982569 |\n",
       "| Female | score2_y | 73378 | 0.05 | 0.04662649 | 0.03215872 | 0.3282218 | 0.01488389 | 0.35026414 |\n",
       "\n"
      ],
      "text/plain": [
       "  sex    pred     n     threshold pos_rate   tp_rate    fp_rate   net_benefit\n",
       "1 Female score2_y 73378 0.00      0.04662649 0.04662649 0.9533735 0.04662649 \n",
       "2 Female score2_y 73378 0.01      0.04662649 0.04589481 0.8266147 0.03754517 \n",
       "3 Female score2_y 73378 0.02      0.04662649 0.04369676 0.6703592 0.03001596 \n",
       "4 Female score2_y 73378 0.03      0.04662649 0.04079859 0.5411470 0.02406208 \n",
       "5 Female score2_y 73378 0.04      0.04662649 0.03676295 0.4268229 0.01897866 \n",
       "6 Female score2_y 73378 0.05      0.04662649 0.03215872 0.3282218 0.01488389 \n",
       "  net_intervention_avoided\n",
       "1        NaN              \n",
       "2 0.05432287              \n",
       "3 0.13945778              \n",
       "4 0.22379113              \n",
       "5 0.28982569              \n",
       "6 0.35026414              "
      ]
     },
     "metadata": {},
     "output_type": "display_data"
    }
   ],
   "source": [
    "dcamace <- DCurvMACEFx(coxmodmacedf)\n",
    "head(dcamace)"
   ]
  },
  {
   "cell_type": "markdown",
   "id": "5a3bb803-79c3-40ac-99c5-3d28967c3684",
   "metadata": {},
   "source": [
    "We will also calculate this by cluster:"
   ]
  },
  {
   "cell_type": "code",
   "execution_count": 37,
   "id": "2f8d5b8a-04d7-4e77-b129-e91737c9cd86",
   "metadata": {},
   "outputs": [],
   "source": [
    "dcaclusmace <- DCurvMACEbyClFx(coxmodmacedf)"
   ]
  },
  {
   "cell_type": "code",
   "execution_count": 38,
   "id": "2169269c-8608-495c-b186-51e50bbfff92",
   "metadata": {},
   "outputs": [
    {
     "data": {
      "text/html": [
       "<table class=\"dataframe\">\n",
       "<caption>A tibble: 6 × 10</caption>\n",
       "<thead>\n",
       "\t<tr><th scope=col>sex</th><th scope=col>Cluster</th><th scope=col>pred</th><th scope=col>n</th><th scope=col>threshold</th><th scope=col>pos_rate</th><th scope=col>tp_rate</th><th scope=col>fp_rate</th><th scope=col>net_benefit</th><th scope=col>net_intervention_avoided</th></tr>\n",
       "\t<tr><th scope=col>&lt;chr&gt;</th><th scope=col>&lt;chr&gt;</th><th scope=col>&lt;chr&gt;</th><th scope=col>&lt;dbl&gt;</th><th scope=col>&lt;dbl&gt;</th><th scope=col>&lt;dbl&gt;</th><th scope=col>&lt;dbl&gt;</th><th scope=col>&lt;dbl&gt;</th><th scope=col>&lt;dbl&gt;</th><th scope=col>&lt;dbl&gt;</th></tr>\n",
       "</thead>\n",
       "<tbody>\n",
       "\t<tr><td>Female</td><td>probBC</td><td>score2_y</td><td>55802.39</td><td>0.00</td><td>0.04412461</td><td>0.04412461</td><td>0.9558754</td><td>0.04412461</td><td>       NaN</td></tr>\n",
       "\t<tr><td>Female</td><td>probBC</td><td>score2_y</td><td>55802.39</td><td>0.01</td><td>0.04412461</td><td>0.04335271</td><td>0.8127846</td><td>0.03514277</td><td>0.06667229</td></tr>\n",
       "\t<tr><td>Female</td><td>probBC</td><td>score2_y</td><td>55802.39</td><td>0.02</td><td>0.04412461</td><td>0.04095128</td><td>0.6476071</td><td>0.02773481</td><td>0.15277488</td></tr>\n",
       "\t<tr><td>Female</td><td>probBC</td><td>score2_y</td><td>55802.39</td><td>0.03</td><td>0.04412461</td><td>0.03813883</td><td>0.5140207</td><td>0.02224128</td><td>0.24831430</td></tr>\n",
       "\t<tr><td>Female</td><td>probBC</td><td>score2_y</td><td>55802.39</td><td>0.04</td><td>0.04412461</td><td>0.03393073</td><td>0.3977704</td><td>0.01735696</td><td>0.31345161</td></tr>\n",
       "\t<tr><td>Female</td><td>probBC</td><td>score2_y</td><td>55802.39</td><td>0.05</td><td>0.04412461</td><td>0.02939634</td><td>0.3004757</td><td>0.01358183</td><td>0.37556248</td></tr>\n",
       "</tbody>\n",
       "</table>\n"
      ],
      "text/latex": [
       "A tibble: 6 × 10\n",
       "\\begin{tabular}{llllllllll}\n",
       " sex & Cluster & pred & n & threshold & pos\\_rate & tp\\_rate & fp\\_rate & net\\_benefit & net\\_intervention\\_avoided\\\\\n",
       " <chr> & <chr> & <chr> & <dbl> & <dbl> & <dbl> & <dbl> & <dbl> & <dbl> & <dbl>\\\\\n",
       "\\hline\n",
       "\t Female & probBC & score2\\_y & 55802.39 & 0.00 & 0.04412461 & 0.04412461 & 0.9558754 & 0.04412461 &        NaN\\\\\n",
       "\t Female & probBC & score2\\_y & 55802.39 & 0.01 & 0.04412461 & 0.04335271 & 0.8127846 & 0.03514277 & 0.06667229\\\\\n",
       "\t Female & probBC & score2\\_y & 55802.39 & 0.02 & 0.04412461 & 0.04095128 & 0.6476071 & 0.02773481 & 0.15277488\\\\\n",
       "\t Female & probBC & score2\\_y & 55802.39 & 0.03 & 0.04412461 & 0.03813883 & 0.5140207 & 0.02224128 & 0.24831430\\\\\n",
       "\t Female & probBC & score2\\_y & 55802.39 & 0.04 & 0.04412461 & 0.03393073 & 0.3977704 & 0.01735696 & 0.31345161\\\\\n",
       "\t Female & probBC & score2\\_y & 55802.39 & 0.05 & 0.04412461 & 0.02939634 & 0.3004757 & 0.01358183 & 0.37556248\\\\\n",
       "\\end{tabular}\n"
      ],
      "text/markdown": [
       "\n",
       "A tibble: 6 × 10\n",
       "\n",
       "| sex &lt;chr&gt; | Cluster &lt;chr&gt; | pred &lt;chr&gt; | n &lt;dbl&gt; | threshold &lt;dbl&gt; | pos_rate &lt;dbl&gt; | tp_rate &lt;dbl&gt; | fp_rate &lt;dbl&gt; | net_benefit &lt;dbl&gt; | net_intervention_avoided &lt;dbl&gt; |\n",
       "|---|---|---|---|---|---|---|---|---|---|\n",
       "| Female | probBC | score2_y | 55802.39 | 0.00 | 0.04412461 | 0.04412461 | 0.9558754 | 0.04412461 |        NaN |\n",
       "| Female | probBC | score2_y | 55802.39 | 0.01 | 0.04412461 | 0.04335271 | 0.8127846 | 0.03514277 | 0.06667229 |\n",
       "| Female | probBC | score2_y | 55802.39 | 0.02 | 0.04412461 | 0.04095128 | 0.6476071 | 0.02773481 | 0.15277488 |\n",
       "| Female | probBC | score2_y | 55802.39 | 0.03 | 0.04412461 | 0.03813883 | 0.5140207 | 0.02224128 | 0.24831430 |\n",
       "| Female | probBC | score2_y | 55802.39 | 0.04 | 0.04412461 | 0.03393073 | 0.3977704 | 0.01735696 | 0.31345161 |\n",
       "| Female | probBC | score2_y | 55802.39 | 0.05 | 0.04412461 | 0.02939634 | 0.3004757 | 0.01358183 | 0.37556248 |\n",
       "\n"
      ],
      "text/plain": [
       "  sex    Cluster pred     n        threshold pos_rate   tp_rate    fp_rate  \n",
       "1 Female probBC  score2_y 55802.39 0.00      0.04412461 0.04412461 0.9558754\n",
       "2 Female probBC  score2_y 55802.39 0.01      0.04412461 0.04335271 0.8127846\n",
       "3 Female probBC  score2_y 55802.39 0.02      0.04412461 0.04095128 0.6476071\n",
       "4 Female probBC  score2_y 55802.39 0.03      0.04412461 0.03813883 0.5140207\n",
       "5 Female probBC  score2_y 55802.39 0.04      0.04412461 0.03393073 0.3977704\n",
       "6 Female probBC  score2_y 55802.39 0.05      0.04412461 0.02939634 0.3004757\n",
       "  net_benefit net_intervention_avoided\n",
       "1 0.04412461         NaN              \n",
       "2 0.03514277  0.06667229              \n",
       "3 0.02773481  0.15277488              \n",
       "4 0.02224128  0.24831430              \n",
       "5 0.01735696  0.31345161              \n",
       "6 0.01358183  0.37556248              "
      ]
     },
     "metadata": {},
     "output_type": "display_data"
    }
   ],
   "source": [
    "head(dcaclusmace)"
   ]
  },
  {
   "cell_type": "markdown",
   "id": "e53058f7-a1d3-48ba-95cf-53f486e2430b",
   "metadata": {},
   "source": [
    "### Diabetes"
   ]
  },
  {
   "cell_type": "markdown",
   "id": "54dd476a-f6d3-417b-9aab-109b85a07bc4",
   "metadata": {},
   "source": [
    "For diabetes progression, the reference model will include fasting glucose, in addition to all the components of the metabolic syndrome that we already have included in our input table. And as before, the second model will include cluster probabilities."
   ]
  },
  {
   "cell_type": "markdown",
   "id": "682fff51-5da9-476a-9d0d-2c6228768d48",
   "metadata": {},
   "source": [
    "#### Fitting models"
   ]
  },
  {
   "cell_type": "code",
   "execution_count": 39,
   "id": "67e137ed-d848-4957-8f70-f87bc173a467",
   "metadata": {},
   "outputs": [],
   "source": [
    "coxmoddmdf <- coxmodelsdm(alldat)"
   ]
  },
  {
   "cell_type": "code",
   "execution_count": 40,
   "id": "b77af672-5de7-4f8c-ae70-0f5ad7bbe8b8",
   "metadata": {},
   "outputs": [
    {
     "name": "stdout",
     "output_type": "stream",
     "text": [
      "\u001b[90m# A tibble: 2 x 6\u001b[39m\n",
      "  sex    dmdf                   baseclus mod_null   mod_base mod_baseclus\n",
      "  \u001b[3m\u001b[90m<chr>\u001b[39m\u001b[23m  \u001b[3m\u001b[90m<list>\u001b[39m\u001b[23m                 \u001b[3m\u001b[90m<list>\u001b[39m\u001b[23m   \u001b[3m\u001b[90m<list>\u001b[39m\u001b[23m     \u001b[3m\u001b[90m<list>\u001b[39m\u001b[23m   \u001b[3m\u001b[90m<list>\u001b[39m\u001b[23m      \n",
      "\u001b[90m1\u001b[39m Female \u001b[90m<tibble [34,581 x 37]>\u001b[39m \u001b[90m<tibble>\u001b[39m \u001b[90m<cxph.nll>\u001b[39m \u001b[90m<coxph>\u001b[39m  \u001b[90m<coxph>\u001b[39m     \n",
      "\u001b[90m2\u001b[39m Male   \u001b[90m<tibble [29,006 x 36]>\u001b[39m \u001b[90m<tibble>\u001b[39m \u001b[90m<cxph.nll>\u001b[39m \u001b[90m<coxph>\u001b[39m  \u001b[90m<coxph>\u001b[39m     \n"
     ]
    }
   ],
   "source": [
    "print(coxmoddmdf)"
   ]
  },
  {
   "cell_type": "markdown",
   "id": "8a864c0d-3d18-471a-8c24-8fe07c5bfdcb",
   "metadata": {},
   "source": [
    "#### Coefficient estimates"
   ]
  },
  {
   "cell_type": "code",
   "execution_count": 41,
   "id": "91454885-70e5-4c3d-b12c-8c7ccda8996f",
   "metadata": {},
   "outputs": [],
   "source": [
    "dmsurvcoefs <- dmsurvcoefx(coxmoddmdf)"
   ]
  },
  {
   "cell_type": "code",
   "execution_count": 42,
   "id": "c28fc093-fdd5-400c-b990-5f8ea2be315a",
   "metadata": {},
   "outputs": [
    {
     "data": {
      "text/html": [
       "<table class=\"dataframe\">\n",
       "<caption>A tibble: 6 × 5</caption>\n",
       "<thead>\n",
       "\t<tr><th scope=col>sex</th><th scope=col>model</th><th scope=col>term</th><th scope=col>estimate</th><th scope=col>se</th></tr>\n",
       "\t<tr><th scope=col>&lt;chr&gt;</th><th scope=col>&lt;chr&gt;</th><th scope=col>&lt;chr&gt;</th><th scope=col>&lt;dbl&gt;</th><th scope=col>&lt;dbl&gt;</th></tr>\n",
       "</thead>\n",
       "<tbody>\n",
       "\t<tr><td>Female</td><td>base</td><td>whr</td><td> 6.1386758297</td><td>0.448697839</td></tr>\n",
       "\t<tr><td>Female</td><td>base</td><td>sbp</td><td> 0.0051523055</td><td>0.002125225</td></tr>\n",
       "\t<tr><td>Female</td><td>base</td><td>dbp</td><td> 0.0052238998</td><td>0.004000151</td></tr>\n",
       "\t<tr><td>Female</td><td>base</td><td>alt</td><td> 0.0213193397</td><td>0.002098734</td></tr>\n",
       "\t<tr><td>Female</td><td>base</td><td>scr</td><td>-0.0004285693</td><td>0.002460233</td></tr>\n",
       "\t<tr><td>Female</td><td>base</td><td>crp</td><td> 0.0662471889</td><td>0.006247497</td></tr>\n",
       "</tbody>\n",
       "</table>\n"
      ],
      "text/latex": [
       "A tibble: 6 × 5\n",
       "\\begin{tabular}{lllll}\n",
       " sex & model & term & estimate & se\\\\\n",
       " <chr> & <chr> & <chr> & <dbl> & <dbl>\\\\\n",
       "\\hline\n",
       "\t Female & base & whr &  6.1386758297 & 0.448697839\\\\\n",
       "\t Female & base & sbp &  0.0051523055 & 0.002125225\\\\\n",
       "\t Female & base & dbp &  0.0052238998 & 0.004000151\\\\\n",
       "\t Female & base & alt &  0.0213193397 & 0.002098734\\\\\n",
       "\t Female & base & scr & -0.0004285693 & 0.002460233\\\\\n",
       "\t Female & base & crp &  0.0662471889 & 0.006247497\\\\\n",
       "\\end{tabular}\n"
      ],
      "text/markdown": [
       "\n",
       "A tibble: 6 × 5\n",
       "\n",
       "| sex &lt;chr&gt; | model &lt;chr&gt; | term &lt;chr&gt; | estimate &lt;dbl&gt; | se &lt;dbl&gt; |\n",
       "|---|---|---|---|---|\n",
       "| Female | base | whr |  6.1386758297 | 0.448697839 |\n",
       "| Female | base | sbp |  0.0051523055 | 0.002125225 |\n",
       "| Female | base | dbp |  0.0052238998 | 0.004000151 |\n",
       "| Female | base | alt |  0.0213193397 | 0.002098734 |\n",
       "| Female | base | scr | -0.0004285693 | 0.002460233 |\n",
       "| Female | base | crp |  0.0662471889 | 0.006247497 |\n",
       "\n"
      ],
      "text/plain": [
       "  sex    model term estimate      se         \n",
       "1 Female base  whr   6.1386758297 0.448697839\n",
       "2 Female base  sbp   0.0051523055 0.002125225\n",
       "3 Female base  dbp   0.0052238998 0.004000151\n",
       "4 Female base  alt   0.0213193397 0.002098734\n",
       "5 Female base  scr  -0.0004285693 0.002460233\n",
       "6 Female base  crp   0.0662471889 0.006247497"
      ]
     },
     "metadata": {},
     "output_type": "display_data"
    }
   ],
   "source": [
    "head(dmsurvcoefs)"
   ]
  },
  {
   "cell_type": "markdown",
   "id": "8e9b2f93-ec29-482a-9a05-a10838e9d338",
   "metadata": {},
   "source": [
    "#### Comparison of predictive ability"
   ]
  },
  {
   "cell_type": "code",
   "execution_count": 43,
   "id": "1cc23aac-d194-4711-ae4f-38a81a7336fd",
   "metadata": {},
   "outputs": [
    {
     "data": {
      "text/html": [
       "<table class=\"dataframe\">\n",
       "<caption>A tibble: 2 × 17</caption>\n",
       "<thead>\n",
       "\t<tr><th scope=col>sex</th><th scope=col>LL0</th><th scope=col>LLmod_base</th><th scope=col>LLmod_baseclus</th><th scope=col>NVmod_base</th><th scope=col>NVmod_baseclus</th><th scope=col>LRTstat</th><th scope=col>LRTdf</th><th scope=col>LRTp</th><th scope=col>AdeqInd</th><th scope=col>Cmod_base</th><th scope=col>Cmodse_base</th><th scope=col>Cmod_baseclus</th><th scope=col>Cmodse_baseclus</th><th scope=col>Cdiff</th><th scope=col>Cdiffse</th><th scope=col>Cdiffp</th></tr>\n",
       "\t<tr><th scope=col>&lt;chr&gt;</th><th scope=col>&lt;dbl&gt;</th><th scope=col>&lt;dbl&gt;</th><th scope=col>&lt;dbl&gt;</th><th scope=col>&lt;dbl&gt;</th><th scope=col>&lt;dbl&gt;</th><th scope=col>&lt;dbl&gt;</th><th scope=col>&lt;dbl&gt;</th><th scope=col>&lt;dbl&gt;</th><th scope=col>&lt;dbl&gt;</th><th scope=col>&lt;dbl&gt;</th><th scope=col>&lt;dbl&gt;</th><th scope=col>&lt;dbl&gt;</th><th scope=col>&lt;dbl&gt;</th><th scope=col>&lt;dbl&gt;</th><th scope=col>&lt;dbl&gt;</th><th scope=col>&lt;dbl&gt;</th></tr>\n",
       "</thead>\n",
       "<tbody>\n",
       "\t<tr><td>Female</td><td>-12041.25</td><td>-10977.42</td><td>-10949.17</td><td>21</td><td>26</td><td>56.50309</td><td>5</td><td>6.401543e-11</td><td>0.9741306</td><td>0.8449716</td><td>2.89836e-05</td><td>0.8473597</td><td>2.89836e-05</td><td>-0.002388193</td><td>0.0009235356</td><td>0.0097118291</td></tr>\n",
       "\t<tr><td>Male  </td><td>-16105.26</td><td>-14928.39</td><td>-14913.04</td><td>21</td><td>25</td><td>30.70650</td><td>4</td><td>3.513763e-06</td><td>0.9871222</td><td>0.8106764</td><td>2.69697e-05</td><td>0.8130544</td><td>2.69697e-05</td><td>-0.002377953</td><td>0.0006716014</td><td>0.0003990354</td></tr>\n",
       "</tbody>\n",
       "</table>\n"
      ],
      "text/latex": [
       "A tibble: 2 × 17\n",
       "\\begin{tabular}{lllllllllllllllll}\n",
       " sex & LL0 & LLmod\\_base & LLmod\\_baseclus & NVmod\\_base & NVmod\\_baseclus & LRTstat & LRTdf & LRTp & AdeqInd & Cmod\\_base & Cmodse\\_base & Cmod\\_baseclus & Cmodse\\_baseclus & Cdiff & Cdiffse & Cdiffp\\\\\n",
       " <chr> & <dbl> & <dbl> & <dbl> & <dbl> & <dbl> & <dbl> & <dbl> & <dbl> & <dbl> & <dbl> & <dbl> & <dbl> & <dbl> & <dbl> & <dbl> & <dbl>\\\\\n",
       "\\hline\n",
       "\t Female & -12041.25 & -10977.42 & -10949.17 & 21 & 26 & 56.50309 & 5 & 6.401543e-11 & 0.9741306 & 0.8449716 & 2.89836e-05 & 0.8473597 & 2.89836e-05 & -0.002388193 & 0.0009235356 & 0.0097118291\\\\\n",
       "\t Male   & -16105.26 & -14928.39 & -14913.04 & 21 & 25 & 30.70650 & 4 & 3.513763e-06 & 0.9871222 & 0.8106764 & 2.69697e-05 & 0.8130544 & 2.69697e-05 & -0.002377953 & 0.0006716014 & 0.0003990354\\\\\n",
       "\\end{tabular}\n"
      ],
      "text/markdown": [
       "\n",
       "A tibble: 2 × 17\n",
       "\n",
       "| sex &lt;chr&gt; | LL0 &lt;dbl&gt; | LLmod_base &lt;dbl&gt; | LLmod_baseclus &lt;dbl&gt; | NVmod_base &lt;dbl&gt; | NVmod_baseclus &lt;dbl&gt; | LRTstat &lt;dbl&gt; | LRTdf &lt;dbl&gt; | LRTp &lt;dbl&gt; | AdeqInd &lt;dbl&gt; | Cmod_base &lt;dbl&gt; | Cmodse_base &lt;dbl&gt; | Cmod_baseclus &lt;dbl&gt; | Cmodse_baseclus &lt;dbl&gt; | Cdiff &lt;dbl&gt; | Cdiffse &lt;dbl&gt; | Cdiffp &lt;dbl&gt; |\n",
       "|---|---|---|---|---|---|---|---|---|---|---|---|---|---|---|---|---|\n",
       "| Female | -12041.25 | -10977.42 | -10949.17 | 21 | 26 | 56.50309 | 5 | 6.401543e-11 | 0.9741306 | 0.8449716 | 2.89836e-05 | 0.8473597 | 2.89836e-05 | -0.002388193 | 0.0009235356 | 0.0097118291 |\n",
       "| Male   | -16105.26 | -14928.39 | -14913.04 | 21 | 25 | 30.70650 | 4 | 3.513763e-06 | 0.9871222 | 0.8106764 | 2.69697e-05 | 0.8130544 | 2.69697e-05 | -0.002377953 | 0.0006716014 | 0.0003990354 |\n",
       "\n"
      ],
      "text/plain": [
       "  sex    LL0       LLmod_base LLmod_baseclus NVmod_base NVmod_baseclus LRTstat \n",
       "1 Female -12041.25 -10977.42  -10949.17      21         26             56.50309\n",
       "2 Male   -16105.26 -14928.39  -14913.04      21         25             30.70650\n",
       "  LRTdf LRTp         AdeqInd   Cmod_base Cmodse_base Cmod_baseclus\n",
       "1 5     6.401543e-11 0.9741306 0.8449716 2.89836e-05 0.8473597    \n",
       "2 4     3.513763e-06 0.9871222 0.8106764 2.69697e-05 0.8130544    \n",
       "  Cmodse_baseclus Cdiff        Cdiffse      Cdiffp      \n",
       "1 2.89836e-05     -0.002388193 0.0009235356 0.0097118291\n",
       "2 2.69697e-05     -0.002377953 0.0006716014 0.0003990354"
      ]
     },
     "metadata": {},
     "output_type": "display_data"
    }
   ],
   "source": [
    "compmoddmdf <- comparemodsdm(coxmoddmdf)\n",
    "compmoddmdf"
   ]
  },
  {
   "cell_type": "markdown",
   "id": "e76a0bfd-1b8b-4a02-bd71-e5c61b44b67a",
   "metadata": {},
   "source": [
    "#### Adequacy index by cluster"
   ]
  },
  {
   "cell_type": "code",
   "execution_count": 44,
   "id": "36c10542-6e08-46a6-ac24-87593715e5ec",
   "metadata": {},
   "outputs": [],
   "source": [
    "adeqindbyclusdm <- AdeqIndClusDMFx(coxmoddmdf)"
   ]
  },
  {
   "cell_type": "code",
   "execution_count": 45,
   "id": "0006b0f9-51f0-42bf-b38a-dcdabddd6a40",
   "metadata": {},
   "outputs": [
    {
     "data": {
      "text/html": [
       "<table class=\"dataframe\">\n",
       "<caption>A tibble: 11 × 3</caption>\n",
       "<thead>\n",
       "\t<tr><th scope=col>sex</th><th scope=col>Cluster</th><th scope=col>AdeqInd</th></tr>\n",
       "\t<tr><th scope=col>&lt;chr&gt;</th><th scope=col>&lt;chr&gt;</th><th scope=col>&lt;dbl&gt;</th></tr>\n",
       "</thead>\n",
       "<tbody>\n",
       "\t<tr><td>Female</td><td>probBC </td><td>0.9844923</td></tr>\n",
       "\t<tr><td>Female</td><td>probDHT</td><td>0.9629648</td></tr>\n",
       "\t<tr><td>Female</td><td>probDAL</td><td>1.0000000</td></tr>\n",
       "\t<tr><td>Female</td><td>probDLT</td><td>0.9627108</td></tr>\n",
       "\t<tr><td>Female</td><td>probDIS</td><td>0.9504234</td></tr>\n",
       "\t<tr><td>Female</td><td>probDHG</td><td>1.0000000</td></tr>\n",
       "\t<tr><td>Male  </td><td>probBC </td><td>0.9848789</td></tr>\n",
       "\t<tr><td>Male  </td><td>probDAL</td><td>0.9896813</td></tr>\n",
       "\t<tr><td>Male  </td><td>probDLT</td><td>1.0000000</td></tr>\n",
       "\t<tr><td>Male  </td><td>probDIS</td><td>1.0000000</td></tr>\n",
       "\t<tr><td>Male  </td><td>probDHG</td><td>1.0000000</td></tr>\n",
       "</tbody>\n",
       "</table>\n"
      ],
      "text/latex": [
       "A tibble: 11 × 3\n",
       "\\begin{tabular}{lll}\n",
       " sex & Cluster & AdeqInd\\\\\n",
       " <chr> & <chr> & <dbl>\\\\\n",
       "\\hline\n",
       "\t Female & probBC  & 0.9844923\\\\\n",
       "\t Female & probDHT & 0.9629648\\\\\n",
       "\t Female & probDAL & 1.0000000\\\\\n",
       "\t Female & probDLT & 0.9627108\\\\\n",
       "\t Female & probDIS & 0.9504234\\\\\n",
       "\t Female & probDHG & 1.0000000\\\\\n",
       "\t Male   & probBC  & 0.9848789\\\\\n",
       "\t Male   & probDAL & 0.9896813\\\\\n",
       "\t Male   & probDLT & 1.0000000\\\\\n",
       "\t Male   & probDIS & 1.0000000\\\\\n",
       "\t Male   & probDHG & 1.0000000\\\\\n",
       "\\end{tabular}\n"
      ],
      "text/markdown": [
       "\n",
       "A tibble: 11 × 3\n",
       "\n",
       "| sex &lt;chr&gt; | Cluster &lt;chr&gt; | AdeqInd &lt;dbl&gt; |\n",
       "|---|---|---|\n",
       "| Female | probBC  | 0.9844923 |\n",
       "| Female | probDHT | 0.9629648 |\n",
       "| Female | probDAL | 1.0000000 |\n",
       "| Female | probDLT | 0.9627108 |\n",
       "| Female | probDIS | 0.9504234 |\n",
       "| Female | probDHG | 1.0000000 |\n",
       "| Male   | probBC  | 0.9848789 |\n",
       "| Male   | probDAL | 0.9896813 |\n",
       "| Male   | probDLT | 1.0000000 |\n",
       "| Male   | probDIS | 1.0000000 |\n",
       "| Male   | probDHG | 1.0000000 |\n",
       "\n"
      ],
      "text/plain": [
       "   sex    Cluster AdeqInd  \n",
       "1  Female probBC  0.9844923\n",
       "2  Female probDHT 0.9629648\n",
       "3  Female probDAL 1.0000000\n",
       "4  Female probDLT 0.9627108\n",
       "5  Female probDIS 0.9504234\n",
       "6  Female probDHG 1.0000000\n",
       "7  Male   probBC  0.9848789\n",
       "8  Male   probDAL 0.9896813\n",
       "9  Male   probDLT 1.0000000\n",
       "10 Male   probDIS 1.0000000\n",
       "11 Male   probDHG 1.0000000"
      ]
     },
     "metadata": {},
     "output_type": "display_data"
    }
   ],
   "source": [
    "adeqindbyclusdm"
   ]
  },
  {
   "cell_type": "markdown",
   "id": "046b66d8-6b34-443b-8cd0-8202a580df02",
   "metadata": {},
   "source": [
    "#### Adequacy index by probabilities of base model"
   ]
  },
  {
   "cell_type": "code",
   "execution_count": 46,
   "id": "22dd6f5e-3948-4e6c-88c7-7f34628d70ef",
   "metadata": {},
   "outputs": [],
   "source": [
    "adeqindbypredm <- AdeqIndByPreDMFx(coxmoddmdf)"
   ]
  },
  {
   "cell_type": "code",
   "execution_count": 47,
   "id": "b03517ed-dba2-4f00-80e4-2bc6e116f659",
   "metadata": {},
   "outputs": [
    {
     "data": {
      "text/html": [
       "<table class=\"dataframe\">\n",
       "<caption>A tibble: 12 × 3</caption>\n",
       "<thead>\n",
       "\t<tr><th scope=col>sex</th><th scope=col>threshold</th><th scope=col>AdeqInd</th></tr>\n",
       "\t<tr><th scope=col>&lt;chr&gt;</th><th scope=col>&lt;chr&gt;</th><th scope=col>&lt;dbl&gt;</th></tr>\n",
       "</thead>\n",
       "<tbody>\n",
       "\t<tr><td>Female</td><td>0   </td><td>0.9741306</td></tr>\n",
       "\t<tr><td>Female</td><td>0.05</td><td>0.8825301</td></tr>\n",
       "\t<tr><td>Female</td><td>0.1 </td><td>0.8424337</td></tr>\n",
       "\t<tr><td>Female</td><td>0.15</td><td>0.8596839</td></tr>\n",
       "\t<tr><td>Female</td><td>0.2 </td><td>0.9020960</td></tr>\n",
       "\t<tr><td>Female</td><td>0.25</td><td>1.0000000</td></tr>\n",
       "\t<tr><td>Male  </td><td>0   </td><td>0.9871222</td></tr>\n",
       "\t<tr><td>Male  </td><td>0.05</td><td>0.9675628</td></tr>\n",
       "\t<tr><td>Male  </td><td>0.1 </td><td>0.9911908</td></tr>\n",
       "\t<tr><td>Male  </td><td>0.15</td><td>0.9988630</td></tr>\n",
       "\t<tr><td>Male  </td><td>0.2 </td><td>0.9969075</td></tr>\n",
       "\t<tr><td>Male  </td><td>0.25</td><td>1.0000000</td></tr>\n",
       "</tbody>\n",
       "</table>\n"
      ],
      "text/latex": [
       "A tibble: 12 × 3\n",
       "\\begin{tabular}{lll}\n",
       " sex & threshold & AdeqInd\\\\\n",
       " <chr> & <chr> & <dbl>\\\\\n",
       "\\hline\n",
       "\t Female & 0    & 0.9741306\\\\\n",
       "\t Female & 0.05 & 0.8825301\\\\\n",
       "\t Female & 0.1  & 0.8424337\\\\\n",
       "\t Female & 0.15 & 0.8596839\\\\\n",
       "\t Female & 0.2  & 0.9020960\\\\\n",
       "\t Female & 0.25 & 1.0000000\\\\\n",
       "\t Male   & 0    & 0.9871222\\\\\n",
       "\t Male   & 0.05 & 0.9675628\\\\\n",
       "\t Male   & 0.1  & 0.9911908\\\\\n",
       "\t Male   & 0.15 & 0.9988630\\\\\n",
       "\t Male   & 0.2  & 0.9969075\\\\\n",
       "\t Male   & 0.25 & 1.0000000\\\\\n",
       "\\end{tabular}\n"
      ],
      "text/markdown": [
       "\n",
       "A tibble: 12 × 3\n",
       "\n",
       "| sex &lt;chr&gt; | threshold &lt;chr&gt; | AdeqInd &lt;dbl&gt; |\n",
       "|---|---|---|\n",
       "| Female | 0    | 0.9741306 |\n",
       "| Female | 0.05 | 0.8825301 |\n",
       "| Female | 0.1  | 0.8424337 |\n",
       "| Female | 0.15 | 0.8596839 |\n",
       "| Female | 0.2  | 0.9020960 |\n",
       "| Female | 0.25 | 1.0000000 |\n",
       "| Male   | 0    | 0.9871222 |\n",
       "| Male   | 0.05 | 0.9675628 |\n",
       "| Male   | 0.1  | 0.9911908 |\n",
       "| Male   | 0.15 | 0.9988630 |\n",
       "| Male   | 0.2  | 0.9969075 |\n",
       "| Male   | 0.25 | 1.0000000 |\n",
       "\n"
      ],
      "text/plain": [
       "   sex    threshold AdeqInd  \n",
       "1  Female 0         0.9741306\n",
       "2  Female 0.05      0.8825301\n",
       "3  Female 0.1       0.8424337\n",
       "4  Female 0.15      0.8596839\n",
       "5  Female 0.2       0.9020960\n",
       "6  Female 0.25      1.0000000\n",
       "7  Male   0         0.9871222\n",
       "8  Male   0.05      0.9675628\n",
       "9  Male   0.1       0.9911908\n",
       "10 Male   0.15      0.9988630\n",
       "11 Male   0.2       0.9969075\n",
       "12 Male   0.25      1.0000000"
      ]
     },
     "metadata": {},
     "output_type": "display_data"
    }
   ],
   "source": [
    "adeqindbypredm"
   ]
  },
  {
   "cell_type": "markdown",
   "id": "547f83ef-e6c4-45ba-8d7d-2ce6c5a121bf",
   "metadata": {},
   "source": [
    "#### Decision curve analysis"
   ]
  },
  {
   "cell_type": "markdown",
   "id": "f373cf28-6edf-4453-8b9d-4ff3def7812d",
   "metadata": {},
   "source": [
    "The last step in assessing clinical utility of clustering allocations is to perform a decision curve analysis. First we will assess the overall net benefit of both models:"
   ]
  },
  {
   "cell_type": "code",
   "execution_count": 48,
   "id": "974e0504-e210-4412-8a11-80902d070469",
   "metadata": {},
   "outputs": [
    {
     "data": {
      "text/html": [
       "<table class=\"dataframe\">\n",
       "<caption>A tibble: 6 × 9</caption>\n",
       "<thead>\n",
       "\t<tr><th scope=col>sex</th><th scope=col>pred</th><th scope=col>n</th><th scope=col>threshold</th><th scope=col>pos_rate</th><th scope=col>tp_rate</th><th scope=col>fp_rate</th><th scope=col>net_benefit</th><th scope=col>net_intervention_avoided</th></tr>\n",
       "\t<tr><th scope=col>&lt;chr&gt;</th><th scope=col>&lt;chr&gt;</th><th scope=col>&lt;dbl&gt;</th><th scope=col>&lt;dbl&gt;</th><th scope=col>&lt;dbl&gt;</th><th scope=col>&lt;dbl&gt;</th><th scope=col>&lt;dbl&gt;</th><th scope=col>&lt;dbl&gt;</th><th scope=col>&lt;dbl&gt;</th></tr>\n",
       "</thead>\n",
       "<tbody>\n",
       "\t<tr><td>Female</td><td>base_y</td><td>34581</td><td>0.00</td><td>0.03580024</td><td>0.03580024</td><td>0.9641998</td><td>0.03580024</td><td>      NaN</td></tr>\n",
       "\t<tr><td>Female</td><td>base_y</td><td>34581</td><td>0.01</td><td>0.03580024</td><td>0.03446519</td><td>0.5931916</td><td>0.02847335</td><td>0.2388374</td></tr>\n",
       "\t<tr><td>Female</td><td>base_y</td><td>34581</td><td>0.02</td><td>0.03580024</td><td>0.03221275</td><td>0.3839696</td><td>0.02437663</td><td>0.4044428</td></tr>\n",
       "\t<tr><td>Female</td><td>base_y</td><td>34581</td><td>0.03</td><td>0.03580024</td><td>0.02939749</td><td>0.2699576</td><td>0.02104828</td><td>0.4872197</td></tr>\n",
       "\t<tr><td>Female</td><td>base_y</td><td>34581</td><td>0.04</td><td>0.03580024</td><td>0.02651286</td><td>0.2035846</td><td>0.01803017</td><td>0.5377179</td></tr>\n",
       "\t<tr><td>Female</td><td>base_y</td><td>34581</td><td>0.05</td><td>0.03580024</td><td>0.02445338</td><td>0.1594337</td><td>0.01606213</td><td>0.5891756</td></tr>\n",
       "</tbody>\n",
       "</table>\n"
      ],
      "text/latex": [
       "A tibble: 6 × 9\n",
       "\\begin{tabular}{lllllllll}\n",
       " sex & pred & n & threshold & pos\\_rate & tp\\_rate & fp\\_rate & net\\_benefit & net\\_intervention\\_avoided\\\\\n",
       " <chr> & <chr> & <dbl> & <dbl> & <dbl> & <dbl> & <dbl> & <dbl> & <dbl>\\\\\n",
       "\\hline\n",
       "\t Female & base\\_y & 34581 & 0.00 & 0.03580024 & 0.03580024 & 0.9641998 & 0.03580024 &       NaN\\\\\n",
       "\t Female & base\\_y & 34581 & 0.01 & 0.03580024 & 0.03446519 & 0.5931916 & 0.02847335 & 0.2388374\\\\\n",
       "\t Female & base\\_y & 34581 & 0.02 & 0.03580024 & 0.03221275 & 0.3839696 & 0.02437663 & 0.4044428\\\\\n",
       "\t Female & base\\_y & 34581 & 0.03 & 0.03580024 & 0.02939749 & 0.2699576 & 0.02104828 & 0.4872197\\\\\n",
       "\t Female & base\\_y & 34581 & 0.04 & 0.03580024 & 0.02651286 & 0.2035846 & 0.01803017 & 0.5377179\\\\\n",
       "\t Female & base\\_y & 34581 & 0.05 & 0.03580024 & 0.02445338 & 0.1594337 & 0.01606213 & 0.5891756\\\\\n",
       "\\end{tabular}\n"
      ],
      "text/markdown": [
       "\n",
       "A tibble: 6 × 9\n",
       "\n",
       "| sex &lt;chr&gt; | pred &lt;chr&gt; | n &lt;dbl&gt; | threshold &lt;dbl&gt; | pos_rate &lt;dbl&gt; | tp_rate &lt;dbl&gt; | fp_rate &lt;dbl&gt; | net_benefit &lt;dbl&gt; | net_intervention_avoided &lt;dbl&gt; |\n",
       "|---|---|---|---|---|---|---|---|---|\n",
       "| Female | base_y | 34581 | 0.00 | 0.03580024 | 0.03580024 | 0.9641998 | 0.03580024 |       NaN |\n",
       "| Female | base_y | 34581 | 0.01 | 0.03580024 | 0.03446519 | 0.5931916 | 0.02847335 | 0.2388374 |\n",
       "| Female | base_y | 34581 | 0.02 | 0.03580024 | 0.03221275 | 0.3839696 | 0.02437663 | 0.4044428 |\n",
       "| Female | base_y | 34581 | 0.03 | 0.03580024 | 0.02939749 | 0.2699576 | 0.02104828 | 0.4872197 |\n",
       "| Female | base_y | 34581 | 0.04 | 0.03580024 | 0.02651286 | 0.2035846 | 0.01803017 | 0.5377179 |\n",
       "| Female | base_y | 34581 | 0.05 | 0.03580024 | 0.02445338 | 0.1594337 | 0.01606213 | 0.5891756 |\n",
       "\n"
      ],
      "text/plain": [
       "  sex    pred   n     threshold pos_rate   tp_rate    fp_rate   net_benefit\n",
       "1 Female base_y 34581 0.00      0.03580024 0.03580024 0.9641998 0.03580024 \n",
       "2 Female base_y 34581 0.01      0.03580024 0.03446519 0.5931916 0.02847335 \n",
       "3 Female base_y 34581 0.02      0.03580024 0.03221275 0.3839696 0.02437663 \n",
       "4 Female base_y 34581 0.03      0.03580024 0.02939749 0.2699576 0.02104828 \n",
       "5 Female base_y 34581 0.04      0.03580024 0.02651286 0.2035846 0.01803017 \n",
       "6 Female base_y 34581 0.05      0.03580024 0.02445338 0.1594337 0.01606213 \n",
       "  net_intervention_avoided\n",
       "1       NaN               \n",
       "2 0.2388374               \n",
       "3 0.4044428               \n",
       "4 0.4872197               \n",
       "5 0.5377179               \n",
       "6 0.5891756               "
      ]
     },
     "metadata": {},
     "output_type": "display_data"
    }
   ],
   "source": [
    "dcadm <- DCurvDMFx(coxmoddmdf)\n",
    "head(dcadm)"
   ]
  },
  {
   "cell_type": "markdown",
   "id": "e2a0f12d-c077-4e23-aa12-15961c34cc8f",
   "metadata": {},
   "source": [
    "We will also calculate this by cluster:"
   ]
  },
  {
   "cell_type": "code",
   "execution_count": 49,
   "id": "62d5ca10-82a1-49b7-ae26-b3e5371ceabe",
   "metadata": {},
   "outputs": [],
   "source": [
    "dcaclusdm <- DCurvDMbyClFx(coxmoddmdf)"
   ]
  },
  {
   "cell_type": "code",
   "execution_count": 50,
   "id": "13096158-890f-4198-9d0e-4b5f1e193e9b",
   "metadata": {},
   "outputs": [
    {
     "data": {
      "text/html": [
       "<table class=\"dataframe\">\n",
       "<caption>A tibble: 6 × 10</caption>\n",
       "<thead>\n",
       "\t<tr><th scope=col>sex</th><th scope=col>Cluster</th><th scope=col>pred</th><th scope=col>n</th><th scope=col>threshold</th><th scope=col>pos_rate</th><th scope=col>tp_rate</th><th scope=col>fp_rate</th><th scope=col>net_benefit</th><th scope=col>net_intervention_avoided</th></tr>\n",
       "\t<tr><th scope=col>&lt;chr&gt;</th><th scope=col>&lt;chr&gt;</th><th scope=col>&lt;chr&gt;</th><th scope=col>&lt;dbl&gt;</th><th scope=col>&lt;dbl&gt;</th><th scope=col>&lt;dbl&gt;</th><th scope=col>&lt;dbl&gt;</th><th scope=col>&lt;dbl&gt;</th><th scope=col>&lt;dbl&gt;</th><th scope=col>&lt;dbl&gt;</th></tr>\n",
       "</thead>\n",
       "<tbody>\n",
       "\t<tr><td>Female</td><td>probBC</td><td>base_y</td><td>26382.99</td><td>0.00</td><td>0.03050377</td><td>0.03050377</td><td>0.9694962</td><td>0.03050377</td><td>      NaN</td></tr>\n",
       "\t<tr><td>Female</td><td>probBC</td><td>base_y</td><td>26382.99</td><td>0.01</td><td>0.03050377</td><td>0.02896888</td><td>0.5602301</td><td>0.02330999</td><td>0.2573115</td></tr>\n",
       "\t<tr><td>Female</td><td>probBC</td><td>base_y</td><td>26382.99</td><td>0.02</td><td>0.03050377</td><td>0.02652416</td><td>0.3430397</td><td>0.01952335</td><td>0.4314557</td></tr>\n",
       "\t<tr><td>Female</td><td>probBC</td><td>base_y</td><td>26382.99</td><td>0.03</td><td>0.03050377</td><td>0.02353238</td><td>0.2276125</td><td>0.01649282</td><td>0.5164753</td></tr>\n",
       "\t<tr><td>Female</td><td>probBC</td><td>base_y</td><td>26382.99</td><td>0.04</td><td>0.03050377</td><td>0.02079057</td><td>0.1642921</td><td>0.01394506</td><td>0.5720872</td></tr>\n",
       "\t<tr><td>Female</td><td>probBC</td><td>base_y</td><td>26382.99</td><td>0.05</td><td>0.03050377</td><td>0.01859647</td><td>0.1239074</td><td>0.01207502</td><td>0.6193500</td></tr>\n",
       "</tbody>\n",
       "</table>\n"
      ],
      "text/latex": [
       "A tibble: 6 × 10\n",
       "\\begin{tabular}{llllllllll}\n",
       " sex & Cluster & pred & n & threshold & pos\\_rate & tp\\_rate & fp\\_rate & net\\_benefit & net\\_intervention\\_avoided\\\\\n",
       " <chr> & <chr> & <chr> & <dbl> & <dbl> & <dbl> & <dbl> & <dbl> & <dbl> & <dbl>\\\\\n",
       "\\hline\n",
       "\t Female & probBC & base\\_y & 26382.99 & 0.00 & 0.03050377 & 0.03050377 & 0.9694962 & 0.03050377 &       NaN\\\\\n",
       "\t Female & probBC & base\\_y & 26382.99 & 0.01 & 0.03050377 & 0.02896888 & 0.5602301 & 0.02330999 & 0.2573115\\\\\n",
       "\t Female & probBC & base\\_y & 26382.99 & 0.02 & 0.03050377 & 0.02652416 & 0.3430397 & 0.01952335 & 0.4314557\\\\\n",
       "\t Female & probBC & base\\_y & 26382.99 & 0.03 & 0.03050377 & 0.02353238 & 0.2276125 & 0.01649282 & 0.5164753\\\\\n",
       "\t Female & probBC & base\\_y & 26382.99 & 0.04 & 0.03050377 & 0.02079057 & 0.1642921 & 0.01394506 & 0.5720872\\\\\n",
       "\t Female & probBC & base\\_y & 26382.99 & 0.05 & 0.03050377 & 0.01859647 & 0.1239074 & 0.01207502 & 0.6193500\\\\\n",
       "\\end{tabular}\n"
      ],
      "text/markdown": [
       "\n",
       "A tibble: 6 × 10\n",
       "\n",
       "| sex &lt;chr&gt; | Cluster &lt;chr&gt; | pred &lt;chr&gt; | n &lt;dbl&gt; | threshold &lt;dbl&gt; | pos_rate &lt;dbl&gt; | tp_rate &lt;dbl&gt; | fp_rate &lt;dbl&gt; | net_benefit &lt;dbl&gt; | net_intervention_avoided &lt;dbl&gt; |\n",
       "|---|---|---|---|---|---|---|---|---|---|\n",
       "| Female | probBC | base_y | 26382.99 | 0.00 | 0.03050377 | 0.03050377 | 0.9694962 | 0.03050377 |       NaN |\n",
       "| Female | probBC | base_y | 26382.99 | 0.01 | 0.03050377 | 0.02896888 | 0.5602301 | 0.02330999 | 0.2573115 |\n",
       "| Female | probBC | base_y | 26382.99 | 0.02 | 0.03050377 | 0.02652416 | 0.3430397 | 0.01952335 | 0.4314557 |\n",
       "| Female | probBC | base_y | 26382.99 | 0.03 | 0.03050377 | 0.02353238 | 0.2276125 | 0.01649282 | 0.5164753 |\n",
       "| Female | probBC | base_y | 26382.99 | 0.04 | 0.03050377 | 0.02079057 | 0.1642921 | 0.01394506 | 0.5720872 |\n",
       "| Female | probBC | base_y | 26382.99 | 0.05 | 0.03050377 | 0.01859647 | 0.1239074 | 0.01207502 | 0.6193500 |\n",
       "\n"
      ],
      "text/plain": [
       "  sex    Cluster pred   n        threshold pos_rate   tp_rate    fp_rate  \n",
       "1 Female probBC  base_y 26382.99 0.00      0.03050377 0.03050377 0.9694962\n",
       "2 Female probBC  base_y 26382.99 0.01      0.03050377 0.02896888 0.5602301\n",
       "3 Female probBC  base_y 26382.99 0.02      0.03050377 0.02652416 0.3430397\n",
       "4 Female probBC  base_y 26382.99 0.03      0.03050377 0.02353238 0.2276125\n",
       "5 Female probBC  base_y 26382.99 0.04      0.03050377 0.02079057 0.1642921\n",
       "6 Female probBC  base_y 26382.99 0.05      0.03050377 0.01859647 0.1239074\n",
       "  net_benefit net_intervention_avoided\n",
       "1 0.03050377        NaN               \n",
       "2 0.02330999  0.2573115               \n",
       "3 0.01952335  0.4314557               \n",
       "4 0.01649282  0.5164753               \n",
       "5 0.01394506  0.5720872               \n",
       "6 0.01207502  0.6193500               "
      ]
     },
     "metadata": {},
     "output_type": "display_data"
    }
   ],
   "source": [
    "head(dcaclusdm)"
   ]
  },
  {
   "cell_type": "markdown",
   "id": "6ba21d51-2730-4370-96dc-af40a3e946f9",
   "metadata": {},
   "source": [
    "---"
   ]
  },
  {
   "cell_type": "markdown",
   "id": "e110b0f5-7db2-449b-96fd-93dccc5c45aa",
   "metadata": {},
   "source": [
    "## Saving data"
   ]
  },
  {
   "cell_type": "markdown",
   "id": "3c4b3bbb-9e69-48d6-86ae-4c2bae1b37ae",
   "metadata": {},
   "source": [
    "As done before, we will ask you to save an R file that does not contain any individual data, only summary statistics, as follows:"
   ]
  },
  {
   "cell_type": "code",
   "execution_count": 51,
   "id": "95a7be8f-ea37-4de6-84d5-0f5f7efcf677",
   "metadata": {},
   "outputs": [],
   "source": [
    "result_file2 <- list(\n",
    "    MarkerDistrib = markerdistribdf,\n",
    "    BMIeffOnMarker = bmieffmarkerdf,\n",
    "    CountCovars = countcovarsdf,\n",
    "    CountSpecDXMeds = countspectxdf,\n",
    "    CrossSectAssoc = assocdxdf,\n",
    "    KaplanMeierDF = kmestdf,\n",
    "    MACESurvCoefs = macesurvcoefs,\n",
    "    ComparisonMACE = compmodmacedf,\n",
    "    AdeqIndByClusMACE = adeqindbyclusmace,\n",
    "    AdeqIndByPreMACE = adeqindbypremace,\n",
    "    DCAResMACE = dcamace,\n",
    "    DCAREsClusMACE = dcaclusmace,\n",
    "    DMSurvCoefs = dmsurvcoefs,\n",
    "    ComparisonDM = compmoddmdf,\n",
    "    AdeqIndByClusDM = adeqindbyclusdm,\n",
    "    AdeqIndByPreDM = adeqindbypredm,\n",
    "    DCAResDM = dcadm,\n",
    "    DCAREsClusDM = dcaclusdm\n",
    ")"
   ]
  },
  {
   "cell_type": "code",
   "execution_count": 52,
   "id": "c1279af0-dfdb-4028-bf61-52a24023c52c",
   "metadata": {},
   "outputs": [],
   "source": [
    "save(\n",
    "    result_file2,\n",
    "    file = \"../data/ukb/result_file2.RData\"\n",
    ")"
   ]
  },
  {
   "cell_type": "markdown",
   "id": "c9ad7e84-7cad-4865-ab88-33be22eb6c8e",
   "metadata": {},
   "source": [
    "This file should be uploaded to the respective folder of the cohort in Teams:"
   ]
  },
  {
   "cell_type": "markdown",
   "id": "c8cd95be-03b6-4746-926f-6973eb77ea68",
   "metadata": {},
   "source": [
    "> CrossWP > Analyst working groups > WG1 > UMAP_project > *cohort_name* > data"
   ]
  },
  {
   "cell_type": "markdown",
   "id": "5d91fdd5-7134-4b4c-8616-5cc8e6710b68",
   "metadata": {},
   "source": [
    "---"
   ]
  },
  {
   "cell_type": "markdown",
   "id": "c8640f40-4cd2-4bd6-8772-9f041dc66703",
   "metadata": {},
   "source": [
    "## References"
   ]
  },
  {
   "cell_type": "markdown",
   "id": "c49dd244-ce1d-45b7-a92d-62330e2cfbbb",
   "metadata": {},
   "source": [
    "<!-- BIBLIOGRAPHY START -->\n",
    "<div class=\"csl-bib-body\">\n",
    "  <div class=\"csl-entry\"><i id=\"zotero|10831815/ZY2CL5NC\"></i>SCORE2 working group and ESC Cardiovascular risk collaboration. (2021). SCORE2 risk prediction algorithms: new models to estimate 10-year risk of cardiovascular disease in Europe. <i>European Heart Journal</i>, <i>42</i>(25), 2439–2454. https://doi.org/10.1093/eurheartj/ehab309</div>\n",
    "  <div class=\"csl-entry\"><i id=\"zotero|10831815/FPUFQKFI\"></i>SCORE2-Diabetes Working Group and the ESC Cardiovascular Risk Collaboration. (2023). SCORE2-Diabetes: 10-year cardiovascular risk estimation in type 2 diabetes in Europe. <i>European Heart Journal</i>, ehad260. https://doi.org/10.1093/eurheartj/ehad260</div>\n",
    "</div>\n",
    "<!-- BIBLIOGRAPHY END -->"
   ]
  }
 ],
 "metadata": {
  "citation-manager": {
   "items": {
    "zotero": {
     "10831815/FPUFQKFI": {
      "DOI": "10.1093/eurheartj/ehad260",
      "URL": "https://doi.org/10.1093/eurheartj/ehad260",
      "abstract": "To develop and validate a recalibrated prediction model (SCORE2-Diabetes) to estimate the 10-year risk of cardiovascular disease (CVD) in individuals with type 2 diabetes in Europe.SCORE2-Diabetes was developed by extending SCORE2 algorithms using individual-participant data from four large-scale datasets comprising 229 460 participants (43 706 CVD events) with type 2 diabetes and without previous CVD. Sex-specific competing risk-adjusted models were used including conventional risk factors (i.e. age, smoking, systolic blood pressure, total, and HDL-cholesterol), as well as diabetes-related variables (i.e. age at diabetes diagnosis, glycated haemoglobin [HbA1c] and creatinine-based estimated glomerular filtration rate [eGFR]). Models were recalibrated to CVD incidence in four European risk regions. External validation included 217 036 further individuals (38 602 CVD events), and showed good discrimination, and improvement over SCORE2 (C-index change from 0.009 to 0.031). Regional calibration was satisfactory. SCORE2-Diabetes risk predictions varied several-fold, depending on individuals’ levels of diabetes-related factors. For example, in the moderate-risk region, the estimated 10-year CVD risk was 11% for a 60-year-old man, non-smoker, with type 2 diabetes, average conventional risk factors, HbA1c of 50 mmol/mol, eGFR of 90 mL/min/1.73 m2, and age at diabetes diagnosis of 60 years. By contrast, the estimated risk was 17% in a similar man, with HbA1c of 70 mmol/mol, eGFR of 60 mL/min/1.73 m2, and age at diabetes diagnosis of 50 years. For a woman with the same characteristics, the risk was 8% and 13%, respectively.SCORE2-Diabetes, a new algorithm developed, calibrated, and validated to predict 10-year risk of CVD in individuals with type 2 diabetes, enhances identification of individuals at higher risk of developing CVD across Europe.",
      "accessed": {
       "date-parts": [
        [
         2023,
         7,
         13
        ]
       ]
      },
      "author": [
       {
        "family": "SCORE2-Diabetes Working Group and the ESC Cardiovascular Risk Collaboration",
        "given": ""
       }
      ],
      "container-title": "European Heart Journal",
      "id": "10831815/FPUFQKFI",
      "issued": {
       "date-parts": [
        [
         2023,
         5,
         29
        ]
       ]
      },
      "journalAbbreviation": "European Heart Journal",
      "page": "ehad260",
      "shortTitle": "SCORE2-Diabetes",
      "system_id": "zotero|10831815/FPUFQKFI",
      "title": "SCORE2-Diabetes: 10-year cardiovascular risk estimation in type 2 diabetes in Europe",
      "type": "article-journal"
     },
     "10831815/ZY2CL5NC": {
      "DOI": "10.1093/eurheartj/ehab309",
      "URL": "https://doi.org/10.1093/eurheartj/ehab309",
      "abstract": "The aim of this study was to develop, validate, and illustrate an updated prediction model (SCORE2) to estimate 10-year fatal and non-fatal cardiovascular disease (CVD) risk in individuals without previous CVD or diabetes aged 40–69 years in Europe.We derived risk prediction models using individual-participant data from 45 cohorts in 13 countries (677 684 individuals, 30 121 CVD events). We used sex-specific and competing risk-adjusted models, including age, smoking status, systolic blood pressure, and total- and HDL-cholesterol. We defined four risk regions in Europe according to country-specific CVD mortality, recalibrating models to each region using expected incidences and risk factor distributions. Region-specific incidence was estimated using CVD mortality and incidence data on 10 776 466 individuals. For external validation, we analysed data from 25 additional cohorts in 15 European countries (1 133 181 individuals, 43 492 CVD events). After applying the derived risk prediction models to external validation cohorts, C-indices ranged from 0.67 (0.65–0.68) to 0.81 (0.76–0.86). Predicted CVD risk varied several-fold across European regions. For example, the estimated 10-year CVD risk for a 50-year-old smoker, with a systolic blood pressure of 140 mmHg, total cholesterol of 5.5 mmol/L, and HDL-cholesterol of 1.3 mmol/L, ranged from 5.9% for men in low-risk countries to 14.0% for men in very high-risk countries, and from 4.2% for women in low-risk countries to 13.7% for women in very high-risk countries.SCORE2—a new algorithm derived, calibrated, and validated to predict 10-year risk of first-onset CVD in European populations—enhances the identification of individuals at higher risk of developing CVD across Europe.",
      "accessed": {
       "date-parts": [
        [
         2023,
         7,
         20
        ]
       ]
      },
      "author": [
       {
        "family": "SCORE2 working group and ESC Cardiovascular risk collaboration",
        "given": ""
       }
      ],
      "container-title": "European Heart Journal",
      "id": "10831815/ZY2CL5NC",
      "issue": "25",
      "issued": {
       "date-parts": [
        [
         2021,
         7,
         1
        ]
       ]
      },
      "journalAbbreviation": "European Heart Journal",
      "page": "2439-2454",
      "shortTitle": "SCORE2 risk prediction algorithms",
      "system_id": "zotero|10831815/ZY2CL5NC",
      "title": "SCORE2 risk prediction algorithms: new models to estimate 10-year risk of cardiovascular disease in Europe",
      "type": "article-journal",
      "volume": "42"
     }
    }
   },
   "style": "apa.csl"
  },
  "kernelspec": {
   "display_name": "R",
   "language": "R",
   "name": "ir"
  },
  "language_info": {
   "codemirror_mode": "r",
   "file_extension": ".r",
   "mimetype": "text/x-r-source",
   "name": "R",
   "pygments_lexer": "r",
   "version": "4.1.2"
  }
 },
 "nbformat": 4,
 "nbformat_minor": 5
}
