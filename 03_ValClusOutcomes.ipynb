{
 "cells": [
  {
   "cell_type": "markdown",
   "id": "a96e4bf6-fb57-47af-9064-300fe9f7ad1a",
   "metadata": {},
   "source": [
    "# Cluster probabilities and outcomes"
   ]
  },
  {
   "cell_type": "markdown",
   "id": "8e469b09-3e69-422a-a048-d5c7874b6056",
   "metadata": {},
   "source": [
    "---"
   ]
  },
  {
   "cell_type": "markdown",
   "id": "8aae7afc-bc9e-4a95-94ed-86d2920fef94",
   "metadata": {},
   "source": [
    "***Authors:***\n",
    "\n",
    "- Daniel E. Coral\n",
    "\n",
    "- Femke Smit\n",
    "\n",
    "- Elena Santos\n",
    "\n",
    "- Ali Farzaneh"
   ]
  },
  {
   "cell_type": "markdown",
   "id": "9da52659-0a24-4e02-85bd-80b71d9e3d42",
   "metadata": {},
   "source": [
    "---"
   ]
  },
  {
   "cell_type": "markdown",
   "id": "bd5a2d07-103f-4959-af47-86b3c4db1908",
   "metadata": {},
   "source": [
    "In this second part of the analysis, we will examine how the clusters we have validated across cohorts are associated with prevalent diseases at the time of clustering, and also assess whether they add significant information for prediction of MACE events and diabetes progression on top  of commonly used risk stratification tools."
   ]
  },
  {
   "cell_type": "markdown",
   "id": "0e97d0be-cddc-4a4c-964c-bed92cb195fd",
   "metadata": {},
   "source": [
    "## Libraries and functions"
   ]
  },
  {
   "cell_type": "markdown",
   "id": "14bd06e9-caba-470c-939f-88c6fd4f611d",
   "metadata": {},
   "source": [
    "The libraries needed to run this analysis:"
   ]
  },
  {
   "cell_type": "code",
   "execution_count": 1,
   "id": "89ab62db-ba66-42fb-9275-84c30eab8917",
   "metadata": {},
   "outputs": [],
   "source": [
    "library(readr)\n",
    "library(dplyr, warn.conflicts = FALSE)\n",
    "library(tidyr, warn.conflicts = FALSE)\n",
    "library(purrr)\n",
    "library(survival)"
   ]
  },
  {
   "cell_type": "markdown",
   "id": "f8592ce1-9f99-49ba-a63e-283c7aa81ee9",
   "metadata": {},
   "source": [
    "And the functions we have prepared to facilitate some steps:"
   ]
  },
  {
   "cell_type": "code",
   "execution_count": 61,
   "id": "3d5998f4-9f02-4771-a739-356b79153b95",
   "metadata": {},
   "outputs": [],
   "source": [
    "source(\"cross_sectional_FX2.R\")"
   ]
  },
  {
   "cell_type": "markdown",
   "id": "aa2679b8-a140-4972-9fb5-73fba0eea2dc",
   "metadata": {},
   "source": [
    "---"
   ]
  },
  {
   "cell_type": "markdown",
   "id": "f74c2a7d-3145-4e12-9b2e-ca29e13b37ac",
   "metadata": {
    "toc-hr-collapsed": true
   },
   "source": [
    "## Loading data needed"
   ]
  },
  {
   "cell_type": "markdown",
   "id": "be5946f6-133d-4a1d-b5c5-a9b56307cc39",
   "metadata": {},
   "source": [
    "### Initial input table of biomarkers and basic covariates"
   ]
  },
  {
   "cell_type": "markdown",
   "id": "1b6e3b23-dfb9-466e-9eb8-0984e4841d19",
   "metadata": {},
   "source": [
    "The input table is the same table of 10 traits we had prior to run UMAP. Here is a description of this table:"
   ]
  },
  {
   "cell_type": "markdown",
   "id": "2e9e3531-1b99-4fb6-ad5e-201ecb455bba",
   "metadata": {},
   "source": [
    "|System targeted |Biomarker               |Units                        |Column name|\n",
    "|----------------|------------------------|-----------------------------|-----------|\n",
    "|                |                        |                             |           |\n",
    "|Individual ID   |-                       |-                            |eid        |\n",
    "|                |                        |                             |           |\n",
    "|Blood pressure  |Systolic blood pressure |millimeters of mercury (mmHg)|sbp        |\n",
    "|                |Diastolic blood pressure|millimeters of mercury (mmHg)|dbp        |\n",
    "|                |                        |                             |           |\n",
    "|Lipid fractions |High density lipoprotein|mmol/L                       |hdl        |\n",
    "|                |Low density lipoprotein |mmol/L                       |ldl        |\n",
    "|                |Tryglicerides           |mmol/L                       |tg         |\n",
    "|                |                        |                             |           |\n",
    "|Glycemia        |Fasting glucose         |mmol/L                       |fg         |\n",
    "|                |                        |                             |           |\n",
    "|Liver metabolism|Alanine transaminase    |U/L                          |alt        |\n",
    "|                |                        |                             |           |\n",
    "|Fat distribution|Waist-to-hip ratio      |cm/cm                        |whr        |\n",
    "|                |                        |                             |           |\n",
    "|Kidney function |Serum creatinine        |umol/L                       |scr        |\n",
    "|                |                        |                             |           |\n",
    "|Inflammation    |C reactive protein      |mg/L                         |crp        |\n",
    "|                |                        |                             |           |\n",
    "|Basic covariates|Current smoking status  |1 if yes, 0 if not           |smoking    |\n",
    "|                |Sex                     |String (\"Female\" or \"Male\")  |sex        |\n",
    "|                |Age                     |Years                        |age        |"
   ]
  },
  {
   "cell_type": "markdown",
   "id": "2e46c4fe-b709-42ae-a851-459836747cc7",
   "metadata": {},
   "source": [
    "***Important note:*** All columns should be there in the units required, and the names should match, so that the functions we have prepared for the analyses work properly. This is true for this and all the following tables we require for our analysis."
   ]
  },
  {
   "cell_type": "markdown",
   "id": "2bba582e-2e35-45e7-a686-783ba3501853",
   "metadata": {},
   "source": [
    "This input table has been preprocessed by:\n",
    "\n",
    "1. Filtering out values that are possible errors in measurement (>5 SD away from the mean in continuous variables).\n",
    "2. Only including complete cases.\n",
    "3. Stratifying by sex."
   ]
  },
  {
   "cell_type": "markdown",
   "id": "c2d96d06-e938-40b4-b8ad-95b30cc9c5b4",
   "metadata": {},
   "source": [
    "Here is how the input table should look like - a list of two data frames, one for each sex:"
   ]
  },
  {
   "cell_type": "code",
   "execution_count": 3,
   "id": "f64058c7-f872-431c-a2b9-fddfcb84cc87",
   "metadata": {},
   "outputs": [],
   "source": [
    "load(\"../data/ukb/strat_dat.RData\")"
   ]
  },
  {
   "cell_type": "code",
   "execution_count": 4,
   "id": "ec01f531-5c90-47fc-b50a-d84d8ec5c9bc",
   "metadata": {},
   "outputs": [
    {
     "data": {
      "text/html": [
       "<dl>\n",
       "\t<dt>$Female</dt>\n",
       "\t\t<dd><table class=\"dataframe\">\n",
       "<caption>A tibble: 6 × 15</caption>\n",
       "<thead>\n",
       "\t<tr><th scope=col>eid</th><th scope=col>age</th><th scope=col>sex</th><th scope=col>bmi</th><th scope=col>whr</th><th scope=col>sbp</th><th scope=col>dbp</th><th scope=col>alt</th><th scope=col>scr</th><th scope=col>crp</th><th scope=col>hdl</th><th scope=col>tg</th><th scope=col>ldl</th><th scope=col>fg</th><th scope=col>smoking</th></tr>\n",
       "\t<tr><th scope=col>&lt;dbl&gt;</th><th scope=col>&lt;dbl&gt;</th><th scope=col>&lt;chr&gt;</th><th scope=col>&lt;dbl&gt;</th><th scope=col>&lt;dbl&gt;</th><th scope=col>&lt;dbl&gt;</th><th scope=col>&lt;dbl&gt;</th><th scope=col>&lt;dbl&gt;</th><th scope=col>&lt;dbl&gt;</th><th scope=col>&lt;dbl&gt;</th><th scope=col>&lt;dbl&gt;</th><th scope=col>&lt;dbl&gt;</th><th scope=col>&lt;dbl&gt;</th><th scope=col>&lt;dbl&gt;</th><th scope=col>&lt;dbl&gt;</th></tr>\n",
       "</thead>\n",
       "<tbody>\n",
       "\t<tr><td>1000117</td><td>47</td><td>Female</td><td>23.8408</td><td>0.7254902</td><td>147.5</td><td> 84.0</td><td>14.07</td><td>61.0</td><td>0.24</td><td>1.972</td><td>0.591</td><td>2.252</td><td>4.395</td><td>0</td></tr>\n",
       "\t<tr><td>1000132</td><td>43</td><td>Female</td><td>35.6559</td><td>0.8403361</td><td>137.0</td><td>100.5</td><td>18.89</td><td>60.5</td><td>4.31</td><td>1.236</td><td>2.037</td><td>3.686</td><td>5.214</td><td>0</td></tr>\n",
       "\t<tr><td>1000176</td><td>69</td><td>Female</td><td>38.1271</td><td>0.8897638</td><td>137.5</td><td> 93.5</td><td>36.39</td><td>68.9</td><td>3.69</td><td>1.601</td><td>1.988</td><td>4.551</td><td>4.266</td><td>0</td></tr>\n",
       "\t<tr><td>1000223</td><td>63</td><td>Female</td><td>25.4603</td><td>0.7789474</td><td>163.0</td><td> 94.0</td><td> 6.10</td><td>67.1</td><td>1.29</td><td>1.453</td><td>2.829</td><td>3.491</td><td>5.876</td><td>0</td></tr>\n",
       "\t<tr><td>1000282</td><td>48</td><td>Female</td><td>25.4297</td><td>0.7708333</td><td>135.5</td><td> 89.0</td><td> 9.63</td><td>46.2</td><td>0.16</td><td>2.185</td><td>0.722</td><td>3.584</td><td>5.212</td><td>0</td></tr>\n",
       "\t<tr><td>1000367</td><td>42</td><td>Female</td><td>19.3280</td><td>0.6777778</td><td>107.0</td><td> 72.5</td><td> 9.34</td><td>57.1</td><td>0.69</td><td>2.346</td><td>0.395</td><td>3.072</td><td>4.649</td><td>0</td></tr>\n",
       "</tbody>\n",
       "</table>\n",
       "</dd>\n",
       "\t<dt>$Male</dt>\n",
       "\t\t<dd><table class=\"dataframe\">\n",
       "<caption>A tibble: 6 × 15</caption>\n",
       "<thead>\n",
       "\t<tr><th scope=col>eid</th><th scope=col>age</th><th scope=col>sex</th><th scope=col>bmi</th><th scope=col>whr</th><th scope=col>sbp</th><th scope=col>dbp</th><th scope=col>alt</th><th scope=col>scr</th><th scope=col>crp</th><th scope=col>hdl</th><th scope=col>tg</th><th scope=col>ldl</th><th scope=col>fg</th><th scope=col>smoking</th></tr>\n",
       "\t<tr><th scope=col>&lt;dbl&gt;</th><th scope=col>&lt;dbl&gt;</th><th scope=col>&lt;chr&gt;</th><th scope=col>&lt;dbl&gt;</th><th scope=col>&lt;dbl&gt;</th><th scope=col>&lt;dbl&gt;</th><th scope=col>&lt;dbl&gt;</th><th scope=col>&lt;dbl&gt;</th><th scope=col>&lt;dbl&gt;</th><th scope=col>&lt;dbl&gt;</th><th scope=col>&lt;dbl&gt;</th><th scope=col>&lt;dbl&gt;</th><th scope=col>&lt;dbl&gt;</th><th scope=col>&lt;dbl&gt;</th><th scope=col>&lt;dbl&gt;</th></tr>\n",
       "</thead>\n",
       "<tbody>\n",
       "\t<tr><td>1000039</td><td>44</td><td>Male</td><td>36.6959</td><td>0.9911504</td><td>124.5</td><td> 64.5</td><td>34.97</td><td>93.0</td><td> 3.60</td><td>1.158</td><td>2.800</td><td>3.956</td><td>5.427</td><td>0</td></tr>\n",
       "\t<tr><td>1000071</td><td>67</td><td>Male</td><td>39.4807</td><td>0.8857143</td><td>179.5</td><td>103.0</td><td>46.74</td><td>68.7</td><td> 9.41</td><td>1.372</td><td>1.127</td><td>2.311</td><td>7.079</td><td>0</td></tr>\n",
       "\t<tr><td>1000088</td><td>60</td><td>Male</td><td>24.2786</td><td>0.8761905</td><td>152.0</td><td> 89.0</td><td>13.14</td><td>80.6</td><td> 1.20</td><td>0.983</td><td>1.590</td><td>4.200</td><td>5.401</td><td>0</td></tr>\n",
       "\t<tr><td>1000096</td><td>41</td><td>Male</td><td>26.5744</td><td>0.9587629</td><td>143.0</td><td> 90.0</td><td>30.32</td><td>80.1</td><td> 6.13</td><td>1.041</td><td>2.713</td><td>4.029</td><td>4.239</td><td>0</td></tr>\n",
       "\t<tr><td>1000109</td><td>62</td><td>Male</td><td>33.8719</td><td>1.0818182</td><td>156.5</td><td>104.5</td><td>16.26</td><td>89.3</td><td>14.42</td><td>0.890</td><td>2.437</td><td>3.525</td><td>6.100</td><td>0</td></tr>\n",
       "\t<tr><td>1000125</td><td>66</td><td>Male</td><td>36.1100</td><td>1.0625000</td><td>155.0</td><td>102.5</td><td>25.59</td><td>88.7</td><td> 1.91</td><td>1.061</td><td>1.320</td><td>2.538</td><td>4.531</td><td>1</td></tr>\n",
       "</tbody>\n",
       "</table>\n",
       "</dd>\n",
       "</dl>\n"
      ],
      "text/latex": [
       "\\begin{description}\n",
       "\\item[\\$Female] A tibble: 6 × 15\n",
       "\\begin{tabular}{lllllllllllllll}\n",
       " eid & age & sex & bmi & whr & sbp & dbp & alt & scr & crp & hdl & tg & ldl & fg & smoking\\\\\n",
       " <dbl> & <dbl> & <chr> & <dbl> & <dbl> & <dbl> & <dbl> & <dbl> & <dbl> & <dbl> & <dbl> & <dbl> & <dbl> & <dbl> & <dbl>\\\\\n",
       "\\hline\n",
       "\t 1000117 & 47 & Female & 23.8408 & 0.7254902 & 147.5 &  84.0 & 14.07 & 61.0 & 0.24 & 1.972 & 0.591 & 2.252 & 4.395 & 0\\\\\n",
       "\t 1000132 & 43 & Female & 35.6559 & 0.8403361 & 137.0 & 100.5 & 18.89 & 60.5 & 4.31 & 1.236 & 2.037 & 3.686 & 5.214 & 0\\\\\n",
       "\t 1000176 & 69 & Female & 38.1271 & 0.8897638 & 137.5 &  93.5 & 36.39 & 68.9 & 3.69 & 1.601 & 1.988 & 4.551 & 4.266 & 0\\\\\n",
       "\t 1000223 & 63 & Female & 25.4603 & 0.7789474 & 163.0 &  94.0 &  6.10 & 67.1 & 1.29 & 1.453 & 2.829 & 3.491 & 5.876 & 0\\\\\n",
       "\t 1000282 & 48 & Female & 25.4297 & 0.7708333 & 135.5 &  89.0 &  9.63 & 46.2 & 0.16 & 2.185 & 0.722 & 3.584 & 5.212 & 0\\\\\n",
       "\t 1000367 & 42 & Female & 19.3280 & 0.6777778 & 107.0 &  72.5 &  9.34 & 57.1 & 0.69 & 2.346 & 0.395 & 3.072 & 4.649 & 0\\\\\n",
       "\\end{tabular}\n",
       "\n",
       "\\item[\\$Male] A tibble: 6 × 15\n",
       "\\begin{tabular}{lllllllllllllll}\n",
       " eid & age & sex & bmi & whr & sbp & dbp & alt & scr & crp & hdl & tg & ldl & fg & smoking\\\\\n",
       " <dbl> & <dbl> & <chr> & <dbl> & <dbl> & <dbl> & <dbl> & <dbl> & <dbl> & <dbl> & <dbl> & <dbl> & <dbl> & <dbl> & <dbl>\\\\\n",
       "\\hline\n",
       "\t 1000039 & 44 & Male & 36.6959 & 0.9911504 & 124.5 &  64.5 & 34.97 & 93.0 &  3.60 & 1.158 & 2.800 & 3.956 & 5.427 & 0\\\\\n",
       "\t 1000071 & 67 & Male & 39.4807 & 0.8857143 & 179.5 & 103.0 & 46.74 & 68.7 &  9.41 & 1.372 & 1.127 & 2.311 & 7.079 & 0\\\\\n",
       "\t 1000088 & 60 & Male & 24.2786 & 0.8761905 & 152.0 &  89.0 & 13.14 & 80.6 &  1.20 & 0.983 & 1.590 & 4.200 & 5.401 & 0\\\\\n",
       "\t 1000096 & 41 & Male & 26.5744 & 0.9587629 & 143.0 &  90.0 & 30.32 & 80.1 &  6.13 & 1.041 & 2.713 & 4.029 & 4.239 & 0\\\\\n",
       "\t 1000109 & 62 & Male & 33.8719 & 1.0818182 & 156.5 & 104.5 & 16.26 & 89.3 & 14.42 & 0.890 & 2.437 & 3.525 & 6.100 & 0\\\\\n",
       "\t 1000125 & 66 & Male & 36.1100 & 1.0625000 & 155.0 & 102.5 & 25.59 & 88.7 &  1.91 & 1.061 & 1.320 & 2.538 & 4.531 & 1\\\\\n",
       "\\end{tabular}\n",
       "\n",
       "\\end{description}\n"
      ],
      "text/markdown": [
       "$Female\n",
       ":   \n",
       "A tibble: 6 × 15\n",
       "\n",
       "| eid &lt;dbl&gt; | age &lt;dbl&gt; | sex &lt;chr&gt; | bmi &lt;dbl&gt; | whr &lt;dbl&gt; | sbp &lt;dbl&gt; | dbp &lt;dbl&gt; | alt &lt;dbl&gt; | scr &lt;dbl&gt; | crp &lt;dbl&gt; | hdl &lt;dbl&gt; | tg &lt;dbl&gt; | ldl &lt;dbl&gt; | fg &lt;dbl&gt; | smoking &lt;dbl&gt; |\n",
       "|---|---|---|---|---|---|---|---|---|---|---|---|---|---|---|\n",
       "| 1000117 | 47 | Female | 23.8408 | 0.7254902 | 147.5 |  84.0 | 14.07 | 61.0 | 0.24 | 1.972 | 0.591 | 2.252 | 4.395 | 0 |\n",
       "| 1000132 | 43 | Female | 35.6559 | 0.8403361 | 137.0 | 100.5 | 18.89 | 60.5 | 4.31 | 1.236 | 2.037 | 3.686 | 5.214 | 0 |\n",
       "| 1000176 | 69 | Female | 38.1271 | 0.8897638 | 137.5 |  93.5 | 36.39 | 68.9 | 3.69 | 1.601 | 1.988 | 4.551 | 4.266 | 0 |\n",
       "| 1000223 | 63 | Female | 25.4603 | 0.7789474 | 163.0 |  94.0 |  6.10 | 67.1 | 1.29 | 1.453 | 2.829 | 3.491 | 5.876 | 0 |\n",
       "| 1000282 | 48 | Female | 25.4297 | 0.7708333 | 135.5 |  89.0 |  9.63 | 46.2 | 0.16 | 2.185 | 0.722 | 3.584 | 5.212 | 0 |\n",
       "| 1000367 | 42 | Female | 19.3280 | 0.6777778 | 107.0 |  72.5 |  9.34 | 57.1 | 0.69 | 2.346 | 0.395 | 3.072 | 4.649 | 0 |\n",
       "\n",
       "\n",
       "$Male\n",
       ":   \n",
       "A tibble: 6 × 15\n",
       "\n",
       "| eid &lt;dbl&gt; | age &lt;dbl&gt; | sex &lt;chr&gt; | bmi &lt;dbl&gt; | whr &lt;dbl&gt; | sbp &lt;dbl&gt; | dbp &lt;dbl&gt; | alt &lt;dbl&gt; | scr &lt;dbl&gt; | crp &lt;dbl&gt; | hdl &lt;dbl&gt; | tg &lt;dbl&gt; | ldl &lt;dbl&gt; | fg &lt;dbl&gt; | smoking &lt;dbl&gt; |\n",
       "|---|---|---|---|---|---|---|---|---|---|---|---|---|---|---|\n",
       "| 1000039 | 44 | Male | 36.6959 | 0.9911504 | 124.5 |  64.5 | 34.97 | 93.0 |  3.60 | 1.158 | 2.800 | 3.956 | 5.427 | 0 |\n",
       "| 1000071 | 67 | Male | 39.4807 | 0.8857143 | 179.5 | 103.0 | 46.74 | 68.7 |  9.41 | 1.372 | 1.127 | 2.311 | 7.079 | 0 |\n",
       "| 1000088 | 60 | Male | 24.2786 | 0.8761905 | 152.0 |  89.0 | 13.14 | 80.6 |  1.20 | 0.983 | 1.590 | 4.200 | 5.401 | 0 |\n",
       "| 1000096 | 41 | Male | 26.5744 | 0.9587629 | 143.0 |  90.0 | 30.32 | 80.1 |  6.13 | 1.041 | 2.713 | 4.029 | 4.239 | 0 |\n",
       "| 1000109 | 62 | Male | 33.8719 | 1.0818182 | 156.5 | 104.5 | 16.26 | 89.3 | 14.42 | 0.890 | 2.437 | 3.525 | 6.100 | 0 |\n",
       "| 1000125 | 66 | Male | 36.1100 | 1.0625000 | 155.0 | 102.5 | 25.59 | 88.7 |  1.91 | 1.061 | 1.320 | 2.538 | 4.531 | 1 |\n",
       "\n",
       "\n",
       "\n",
       "\n"
      ],
      "text/plain": [
       "$Female\n",
       "\u001b[90m# A tibble: 6 x 15\u001b[39m\n",
       "     eid   age sex     bmi   whr   sbp   dbp   alt   scr   crp   hdl    tg   ldl\n",
       "   \u001b[3m\u001b[90m<dbl>\u001b[39m\u001b[23m \u001b[3m\u001b[90m<dbl>\u001b[39m\u001b[23m \u001b[3m\u001b[90m<chr>\u001b[39m\u001b[23m \u001b[3m\u001b[90m<dbl>\u001b[39m\u001b[23m \u001b[3m\u001b[90m<dbl>\u001b[39m\u001b[23m \u001b[3m\u001b[90m<dbl>\u001b[39m\u001b[23m \u001b[3m\u001b[90m<dbl>\u001b[39m\u001b[23m \u001b[3m\u001b[90m<dbl>\u001b[39m\u001b[23m \u001b[3m\u001b[90m<dbl>\u001b[39m\u001b[23m \u001b[3m\u001b[90m<dbl>\u001b[39m\u001b[23m \u001b[3m\u001b[90m<dbl>\u001b[39m\u001b[23m \u001b[3m\u001b[90m<dbl>\u001b[39m\u001b[23m \u001b[3m\u001b[90m<dbl>\u001b[39m\u001b[23m\n",
       "\u001b[90m1\u001b[39m 1.00\u001b[90me\u001b[39m6    47 Fema~  23.8 0.725  148.  84   14.1   61    0.24  1.97 0.591  2.25\n",
       "\u001b[90m2\u001b[39m 1.00\u001b[90me\u001b[39m6    43 Fema~  35.7 0.840  137  100.  18.9   60.5  4.31  1.24 2.04   3.69\n",
       "\u001b[90m3\u001b[39m 1.00\u001b[90me\u001b[39m6    69 Fema~  38.1 0.890  138.  93.5 36.4   68.9  3.69  1.60 1.99   4.55\n",
       "\u001b[90m4\u001b[39m 1.00\u001b[90me\u001b[39m6    63 Fema~  25.5 0.779  163   94    6.1   67.1  1.29  1.45 2.83   3.49\n",
       "\u001b[90m5\u001b[39m 1.00\u001b[90me\u001b[39m6    48 Fema~  25.4 0.771  136.  89    9.63  46.2  0.16  2.18 0.722  3.58\n",
       "\u001b[90m6\u001b[39m 1.00\u001b[90me\u001b[39m6    42 Fema~  19.3 0.678  107   72.5  9.34  57.1  0.69  2.35 0.395  3.07\n",
       "\u001b[90m# i 2 more variables: fg <dbl>, smoking <dbl>\u001b[39m\n",
       "\n",
       "$Male\n",
       "\u001b[90m# A tibble: 6 x 15\u001b[39m\n",
       "     eid   age sex     bmi   whr   sbp   dbp   alt   scr   crp   hdl    tg   ldl\n",
       "   \u001b[3m\u001b[90m<dbl>\u001b[39m\u001b[23m \u001b[3m\u001b[90m<dbl>\u001b[39m\u001b[23m \u001b[3m\u001b[90m<chr>\u001b[39m\u001b[23m \u001b[3m\u001b[90m<dbl>\u001b[39m\u001b[23m \u001b[3m\u001b[90m<dbl>\u001b[39m\u001b[23m \u001b[3m\u001b[90m<dbl>\u001b[39m\u001b[23m \u001b[3m\u001b[90m<dbl>\u001b[39m\u001b[23m \u001b[3m\u001b[90m<dbl>\u001b[39m\u001b[23m \u001b[3m\u001b[90m<dbl>\u001b[39m\u001b[23m \u001b[3m\u001b[90m<dbl>\u001b[39m\u001b[23m \u001b[3m\u001b[90m<dbl>\u001b[39m\u001b[23m \u001b[3m\u001b[90m<dbl>\u001b[39m\u001b[23m \u001b[3m\u001b[90m<dbl>\u001b[39m\u001b[23m\n",
       "\u001b[90m1\u001b[39m 1.00\u001b[90me\u001b[39m6    44 Male   36.7 0.991  124.  64.5  35.0  93    3.6  1.16   2.8   3.96\n",
       "\u001b[90m2\u001b[39m 1.00\u001b[90me\u001b[39m6    67 Male   39.5 0.886  180. 103    46.7  68.7  9.41 1.37   1.13  2.31\n",
       "\u001b[90m3\u001b[39m 1.00\u001b[90me\u001b[39m6    60 Male   24.3 0.876  152   89    13.1  80.6  1.2  0.983  1.59  4.2 \n",
       "\u001b[90m4\u001b[39m 1.00\u001b[90me\u001b[39m6    41 Male   26.6 0.959  143   90    30.3  80.1  6.13 1.04   2.71  4.03\n",
       "\u001b[90m5\u001b[39m 1.00\u001b[90me\u001b[39m6    62 Male   33.9 1.08   156. 104.   16.3  89.3 14.4  0.89   2.44  3.52\n",
       "\u001b[90m6\u001b[39m 1.00\u001b[90me\u001b[39m6    66 Male   36.1 1.06   155  102.   25.6  88.7  1.91 1.06   1.32  2.54\n",
       "\u001b[90m# i 2 more variables: fg <dbl>, smoking <dbl>\u001b[39m\n"
      ]
     },
     "metadata": {},
     "output_type": "display_data"
    }
   ],
   "source": [
    "map(strat_dat, head)"
   ]
  },
  {
   "cell_type": "markdown",
   "id": "5c8aaa77-ef81-45f6-9e36-1d72e9b417ab",
   "metadata": {},
   "source": [
    "### Table of validated clusters"
   ]
  },
  {
   "cell_type": "markdown",
   "id": "7b9a40d6-6089-4826-a1fe-4e13f22e2707",
   "metadata": {},
   "source": [
    "The second thing needed is the clusters we have validated. We have put this in an R file called `validclusmod`:"
   ]
  },
  {
   "cell_type": "code",
   "execution_count": 5,
   "id": "cf905a75-e610-4aea-9125-5ee4f18be8c4",
   "metadata": {},
   "outputs": [
    {
     "name": "stdout",
     "output_type": "stream",
     "text": [
      "\u001b[90m# A tibble: 2 x 3\u001b[39m\n",
      "  sex    residmod          clusmod         \n",
      "  \u001b[3m\u001b[90m<chr>\u001b[39m\u001b[23m  \u001b[3m\u001b[90m<list>\u001b[39m\u001b[23m            \u001b[3m\u001b[90m<list>\u001b[39m\u001b[23m          \n",
      "\u001b[90m1\u001b[39m Female \u001b[90m<tibble [10 x 6]>\u001b[39m \u001b[90m<tibble [6 x 4]>\u001b[39m\n",
      "\u001b[90m2\u001b[39m Male   \u001b[90m<tibble [10 x 6]>\u001b[39m \u001b[90m<tibble [5 x 4]>\u001b[39m\n"
     ]
    }
   ],
   "source": [
    "load(\"../data/validclusmod.RData\")\n",
    "print(validclusmod)"
   ]
  },
  {
   "cell_type": "markdown",
   "id": "1ee0e6a9-dfc4-4d6a-b61f-cc555d60573b",
   "metadata": {},
   "source": [
    "This object contais, for each sex:\n",
    "- `residmod`: The model to obtain residuals for each variable, i.e., the variability beyond what is explained by BMI, adjusting for age and smoking.\n",
    "- `clusmod`: The clustering model to apply to the residuals."
   ]
  },
  {
   "cell_type": "markdown",
   "id": "aa74e8cd-93f3-460c-b2c9-88843e636087",
   "metadata": {},
   "source": [
    "### Table of pre-existing conditions and medications"
   ]
  },
  {
   "cell_type": "markdown",
   "id": "7466c83b-f457-404c-8d8d-3abc5ca45e8f",
   "metadata": {},
   "source": [
    "The third thing we need is a table of pre-existing conditions and medications participants are currently taking:"
   ]
  },
  {
   "cell_type": "code",
   "execution_count": 6,
   "id": "a8a5b749-0923-4f74-b7f9-4193b6c0f495",
   "metadata": {},
   "outputs": [
    {
     "data": {
      "text/html": [
       "<table class=\"dataframe\">\n",
       "<caption>A tibble: 6 × 15</caption>\n",
       "<thead>\n",
       "\t<tr><th scope=col>eid</th><th scope=col>HT</th><th scope=col>CHD</th><th scope=col>Stroke</th><th scope=col>PAD</th><th scope=col>CKD</th><th scope=col>LiverFailure</th><th scope=col>RA</th><th scope=col>T2D</th><th scope=col>T1D</th><th scope=col>T2Dage</th><th scope=col>Insulin</th><th scope=col>AntiDM</th><th scope=col>AntiHT</th><th scope=col>LipidLower</th></tr>\n",
       "\t<tr><th scope=col>&lt;dbl&gt;</th><th scope=col>&lt;dbl&gt;</th><th scope=col>&lt;dbl&gt;</th><th scope=col>&lt;dbl&gt;</th><th scope=col>&lt;dbl&gt;</th><th scope=col>&lt;dbl&gt;</th><th scope=col>&lt;dbl&gt;</th><th scope=col>&lt;dbl&gt;</th><th scope=col>&lt;dbl&gt;</th><th scope=col>&lt;dbl&gt;</th><th scope=col>&lt;dbl&gt;</th><th scope=col>&lt;dbl&gt;</th><th scope=col>&lt;dbl&gt;</th><th scope=col>&lt;dbl&gt;</th><th scope=col>&lt;dbl&gt;</th></tr>\n",
       "</thead>\n",
       "<tbody>\n",
       "\t<tr><td>1000027</td><td>0</td><td>0</td><td>0</td><td>0</td><td>0</td><td>0</td><td>0</td><td>0</td><td>0</td><td> 0.0</td><td>0</td><td>0</td><td>0</td><td>0</td></tr>\n",
       "\t<tr><td>1000039</td><td>0</td><td>0</td><td>0</td><td>0</td><td>0</td><td>0</td><td>0</td><td>0</td><td>0</td><td> 0.0</td><td>0</td><td>0</td><td>0</td><td>0</td></tr>\n",
       "\t<tr><td>1000040</td><td>1</td><td>0</td><td>0</td><td>0</td><td>0</td><td>0</td><td>0</td><td>0</td><td>0</td><td> 0.0</td><td>0</td><td>0</td><td>0</td><td>0</td></tr>\n",
       "\t<tr><td>1000053</td><td>0</td><td>0</td><td>0</td><td>0</td><td>0</td><td>0</td><td>0</td><td>0</td><td>0</td><td> 0.0</td><td>0</td><td>0</td><td>0</td><td>0</td></tr>\n",
       "\t<tr><td>1000064</td><td>1</td><td>0</td><td>0</td><td>0</td><td>0</td><td>0</td><td>0</td><td>1</td><td>0</td><td>49.5</td><td>0</td><td>1</td><td>1</td><td>0</td></tr>\n",
       "\t<tr><td>1000071</td><td>1</td><td>0</td><td>0</td><td>0</td><td>0</td><td>0</td><td>0</td><td>1</td><td>0</td><td>65.5</td><td>0</td><td>0</td><td>1</td><td>1</td></tr>\n",
       "</tbody>\n",
       "</table>\n"
      ],
      "text/latex": [
       "A tibble: 6 × 15\n",
       "\\begin{tabular}{lllllllllllllll}\n",
       " eid & HT & CHD & Stroke & PAD & CKD & LiverFailure & RA & T2D & T1D & T2Dage & Insulin & AntiDM & AntiHT & LipidLower\\\\\n",
       " <dbl> & <dbl> & <dbl> & <dbl> & <dbl> & <dbl> & <dbl> & <dbl> & <dbl> & <dbl> & <dbl> & <dbl> & <dbl> & <dbl> & <dbl>\\\\\n",
       "\\hline\n",
       "\t 1000027 & 0 & 0 & 0 & 0 & 0 & 0 & 0 & 0 & 0 &  0.0 & 0 & 0 & 0 & 0\\\\\n",
       "\t 1000039 & 0 & 0 & 0 & 0 & 0 & 0 & 0 & 0 & 0 &  0.0 & 0 & 0 & 0 & 0\\\\\n",
       "\t 1000040 & 1 & 0 & 0 & 0 & 0 & 0 & 0 & 0 & 0 &  0.0 & 0 & 0 & 0 & 0\\\\\n",
       "\t 1000053 & 0 & 0 & 0 & 0 & 0 & 0 & 0 & 0 & 0 &  0.0 & 0 & 0 & 0 & 0\\\\\n",
       "\t 1000064 & 1 & 0 & 0 & 0 & 0 & 0 & 0 & 1 & 0 & 49.5 & 0 & 1 & 1 & 0\\\\\n",
       "\t 1000071 & 1 & 0 & 0 & 0 & 0 & 0 & 0 & 1 & 0 & 65.5 & 0 & 0 & 1 & 1\\\\\n",
       "\\end{tabular}\n"
      ],
      "text/markdown": [
       "\n",
       "A tibble: 6 × 15\n",
       "\n",
       "| eid &lt;dbl&gt; | HT &lt;dbl&gt; | CHD &lt;dbl&gt; | Stroke &lt;dbl&gt; | PAD &lt;dbl&gt; | CKD &lt;dbl&gt; | LiverFailure &lt;dbl&gt; | RA &lt;dbl&gt; | T2D &lt;dbl&gt; | T1D &lt;dbl&gt; | T2Dage &lt;dbl&gt; | Insulin &lt;dbl&gt; | AntiDM &lt;dbl&gt; | AntiHT &lt;dbl&gt; | LipidLower &lt;dbl&gt; |\n",
       "|---|---|---|---|---|---|---|---|---|---|---|---|---|---|---|\n",
       "| 1000027 | 0 | 0 | 0 | 0 | 0 | 0 | 0 | 0 | 0 |  0.0 | 0 | 0 | 0 | 0 |\n",
       "| 1000039 | 0 | 0 | 0 | 0 | 0 | 0 | 0 | 0 | 0 |  0.0 | 0 | 0 | 0 | 0 |\n",
       "| 1000040 | 1 | 0 | 0 | 0 | 0 | 0 | 0 | 0 | 0 |  0.0 | 0 | 0 | 0 | 0 |\n",
       "| 1000053 | 0 | 0 | 0 | 0 | 0 | 0 | 0 | 0 | 0 |  0.0 | 0 | 0 | 0 | 0 |\n",
       "| 1000064 | 1 | 0 | 0 | 0 | 0 | 0 | 0 | 1 | 0 | 49.5 | 0 | 1 | 1 | 0 |\n",
       "| 1000071 | 1 | 0 | 0 | 0 | 0 | 0 | 0 | 1 | 0 | 65.5 | 0 | 0 | 1 | 1 |\n",
       "\n"
      ],
      "text/plain": [
       "  eid     HT CHD Stroke PAD CKD LiverFailure RA T2D T1D T2Dage Insulin AntiDM\n",
       "1 1000027 0  0   0      0   0   0            0  0   0    0.0   0       0     \n",
       "2 1000039 0  0   0      0   0   0            0  0   0    0.0   0       0     \n",
       "3 1000040 1  0   0      0   0   0            0  0   0    0.0   0       0     \n",
       "4 1000053 0  0   0      0   0   0            0  0   0    0.0   0       0     \n",
       "5 1000064 1  0   0      0   0   0            0  1   0   49.5   0       1     \n",
       "6 1000071 1  0   0      0   0   0            0  1   0   65.5   0       0     \n",
       "  AntiHT LipidLower\n",
       "1 0      0         \n",
       "2 0      0         \n",
       "3 0      0         \n",
       "4 0      0         \n",
       "5 1      0         \n",
       "6 1      1         "
      ]
     },
     "metadata": {},
     "output_type": "display_data"
    }
   ],
   "source": [
    "covar_dat <- read_tsv(\"../data/covar_dat.tsv\", show_col_types = FALSE)\n",
    "head(covar_dat)"
   ]
  },
  {
   "cell_type": "markdown",
   "id": "9b410ac2-7f55-4a79-808c-1001d16f1156",
   "metadata": {},
   "source": [
    "All the columns in this table are coded 1 or 0 representing current diagnosis of a disease or whether the person is taking the medications specified. The exception is `T2Dage`, which is the age of onset of T2D. This is what each column represent:"
   ]
  },
  {
   "cell_type": "markdown",
   "id": "f141d69e-8e5d-44b2-b282-a95cfab7bbea",
   "metadata": {},
   "source": [
    "|Group       |Column name |Meaning\n",
    "|------------|------------|--------\n",
    "|Diagnoses   |HT          |Hypertension\n",
    "|            |CHD         |Coronary heart disease\n",
    "|            |Stroke      |Stroke\n",
    "|            |PAD         |Peripheral artery disease\n",
    "|            |CKD         |Chronic kidney disease\n",
    "|            |LiverFailure|Liver failure\n",
    "|            |RA          |Rheumatoid arthritis\n",
    "|            |T2D         |Type 2 diabetes\n",
    "|            |T1D         |Type 1 diabetes\n",
    "|Age at onset|T2Dage      |Age at onset of T2D - It is 0 if `T2D` is 0. Needed in SCORE2.\n",
    "|Medication  |Insulin     |Taking insulin\n",
    "|            |AntiDM      |Taking medication for diabetes other than insulin\n",
    "|            |AntiHT      |Taking medication for hypertension\n",
    "|            |LipidLower  |Taking lipid-lowering medication "
   ]
  },
  {
   "cell_type": "markdown",
   "id": "77fe68f9-a605-41ad-90a8-c639fd119487",
   "metadata": {},
   "source": [
    "If any of the columns in this table are missing in your data, one option is to assume that none in your population had the disease, i.e., you should have a column with 0 for all individuals."
   ]
  },
  {
   "cell_type": "markdown",
   "id": "43d43419-af58-4828-8157-d172a4463a1d",
   "metadata": {},
   "source": [
    "### Survival data"
   ]
  },
  {
   "cell_type": "markdown",
   "id": "d25cf7ff-efa1-4307-bace-b149168bcd91",
   "metadata": {},
   "source": [
    "Lastly, we need survival data for MACE and diabetes progression. They should look like this:"
   ]
  },
  {
   "cell_type": "code",
   "execution_count": 7,
   "id": "42be6bd5-9508-49ff-ba02-5bcce8f812a0",
   "metadata": {},
   "outputs": [
    {
     "data": {
      "text/html": [
       "<table class=\"dataframe\">\n",
       "<caption>A tibble: 6 × 3</caption>\n",
       "<thead>\n",
       "\t<tr><th scope=col>eid</th><th scope=col>outcome_value</th><th scope=col>outcome_timeyrs</th></tr>\n",
       "\t<tr><th scope=col>&lt;dbl&gt;</th><th scope=col>&lt;dbl&gt;</th><th scope=col>&lt;dbl&gt;</th></tr>\n",
       "</thead>\n",
       "<tbody>\n",
       "\t<tr><td>1000071</td><td>0</td><td>10.001369</td></tr>\n",
       "\t<tr><td>1000223</td><td>1</td><td> 6.874743</td></tr>\n",
       "\t<tr><td>1000324</td><td>1</td><td> 3.101985</td></tr>\n",
       "\t<tr><td>1000583</td><td>1</td><td> 3.761807</td></tr>\n",
       "\t<tr><td>1001175</td><td>1</td><td> 4.539357</td></tr>\n",
       "\t<tr><td>1001892</td><td>1</td><td> 9.185489</td></tr>\n",
       "</tbody>\n",
       "</table>\n"
      ],
      "text/latex": [
       "A tibble: 6 × 3\n",
       "\\begin{tabular}{lll}\n",
       " eid & outcome\\_value & outcome\\_timeyrs\\\\\n",
       " <dbl> & <dbl> & <dbl>\\\\\n",
       "\\hline\n",
       "\t 1000071 & 0 & 10.001369\\\\\n",
       "\t 1000223 & 1 &  6.874743\\\\\n",
       "\t 1000324 & 1 &  3.101985\\\\\n",
       "\t 1000583 & 1 &  3.761807\\\\\n",
       "\t 1001175 & 1 &  4.539357\\\\\n",
       "\t 1001892 & 1 &  9.185489\\\\\n",
       "\\end{tabular}\n"
      ],
      "text/markdown": [
       "\n",
       "A tibble: 6 × 3\n",
       "\n",
       "| eid &lt;dbl&gt; | outcome_value &lt;dbl&gt; | outcome_timeyrs &lt;dbl&gt; |\n",
       "|---|---|---|\n",
       "| 1000071 | 0 | 10.001369 |\n",
       "| 1000223 | 1 |  6.874743 |\n",
       "| 1000324 | 1 |  3.101985 |\n",
       "| 1000583 | 1 |  3.761807 |\n",
       "| 1001175 | 1 |  4.539357 |\n",
       "| 1001892 | 1 |  9.185489 |\n",
       "\n"
      ],
      "text/plain": [
       "  eid     outcome_value outcome_timeyrs\n",
       "1 1000071 0             10.001369      \n",
       "2 1000223 1              6.874743      \n",
       "3 1000324 1              3.101985      \n",
       "4 1000583 1              3.761807      \n",
       "5 1001175 1              4.539357      \n",
       "6 1001892 1              9.185489      "
      ]
     },
     "metadata": {},
     "output_type": "display_data"
    }
   ],
   "source": [
    "survmacedat <- read_tsv(\"../data/survmacedat.tsv\", show_col_types = FALSE)\n",
    "head(survmacedat)"
   ]
  },
  {
   "cell_type": "code",
   "execution_count": 8,
   "id": "10e97ed2-cede-4fac-a0a5-144ca1818095",
   "metadata": {},
   "outputs": [
    {
     "data": {
      "text/html": [
       "<table class=\"dataframe\">\n",
       "<caption>A tibble: 6 × 3</caption>\n",
       "<thead>\n",
       "\t<tr><th scope=col>eid</th><th scope=col>outcome_value</th><th scope=col>outcome_timeyrs</th></tr>\n",
       "\t<tr><th scope=col>&lt;dbl&gt;</th><th scope=col>&lt;dbl&gt;</th><th scope=col>&lt;dbl&gt;</th></tr>\n",
       "</thead>\n",
       "<tbody>\n",
       "\t<tr><td>1000109</td><td>1</td><td>3.600274</td></tr>\n",
       "\t<tr><td>1000132</td><td>1</td><td>1.248460</td></tr>\n",
       "\t<tr><td>1004267</td><td>1</td><td>4.550308</td></tr>\n",
       "\t<tr><td>1006281</td><td>1</td><td>1.957563</td></tr>\n",
       "\t<tr><td>1007454</td><td>0</td><td>9.423682</td></tr>\n",
       "\t<tr><td>1010295</td><td>1</td><td>6.852841</td></tr>\n",
       "</tbody>\n",
       "</table>\n"
      ],
      "text/latex": [
       "A tibble: 6 × 3\n",
       "\\begin{tabular}{lll}\n",
       " eid & outcome\\_value & outcome\\_timeyrs\\\\\n",
       " <dbl> & <dbl> & <dbl>\\\\\n",
       "\\hline\n",
       "\t 1000109 & 1 & 3.600274\\\\\n",
       "\t 1000132 & 1 & 1.248460\\\\\n",
       "\t 1004267 & 1 & 4.550308\\\\\n",
       "\t 1006281 & 1 & 1.957563\\\\\n",
       "\t 1007454 & 0 & 9.423682\\\\\n",
       "\t 1010295 & 1 & 6.852841\\\\\n",
       "\\end{tabular}\n"
      ],
      "text/markdown": [
       "\n",
       "A tibble: 6 × 3\n",
       "\n",
       "| eid &lt;dbl&gt; | outcome_value &lt;dbl&gt; | outcome_timeyrs &lt;dbl&gt; |\n",
       "|---|---|---|\n",
       "| 1000109 | 1 | 3.600274 |\n",
       "| 1000132 | 1 | 1.248460 |\n",
       "| 1004267 | 1 | 4.550308 |\n",
       "| 1006281 | 1 | 1.957563 |\n",
       "| 1007454 | 0 | 9.423682 |\n",
       "| 1010295 | 1 | 6.852841 |\n",
       "\n"
      ],
      "text/plain": [
       "  eid     outcome_value outcome_timeyrs\n",
       "1 1000109 1             3.600274       \n",
       "2 1000132 1             1.248460       \n",
       "3 1004267 1             4.550308       \n",
       "4 1006281 1             1.957563       \n",
       "5 1007454 0             9.423682       \n",
       "6 1010295 1             6.852841       "
      ]
     },
     "metadata": {},
     "output_type": "display_data"
    }
   ],
   "source": [
    "survdmdat <- read_tsv(\"../data/survdmdat.tsv\", show_col_types = FALSE)\n",
    "head(survdmdat)"
   ]
  },
  {
   "cell_type": "markdown",
   "id": "93cebcdd-574d-4b74-9edd-f048b296f69f",
   "metadata": {},
   "source": [
    "These two tables should include individuals followed ***up to 10 years***. Any outcome after 10 years should be censored. `outcome_value` is 1 if the person experienced the event during the follow-up time and 0 if not. `outcome_timeyrs` is the time of follow-up in years, up to the first event or up to 10 years. \n",
    "\n",
    "It is important that these tables ***do not include*** individuals who already experience the events we will study. In any case, we will make sure of this in the next step, when we combine all the data. For example, any individual in the `survmacedat` table with a value of 1 in the columns `CHD`, `Stroke` or `PAD` of the `covar_tab` table, will be excluded from the analysis."
   ]
  },
  {
   "cell_type": "markdown",
   "id": "906e1c34-43b9-485a-985f-d694b5a2c2ff",
   "metadata": {},
   "source": [
    "In case your cohort does not have survival data, then follow this guideline until the section below entitled \"Prevalent diseases and medication\"."
   ]
  },
  {
   "cell_type": "markdown",
   "id": "8609fdc5-c1de-47a0-beb4-8f25f7554444",
   "metadata": {},
   "source": [
    "---"
   ]
  },
  {
   "cell_type": "markdown",
   "id": "d815d2b2-9a99-4901-af75-5b143da09bd3",
   "metadata": {},
   "source": [
    "## Calculation of cluster probabilities"
   ]
  },
  {
   "cell_type": "markdown",
   "id": "e8338479-570d-4375-963d-bce43b381028",
   "metadata": {},
   "source": [
    "With the data needed in place, we can start by calculating cluster allocation probabilities given the biomarker data. For that we will first add a new column called `data` to the `validclusmod` table where we will put the biomarker data for each sex:"
   ]
  },
  {
   "cell_type": "code",
   "execution_count": 9,
   "id": "ebba1aa3-d98f-48a9-b30f-6ca05269756a",
   "metadata": {},
   "outputs": [],
   "source": [
    "clusterdfs <- clusterprobcalc(ClusModDf = validclusmod, StratDat = strat_dat)"
   ]
  },
  {
   "cell_type": "code",
   "execution_count": 10,
   "id": "b2db2092-22a5-41ae-822f-a1b5ad5a88ae",
   "metadata": {},
   "outputs": [
    {
     "name": "stdout",
     "output_type": "stream",
     "text": [
      "\u001b[90m# A tibble: 2 x 2\u001b[39m\n",
      "  sex    data                  \n",
      "  \u001b[3m\u001b[90m<chr>\u001b[39m\u001b[23m  \u001b[3m\u001b[90m<list>\u001b[39m\u001b[23m                \n",
      "\u001b[90m1\u001b[39m Female \u001b[90m<tibble [77,207 x 21]>\u001b[39m\n",
      "\u001b[90m2\u001b[39m Male   \u001b[90m<tibble [67,904 x 20]>\u001b[39m\n"
     ]
    }
   ],
   "source": [
    "print(clusterdfs)"
   ]
  },
  {
   "cell_type": "markdown",
   "id": "79cdcba2-05da-451e-aa60-b1cb818133bf",
   "metadata": {},
   "source": [
    "Checking that the probabilities were calculated for each sex:"
   ]
  },
  {
   "cell_type": "code",
   "execution_count": 11,
   "id": "b3acb20a-0855-4ea3-b5b9-b23a220745a2",
   "metadata": {},
   "outputs": [
    {
     "data": {
      "text/html": [
       "<table class=\"dataframe\">\n",
       "<caption>A tibble: 6 × 21</caption>\n",
       "<thead>\n",
       "\t<tr><th scope=col>eid</th><th scope=col>age</th><th scope=col>sex</th><th scope=col>bmi</th><th scope=col>whr</th><th scope=col>sbp</th><th scope=col>dbp</th><th scope=col>alt</th><th scope=col>scr</th><th scope=col>crp</th><th scope=col>⋯</th><th scope=col>tg</th><th scope=col>ldl</th><th scope=col>fg</th><th scope=col>smoking</th><th scope=col>probBC</th><th scope=col>probDHT</th><th scope=col>probDAL</th><th scope=col>probDLT</th><th scope=col>probDIS</th><th scope=col>probDHG</th></tr>\n",
       "\t<tr><th scope=col>&lt;dbl&gt;</th><th scope=col>&lt;dbl&gt;</th><th scope=col>&lt;chr&gt;</th><th scope=col>&lt;dbl&gt;</th><th scope=col>&lt;dbl&gt;</th><th scope=col>&lt;dbl&gt;</th><th scope=col>&lt;dbl&gt;</th><th scope=col>&lt;dbl&gt;</th><th scope=col>&lt;dbl&gt;</th><th scope=col>&lt;dbl&gt;</th><th scope=col>⋯</th><th scope=col>&lt;dbl&gt;</th><th scope=col>&lt;dbl&gt;</th><th scope=col>&lt;dbl&gt;</th><th scope=col>&lt;dbl&gt;</th><th scope=col>&lt;dbl&gt;</th><th scope=col>&lt;dbl&gt;</th><th scope=col>&lt;dbl&gt;</th><th scope=col>&lt;dbl&gt;</th><th scope=col>&lt;dbl&gt;</th><th scope=col>&lt;dbl&gt;</th></tr>\n",
       "</thead>\n",
       "<tbody>\n",
       "\t<tr><td>1000117</td><td>47</td><td>Female</td><td>23.8408</td><td>0.7254902</td><td>147.5</td><td> 84.0</td><td>14.07</td><td>61.0</td><td>0.24</td><td>⋯</td><td>0.591</td><td>2.252</td><td>4.395</td><td>0</td><td>0.1008059</td><td>8.982179e-01</td><td>8.145289e-08</td><td>0.0006249365</td><td>0.0002629902</td><td>8.816286e-05</td></tr>\n",
       "\t<tr><td>1000132</td><td>43</td><td>Female</td><td>35.6559</td><td>0.8403361</td><td>137.0</td><td>100.5</td><td>18.89</td><td>60.5</td><td>4.31</td><td>⋯</td><td>2.037</td><td>3.686</td><td>5.214</td><td>0</td><td>0.3995536</td><td>5.942413e-01</td><td>2.669602e-03</td><td>0.0014612974</td><td>0.0009994929</td><td>1.074671e-03</td></tr>\n",
       "\t<tr><td>1000176</td><td>69</td><td>Female</td><td>38.1271</td><td>0.8897638</td><td>137.5</td><td> 93.5</td><td>36.39</td><td>68.9</td><td>3.69</td><td>⋯</td><td>1.988</td><td>4.551</td><td>4.266</td><td>0</td><td>0.9885268</td><td>9.507371e-06</td><td>5.394490e-05</td><td>0.0110183762</td><td>0.0002941394</td><td>9.725173e-05</td></tr>\n",
       "\t<tr><td>1000223</td><td>63</td><td>Female</td><td>25.4603</td><td>0.7789474</td><td>163.0</td><td> 94.0</td><td> 6.10</td><td>67.1</td><td>1.29</td><td>⋯</td><td>2.829</td><td>3.491</td><td>5.876</td><td>0</td><td>0.9391540</td><td>2.297826e-04</td><td>5.226406e-02</td><td>0.0004234940</td><td>0.0001454109</td><td>7.783232e-03</td></tr>\n",
       "\t<tr><td>1000282</td><td>48</td><td>Female</td><td>25.4297</td><td>0.7708333</td><td>135.5</td><td> 89.0</td><td> 9.63</td><td>46.2</td><td>0.16</td><td>⋯</td><td>0.722</td><td>3.584</td><td>5.212</td><td>0</td><td>0.7901985</td><td>2.027605e-01</td><td>5.046971e-07</td><td>0.0019040940</td><td>0.0015270843</td><td>3.609283e-03</td></tr>\n",
       "\t<tr><td>1000367</td><td>42</td><td>Female</td><td>19.3280</td><td>0.6777778</td><td>107.0</td><td> 72.5</td><td> 9.34</td><td>57.1</td><td>0.69</td><td>⋯</td><td>0.395</td><td>3.072</td><td>4.649</td><td>0</td><td>0.9827497</td><td>2.825642e-03</td><td>2.925853e-07</td><td>0.0033190879</td><td>0.0093330496</td><td>1.772251e-03</td></tr>\n",
       "</tbody>\n",
       "</table>\n"
      ],
      "text/latex": [
       "A tibble: 6 × 21\n",
       "\\begin{tabular}{lllllllllllllllllllll}\n",
       " eid & age & sex & bmi & whr & sbp & dbp & alt & scr & crp & ⋯ & tg & ldl & fg & smoking & probBC & probDHT & probDAL & probDLT & probDIS & probDHG\\\\\n",
       " <dbl> & <dbl> & <chr> & <dbl> & <dbl> & <dbl> & <dbl> & <dbl> & <dbl> & <dbl> & ⋯ & <dbl> & <dbl> & <dbl> & <dbl> & <dbl> & <dbl> & <dbl> & <dbl> & <dbl> & <dbl>\\\\\n",
       "\\hline\n",
       "\t 1000117 & 47 & Female & 23.8408 & 0.7254902 & 147.5 &  84.0 & 14.07 & 61.0 & 0.24 & ⋯ & 0.591 & 2.252 & 4.395 & 0 & 0.1008059 & 8.982179e-01 & 8.145289e-08 & 0.0006249365 & 0.0002629902 & 8.816286e-05\\\\\n",
       "\t 1000132 & 43 & Female & 35.6559 & 0.8403361 & 137.0 & 100.5 & 18.89 & 60.5 & 4.31 & ⋯ & 2.037 & 3.686 & 5.214 & 0 & 0.3995536 & 5.942413e-01 & 2.669602e-03 & 0.0014612974 & 0.0009994929 & 1.074671e-03\\\\\n",
       "\t 1000176 & 69 & Female & 38.1271 & 0.8897638 & 137.5 &  93.5 & 36.39 & 68.9 & 3.69 & ⋯ & 1.988 & 4.551 & 4.266 & 0 & 0.9885268 & 9.507371e-06 & 5.394490e-05 & 0.0110183762 & 0.0002941394 & 9.725173e-05\\\\\n",
       "\t 1000223 & 63 & Female & 25.4603 & 0.7789474 & 163.0 &  94.0 &  6.10 & 67.1 & 1.29 & ⋯ & 2.829 & 3.491 & 5.876 & 0 & 0.9391540 & 2.297826e-04 & 5.226406e-02 & 0.0004234940 & 0.0001454109 & 7.783232e-03\\\\\n",
       "\t 1000282 & 48 & Female & 25.4297 & 0.7708333 & 135.5 &  89.0 &  9.63 & 46.2 & 0.16 & ⋯ & 0.722 & 3.584 & 5.212 & 0 & 0.7901985 & 2.027605e-01 & 5.046971e-07 & 0.0019040940 & 0.0015270843 & 3.609283e-03\\\\\n",
       "\t 1000367 & 42 & Female & 19.3280 & 0.6777778 & 107.0 &  72.5 &  9.34 & 57.1 & 0.69 & ⋯ & 0.395 & 3.072 & 4.649 & 0 & 0.9827497 & 2.825642e-03 & 2.925853e-07 & 0.0033190879 & 0.0093330496 & 1.772251e-03\\\\\n",
       "\\end{tabular}\n"
      ],
      "text/markdown": [
       "\n",
       "A tibble: 6 × 21\n",
       "\n",
       "| eid &lt;dbl&gt; | age &lt;dbl&gt; | sex &lt;chr&gt; | bmi &lt;dbl&gt; | whr &lt;dbl&gt; | sbp &lt;dbl&gt; | dbp &lt;dbl&gt; | alt &lt;dbl&gt; | scr &lt;dbl&gt; | crp &lt;dbl&gt; | ⋯ ⋯ | tg &lt;dbl&gt; | ldl &lt;dbl&gt; | fg &lt;dbl&gt; | smoking &lt;dbl&gt; | probBC &lt;dbl&gt; | probDHT &lt;dbl&gt; | probDAL &lt;dbl&gt; | probDLT &lt;dbl&gt; | probDIS &lt;dbl&gt; | probDHG &lt;dbl&gt; |\n",
       "|---|---|---|---|---|---|---|---|---|---|---|---|---|---|---|---|---|---|---|---|---|\n",
       "| 1000117 | 47 | Female | 23.8408 | 0.7254902 | 147.5 |  84.0 | 14.07 | 61.0 | 0.24 | ⋯ | 0.591 | 2.252 | 4.395 | 0 | 0.1008059 | 8.982179e-01 | 8.145289e-08 | 0.0006249365 | 0.0002629902 | 8.816286e-05 |\n",
       "| 1000132 | 43 | Female | 35.6559 | 0.8403361 | 137.0 | 100.5 | 18.89 | 60.5 | 4.31 | ⋯ | 2.037 | 3.686 | 5.214 | 0 | 0.3995536 | 5.942413e-01 | 2.669602e-03 | 0.0014612974 | 0.0009994929 | 1.074671e-03 |\n",
       "| 1000176 | 69 | Female | 38.1271 | 0.8897638 | 137.5 |  93.5 | 36.39 | 68.9 | 3.69 | ⋯ | 1.988 | 4.551 | 4.266 | 0 | 0.9885268 | 9.507371e-06 | 5.394490e-05 | 0.0110183762 | 0.0002941394 | 9.725173e-05 |\n",
       "| 1000223 | 63 | Female | 25.4603 | 0.7789474 | 163.0 |  94.0 |  6.10 | 67.1 | 1.29 | ⋯ | 2.829 | 3.491 | 5.876 | 0 | 0.9391540 | 2.297826e-04 | 5.226406e-02 | 0.0004234940 | 0.0001454109 | 7.783232e-03 |\n",
       "| 1000282 | 48 | Female | 25.4297 | 0.7708333 | 135.5 |  89.0 |  9.63 | 46.2 | 0.16 | ⋯ | 0.722 | 3.584 | 5.212 | 0 | 0.7901985 | 2.027605e-01 | 5.046971e-07 | 0.0019040940 | 0.0015270843 | 3.609283e-03 |\n",
       "| 1000367 | 42 | Female | 19.3280 | 0.6777778 | 107.0 |  72.5 |  9.34 | 57.1 | 0.69 | ⋯ | 0.395 | 3.072 | 4.649 | 0 | 0.9827497 | 2.825642e-03 | 2.925853e-07 | 0.0033190879 | 0.0093330496 | 1.772251e-03 |\n",
       "\n"
      ],
      "text/plain": [
       "  eid     age sex    bmi     whr       sbp   dbp   alt   scr  crp  <U+22EF>  \n",
       "1 1000117 47  Female 23.8408 0.7254902 147.5  84.0 14.07 61.0 0.24 <U+22EF>\n",
       "2 1000132 43  Female 35.6559 0.8403361 137.0 100.5 18.89 60.5 4.31 <U+22EF>\n",
       "3 1000176 69  Female 38.1271 0.8897638 137.5  93.5 36.39 68.9 3.69 <U+22EF>\n",
       "4 1000223 63  Female 25.4603 0.7789474 163.0  94.0  6.10 67.1 1.29 <U+22EF>\n",
       "5 1000282 48  Female 25.4297 0.7708333 135.5  89.0  9.63 46.2 0.16 <U+22EF>\n",
       "6 1000367 42  Female 19.3280 0.6777778 107.0  72.5  9.34 57.1 0.69 <U+22EF>\n",
       "  tg    ldl   fg    smoking probBC    probDHT      probDAL      probDLT     \n",
       "1 0.591 2.252 4.395 0       0.1008059 8.982179e-01 8.145289e-08 0.0006249365\n",
       "2 2.037 3.686 5.214 0       0.3995536 5.942413e-01 2.669602e-03 0.0014612974\n",
       "3 1.988 4.551 4.266 0       0.9885268 9.507371e-06 5.394490e-05 0.0110183762\n",
       "4 2.829 3.491 5.876 0       0.9391540 2.297826e-04 5.226406e-02 0.0004234940\n",
       "5 0.722 3.584 5.212 0       0.7901985 2.027605e-01 5.046971e-07 0.0019040940\n",
       "6 0.395 3.072 4.649 0       0.9827497 2.825642e-03 2.925853e-07 0.0033190879\n",
       "  probDIS      probDHG     \n",
       "1 0.0002629902 8.816286e-05\n",
       "2 0.0009994929 1.074671e-03\n",
       "3 0.0002941394 9.725173e-05\n",
       "4 0.0001454109 7.783232e-03\n",
       "5 0.0015270843 3.609283e-03\n",
       "6 0.0093330496 1.772251e-03"
      ]
     },
     "metadata": {},
     "output_type": "display_data"
    }
   ],
   "source": [
    "head(clusterdfs$data[[1]])"
   ]
  },
  {
   "cell_type": "markdown",
   "id": "5929c5ad-79fc-4620-8c72-295c155c8bf2",
   "metadata": {},
   "source": [
    "---"
   ]
  },
  {
   "cell_type": "markdown",
   "id": "97c7eab0-b8f0-468b-b75c-a06d9ab07ad6",
   "metadata": {},
   "source": [
    "## Descriptive statistics"
   ]
  },
  {
   "cell_type": "markdown",
   "id": "d8a8109b-de93-4996-95a0-16dd68e53f6a",
   "metadata": {},
   "source": [
    "At this point we will recheck some of the characteristics of the clusters as we did in our previous script, weighting calculations by cluster probabilities."
   ]
  },
  {
   "cell_type": "markdown",
   "id": "24a8451b-b3d6-4de5-bb60-5fb45c209090",
   "metadata": {},
   "source": [
    "The distribution of biomarkers per cluster:"
   ]
  },
  {
   "cell_type": "code",
   "execution_count": 12,
   "id": "4bb85d9c-1c1f-47dc-91e6-fbbd704cc5f9",
   "metadata": {},
   "outputs": [],
   "source": [
    "markerdistribdf <- markerdistribfx(clusterdfs)"
   ]
  },
  {
   "cell_type": "code",
   "execution_count": 13,
   "id": "09ac6ac7-e318-4e7e-8e6b-3e37ae485c16",
   "metadata": {},
   "outputs": [
    {
     "data": {
      "text/html": [
       "<table class=\"dataframe\">\n",
       "<caption>A tibble: 6 × 7</caption>\n",
       "<thead>\n",
       "\t<tr><th scope=col>sex</th><th scope=col>Variable</th><th scope=col>Cluster</th><th scope=col>Type</th><th scope=col>N</th><th scope=col>Summary1</th><th scope=col>Summary2</th></tr>\n",
       "\t<tr><th scope=col>&lt;chr&gt;</th><th scope=col>&lt;chr&gt;</th><th scope=col>&lt;chr&gt;</th><th scope=col>&lt;chr&gt;</th><th scope=col>&lt;dbl&gt;</th><th scope=col>&lt;chr&gt;</th><th scope=col>&lt;chr&gt;</th></tr>\n",
       "</thead>\n",
       "<tbody>\n",
       "\t<tr><td>Female</td><td>whr</td><td>BC </td><td>Numeric</td><td>58707.879</td><td>0.82 (0.07)</td><td>0.81 (0.7 - 0.77 - 0.86 - 0.96) </td></tr>\n",
       "\t<tr><td>Female</td><td>whr</td><td>DHT</td><td>Numeric</td><td> 7483.777</td><td>0.79 (0.05)</td><td>0.78 (0.69 - 0.75 - 0.82 - 0.9) </td></tr>\n",
       "\t<tr><td>Female</td><td>whr</td><td>DAL</td><td>Numeric</td><td> 3950.988</td><td>0.87 (0.06)</td><td>0.86 (0.76 - 0.83 - 0.91 - 0.99)</td></tr>\n",
       "\t<tr><td>Female</td><td>whr</td><td>DLT</td><td>Numeric</td><td> 2835.984</td><td>0.84 (0.07)</td><td>0.84 (0.71 - 0.79 - 0.89 - 0.98)</td></tr>\n",
       "\t<tr><td>Female</td><td>whr</td><td>DIS</td><td>Numeric</td><td> 2750.474</td><td>0.84 (0.07)</td><td>0.83 (0.71 - 0.79 - 0.89 - 0.98)</td></tr>\n",
       "\t<tr><td>Female</td><td>whr</td><td>DHG</td><td>Numeric</td><td> 1477.897</td><td>0.85 (0.08)</td><td>0.85 (0.71 - 0.79 - 0.91 - 1.02)</td></tr>\n",
       "</tbody>\n",
       "</table>\n"
      ],
      "text/latex": [
       "A tibble: 6 × 7\n",
       "\\begin{tabular}{lllllll}\n",
       " sex & Variable & Cluster & Type & N & Summary1 & Summary2\\\\\n",
       " <chr> & <chr> & <chr> & <chr> & <dbl> & <chr> & <chr>\\\\\n",
       "\\hline\n",
       "\t Female & whr & BC  & Numeric & 58707.879 & 0.82 (0.07) & 0.81 (0.7 - 0.77 - 0.86 - 0.96) \\\\\n",
       "\t Female & whr & DHT & Numeric &  7483.777 & 0.79 (0.05) & 0.78 (0.69 - 0.75 - 0.82 - 0.9) \\\\\n",
       "\t Female & whr & DAL & Numeric &  3950.988 & 0.87 (0.06) & 0.86 (0.76 - 0.83 - 0.91 - 0.99)\\\\\n",
       "\t Female & whr & DLT & Numeric &  2835.984 & 0.84 (0.07) & 0.84 (0.71 - 0.79 - 0.89 - 0.98)\\\\\n",
       "\t Female & whr & DIS & Numeric &  2750.474 & 0.84 (0.07) & 0.83 (0.71 - 0.79 - 0.89 - 0.98)\\\\\n",
       "\t Female & whr & DHG & Numeric &  1477.897 & 0.85 (0.08) & 0.85 (0.71 - 0.79 - 0.91 - 1.02)\\\\\n",
       "\\end{tabular}\n"
      ],
      "text/markdown": [
       "\n",
       "A tibble: 6 × 7\n",
       "\n",
       "| sex &lt;chr&gt; | Variable &lt;chr&gt; | Cluster &lt;chr&gt; | Type &lt;chr&gt; | N &lt;dbl&gt; | Summary1 &lt;chr&gt; | Summary2 &lt;chr&gt; |\n",
       "|---|---|---|---|---|---|---|\n",
       "| Female | whr | BC  | Numeric | 58707.879 | 0.82 (0.07) | 0.81 (0.7 - 0.77 - 0.86 - 0.96)  |\n",
       "| Female | whr | DHT | Numeric |  7483.777 | 0.79 (0.05) | 0.78 (0.69 - 0.75 - 0.82 - 0.9)  |\n",
       "| Female | whr | DAL | Numeric |  3950.988 | 0.87 (0.06) | 0.86 (0.76 - 0.83 - 0.91 - 0.99) |\n",
       "| Female | whr | DLT | Numeric |  2835.984 | 0.84 (0.07) | 0.84 (0.71 - 0.79 - 0.89 - 0.98) |\n",
       "| Female | whr | DIS | Numeric |  2750.474 | 0.84 (0.07) | 0.83 (0.71 - 0.79 - 0.89 - 0.98) |\n",
       "| Female | whr | DHG | Numeric |  1477.897 | 0.85 (0.08) | 0.85 (0.71 - 0.79 - 0.91 - 1.02) |\n",
       "\n"
      ],
      "text/plain": [
       "  sex    Variable Cluster Type    N         Summary1   \n",
       "1 Female whr      BC      Numeric 58707.879 0.82 (0.07)\n",
       "2 Female whr      DHT     Numeric  7483.777 0.79 (0.05)\n",
       "3 Female whr      DAL     Numeric  3950.988 0.87 (0.06)\n",
       "4 Female whr      DLT     Numeric  2835.984 0.84 (0.07)\n",
       "5 Female whr      DIS     Numeric  2750.474 0.84 (0.07)\n",
       "6 Female whr      DHG     Numeric  1477.897 0.85 (0.08)\n",
       "  Summary2                        \n",
       "1 0.81 (0.7 - 0.77 - 0.86 - 0.96) \n",
       "2 0.78 (0.69 - 0.75 - 0.82 - 0.9) \n",
       "3 0.86 (0.76 - 0.83 - 0.91 - 0.99)\n",
       "4 0.84 (0.71 - 0.79 - 0.89 - 0.98)\n",
       "5 0.83 (0.71 - 0.79 - 0.89 - 0.98)\n",
       "6 0.85 (0.71 - 0.79 - 0.91 - 1.02)"
      ]
     },
     "metadata": {},
     "output_type": "display_data"
    }
   ],
   "source": [
    "head(markerdistribdf)"
   ]
  },
  {
   "cell_type": "markdown",
   "id": "f9497168-971e-49ef-8b35-95249eb765e8",
   "metadata": {},
   "source": [
    "The effect of BMI on biomarkers specifically within each cluster, adjusted for age and smoking:"
   ]
  },
  {
   "cell_type": "code",
   "execution_count": 14,
   "id": "d2a1536b-5881-4e7a-9894-199d2391fb84",
   "metadata": {},
   "outputs": [],
   "source": [
    "bmieffmarkerdf <- bmieffmarkerfx(clusterdfs)"
   ]
  },
  {
   "cell_type": "code",
   "execution_count": 15,
   "id": "43c78da0-0d74-400c-b5db-972e4aad4e1c",
   "metadata": {},
   "outputs": [
    {
     "data": {
      "text/html": [
       "<table class=\"dataframe\">\n",
       "<caption>A tibble: 6 × 6</caption>\n",
       "<thead>\n",
       "\t<tr><th scope=col>sex</th><th scope=col>Variable</th><th scope=col>Cluster</th><th scope=col>term</th><th scope=col>estimate</th><th scope=col>se</th></tr>\n",
       "\t<tr><th scope=col>&lt;chr&gt;</th><th scope=col>&lt;chr&gt;</th><th scope=col>&lt;chr&gt;</th><th scope=col>&lt;chr&gt;</th><th scope=col>&lt;dbl&gt;</th><th scope=col>&lt;dbl&gt;</th></tr>\n",
       "</thead>\n",
       "<tbody>\n",
       "\t<tr><td>Female</td><td>whr</td><td>BC </td><td>(Intercept)</td><td>0.576753560</td><td>1.917410e-03</td></tr>\n",
       "\t<tr><td>Female</td><td>whr</td><td>BC </td><td>age        </td><td>0.001289826</td><td>2.768274e-05</td></tr>\n",
       "\t<tr><td>Female</td><td>whr</td><td>BC </td><td>smoking    </td><td>0.020114650</td><td>7.707873e-04</td></tr>\n",
       "\t<tr><td>Female</td><td>whr</td><td>BC </td><td>bmi        </td><td>0.006069039</td><td>4.309974e-05</td></tr>\n",
       "\t<tr><td>Female</td><td>whr</td><td>DHT</td><td>(Intercept)</td><td>0.569642086</td><td>1.568987e-03</td></tr>\n",
       "\t<tr><td>Female</td><td>whr</td><td>DHT</td><td>age        </td><td>0.001087705</td><td>2.096435e-05</td></tr>\n",
       "</tbody>\n",
       "</table>\n"
      ],
      "text/latex": [
       "A tibble: 6 × 6\n",
       "\\begin{tabular}{llllll}\n",
       " sex & Variable & Cluster & term & estimate & se\\\\\n",
       " <chr> & <chr> & <chr> & <chr> & <dbl> & <dbl>\\\\\n",
       "\\hline\n",
       "\t Female & whr & BC  & (Intercept) & 0.576753560 & 1.917410e-03\\\\\n",
       "\t Female & whr & BC  & age         & 0.001289826 & 2.768274e-05\\\\\n",
       "\t Female & whr & BC  & smoking     & 0.020114650 & 7.707873e-04\\\\\n",
       "\t Female & whr & BC  & bmi         & 0.006069039 & 4.309974e-05\\\\\n",
       "\t Female & whr & DHT & (Intercept) & 0.569642086 & 1.568987e-03\\\\\n",
       "\t Female & whr & DHT & age         & 0.001087705 & 2.096435e-05\\\\\n",
       "\\end{tabular}\n"
      ],
      "text/markdown": [
       "\n",
       "A tibble: 6 × 6\n",
       "\n",
       "| sex &lt;chr&gt; | Variable &lt;chr&gt; | Cluster &lt;chr&gt; | term &lt;chr&gt; | estimate &lt;dbl&gt; | se &lt;dbl&gt; |\n",
       "|---|---|---|---|---|---|\n",
       "| Female | whr | BC  | (Intercept) | 0.576753560 | 1.917410e-03 |\n",
       "| Female | whr | BC  | age         | 0.001289826 | 2.768274e-05 |\n",
       "| Female | whr | BC  | smoking     | 0.020114650 | 7.707873e-04 |\n",
       "| Female | whr | BC  | bmi         | 0.006069039 | 4.309974e-05 |\n",
       "| Female | whr | DHT | (Intercept) | 0.569642086 | 1.568987e-03 |\n",
       "| Female | whr | DHT | age         | 0.001087705 | 2.096435e-05 |\n",
       "\n"
      ],
      "text/plain": [
       "  sex    Variable Cluster term        estimate    se          \n",
       "1 Female whr      BC      (Intercept) 0.576753560 1.917410e-03\n",
       "2 Female whr      BC      age         0.001289826 2.768274e-05\n",
       "3 Female whr      BC      smoking     0.020114650 7.707873e-04\n",
       "4 Female whr      BC      bmi         0.006069039 4.309974e-05\n",
       "5 Female whr      DHT     (Intercept) 0.569642086 1.568987e-03\n",
       "6 Female whr      DHT     age         0.001087705 2.096435e-05"
      ]
     },
     "metadata": {},
     "output_type": "display_data"
    }
   ],
   "source": [
    "head(bmieffmarkerdf)"
   ]
  },
  {
   "cell_type": "markdown",
   "id": "7831d4cd-ed94-45c3-82df-519b945d4b41",
   "metadata": {},
   "source": [
    "---"
   ]
  },
  {
   "cell_type": "markdown",
   "id": "01b70650-f688-48e0-a47c-d3b5dcad9b7a",
   "metadata": {},
   "source": [
    "## Prevalent diseases and medication"
   ]
  },
  {
   "cell_type": "markdown",
   "id": "4734e073-50da-4117-863b-5b7e27bb9f72",
   "metadata": {},
   "source": [
    "To add covariate data to the `alldat` table we will do the following:"
   ]
  },
  {
   "cell_type": "code",
   "execution_count": 16,
   "id": "d5a81e4f-4b35-4ac7-aa29-6e82b9b97294",
   "metadata": {},
   "outputs": [],
   "source": [
    "clusterdfs <- addcovardat(X = clusterdfs, CovarDat = covar_dat)"
   ]
  },
  {
   "cell_type": "code",
   "execution_count": 17,
   "id": "8ac71111-f8a6-44a0-bdfd-cd4343591a9b",
   "metadata": {},
   "outputs": [
    {
     "name": "stdout",
     "output_type": "stream",
     "text": [
      "\u001b[90m# A tibble: 2 x 2\u001b[39m\n",
      "  sex    data                  \n",
      "  \u001b[3m\u001b[90m<chr>\u001b[39m\u001b[23m  \u001b[3m\u001b[90m<list>\u001b[39m\u001b[23m                \n",
      "\u001b[90m1\u001b[39m Female \u001b[90m<tibble [77,151 x 35]>\u001b[39m\n",
      "\u001b[90m2\u001b[39m Male   \u001b[90m<tibble [67,848 x 34]>\u001b[39m\n"
     ]
    }
   ],
   "source": [
    "print(clusterdfs)"
   ]
  },
  {
   "cell_type": "markdown",
   "id": "24e6b45c-7a74-4db9-929d-75a0dbc5b215",
   "metadata": {},
   "source": [
    "Checking again if the columns were added as expected:"
   ]
  },
  {
   "cell_type": "code",
   "execution_count": 18,
   "id": "28c26893-20f3-4f43-abb3-c7fe0b552891",
   "metadata": {},
   "outputs": [
    {
     "data": {
      "text/html": [
       "<table class=\"dataframe\">\n",
       "<caption>A tibble: 6 × 35</caption>\n",
       "<thead>\n",
       "\t<tr><th scope=col>eid</th><th scope=col>age</th><th scope=col>sex</th><th scope=col>bmi</th><th scope=col>whr</th><th scope=col>sbp</th><th scope=col>dbp</th><th scope=col>alt</th><th scope=col>scr</th><th scope=col>crp</th><th scope=col>⋯</th><th scope=col>CKD</th><th scope=col>LiverFailure</th><th scope=col>RA</th><th scope=col>T2D</th><th scope=col>T1D</th><th scope=col>T2Dage</th><th scope=col>Insulin</th><th scope=col>AntiDM</th><th scope=col>AntiHT</th><th scope=col>LipidLower</th></tr>\n",
       "\t<tr><th scope=col>&lt;dbl&gt;</th><th scope=col>&lt;dbl&gt;</th><th scope=col>&lt;chr&gt;</th><th scope=col>&lt;dbl&gt;</th><th scope=col>&lt;dbl&gt;</th><th scope=col>&lt;dbl&gt;</th><th scope=col>&lt;dbl&gt;</th><th scope=col>&lt;dbl&gt;</th><th scope=col>&lt;dbl&gt;</th><th scope=col>&lt;dbl&gt;</th><th scope=col>⋯</th><th scope=col>&lt;dbl&gt;</th><th scope=col>&lt;dbl&gt;</th><th scope=col>&lt;dbl&gt;</th><th scope=col>&lt;dbl&gt;</th><th scope=col>&lt;dbl&gt;</th><th scope=col>&lt;dbl&gt;</th><th scope=col>&lt;dbl&gt;</th><th scope=col>&lt;dbl&gt;</th><th scope=col>&lt;dbl&gt;</th><th scope=col>&lt;dbl&gt;</th></tr>\n",
       "</thead>\n",
       "<tbody>\n",
       "\t<tr><td>1000117</td><td>47</td><td>Female</td><td>23.8408</td><td>0.7254902</td><td>147.5</td><td> 84.0</td><td>14.07</td><td>61.0</td><td>0.24</td><td>⋯</td><td>0</td><td>0</td><td>0</td><td>0</td><td>0</td><td>0</td><td>0</td><td>0</td><td>0</td><td>0</td></tr>\n",
       "\t<tr><td>1000132</td><td>43</td><td>Female</td><td>35.6559</td><td>0.8403361</td><td>137.0</td><td>100.5</td><td>18.89</td><td>60.5</td><td>4.31</td><td>⋯</td><td>0</td><td>0</td><td>0</td><td>0</td><td>0</td><td>0</td><td>0</td><td>0</td><td>1</td><td>0</td></tr>\n",
       "\t<tr><td>1000176</td><td>69</td><td>Female</td><td>38.1271</td><td>0.8897638</td><td>137.5</td><td> 93.5</td><td>36.39</td><td>68.9</td><td>3.69</td><td>⋯</td><td>0</td><td>0</td><td>0</td><td>0</td><td>0</td><td>0</td><td>0</td><td>0</td><td>1</td><td>0</td></tr>\n",
       "\t<tr><td>1000223</td><td>63</td><td>Female</td><td>25.4603</td><td>0.7789474</td><td>163.0</td><td> 94.0</td><td> 6.10</td><td>67.1</td><td>1.29</td><td>⋯</td><td>0</td><td>0</td><td>0</td><td>0</td><td>0</td><td>0</td><td>0</td><td>0</td><td>1</td><td>1</td></tr>\n",
       "\t<tr><td>1000282</td><td>48</td><td>Female</td><td>25.4297</td><td>0.7708333</td><td>135.5</td><td> 89.0</td><td> 9.63</td><td>46.2</td><td>0.16</td><td>⋯</td><td>0</td><td>0</td><td>0</td><td>0</td><td>0</td><td>0</td><td>0</td><td>0</td><td>0</td><td>0</td></tr>\n",
       "\t<tr><td>1000367</td><td>42</td><td>Female</td><td>19.3280</td><td>0.6777778</td><td>107.0</td><td> 72.5</td><td> 9.34</td><td>57.1</td><td>0.69</td><td>⋯</td><td>0</td><td>0</td><td>0</td><td>0</td><td>0</td><td>0</td><td>0</td><td>0</td><td>0</td><td>0</td></tr>\n",
       "</tbody>\n",
       "</table>\n"
      ],
      "text/latex": [
       "A tibble: 6 × 35\n",
       "\\begin{tabular}{lllllllllllllllllllll}\n",
       " eid & age & sex & bmi & whr & sbp & dbp & alt & scr & crp & ⋯ & CKD & LiverFailure & RA & T2D & T1D & T2Dage & Insulin & AntiDM & AntiHT & LipidLower\\\\\n",
       " <dbl> & <dbl> & <chr> & <dbl> & <dbl> & <dbl> & <dbl> & <dbl> & <dbl> & <dbl> & ⋯ & <dbl> & <dbl> & <dbl> & <dbl> & <dbl> & <dbl> & <dbl> & <dbl> & <dbl> & <dbl>\\\\\n",
       "\\hline\n",
       "\t 1000117 & 47 & Female & 23.8408 & 0.7254902 & 147.5 &  84.0 & 14.07 & 61.0 & 0.24 & ⋯ & 0 & 0 & 0 & 0 & 0 & 0 & 0 & 0 & 0 & 0\\\\\n",
       "\t 1000132 & 43 & Female & 35.6559 & 0.8403361 & 137.0 & 100.5 & 18.89 & 60.5 & 4.31 & ⋯ & 0 & 0 & 0 & 0 & 0 & 0 & 0 & 0 & 1 & 0\\\\\n",
       "\t 1000176 & 69 & Female & 38.1271 & 0.8897638 & 137.5 &  93.5 & 36.39 & 68.9 & 3.69 & ⋯ & 0 & 0 & 0 & 0 & 0 & 0 & 0 & 0 & 1 & 0\\\\\n",
       "\t 1000223 & 63 & Female & 25.4603 & 0.7789474 & 163.0 &  94.0 &  6.10 & 67.1 & 1.29 & ⋯ & 0 & 0 & 0 & 0 & 0 & 0 & 0 & 0 & 1 & 1\\\\\n",
       "\t 1000282 & 48 & Female & 25.4297 & 0.7708333 & 135.5 &  89.0 &  9.63 & 46.2 & 0.16 & ⋯ & 0 & 0 & 0 & 0 & 0 & 0 & 0 & 0 & 0 & 0\\\\\n",
       "\t 1000367 & 42 & Female & 19.3280 & 0.6777778 & 107.0 &  72.5 &  9.34 & 57.1 & 0.69 & ⋯ & 0 & 0 & 0 & 0 & 0 & 0 & 0 & 0 & 0 & 0\\\\\n",
       "\\end{tabular}\n"
      ],
      "text/markdown": [
       "\n",
       "A tibble: 6 × 35\n",
       "\n",
       "| eid &lt;dbl&gt; | age &lt;dbl&gt; | sex &lt;chr&gt; | bmi &lt;dbl&gt; | whr &lt;dbl&gt; | sbp &lt;dbl&gt; | dbp &lt;dbl&gt; | alt &lt;dbl&gt; | scr &lt;dbl&gt; | crp &lt;dbl&gt; | ⋯ ⋯ | CKD &lt;dbl&gt; | LiverFailure &lt;dbl&gt; | RA &lt;dbl&gt; | T2D &lt;dbl&gt; | T1D &lt;dbl&gt; | T2Dage &lt;dbl&gt; | Insulin &lt;dbl&gt; | AntiDM &lt;dbl&gt; | AntiHT &lt;dbl&gt; | LipidLower &lt;dbl&gt; |\n",
       "|---|---|---|---|---|---|---|---|---|---|---|---|---|---|---|---|---|---|---|---|---|\n",
       "| 1000117 | 47 | Female | 23.8408 | 0.7254902 | 147.5 |  84.0 | 14.07 | 61.0 | 0.24 | ⋯ | 0 | 0 | 0 | 0 | 0 | 0 | 0 | 0 | 0 | 0 |\n",
       "| 1000132 | 43 | Female | 35.6559 | 0.8403361 | 137.0 | 100.5 | 18.89 | 60.5 | 4.31 | ⋯ | 0 | 0 | 0 | 0 | 0 | 0 | 0 | 0 | 1 | 0 |\n",
       "| 1000176 | 69 | Female | 38.1271 | 0.8897638 | 137.5 |  93.5 | 36.39 | 68.9 | 3.69 | ⋯ | 0 | 0 | 0 | 0 | 0 | 0 | 0 | 0 | 1 | 0 |\n",
       "| 1000223 | 63 | Female | 25.4603 | 0.7789474 | 163.0 |  94.0 |  6.10 | 67.1 | 1.29 | ⋯ | 0 | 0 | 0 | 0 | 0 | 0 | 0 | 0 | 1 | 1 |\n",
       "| 1000282 | 48 | Female | 25.4297 | 0.7708333 | 135.5 |  89.0 |  9.63 | 46.2 | 0.16 | ⋯ | 0 | 0 | 0 | 0 | 0 | 0 | 0 | 0 | 0 | 0 |\n",
       "| 1000367 | 42 | Female | 19.3280 | 0.6777778 | 107.0 |  72.5 |  9.34 | 57.1 | 0.69 | ⋯ | 0 | 0 | 0 | 0 | 0 | 0 | 0 | 0 | 0 | 0 |\n",
       "\n"
      ],
      "text/plain": [
       "  eid     age sex    bmi     whr       sbp   dbp   alt   scr  crp  <U+22EF>   CKD\n",
       "1 1000117 47  Female 23.8408 0.7254902 147.5  84.0 14.07 61.0 0.24 <U+22EF> 0  \n",
       "2 1000132 43  Female 35.6559 0.8403361 137.0 100.5 18.89 60.5 4.31 <U+22EF> 0  \n",
       "3 1000176 69  Female 38.1271 0.8897638 137.5  93.5 36.39 68.9 3.69 <U+22EF> 0  \n",
       "4 1000223 63  Female 25.4603 0.7789474 163.0  94.0  6.10 67.1 1.29 <U+22EF> 0  \n",
       "5 1000282 48  Female 25.4297 0.7708333 135.5  89.0  9.63 46.2 0.16 <U+22EF> 0  \n",
       "6 1000367 42  Female 19.3280 0.6777778 107.0  72.5  9.34 57.1 0.69 <U+22EF> 0  \n",
       "  LiverFailure RA T2D T1D T2Dage Insulin AntiDM AntiHT LipidLower\n",
       "1 0            0  0   0   0      0       0      0      0         \n",
       "2 0            0  0   0   0      0       0      1      0         \n",
       "3 0            0  0   0   0      0       0      1      0         \n",
       "4 0            0  0   0   0      0       0      1      1         \n",
       "5 0            0  0   0   0      0       0      0      0         \n",
       "6 0            0  0   0   0      0       0      0      0         "
      ]
     },
     "metadata": {},
     "output_type": "display_data"
    }
   ],
   "source": [
    "head(clusterdfs$data[[1]])"
   ]
  },
  {
   "cell_type": "markdown",
   "id": "ff3d495d-ce08-4d8c-bea4-80b49b085f9d",
   "metadata": {},
   "source": [
    "We will first count the number of individuals with disease in each cluster. Here we will also count the number of individuals taking each class of medications in each cluster."
   ]
  },
  {
   "cell_type": "code",
   "execution_count": 19,
   "id": "5c3b19e3-6e86-4a30-a157-fb5f04f0ed18",
   "metadata": {},
   "outputs": [],
   "source": [
    "countcovarsdf <- countcovarsfx(clusterdfs)"
   ]
  },
  {
   "cell_type": "code",
   "execution_count": 20,
   "id": "34f5a4dd-e80f-46b8-9565-acdd81df4442",
   "metadata": {},
   "outputs": [
    {
     "data": {
      "text/html": [
       "<table class=\"dataframe\">\n",
       "<caption>A tibble: 6 × 6</caption>\n",
       "<thead>\n",
       "\t<tr><th scope=col>sex</th><th scope=col>Cluster</th><th scope=col>Covariate</th><th scope=col>Nclus</th><th scope=col>Ncases</th><th scope=col>Nnoncases</th></tr>\n",
       "\t<tr><th scope=col>&lt;chr&gt;</th><th scope=col>&lt;chr&gt;</th><th scope=col>&lt;chr&gt;</th><th scope=col>&lt;dbl&gt;</th><th scope=col>&lt;dbl&gt;</th><th scope=col>&lt;dbl&gt;</th></tr>\n",
       "</thead>\n",
       "<tbody>\n",
       "\t<tr><td>Female</td><td>probBC</td><td>HT          </td><td>58673.33</td><td>12946.70991</td><td>45726.62</td></tr>\n",
       "\t<tr><td>Female</td><td>probBC</td><td>CHD         </td><td>58673.33</td><td> 1659.00050</td><td>57014.33</td></tr>\n",
       "\t<tr><td>Female</td><td>probBC</td><td>Stroke      </td><td>58673.33</td><td>  848.10719</td><td>57825.23</td></tr>\n",
       "\t<tr><td>Female</td><td>probBC</td><td>PAD         </td><td>58673.33</td><td>  147.89695</td><td>58525.44</td></tr>\n",
       "\t<tr><td>Female</td><td>probBC</td><td>CKD         </td><td>58673.33</td><td>   67.25413</td><td>58606.08</td></tr>\n",
       "\t<tr><td>Female</td><td>probBC</td><td>LiverFailure</td><td>58673.33</td><td>   50.16266</td><td>58623.17</td></tr>\n",
       "</tbody>\n",
       "</table>\n"
      ],
      "text/latex": [
       "A tibble: 6 × 6\n",
       "\\begin{tabular}{llllll}\n",
       " sex & Cluster & Covariate & Nclus & Ncases & Nnoncases\\\\\n",
       " <chr> & <chr> & <chr> & <dbl> & <dbl> & <dbl>\\\\\n",
       "\\hline\n",
       "\t Female & probBC & HT           & 58673.33 & 12946.70991 & 45726.62\\\\\n",
       "\t Female & probBC & CHD          & 58673.33 &  1659.00050 & 57014.33\\\\\n",
       "\t Female & probBC & Stroke       & 58673.33 &   848.10719 & 57825.23\\\\\n",
       "\t Female & probBC & PAD          & 58673.33 &   147.89695 & 58525.44\\\\\n",
       "\t Female & probBC & CKD          & 58673.33 &    67.25413 & 58606.08\\\\\n",
       "\t Female & probBC & LiverFailure & 58673.33 &    50.16266 & 58623.17\\\\\n",
       "\\end{tabular}\n"
      ],
      "text/markdown": [
       "\n",
       "A tibble: 6 × 6\n",
       "\n",
       "| sex &lt;chr&gt; | Cluster &lt;chr&gt; | Covariate &lt;chr&gt; | Nclus &lt;dbl&gt; | Ncases &lt;dbl&gt; | Nnoncases &lt;dbl&gt; |\n",
       "|---|---|---|---|---|---|\n",
       "| Female | probBC | HT           | 58673.33 | 12946.70991 | 45726.62 |\n",
       "| Female | probBC | CHD          | 58673.33 |  1659.00050 | 57014.33 |\n",
       "| Female | probBC | Stroke       | 58673.33 |   848.10719 | 57825.23 |\n",
       "| Female | probBC | PAD          | 58673.33 |   147.89695 | 58525.44 |\n",
       "| Female | probBC | CKD          | 58673.33 |    67.25413 | 58606.08 |\n",
       "| Female | probBC | LiverFailure | 58673.33 |    50.16266 | 58623.17 |\n",
       "\n"
      ],
      "text/plain": [
       "  sex    Cluster Covariate    Nclus    Ncases      Nnoncases\n",
       "1 Female probBC  HT           58673.33 12946.70991 45726.62 \n",
       "2 Female probBC  CHD          58673.33  1659.00050 57014.33 \n",
       "3 Female probBC  Stroke       58673.33   848.10719 57825.23 \n",
       "4 Female probBC  PAD          58673.33   147.89695 58525.44 \n",
       "5 Female probBC  CKD          58673.33    67.25413 58606.08 \n",
       "6 Female probBC  LiverFailure 58673.33    50.16266 58623.17 "
      ]
     },
     "metadata": {},
     "output_type": "display_data"
    }
   ],
   "source": [
    "head(countcovarsdf)"
   ]
  },
  {
   "cell_type": "markdown",
   "id": "1b4534fc-e4ff-4b43-98ef-ade01140f4e3",
   "metadata": {},
   "source": [
    "We will use this table to calculate prevalences and compare prevalences across clusters."
   ]
  },
  {
   "cell_type": "markdown",
   "id": "b9a37f78-44aa-4c30-9c56-d0ba480b508f",
   "metadata": {},
   "source": [
    "We are also interesting in looking at the proportion of individuals receiving medications in each cluster, stratified by each condition. This is obtained with the following function:"
   ]
  },
  {
   "cell_type": "code",
   "execution_count": 21,
   "id": "9b9eb471-3193-4ff5-a4e4-d6af646d2b3d",
   "metadata": {},
   "outputs": [],
   "source": [
    "countdxmed <- countdxmedfx(clusterdfs)"
   ]
  },
  {
   "cell_type": "code",
   "execution_count": 22,
   "id": "f6132775-1c04-44fd-80e7-31b8ec05a7d7",
   "metadata": {},
   "outputs": [
    {
     "data": {
      "text/html": [
       "<table class=\"dataframe\">\n",
       "<caption>A tibble: 6 × 6</caption>\n",
       "<thead>\n",
       "\t<tr><th scope=col>sex</th><th scope=col>Dx</th><th scope=col>Cluster</th><th scope=col>Med</th><th scope=col>Nnoncases</th><th scope=col>Ncases</th></tr>\n",
       "\t<tr><th scope=col>&lt;chr&gt;</th><th scope=col>&lt;chr&gt;</th><th scope=col>&lt;chr&gt;</th><th scope=col>&lt;chr&gt;</th><th scope=col>&lt;dbl&gt;</th><th scope=col>&lt;dbl&gt;</th></tr>\n",
       "</thead>\n",
       "<tbody>\n",
       "\t<tr><td>Female</td><td>CHD</td><td>probBC </td><td>NoMed     </td><td>42000.949</td><td> 206.108367</td></tr>\n",
       "\t<tr><td>Female</td><td>CHD</td><td>probBC </td><td>Insulin   </td><td>  137.000</td><td>  17.000000</td></tr>\n",
       "\t<tr><td>Female</td><td>CHD</td><td>probBC </td><td>AntiDM    </td><td>  615.000</td><td>  67.000000</td></tr>\n",
       "\t<tr><td>Female</td><td>CHD</td><td>probBC </td><td>AntiHT    </td><td>10480.000</td><td>1320.000000</td></tr>\n",
       "\t<tr><td>Female</td><td>CHD</td><td>probBC </td><td>LipidLower</td><td> 8573.000</td><td>1206.000000</td></tr>\n",
       "\t<tr><td>Female</td><td>CHD</td><td>probDAL</td><td>NoMed     </td><td> 2708.061</td><td>   9.496002</td></tr>\n",
       "</tbody>\n",
       "</table>\n"
      ],
      "text/latex": [
       "A tibble: 6 × 6\n",
       "\\begin{tabular}{llllll}\n",
       " sex & Dx & Cluster & Med & Nnoncases & Ncases\\\\\n",
       " <chr> & <chr> & <chr> & <chr> & <dbl> & <dbl>\\\\\n",
       "\\hline\n",
       "\t Female & CHD & probBC  & NoMed      & 42000.949 &  206.108367\\\\\n",
       "\t Female & CHD & probBC  & Insulin    &   137.000 &   17.000000\\\\\n",
       "\t Female & CHD & probBC  & AntiDM     &   615.000 &   67.000000\\\\\n",
       "\t Female & CHD & probBC  & AntiHT     & 10480.000 & 1320.000000\\\\\n",
       "\t Female & CHD & probBC  & LipidLower &  8573.000 & 1206.000000\\\\\n",
       "\t Female & CHD & probDAL & NoMed      &  2708.061 &    9.496002\\\\\n",
       "\\end{tabular}\n"
      ],
      "text/markdown": [
       "\n",
       "A tibble: 6 × 6\n",
       "\n",
       "| sex &lt;chr&gt; | Dx &lt;chr&gt; | Cluster &lt;chr&gt; | Med &lt;chr&gt; | Nnoncases &lt;dbl&gt; | Ncases &lt;dbl&gt; |\n",
       "|---|---|---|---|---|---|\n",
       "| Female | CHD | probBC  | NoMed      | 42000.949 |  206.108367 |\n",
       "| Female | CHD | probBC  | Insulin    |   137.000 |   17.000000 |\n",
       "| Female | CHD | probBC  | AntiDM     |   615.000 |   67.000000 |\n",
       "| Female | CHD | probBC  | AntiHT     | 10480.000 | 1320.000000 |\n",
       "| Female | CHD | probBC  | LipidLower |  8573.000 | 1206.000000 |\n",
       "| Female | CHD | probDAL | NoMed      |  2708.061 |    9.496002 |\n",
       "\n"
      ],
      "text/plain": [
       "  sex    Dx  Cluster Med        Nnoncases Ncases     \n",
       "1 Female CHD probBC  NoMed      42000.949  206.108367\n",
       "2 Female CHD probBC  Insulin      137.000   17.000000\n",
       "3 Female CHD probBC  AntiDM       615.000   67.000000\n",
       "4 Female CHD probBC  AntiHT     10480.000 1320.000000\n",
       "5 Female CHD probBC  LipidLower  8573.000 1206.000000\n",
       "6 Female CHD probDAL NoMed       2708.061    9.496002"
      ]
     },
     "metadata": {},
     "output_type": "display_data"
    }
   ],
   "source": [
    "head(countdxmed)"
   ]
  },
  {
   "cell_type": "markdown",
   "id": "2aca985a-b831-4a66-b8d6-5193d7489f11",
   "metadata": {},
   "source": [
    "We will also formally test the association between cluster allocation and diseases using logistic regressions where the outcome is each disease and the predictors are the cluster allocations. We will have two models for each disease, one with only clusters, and a second one adjusting for medication."
   ]
  },
  {
   "cell_type": "code",
   "execution_count": 23,
   "id": "dfd12beb-4467-42a4-8ef3-939a35f530f6",
   "metadata": {},
   "outputs": [],
   "source": [
    "assocdxdf <- assocdxfx(clusterdfs)"
   ]
  },
  {
   "cell_type": "code",
   "execution_count": 24,
   "id": "fc83a91f-3aba-46c2-ad08-822afb3bd122",
   "metadata": {},
   "outputs": [
    {
     "name": "stdout",
     "output_type": "stream",
     "text": [
      "\u001b[90m# A tibble: 36 x 5\u001b[39m\n",
      "   sex    Dx_name model        estimates  varcovmat      \n",
      "   \u001b[3m\u001b[90m<chr>\u001b[39m\u001b[23m  \u001b[3m\u001b[90m<chr>\u001b[39m\u001b[23m   \u001b[3m\u001b[90m<chr>\u001b[39m\u001b[23m        \u001b[3m\u001b[90m<list>\u001b[39m\u001b[23m     \u001b[3m\u001b[90m<list>\u001b[39m\u001b[23m         \n",
      "\u001b[90m 1\u001b[39m Female HT      OnlyClusters \u001b[90m<dbl [6]>\u001b[39m  \u001b[90m<dbl [6 x 6]>\u001b[39m  \n",
      "\u001b[90m 2\u001b[39m Female HT      FullModel    \u001b[90m<dbl [29]>\u001b[39m \u001b[90m<dbl [29 x 29]>\u001b[39m\n",
      "\u001b[90m 3\u001b[39m Female CHD     OnlyClusters \u001b[90m<dbl [6]>\u001b[39m  \u001b[90m<dbl [6 x 6]>\u001b[39m  \n",
      "\u001b[90m 4\u001b[39m Female CHD     FullModel    \u001b[90m<dbl [29]>\u001b[39m \u001b[90m<dbl [29 x 29]>\u001b[39m\n",
      "\u001b[90m 5\u001b[39m Female Stroke  OnlyClusters \u001b[90m<dbl [6]>\u001b[39m  \u001b[90m<dbl [6 x 6]>\u001b[39m  \n",
      "\u001b[90m 6\u001b[39m Female Stroke  FullModel    \u001b[90m<dbl [29]>\u001b[39m \u001b[90m<dbl [29 x 29]>\u001b[39m\n",
      "\u001b[90m 7\u001b[39m Female PAD     OnlyClusters \u001b[90m<dbl [6]>\u001b[39m  \u001b[90m<dbl [6 x 6]>\u001b[39m  \n",
      "\u001b[90m 8\u001b[39m Female PAD     FullModel    \u001b[90m<dbl [29]>\u001b[39m \u001b[90m<dbl [29 x 29]>\u001b[39m\n",
      "\u001b[90m 9\u001b[39m Female CKD     OnlyClusters \u001b[90m<dbl [6]>\u001b[39m  \u001b[90m<dbl [6 x 6]>\u001b[39m  \n",
      "\u001b[90m10\u001b[39m Female CKD     FullModel    \u001b[90m<dbl [29]>\u001b[39m \u001b[90m<dbl [29 x 29]>\u001b[39m\n",
      "\u001b[90m# i 26 more rows\u001b[39m\n"
     ]
    }
   ],
   "source": [
    "print(assocdxdf)"
   ]
  },
  {
   "cell_type": "markdown",
   "id": "99772975-df04-46b4-9f64-768fb08beab1",
   "metadata": {},
   "source": [
    "---"
   ]
  },
  {
   "cell_type": "markdown",
   "id": "d104bd00-e939-42a3-8e1c-67f2e9cb5800",
   "metadata": {},
   "source": [
    "## Adding survival data"
   ]
  },
  {
   "cell_type": "markdown",
   "id": "8cd06418-f7c6-41c9-b7d7-251f3ccdc51c",
   "metadata": {},
   "source": [
    "As explained before, since we want to be careful when adding survival data for analysis, we have prepared a function separately for both outcomes, and making sure we exclude individuals who already experience the events under study:"
   ]
  },
  {
   "cell_type": "code",
   "execution_count": 46,
   "id": "177178b2-203d-4d13-85a0-95347b0a64d9",
   "metadata": {},
   "outputs": [],
   "source": [
    "clustersurvdfs <- addsurvdat(X = clusterdfs, SurvMACEDf = survmacedat, SurvDMDf = survdmdat)"
   ]
  },
  {
   "cell_type": "code",
   "execution_count": 47,
   "id": "b675280c-8f1e-4a63-b4dc-f7f7f92064b2",
   "metadata": {},
   "outputs": [
    {
     "name": "stdout",
     "output_type": "stream",
     "text": [
      "\u001b[90m# A tibble: 4 x 3\u001b[39m\n",
      "  sex    outcome data                  \n",
      "  \u001b[3m\u001b[90m<chr>\u001b[39m\u001b[23m  \u001b[3m\u001b[90m<chr>\u001b[39m\u001b[23m   \u001b[3m\u001b[90m<list>\u001b[39m\u001b[23m                \n",
      "\u001b[90m1\u001b[39m Female MACE    \u001b[90m<tibble [73,378 x 34]>\u001b[39m\n",
      "\u001b[90m2\u001b[39m Male   MACE    \u001b[90m<tibble [60,348 x 33]>\u001b[39m\n",
      "\u001b[90m3\u001b[39m Female DM      \u001b[90m<tibble [34,581 x 32]>\u001b[39m\n",
      "\u001b[90m4\u001b[39m Male   DM      \u001b[90m<tibble [29,006 x 31]>\u001b[39m\n"
     ]
    }
   ],
   "source": [
    "print(clustersurvdfs)"
   ]
  },
  {
   "cell_type": "markdown",
   "id": "fcd0326f-64a3-48d6-a6b3-e0727b3b2a43",
   "metadata": {},
   "source": [
    "`data` now contain the data necessary to run survival analysis."
   ]
  },
  {
   "cell_type": "markdown",
   "id": "02b1fd24-8e46-40af-ace6-0b8258f5c8e8",
   "metadata": {},
   "source": [
    "---"
   ]
  },
  {
   "cell_type": "markdown",
   "id": "a8ac9d5f-6bff-473e-8f10-ec45229e97b6",
   "metadata": {},
   "source": [
    "## Creating follow-up subsets"
   ]
  },
  {
   "cell_type": "markdown",
   "id": "7dd6afe5-4568-410b-8e54-3ff6b35c4950",
   "metadata": {},
   "source": [
    "In each subset the follow-up will be censored at a specific point in time:"
   ]
  },
  {
   "cell_type": "code",
   "execution_count": 49,
   "id": "b59a3855-e459-4471-8c3f-e2c8a7cfe014",
   "metadata": {},
   "outputs": [
    {
     "name": "stdout",
     "output_type": "stream",
     "text": [
      "\u001b[90m# A tibble: 8 x 4\u001b[39m\n",
      "  sex    outcome data                     fut\n",
      "  \u001b[3m\u001b[90m<chr>\u001b[39m\u001b[23m  \u001b[3m\u001b[90m<chr>\u001b[39m\u001b[23m   \u001b[3m\u001b[90m<list>\u001b[39m\u001b[23m                 \u001b[3m\u001b[90m<dbl>\u001b[39m\u001b[23m\n",
      "\u001b[90m1\u001b[39m Female MACE    \u001b[90m<tibble [73,378 x 34]>\u001b[39m     5\n",
      "\u001b[90m2\u001b[39m Female MACE    \u001b[90m<tibble [73,378 x 34]>\u001b[39m    10\n",
      "\u001b[90m3\u001b[39m Male   MACE    \u001b[90m<tibble [60,348 x 33]>\u001b[39m     5\n",
      "\u001b[90m4\u001b[39m Male   MACE    \u001b[90m<tibble [60,348 x 33]>\u001b[39m    10\n",
      "\u001b[90m5\u001b[39m Female DM      \u001b[90m<tibble [34,581 x 32]>\u001b[39m     5\n",
      "\u001b[90m6\u001b[39m Female DM      \u001b[90m<tibble [34,581 x 32]>\u001b[39m    10\n",
      "\u001b[90m7\u001b[39m Male   DM      \u001b[90m<tibble [29,006 x 31]>\u001b[39m     5\n",
      "\u001b[90m8\u001b[39m Male   DM      \u001b[90m<tibble [29,006 x 31]>\u001b[39m    10\n"
     ]
    }
   ],
   "source": [
    "clustersurvdfs <- futsubsetsfx(clustersurvdfs)\n",
    "print(clustersurvdfs)"
   ]
  },
  {
   "cell_type": "markdown",
   "id": "0dccd1cf-b204-4319-a52d-bf236ff27dbe",
   "metadata": {},
   "source": [
    "## Summary of survival data"
   ]
  },
  {
   "cell_type": "markdown",
   "id": "095be00d-4cdf-4923-8867-822c5568f716",
   "metadata": {},
   "source": [
    "We need information on the data available for survival analysis. Here is the function:"
   ]
  },
  {
   "cell_type": "code",
   "execution_count": 52,
   "id": "5c1197ad-f41c-4559-ab40-5fbcdad61c8d",
   "metadata": {},
   "outputs": [
    {
     "data": {
      "text/html": [
       "<table class=\"dataframe\">\n",
       "<caption>A tibble: 8 × 11</caption>\n",
       "<thead>\n",
       "\t<tr><th scope=col>sex</th><th scope=col>outcome</th><th scope=col>fut</th><th scope=col>N</th><th scope=col>Ncases</th><th scope=col>TPT</th><th scope=col>timeq2.5</th><th scope=col>timeq25</th><th scope=col>timeq50</th><th scope=col>timeq75</th><th scope=col>timeq97.5</th></tr>\n",
       "\t<tr><th scope=col>&lt;chr&gt;</th><th scope=col>&lt;chr&gt;</th><th scope=col>&lt;dbl&gt;</th><th scope=col>&lt;int&gt;</th><th scope=col>&lt;dbl&gt;</th><th scope=col>&lt;dbl&gt;</th><th scope=col>&lt;dbl&gt;</th><th scope=col>&lt;dbl&gt;</th><th scope=col>&lt;dbl&gt;</th><th scope=col>&lt;dbl&gt;</th><th scope=col>&lt;dbl&gt;</th></tr>\n",
       "</thead>\n",
       "<tbody>\n",
       "\t<tr><td>Female</td><td>MACE</td><td> 5</td><td>73378</td><td>1349</td><td>363900.5</td><td>5.000000</td><td>5.000000</td><td>5.000000</td><td>5.000000</td><td> 5</td></tr>\n",
       "\t<tr><td>Female</td><td>MACE</td><td>10</td><td>73378</td><td>2926</td><td>644648.0</td><td>6.366667</td><td>8.104038</td><td>8.947296</td><td>9.607118</td><td>10</td></tr>\n",
       "\t<tr><td>Male  </td><td>MACE</td><td> 5</td><td>60348</td><td>2506</td><td>295798.6</td><td>3.159480</td><td>5.000000</td><td>5.000000</td><td>5.000000</td><td> 5</td></tr>\n",
       "\t<tr><td>Male  </td><td>MACE</td><td>10</td><td>60348</td><td>4927</td><td>519200.7</td><td>3.159480</td><td>8.027379</td><td>8.895277</td><td>9.593429</td><td>10</td></tr>\n",
       "\t<tr><td>Female</td><td>DM  </td><td> 5</td><td>34581</td><td> 665</td><td>171313.8</td><td>5.000000</td><td>5.000000</td><td>5.000000</td><td>5.000000</td><td> 5</td></tr>\n",
       "\t<tr><td>Female</td><td>DM  </td><td>10</td><td>34581</td><td>1159</td><td>303403.6</td><td>6.151951</td><td>8.202601</td><td>8.870637</td><td>9.604381</td><td>10</td></tr>\n",
       "\t<tr><td>Male  </td><td>DM  </td><td> 5</td><td>29006</td><td> 938</td><td>142786.5</td><td>3.909993</td><td>5.000000</td><td>5.000000</td><td>5.000000</td><td> 5</td></tr>\n",
       "\t<tr><td>Male  </td><td>DM  </td><td>10</td><td>29006</td><td>1578</td><td>251704.8</td><td>3.909993</td><td>8.109514</td><td>8.851472</td><td>9.587953</td><td>10</td></tr>\n",
       "</tbody>\n",
       "</table>\n"
      ],
      "text/latex": [
       "A tibble: 8 × 11\n",
       "\\begin{tabular}{lllllllllll}\n",
       " sex & outcome & fut & N & Ncases & TPT & timeq2.5 & timeq25 & timeq50 & timeq75 & timeq97.5\\\\\n",
       " <chr> & <chr> & <dbl> & <int> & <dbl> & <dbl> & <dbl> & <dbl> & <dbl> & <dbl> & <dbl>\\\\\n",
       "\\hline\n",
       "\t Female & MACE &  5 & 73378 & 1349 & 363900.5 & 5.000000 & 5.000000 & 5.000000 & 5.000000 &  5\\\\\n",
       "\t Female & MACE & 10 & 73378 & 2926 & 644648.0 & 6.366667 & 8.104038 & 8.947296 & 9.607118 & 10\\\\\n",
       "\t Male   & MACE &  5 & 60348 & 2506 & 295798.6 & 3.159480 & 5.000000 & 5.000000 & 5.000000 &  5\\\\\n",
       "\t Male   & MACE & 10 & 60348 & 4927 & 519200.7 & 3.159480 & 8.027379 & 8.895277 & 9.593429 & 10\\\\\n",
       "\t Female & DM   &  5 & 34581 &  665 & 171313.8 & 5.000000 & 5.000000 & 5.000000 & 5.000000 &  5\\\\\n",
       "\t Female & DM   & 10 & 34581 & 1159 & 303403.6 & 6.151951 & 8.202601 & 8.870637 & 9.604381 & 10\\\\\n",
       "\t Male   & DM   &  5 & 29006 &  938 & 142786.5 & 3.909993 & 5.000000 & 5.000000 & 5.000000 &  5\\\\\n",
       "\t Male   & DM   & 10 & 29006 & 1578 & 251704.8 & 3.909993 & 8.109514 & 8.851472 & 9.587953 & 10\\\\\n",
       "\\end{tabular}\n"
      ],
      "text/markdown": [
       "\n",
       "A tibble: 8 × 11\n",
       "\n",
       "| sex &lt;chr&gt; | outcome &lt;chr&gt; | fut &lt;dbl&gt; | N &lt;int&gt; | Ncases &lt;dbl&gt; | TPT &lt;dbl&gt; | timeq2.5 &lt;dbl&gt; | timeq25 &lt;dbl&gt; | timeq50 &lt;dbl&gt; | timeq75 &lt;dbl&gt; | timeq97.5 &lt;dbl&gt; |\n",
       "|---|---|---|---|---|---|---|---|---|---|---|\n",
       "| Female | MACE |  5 | 73378 | 1349 | 363900.5 | 5.000000 | 5.000000 | 5.000000 | 5.000000 |  5 |\n",
       "| Female | MACE | 10 | 73378 | 2926 | 644648.0 | 6.366667 | 8.104038 | 8.947296 | 9.607118 | 10 |\n",
       "| Male   | MACE |  5 | 60348 | 2506 | 295798.6 | 3.159480 | 5.000000 | 5.000000 | 5.000000 |  5 |\n",
       "| Male   | MACE | 10 | 60348 | 4927 | 519200.7 | 3.159480 | 8.027379 | 8.895277 | 9.593429 | 10 |\n",
       "| Female | DM   |  5 | 34581 |  665 | 171313.8 | 5.000000 | 5.000000 | 5.000000 | 5.000000 |  5 |\n",
       "| Female | DM   | 10 | 34581 | 1159 | 303403.6 | 6.151951 | 8.202601 | 8.870637 | 9.604381 | 10 |\n",
       "| Male   | DM   |  5 | 29006 |  938 | 142786.5 | 3.909993 | 5.000000 | 5.000000 | 5.000000 |  5 |\n",
       "| Male   | DM   | 10 | 29006 | 1578 | 251704.8 | 3.909993 | 8.109514 | 8.851472 | 9.587953 | 10 |\n",
       "\n"
      ],
      "text/plain": [
       "  sex    outcome fut N     Ncases TPT      timeq2.5 timeq25  timeq50  timeq75 \n",
       "1 Female MACE     5  73378 1349   363900.5 5.000000 5.000000 5.000000 5.000000\n",
       "2 Female MACE    10  73378 2926   644648.0 6.366667 8.104038 8.947296 9.607118\n",
       "3 Male   MACE     5  60348 2506   295798.6 3.159480 5.000000 5.000000 5.000000\n",
       "4 Male   MACE    10  60348 4927   519200.7 3.159480 8.027379 8.895277 9.593429\n",
       "5 Female DM       5  34581  665   171313.8 5.000000 5.000000 5.000000 5.000000\n",
       "6 Female DM      10  34581 1159   303403.6 6.151951 8.202601 8.870637 9.604381\n",
       "7 Male   DM       5  29006  938   142786.5 3.909993 5.000000 5.000000 5.000000\n",
       "8 Male   DM      10  29006 1578   251704.8 3.909993 8.109514 8.851472 9.587953\n",
       "  timeq97.5\n",
       "1  5       \n",
       "2 10       \n",
       "3  5       \n",
       "4 10       \n",
       "5  5       \n",
       "6 10       \n",
       "7  5       \n",
       "8 10       "
      ]
     },
     "metadata": {},
     "output_type": "display_data"
    }
   ],
   "source": [
    "survsum <- survsumfx(clustersurvdfs)\n",
    "survsum"
   ]
  },
  {
   "cell_type": "markdown",
   "id": "e90ce0f9-f1ef-4972-8dab-6cf6569d88bf",
   "metadata": {},
   "source": [
    "---"
   ]
  },
  {
   "cell_type": "markdown",
   "id": "f78430ca-d638-4dc9-bde8-d363471e9223",
   "metadata": {},
   "source": [
    "## Rates of outcomes by cluster"
   ]
  },
  {
   "cell_type": "markdown",
   "id": "7e69b63a-e573-458d-80ac-458b3555f2f0",
   "metadata": {},
   "source": [
    "Similar to what was done in the cross sectiona setting, we will calculate the number of cases and the total follow-up in each cluster using the weighted approach:"
   ]
  },
  {
   "cell_type": "code",
   "execution_count": 53,
   "id": "354f44c7-b41a-44f7-8e28-fb9d9fc5b8d0",
   "metadata": {},
   "outputs": [],
   "source": [
    "ratesbyclus <- ratesclusfx(clustersurvdfs)"
   ]
  },
  {
   "cell_type": "code",
   "execution_count": 54,
   "id": "b1e0c026-ead1-413a-a435-503cc86a9c13",
   "metadata": {},
   "outputs": [
    {
     "data": {
      "text/html": [
       "<table class=\"dataframe\">\n",
       "<caption>A tibble: 6 × 6</caption>\n",
       "<thead>\n",
       "\t<tr><th scope=col>sex</th><th scope=col>outcome</th><th scope=col>Cluster</th><th scope=col>Ncases</th><th scope=col>TPT</th><th scope=col>fut</th></tr>\n",
       "\t<tr><th scope=col>&lt;chr&gt;</th><th scope=col>&lt;chr&gt;</th><th scope=col>&lt;chr&gt;</th><th scope=col>&lt;dbl&gt;</th><th scope=col>&lt;dbl&gt;</th><th scope=col>&lt;dbl&gt;</th></tr>\n",
       "</thead>\n",
       "<tbody>\n",
       "\t<tr><td>Female</td><td>MACE</td><td>probBC </td><td>956.80374</td><td>276917.20</td><td>5</td></tr>\n",
       "\t<tr><td>Female</td><td>MACE</td><td>probDAL</td><td> 92.19911</td><td> 18711.26</td><td>5</td></tr>\n",
       "\t<tr><td>Female</td><td>MACE</td><td>probDHG</td><td> 50.83606</td><td>  6323.39</td><td>5</td></tr>\n",
       "\t<tr><td>Female</td><td>MACE</td><td>probDHT</td><td>130.33750</td><td> 35971.92</td><td>5</td></tr>\n",
       "\t<tr><td>Female</td><td>MACE</td><td>probDIS</td><td> 72.22930</td><td> 12668.50</td><td>5</td></tr>\n",
       "\t<tr><td>Female</td><td>MACE</td><td>probDLT</td><td> 46.59429</td><td> 13308.20</td><td>5</td></tr>\n",
       "</tbody>\n",
       "</table>\n"
      ],
      "text/latex": [
       "A tibble: 6 × 6\n",
       "\\begin{tabular}{llllll}\n",
       " sex & outcome & Cluster & Ncases & TPT & fut\\\\\n",
       " <chr> & <chr> & <chr> & <dbl> & <dbl> & <dbl>\\\\\n",
       "\\hline\n",
       "\t Female & MACE & probBC  & 956.80374 & 276917.20 & 5\\\\\n",
       "\t Female & MACE & probDAL &  92.19911 &  18711.26 & 5\\\\\n",
       "\t Female & MACE & probDHG &  50.83606 &   6323.39 & 5\\\\\n",
       "\t Female & MACE & probDHT & 130.33750 &  35971.92 & 5\\\\\n",
       "\t Female & MACE & probDIS &  72.22930 &  12668.50 & 5\\\\\n",
       "\t Female & MACE & probDLT &  46.59429 &  13308.20 & 5\\\\\n",
       "\\end{tabular}\n"
      ],
      "text/markdown": [
       "\n",
       "A tibble: 6 × 6\n",
       "\n",
       "| sex &lt;chr&gt; | outcome &lt;chr&gt; | Cluster &lt;chr&gt; | Ncases &lt;dbl&gt; | TPT &lt;dbl&gt; | fut &lt;dbl&gt; |\n",
       "|---|---|---|---|---|---|\n",
       "| Female | MACE | probBC  | 956.80374 | 276917.20 | 5 |\n",
       "| Female | MACE | probDAL |  92.19911 |  18711.26 | 5 |\n",
       "| Female | MACE | probDHG |  50.83606 |   6323.39 | 5 |\n",
       "| Female | MACE | probDHT | 130.33750 |  35971.92 | 5 |\n",
       "| Female | MACE | probDIS |  72.22930 |  12668.50 | 5 |\n",
       "| Female | MACE | probDLT |  46.59429 |  13308.20 | 5 |\n",
       "\n"
      ],
      "text/plain": [
       "  sex    outcome Cluster Ncases    TPT       fut\n",
       "1 Female MACE    probBC  956.80374 276917.20 5  \n",
       "2 Female MACE    probDAL  92.19911  18711.26 5  \n",
       "3 Female MACE    probDHG  50.83606   6323.39 5  \n",
       "4 Female MACE    probDHT 130.33750  35971.92 5  \n",
       "5 Female MACE    probDIS  72.22930  12668.50 5  \n",
       "6 Female MACE    probDLT  46.59429  13308.20 5  "
      ]
     },
     "metadata": {},
     "output_type": "display_data"
    }
   ],
   "source": [
    "head(ratesbyclus)"
   ]
  },
  {
   "cell_type": "markdown",
   "id": "e7b64061-20c4-419e-b95b-9918996d5e64",
   "metadata": {},
   "source": [
    "We will also do this by medication status:"
   ]
  },
  {
   "cell_type": "code",
   "execution_count": 55,
   "id": "4d382b8e-60aa-41f2-afe1-ee9172c393cc",
   "metadata": {},
   "outputs": [],
   "source": [
    "ratesbyclusmed <- ratesclusmedfx(clustersurvdfs)"
   ]
  },
  {
   "cell_type": "code",
   "execution_count": 56,
   "id": "622c2397-a9ae-4768-945a-8b0b1d090e1f",
   "metadata": {},
   "outputs": [
    {
     "data": {
      "text/html": [
       "<table class=\"dataframe\">\n",
       "<caption>A tibble: 6 × 7</caption>\n",
       "<thead>\n",
       "\t<tr><th scope=col>sex</th><th scope=col>outcome</th><th scope=col>Cluster</th><th scope=col>Med_name</th><th scope=col>Ncases</th><th scope=col>TPT</th><th scope=col>fut</th></tr>\n",
       "\t<tr><th scope=col>&lt;chr&gt;</th><th scope=col>&lt;chr&gt;</th><th scope=col>&lt;chr&gt;</th><th scope=col>&lt;chr&gt;</th><th scope=col>&lt;dbl&gt;</th><th scope=col>&lt;dbl&gt;</th><th scope=col>&lt;dbl&gt;</th></tr>\n",
       "</thead>\n",
       "<tbody>\n",
       "\t<tr><td>Female</td><td>MACE</td><td>probBC </td><td>AntiDM    </td><td> 32.929531</td><td>  2863.6116</td><td>5</td></tr>\n",
       "\t<tr><td>Female</td><td>MACE</td><td>probBC </td><td>AntiHT    </td><td>365.702399</td><td> 48673.5125</td><td>5</td></tr>\n",
       "\t<tr><td>Female</td><td>MACE</td><td>probBC </td><td>Insulin   </td><td> 10.178344</td><td>   630.9561</td><td>5</td></tr>\n",
       "\t<tr><td>Female</td><td>MACE</td><td>probBC </td><td>LipidLower</td><td>247.432195</td><td> 39067.3397</td><td>5</td></tr>\n",
       "\t<tr><td>Female</td><td>MACE</td><td>probBC </td><td>NoMed     </td><td>495.310186</td><td>207067.3974</td><td>5</td></tr>\n",
       "\t<tr><td>Female</td><td>MACE</td><td>probDAL</td><td>AntiDM    </td><td>  2.868887</td><td>   197.8934</td><td>5</td></tr>\n",
       "</tbody>\n",
       "</table>\n"
      ],
      "text/latex": [
       "A tibble: 6 × 7\n",
       "\\begin{tabular}{lllllll}\n",
       " sex & outcome & Cluster & Med\\_name & Ncases & TPT & fut\\\\\n",
       " <chr> & <chr> & <chr> & <chr> & <dbl> & <dbl> & <dbl>\\\\\n",
       "\\hline\n",
       "\t Female & MACE & probBC  & AntiDM     &  32.929531 &   2863.6116 & 5\\\\\n",
       "\t Female & MACE & probBC  & AntiHT     & 365.702399 &  48673.5125 & 5\\\\\n",
       "\t Female & MACE & probBC  & Insulin    &  10.178344 &    630.9561 & 5\\\\\n",
       "\t Female & MACE & probBC  & LipidLower & 247.432195 &  39067.3397 & 5\\\\\n",
       "\t Female & MACE & probBC  & NoMed      & 495.310186 & 207067.3974 & 5\\\\\n",
       "\t Female & MACE & probDAL & AntiDM     &   2.868887 &    197.8934 & 5\\\\\n",
       "\\end{tabular}\n"
      ],
      "text/markdown": [
       "\n",
       "A tibble: 6 × 7\n",
       "\n",
       "| sex &lt;chr&gt; | outcome &lt;chr&gt; | Cluster &lt;chr&gt; | Med_name &lt;chr&gt; | Ncases &lt;dbl&gt; | TPT &lt;dbl&gt; | fut &lt;dbl&gt; |\n",
       "|---|---|---|---|---|---|---|\n",
       "| Female | MACE | probBC  | AntiDM     |  32.929531 |   2863.6116 | 5 |\n",
       "| Female | MACE | probBC  | AntiHT     | 365.702399 |  48673.5125 | 5 |\n",
       "| Female | MACE | probBC  | Insulin    |  10.178344 |    630.9561 | 5 |\n",
       "| Female | MACE | probBC  | LipidLower | 247.432195 |  39067.3397 | 5 |\n",
       "| Female | MACE | probBC  | NoMed      | 495.310186 | 207067.3974 | 5 |\n",
       "| Female | MACE | probDAL | AntiDM     |   2.868887 |    197.8934 | 5 |\n",
       "\n"
      ],
      "text/plain": [
       "  sex    outcome Cluster Med_name   Ncases     TPT         fut\n",
       "1 Female MACE    probBC  AntiDM      32.929531   2863.6116 5  \n",
       "2 Female MACE    probBC  AntiHT     365.702399  48673.5125 5  \n",
       "3 Female MACE    probBC  Insulin     10.178344    630.9561 5  \n",
       "4 Female MACE    probBC  LipidLower 247.432195  39067.3397 5  \n",
       "5 Female MACE    probBC  NoMed      495.310186 207067.3974 5  \n",
       "6 Female MACE    probDAL AntiDM       2.868887    197.8934 5  "
      ]
     },
     "metadata": {},
     "output_type": "display_data"
    }
   ],
   "source": [
    "head(ratesbyclusmed)"
   ]
  },
  {
   "cell_type": "markdown",
   "id": "cbc9cb74-592e-4a85-b088-683b0ea3db80",
   "metadata": {},
   "source": [
    "---"
   ]
  },
  {
   "cell_type": "markdown",
   "id": "242f879b-7e83-4a03-81c5-16ebe2121dcd",
   "metadata": {},
   "source": [
    "## Cox models"
   ]
  },
  {
   "cell_type": "markdown",
   "id": "67d841d9-f714-4a28-babb-4a7fb5a6d650",
   "metadata": {
    "citation-manager": {
     "citations": {
      "itp38": [
       {
        "id": "10831815/FPUFQKFI",
        "source": "zotero"
       }
      ],
      "pzdxs": [
       {
        "id": "10831815/ZY2CL5NC",
        "source": "zotero"
       }
      ]
     }
    },
    "tags": []
   },
   "source": [
    "To quantify the association of clusters to MACE, as well as its potential contribution for prediction, we will compare two models. The reference model will include all predictors that are part of SCORE2, the risk stratification tool for CVD recommended by the European Society of Cardiology <cite id=\"pzdxs\"><a href=\"#zotero|10831815/ZY2CL5NC\">(SCORE2 working group and ESC Cardiovascular risk collaboration, 2021)</a></cite>. We will use a version of this score that has been validated in diabetic populations, and includes some additional clinically useful predictors <cite id=\"itp38\"><a href=\"#zotero|10831815/FPUFQKFI\">(SCORE2-Diabetes Working Group and the ESC Cardiovascular Risk Collaboration, 2023)</a></cite>. Additionally, for the sake of completeness, some important pre-existing conditions and pharmacological treatments, such as hypertension/antihypertensives, as well as any predictor that we had in our initial input table that are not part of SCORE2, will also be included. We will compare this reference model to one that includes also the cluster probabilities and then we'll compare the ability of these two models to predict MACE."
   ]
  },
  {
   "cell_type": "markdown",
   "id": "ab6515d6-54be-4f53-ba48-dda0471f46e4",
   "metadata": {},
   "source": [
    "Similarly, for diabetes we will also fit two models, one containing all biomarkers and another one containing the biomarkers plus the cluster probabilities."
   ]
  },
  {
   "cell_type": "markdown",
   "id": "c2027aa5-ab11-4cd8-afe6-4ae7125c343f",
   "metadata": {
    "citation-manager": {
     "citations": {
      "0lvet": [
       {
        "id": "10831815/UYLBIXH3",
        "source": "zotero"
       }
      ]
     }
    },
    "tags": []
   },
   "source": [
    "The way we will introduce the cluster probabilities into the Cox models will be employing the log-ratio transformation <cite id=\"0lvet\"><a href=\"#zotero|10831815/UYLBIXH3\">(Coenders &#38; Pawlowsky-Glahn, 2020)</a></cite>."
   ]
  },
  {
   "cell_type": "markdown",
   "id": "dd15cec7-9a05-40ad-a6c0-9ae590f0041a",
   "metadata": {},
   "source": [
    "#### Fitting models"
   ]
  },
  {
   "cell_type": "code",
   "execution_count": 57,
   "id": "6083ca6a-eaea-4f7e-a62c-f1e9fc6a644c",
   "metadata": {},
   "outputs": [],
   "source": [
    "coxmoddf <- coxmodels(clustersurvdfs)"
   ]
  },
  {
   "cell_type": "code",
   "execution_count": 58,
   "id": "e7959ce1-1d58-4291-93f1-44bb8a0cb74c",
   "metadata": {},
   "outputs": [
    {
     "name": "stdout",
     "output_type": "stream",
     "text": [
      "\u001b[90m# A tibble: 8 x 8\u001b[39m\n",
      "  sex    outcome data       fut survdf   NullMod    mod_base mod_clus\n",
      "  \u001b[3m\u001b[90m<chr>\u001b[39m\u001b[23m  \u001b[3m\u001b[90m<chr>\u001b[39m\u001b[23m   \u001b[3m\u001b[90m<list>\u001b[39m\u001b[23m   \u001b[3m\u001b[90m<dbl>\u001b[39m\u001b[23m \u001b[3m\u001b[90m<list>\u001b[39m\u001b[23m   \u001b[3m\u001b[90m<list>\u001b[39m\u001b[23m     \u001b[3m\u001b[90m<list>\u001b[39m\u001b[23m   \u001b[3m\u001b[90m<list>\u001b[39m\u001b[23m  \n",
      "\u001b[90m1\u001b[39m Female MACE    \u001b[90m<tibble>\u001b[39m     5 \u001b[90m<tibble>\u001b[39m \u001b[90m<cxph.nll>\u001b[39m \u001b[90m<coxph>\u001b[39m  \u001b[90m<coxph>\u001b[39m \n",
      "\u001b[90m2\u001b[39m Female MACE    \u001b[90m<tibble>\u001b[39m    10 \u001b[90m<tibble>\u001b[39m \u001b[90m<cxph.nll>\u001b[39m \u001b[90m<coxph>\u001b[39m  \u001b[90m<coxph>\u001b[39m \n",
      "\u001b[90m3\u001b[39m Male   MACE    \u001b[90m<tibble>\u001b[39m     5 \u001b[90m<tibble>\u001b[39m \u001b[90m<cxph.nll>\u001b[39m \u001b[90m<coxph>\u001b[39m  \u001b[90m<coxph>\u001b[39m \n",
      "\u001b[90m4\u001b[39m Male   MACE    \u001b[90m<tibble>\u001b[39m    10 \u001b[90m<tibble>\u001b[39m \u001b[90m<cxph.nll>\u001b[39m \u001b[90m<coxph>\u001b[39m  \u001b[90m<coxph>\u001b[39m \n",
      "\u001b[90m5\u001b[39m Female DM      \u001b[90m<tibble>\u001b[39m     5 \u001b[90m<tibble>\u001b[39m \u001b[90m<cxph.nll>\u001b[39m \u001b[90m<coxph>\u001b[39m  \u001b[90m<coxph>\u001b[39m \n",
      "\u001b[90m6\u001b[39m Female DM      \u001b[90m<tibble>\u001b[39m    10 \u001b[90m<tibble>\u001b[39m \u001b[90m<cxph.nll>\u001b[39m \u001b[90m<coxph>\u001b[39m  \u001b[90m<coxph>\u001b[39m \n",
      "\u001b[90m7\u001b[39m Male   DM      \u001b[90m<tibble>\u001b[39m     5 \u001b[90m<tibble>\u001b[39m \u001b[90m<cxph.nll>\u001b[39m \u001b[90m<coxph>\u001b[39m  \u001b[90m<coxph>\u001b[39m \n",
      "\u001b[90m8\u001b[39m Male   DM      \u001b[90m<tibble>\u001b[39m    10 \u001b[90m<tibble>\u001b[39m \u001b[90m<cxph.nll>\u001b[39m \u001b[90m<coxph>\u001b[39m  \u001b[90m<coxph>\u001b[39m \n"
     ]
    }
   ],
   "source": [
    "print(coxmoddf)"
   ]
  },
  {
   "cell_type": "markdown",
   "id": "86bdab42-0645-41f0-9659-1bcfccbb01a6",
   "metadata": {},
   "source": [
    "Here `mod_base` contains the baseline model, while `mod_clus` contains the baseline plus clusters model. `mod_null` contains the null model, which we will use to calculate our metrics."
   ]
  },
  {
   "cell_type": "markdown",
   "id": "8288eff6-a1f0-44f4-b1ba-8b438b75664c",
   "metadata": {},
   "source": [
    "#### Coefficient estimates"
   ]
  },
  {
   "cell_type": "markdown",
   "id": "f107f8e2-ff04-4ffc-8e5f-775f287c6965",
   "metadata": {},
   "source": [
    "To properly calculate the effect of clusters, we need the coefficients estimated by the log-ratio models as well as their covariance, contained in the `estimates` and `varcovmat` columns. To properly calculate the expected risk for a given phenotype, we need first the means of all variables in the model, contained in the column `Means` and the parameters of the baseline hazard, contained in the `Afit` column."
   ]
  },
  {
   "cell_type": "code",
   "execution_count": 62,
   "id": "cc63ed72-dfe0-4374-82bc-635447a83f99",
   "metadata": {},
   "outputs": [],
   "source": [
    "survcoefs <- survcoefx(coxmoddf)"
   ]
  },
  {
   "cell_type": "code",
   "execution_count": 63,
   "id": "5bb4f7d0-a662-4ee7-925f-decff09b6fba",
   "metadata": {},
   "outputs": [
    {
     "name": "stdout",
     "output_type": "stream",
     "text": [
      "\u001b[90m# A tibble: 16 x 8\u001b[39m\n",
      "   sex    outcome   fut model estimates  varcovmat       Means      Afit        \n",
      "   \u001b[3m\u001b[90m<chr>\u001b[39m\u001b[23m  \u001b[3m\u001b[90m<chr>\u001b[39m\u001b[23m   \u001b[3m\u001b[90m<dbl>\u001b[39m\u001b[23m \u001b[3m\u001b[90m<chr>\u001b[39m\u001b[23m \u001b[3m\u001b[90m<list>\u001b[39m\u001b[23m     \u001b[3m\u001b[90m<list>\u001b[39m\u001b[23m          \u001b[3m\u001b[90m<list>\u001b[39m\u001b[23m     \u001b[3m\u001b[90m<list>\u001b[39m\u001b[23m      \n",
      "\u001b[90m 1\u001b[39m Female MACE        5 base  \u001b[90m<dbl [30]>\u001b[39m \u001b[90m<dbl [30 x 30]>\u001b[39m \u001b[90m<dbl [30]>\u001b[39m \u001b[90m<named list>\u001b[39m\n",
      "\u001b[90m 2\u001b[39m Female MACE        5 clus  \u001b[90m<dbl [35]>\u001b[39m \u001b[90m<dbl [35 x 35]>\u001b[39m \u001b[90m<dbl [35]>\u001b[39m \u001b[90m<named list>\u001b[39m\n",
      "\u001b[90m 3\u001b[39m Female MACE       10 base  \u001b[90m<dbl [30]>\u001b[39m \u001b[90m<dbl [30 x 30]>\u001b[39m \u001b[90m<dbl [30]>\u001b[39m \u001b[90m<named list>\u001b[39m\n",
      "\u001b[90m 4\u001b[39m Female MACE       10 clus  \u001b[90m<dbl [35]>\u001b[39m \u001b[90m<dbl [35 x 35]>\u001b[39m \u001b[90m<dbl [35]>\u001b[39m \u001b[90m<named list>\u001b[39m\n",
      "\u001b[90m 5\u001b[39m Male   MACE        5 base  \u001b[90m<dbl [30]>\u001b[39m \u001b[90m<dbl [30 x 30]>\u001b[39m \u001b[90m<dbl [30]>\u001b[39m \u001b[90m<named list>\u001b[39m\n",
      "\u001b[90m 6\u001b[39m Male   MACE        5 clus  \u001b[90m<dbl [34]>\u001b[39m \u001b[90m<dbl [34 x 34]>\u001b[39m \u001b[90m<dbl [34]>\u001b[39m \u001b[90m<named list>\u001b[39m\n",
      "\u001b[90m 7\u001b[39m Male   MACE       10 base  \u001b[90m<dbl [30]>\u001b[39m \u001b[90m<dbl [30 x 30]>\u001b[39m \u001b[90m<dbl [30]>\u001b[39m \u001b[90m<named list>\u001b[39m\n",
      "\u001b[90m 8\u001b[39m Male   MACE       10 clus  \u001b[90m<dbl [34]>\u001b[39m \u001b[90m<dbl [34 x 34]>\u001b[39m \u001b[90m<dbl [34]>\u001b[39m \u001b[90m<named list>\u001b[39m\n",
      "\u001b[90m 9\u001b[39m Female DM          5 base  \u001b[90m<dbl [22]>\u001b[39m \u001b[90m<dbl [22 x 22]>\u001b[39m \u001b[90m<dbl [22]>\u001b[39m \u001b[90m<named list>\u001b[39m\n",
      "\u001b[90m10\u001b[39m Female DM          5 clus  \u001b[90m<dbl [27]>\u001b[39m \u001b[90m<dbl [27 x 27]>\u001b[39m \u001b[90m<dbl [27]>\u001b[39m \u001b[90m<named list>\u001b[39m\n",
      "\u001b[90m11\u001b[39m Female DM         10 base  \u001b[90m<dbl [22]>\u001b[39m \u001b[90m<dbl [22 x 22]>\u001b[39m \u001b[90m<dbl [22]>\u001b[39m \u001b[90m<named list>\u001b[39m\n",
      "\u001b[90m12\u001b[39m Female DM         10 clus  \u001b[90m<dbl [27]>\u001b[39m \u001b[90m<dbl [27 x 27]>\u001b[39m \u001b[90m<dbl [27]>\u001b[39m \u001b[90m<named list>\u001b[39m\n",
      "\u001b[90m13\u001b[39m Male   DM          5 base  \u001b[90m<dbl [22]>\u001b[39m \u001b[90m<dbl [22 x 22]>\u001b[39m \u001b[90m<dbl [22]>\u001b[39m \u001b[90m<named list>\u001b[39m\n",
      "\u001b[90m14\u001b[39m Male   DM          5 clus  \u001b[90m<dbl [26]>\u001b[39m \u001b[90m<dbl [26 x 26]>\u001b[39m \u001b[90m<dbl [26]>\u001b[39m \u001b[90m<named list>\u001b[39m\n",
      "\u001b[90m15\u001b[39m Male   DM         10 base  \u001b[90m<dbl [22]>\u001b[39m \u001b[90m<dbl [22 x 22]>\u001b[39m \u001b[90m<dbl [22]>\u001b[39m \u001b[90m<named list>\u001b[39m\n",
      "\u001b[90m16\u001b[39m Male   DM         10 clus  \u001b[90m<dbl [26]>\u001b[39m \u001b[90m<dbl [26 x 26]>\u001b[39m \u001b[90m<dbl [26]>\u001b[39m \u001b[90m<named list>\u001b[39m\n"
     ]
    }
   ],
   "source": [
    "print(survcoefs)"
   ]
  },
  {
   "cell_type": "markdown",
   "id": "3b739200-30e7-4e21-be1a-e7f7397acfb5",
   "metadata": {},
   "source": [
    "#### Comparison of predictive ability"
   ]
  },
  {
   "cell_type": "markdown",
   "id": "350f3846-70d8-45d4-b361-7712c7381799",
   "metadata": {},
   "source": [
    "To assess the predictive ability of the two nested models, we will use the gold-standard method: the likelihood ratio test. Given the wide use of the c-statistic, we will also use this metric. However, comparing two c-statistics is not as powerful as the likelihood ratio test."
   ]
  },
  {
   "cell_type": "code",
   "execution_count": 64,
   "id": "db73b1bc-0ea9-49ac-b89c-05bdf3cf4c1c",
   "metadata": {},
   "outputs": [],
   "source": [
    "compmoddf <- comparemods(coxmoddf)"
   ]
  },
  {
   "cell_type": "code",
   "execution_count": 65,
   "id": "15a7f359-71fa-4c6a-a672-03d3e090afff",
   "metadata": {},
   "outputs": [
    {
     "data": {
      "text/html": [
       "<table class=\"dataframe\">\n",
       "<caption>A tibble: 8 × 19</caption>\n",
       "<thead>\n",
       "\t<tr><th scope=col>sex</th><th scope=col>outcome</th><th scope=col>fut</th><th scope=col>LL0</th><th scope=col>LLBase</th><th scope=col>NVBase</th><th scope=col>LLBaseCl</th><th scope=col>NVBaseCl</th><th scope=col>LRTstat</th><th scope=col>LRTdf</th><th scope=col>LRTp</th><th scope=col>AdeqInd</th><th scope=col>CBase</th><th scope=col>CseBase</th><th scope=col>CBaseCl</th><th scope=col>CseBaseCl</th><th scope=col>Cdiff</th><th scope=col>Cdiffse</th><th scope=col>Cdiffp</th></tr>\n",
       "\t<tr><th scope=col>&lt;chr&gt;</th><th scope=col>&lt;chr&gt;</th><th scope=col>&lt;dbl&gt;</th><th scope=col>&lt;dbl&gt;</th><th scope=col>&lt;dbl&gt;</th><th scope=col>&lt;dbl&gt;</th><th scope=col>&lt;dbl&gt;</th><th scope=col>&lt;dbl&gt;</th><th scope=col>&lt;dbl&gt;</th><th scope=col>&lt;dbl&gt;</th><th scope=col>&lt;dbl&gt;</th><th scope=col>&lt;dbl&gt;</th><th scope=col>&lt;dbl&gt;</th><th scope=col>&lt;dbl&gt;</th><th scope=col>&lt;dbl&gt;</th><th scope=col>&lt;dbl&gt;</th><th scope=col>&lt;dbl&gt;</th><th scope=col>&lt;dbl&gt;</th><th scope=col>&lt;dbl&gt;</th></tr>\n",
       "</thead>\n",
       "<tbody>\n",
       "\t<tr><td>Female</td><td>MACE</td><td> 5</td><td>-15100.891</td><td>-14618.848</td><td>30</td><td>-14607.431</td><td>35</td><td>22.834384</td><td>5</td><td>3.630825e-04</td><td>0.9768630</td><td>0.7328223</td><td>0.006465895</td><td>0.7344978</td><td>0.006473680</td><td> 0.0016754179</td><td>0.0009406441</td><td>7.488974e-02</td></tr>\n",
       "\t<tr><td>Female</td><td>MACE</td><td>10</td><td>-32421.972</td><td>-31439.463</td><td>30</td><td>-31425.868</td><td>35</td><td>27.191486</td><td>5</td><td>5.234738e-05</td><td>0.9863511</td><td>0.7264155</td><td>0.004463970</td><td>0.7275248</td><td>0.004465290</td><td> 0.0011092586</td><td>0.0005270384</td><td>3.531727e-02</td></tr>\n",
       "\t<tr><td>Male  </td><td>MACE</td><td> 5</td><td>-27533.009</td><td>-26845.514</td><td>30</td><td>-26805.962</td><td>34</td><td>79.104025</td><td>4</td><td>2.696446e-16</td><td>0.9455991</td><td>0.7036140</td><td>0.004698475</td><td>0.7088752</td><td>0.004684074</td><td> 0.0052611990</td><td>0.0012679722</td><td>3.334912e-05</td></tr>\n",
       "\t<tr><td>Male  </td><td>MACE</td><td>10</td><td>-53605.732</td><td>-52507.146</td><td>30</td><td>-52458.631</td><td>34</td><td>97.028555</td><td>4</td><td>4.219367e-20</td><td>0.9577070</td><td>0.6854264</td><td>0.003528423</td><td>0.6894910</td><td>0.003534826</td><td> 0.0040646343</td><td>0.0008366927</td><td>1.185908e-06</td></tr>\n",
       "\t<tr><td>Female</td><td>DM  </td><td> 5</td><td> -6943.529</td><td> -6165.961</td><td>22</td><td> -6165.128</td><td>27</td><td> 1.665862</td><td>5</td><td>8.931722e-01</td><td>0.9989299</td><td>0.8723565</td><td>0.006691853</td><td>0.8722215</td><td>0.006714578</td><td>-0.0001349738</td><td>0.0002306181</td><td>5.583663e-01</td></tr>\n",
       "\t<tr><td>Female</td><td>DM  </td><td>10</td><td>-12041.251</td><td>-10901.812</td><td>22</td><td>-10896.164</td><td>27</td><td>11.296818</td><td>5</td><td>4.580241e-02</td><td>0.9950673</td><td>0.8543404</td><td>0.005291641</td><td>0.8548817</td><td>0.005284485</td><td> 0.0005412843</td><td>0.0003872531</td><td>1.621872e-01</td></tr>\n",
       "\t<tr><td>Male  </td><td>DM  </td><td> 5</td><td> -9622.876</td><td> -8708.941</td><td>22</td><td> -8708.323</td><td>26</td><td> 1.237698</td><td>4</td><td>8.718537e-01</td><td>0.9993233</td><td>0.8412190</td><td>0.006265155</td><td>0.8413424</td><td>0.006251815</td><td> 0.0001234357</td><td>0.0001595101</td><td>4.390240e-01</td></tr>\n",
       "\t<tr><td>Male  </td><td>DM  </td><td>10</td><td>-16105.258</td><td>-14836.238</td><td>22</td><td>-14831.444</td><td>26</td><td> 9.588273</td><td>4</td><td>4.796469e-02</td><td>0.9962364</td><td>0.8210544</td><td>0.005080388</td><td>0.8222832</td><td>0.005046399</td><td> 0.0012287340</td><td>0.0003787754</td><td>1.178782e-03</td></tr>\n",
       "</tbody>\n",
       "</table>\n"
      ],
      "text/latex": [
       "A tibble: 8 × 19\n",
       "\\begin{tabular}{lllllllllllllllllll}\n",
       " sex & outcome & fut & LL0 & LLBase & NVBase & LLBaseCl & NVBaseCl & LRTstat & LRTdf & LRTp & AdeqInd & CBase & CseBase & CBaseCl & CseBaseCl & Cdiff & Cdiffse & Cdiffp\\\\\n",
       " <chr> & <chr> & <dbl> & <dbl> & <dbl> & <dbl> & <dbl> & <dbl> & <dbl> & <dbl> & <dbl> & <dbl> & <dbl> & <dbl> & <dbl> & <dbl> & <dbl> & <dbl> & <dbl>\\\\\n",
       "\\hline\n",
       "\t Female & MACE &  5 & -15100.891 & -14618.848 & 30 & -14607.431 & 35 & 22.834384 & 5 & 3.630825e-04 & 0.9768630 & 0.7328223 & 0.006465895 & 0.7344978 & 0.006473680 &  0.0016754179 & 0.0009406441 & 7.488974e-02\\\\\n",
       "\t Female & MACE & 10 & -32421.972 & -31439.463 & 30 & -31425.868 & 35 & 27.191486 & 5 & 5.234738e-05 & 0.9863511 & 0.7264155 & 0.004463970 & 0.7275248 & 0.004465290 &  0.0011092586 & 0.0005270384 & 3.531727e-02\\\\\n",
       "\t Male   & MACE &  5 & -27533.009 & -26845.514 & 30 & -26805.962 & 34 & 79.104025 & 4 & 2.696446e-16 & 0.9455991 & 0.7036140 & 0.004698475 & 0.7088752 & 0.004684074 &  0.0052611990 & 0.0012679722 & 3.334912e-05\\\\\n",
       "\t Male   & MACE & 10 & -53605.732 & -52507.146 & 30 & -52458.631 & 34 & 97.028555 & 4 & 4.219367e-20 & 0.9577070 & 0.6854264 & 0.003528423 & 0.6894910 & 0.003534826 &  0.0040646343 & 0.0008366927 & 1.185908e-06\\\\\n",
       "\t Female & DM   &  5 &  -6943.529 &  -6165.961 & 22 &  -6165.128 & 27 &  1.665862 & 5 & 8.931722e-01 & 0.9989299 & 0.8723565 & 0.006691853 & 0.8722215 & 0.006714578 & -0.0001349738 & 0.0002306181 & 5.583663e-01\\\\\n",
       "\t Female & DM   & 10 & -12041.251 & -10901.812 & 22 & -10896.164 & 27 & 11.296818 & 5 & 4.580241e-02 & 0.9950673 & 0.8543404 & 0.005291641 & 0.8548817 & 0.005284485 &  0.0005412843 & 0.0003872531 & 1.621872e-01\\\\\n",
       "\t Male   & DM   &  5 &  -9622.876 &  -8708.941 & 22 &  -8708.323 & 26 &  1.237698 & 4 & 8.718537e-01 & 0.9993233 & 0.8412190 & 0.006265155 & 0.8413424 & 0.006251815 &  0.0001234357 & 0.0001595101 & 4.390240e-01\\\\\n",
       "\t Male   & DM   & 10 & -16105.258 & -14836.238 & 22 & -14831.444 & 26 &  9.588273 & 4 & 4.796469e-02 & 0.9962364 & 0.8210544 & 0.005080388 & 0.8222832 & 0.005046399 &  0.0012287340 & 0.0003787754 & 1.178782e-03\\\\\n",
       "\\end{tabular}\n"
      ],
      "text/markdown": [
       "\n",
       "A tibble: 8 × 19\n",
       "\n",
       "| sex &lt;chr&gt; | outcome &lt;chr&gt; | fut &lt;dbl&gt; | LL0 &lt;dbl&gt; | LLBase &lt;dbl&gt; | NVBase &lt;dbl&gt; | LLBaseCl &lt;dbl&gt; | NVBaseCl &lt;dbl&gt; | LRTstat &lt;dbl&gt; | LRTdf &lt;dbl&gt; | LRTp &lt;dbl&gt; | AdeqInd &lt;dbl&gt; | CBase &lt;dbl&gt; | CseBase &lt;dbl&gt; | CBaseCl &lt;dbl&gt; | CseBaseCl &lt;dbl&gt; | Cdiff &lt;dbl&gt; | Cdiffse &lt;dbl&gt; | Cdiffp &lt;dbl&gt; |\n",
       "|---|---|---|---|---|---|---|---|---|---|---|---|---|---|---|---|---|---|---|\n",
       "| Female | MACE |  5 | -15100.891 | -14618.848 | 30 | -14607.431 | 35 | 22.834384 | 5 | 3.630825e-04 | 0.9768630 | 0.7328223 | 0.006465895 | 0.7344978 | 0.006473680 |  0.0016754179 | 0.0009406441 | 7.488974e-02 |\n",
       "| Female | MACE | 10 | -32421.972 | -31439.463 | 30 | -31425.868 | 35 | 27.191486 | 5 | 5.234738e-05 | 0.9863511 | 0.7264155 | 0.004463970 | 0.7275248 | 0.004465290 |  0.0011092586 | 0.0005270384 | 3.531727e-02 |\n",
       "| Male   | MACE |  5 | -27533.009 | -26845.514 | 30 | -26805.962 | 34 | 79.104025 | 4 | 2.696446e-16 | 0.9455991 | 0.7036140 | 0.004698475 | 0.7088752 | 0.004684074 |  0.0052611990 | 0.0012679722 | 3.334912e-05 |\n",
       "| Male   | MACE | 10 | -53605.732 | -52507.146 | 30 | -52458.631 | 34 | 97.028555 | 4 | 4.219367e-20 | 0.9577070 | 0.6854264 | 0.003528423 | 0.6894910 | 0.003534826 |  0.0040646343 | 0.0008366927 | 1.185908e-06 |\n",
       "| Female | DM   |  5 |  -6943.529 |  -6165.961 | 22 |  -6165.128 | 27 |  1.665862 | 5 | 8.931722e-01 | 0.9989299 | 0.8723565 | 0.006691853 | 0.8722215 | 0.006714578 | -0.0001349738 | 0.0002306181 | 5.583663e-01 |\n",
       "| Female | DM   | 10 | -12041.251 | -10901.812 | 22 | -10896.164 | 27 | 11.296818 | 5 | 4.580241e-02 | 0.9950673 | 0.8543404 | 0.005291641 | 0.8548817 | 0.005284485 |  0.0005412843 | 0.0003872531 | 1.621872e-01 |\n",
       "| Male   | DM   |  5 |  -9622.876 |  -8708.941 | 22 |  -8708.323 | 26 |  1.237698 | 4 | 8.718537e-01 | 0.9993233 | 0.8412190 | 0.006265155 | 0.8413424 | 0.006251815 |  0.0001234357 | 0.0001595101 | 4.390240e-01 |\n",
       "| Male   | DM   | 10 | -16105.258 | -14836.238 | 22 | -14831.444 | 26 |  9.588273 | 4 | 4.796469e-02 | 0.9962364 | 0.8210544 | 0.005080388 | 0.8222832 | 0.005046399 |  0.0012287340 | 0.0003787754 | 1.178782e-03 |\n",
       "\n"
      ],
      "text/plain": [
       "  sex    outcome fut LL0        LLBase     NVBase LLBaseCl   NVBaseCl LRTstat  \n",
       "1 Female MACE     5  -15100.891 -14618.848 30     -14607.431 35       22.834384\n",
       "2 Female MACE    10  -32421.972 -31439.463 30     -31425.868 35       27.191486\n",
       "3 Male   MACE     5  -27533.009 -26845.514 30     -26805.962 34       79.104025\n",
       "4 Male   MACE    10  -53605.732 -52507.146 30     -52458.631 34       97.028555\n",
       "5 Female DM       5   -6943.529  -6165.961 22      -6165.128 27        1.665862\n",
       "6 Female DM      10  -12041.251 -10901.812 22     -10896.164 27       11.296818\n",
       "7 Male   DM       5   -9622.876  -8708.941 22      -8708.323 26        1.237698\n",
       "8 Male   DM      10  -16105.258 -14836.238 22     -14831.444 26        9.588273\n",
       "  LRTdf LRTp         AdeqInd   CBase     CseBase     CBaseCl   CseBaseCl  \n",
       "1 5     3.630825e-04 0.9768630 0.7328223 0.006465895 0.7344978 0.006473680\n",
       "2 5     5.234738e-05 0.9863511 0.7264155 0.004463970 0.7275248 0.004465290\n",
       "3 4     2.696446e-16 0.9455991 0.7036140 0.004698475 0.7088752 0.004684074\n",
       "4 4     4.219367e-20 0.9577070 0.6854264 0.003528423 0.6894910 0.003534826\n",
       "5 5     8.931722e-01 0.9989299 0.8723565 0.006691853 0.8722215 0.006714578\n",
       "6 5     4.580241e-02 0.9950673 0.8543404 0.005291641 0.8548817 0.005284485\n",
       "7 4     8.718537e-01 0.9993233 0.8412190 0.006265155 0.8413424 0.006251815\n",
       "8 4     4.796469e-02 0.9962364 0.8210544 0.005080388 0.8222832 0.005046399\n",
       "  Cdiff         Cdiffse      Cdiffp      \n",
       "1  0.0016754179 0.0009406441 7.488974e-02\n",
       "2  0.0011092586 0.0005270384 3.531727e-02\n",
       "3  0.0052611990 0.0012679722 3.334912e-05\n",
       "4  0.0040646343 0.0008366927 1.185908e-06\n",
       "5 -0.0001349738 0.0002306181 5.583663e-01\n",
       "6  0.0005412843 0.0003872531 1.621872e-01\n",
       "7  0.0001234357 0.0001595101 4.390240e-01\n",
       "8  0.0012287340 0.0003787754 1.178782e-03"
      ]
     },
     "metadata": {},
     "output_type": "display_data"
    }
   ],
   "source": [
    "compmoddf"
   ]
  },
  {
   "cell_type": "markdown",
   "id": "537d791e-90dd-4578-bf6c-ebe927f11b85",
   "metadata": {},
   "source": [
    "Some details of these columns:"
   ]
  },
  {
   "cell_type": "markdown",
   "id": "c5c07a2d-3bed-413f-a679-695a01cc8b38",
   "metadata": {},
   "source": [
    "- `LRTp` is the p-value of the likelihood ratio test comparing models with or without cluster allocations.\n",
    "- `AdeqInd` is the adequacy index comparing likelihood ratios of the two models. 1 minus this value represent the fraction of added information by cluster allocation.\n",
    "- `cdiffp` is the p-value of the difference between c-statistics of the two models."
   ]
  },
  {
   "cell_type": "markdown",
   "id": "9278fcbd-e3d2-46d5-8aa2-93c0fffaf35a",
   "metadata": {},
   "source": [
    "While p-values of both the likelihood ratio tests and the difference between C-statistics show evidence of added value, the adequacy index quantifies how much additional information is obtained when cluster allocations are added on top of the baseline model."
   ]
  },
  {
   "cell_type": "markdown",
   "id": "eba7a514-c501-4e9a-a259-b8197ff0faa0",
   "metadata": {},
   "source": [
    "#### Adequacy index by cluster"
   ]
  },
  {
   "cell_type": "markdown",
   "id": "af2331f4-6ace-4d09-96af-ab8c451d49da",
   "metadata": {},
   "source": [
    "Next we quantify how much is the added value of the new model to each cluster. We do this by recalculating the log likelihood of each model but this time weighting individuals by their cluster probabilities. "
   ]
  },
  {
   "cell_type": "code",
   "execution_count": 66,
   "id": "6c33294e-a8d7-4bb2-9165-5140982126c3",
   "metadata": {},
   "outputs": [],
   "source": [
    "adeqindbyclus <- AdeqIndClusFx(coxmoddf)"
   ]
  },
  {
   "cell_type": "code",
   "execution_count": 67,
   "id": "a65006e6-a660-4828-bb37-a341f4335e68",
   "metadata": {},
   "outputs": [
    {
     "data": {
      "text/html": [
       "<table class=\"dataframe\">\n",
       "<caption>A tibble: 44 × 5</caption>\n",
       "<thead>\n",
       "\t<tr><th scope=col>sex</th><th scope=col>outcome</th><th scope=col>fut</th><th scope=col>Cluster</th><th scope=col>AdeqInd</th></tr>\n",
       "\t<tr><th scope=col>&lt;chr&gt;</th><th scope=col>&lt;chr&gt;</th><th scope=col>&lt;dbl&gt;</th><th scope=col>&lt;chr&gt;</th><th scope=col>&lt;dbl&gt;</th></tr>\n",
       "</thead>\n",
       "<tbody>\n",
       "\t<tr><td>Female</td><td>MACE</td><td> 5</td><td>probBC </td><td>0.9721397</td></tr>\n",
       "\t<tr><td>Female</td><td>MACE</td><td> 5</td><td>probDHT</td><td>0.9640652</td></tr>\n",
       "\t<tr><td>Female</td><td>MACE</td><td> 5</td><td>probDAL</td><td>1.0000000</td></tr>\n",
       "\t<tr><td>Female</td><td>MACE</td><td> 5</td><td>probDLT</td><td>1.0000000</td></tr>\n",
       "\t<tr><td>Female</td><td>MACE</td><td> 5</td><td>probDIS</td><td>0.9516598</td></tr>\n",
       "\t<tr><td>Female</td><td>MACE</td><td> 5</td><td>probDHG</td><td>1.0000000</td></tr>\n",
       "\t<tr><td>Female</td><td>MACE</td><td>10</td><td>probBC </td><td>0.9808320</td></tr>\n",
       "\t<tr><td>Female</td><td>MACE</td><td>10</td><td>probDHT</td><td>0.9785928</td></tr>\n",
       "\t<tr><td>Female</td><td>MACE</td><td>10</td><td>probDAL</td><td>1.0000000</td></tr>\n",
       "\t<tr><td>Female</td><td>MACE</td><td>10</td><td>probDLT</td><td>1.0000000</td></tr>\n",
       "\t<tr><td>Female</td><td>MACE</td><td>10</td><td>probDIS</td><td>1.0000000</td></tr>\n",
       "\t<tr><td>Female</td><td>MACE</td><td>10</td><td>probDHG</td><td>1.0000000</td></tr>\n",
       "\t<tr><td>Male  </td><td>MACE</td><td> 5</td><td>probBC </td><td>0.9463184</td></tr>\n",
       "\t<tr><td>Male  </td><td>MACE</td><td> 5</td><td>probDAL</td><td>0.8472935</td></tr>\n",
       "\t<tr><td>Male  </td><td>MACE</td><td> 5</td><td>probDLT</td><td>0.9930479</td></tr>\n",
       "\t<tr><td>Male  </td><td>MACE</td><td> 5</td><td>probDIS</td><td>1.0000000</td></tr>\n",
       "\t<tr><td>Male  </td><td>MACE</td><td> 5</td><td>probDHG</td><td>1.0000000</td></tr>\n",
       "\t<tr><td>Male  </td><td>MACE</td><td>10</td><td>probBC </td><td>0.9565878</td></tr>\n",
       "\t<tr><td>Male  </td><td>MACE</td><td>10</td><td>probDAL</td><td>0.8905300</td></tr>\n",
       "\t<tr><td>Male  </td><td>MACE</td><td>10</td><td>probDLT</td><td>1.0000000</td></tr>\n",
       "\t<tr><td>Male  </td><td>MACE</td><td>10</td><td>probDIS</td><td>1.0000000</td></tr>\n",
       "\t<tr><td>Male  </td><td>MACE</td><td>10</td><td>probDHG</td><td>0.9770586</td></tr>\n",
       "\t<tr><td>Female</td><td>DM  </td><td> 5</td><td>probBC </td><td>0.9997475</td></tr>\n",
       "\t<tr><td>Female</td><td>DM  </td><td> 5</td><td>probDHT</td><td>0.9966831</td></tr>\n",
       "\t<tr><td>Female</td><td>DM  </td><td> 5</td><td>probDAL</td><td>0.9945323</td></tr>\n",
       "\t<tr><td>Female</td><td>DM  </td><td> 5</td><td>probDLT</td><td>0.9926989</td></tr>\n",
       "\t<tr><td>Female</td><td>DM  </td><td> 5</td><td>probDIS</td><td>1.0000000</td></tr>\n",
       "\t<tr><td>Female</td><td>DM  </td><td> 5</td><td>probDHG</td><td>1.0000000</td></tr>\n",
       "\t<tr><td>Female</td><td>DM  </td><td>10</td><td>probBC </td><td>0.9949573</td></tr>\n",
       "\t<tr><td>Female</td><td>DM  </td><td>10</td><td>probDHT</td><td>0.9960098</td></tr>\n",
       "\t<tr><td>Female</td><td>DM  </td><td>10</td><td>probDAL</td><td>0.9884354</td></tr>\n",
       "\t<tr><td>Female</td><td>DM  </td><td>10</td><td>probDLT</td><td>0.9818388</td></tr>\n",
       "\t<tr><td>Female</td><td>DM  </td><td>10</td><td>probDIS</td><td>0.9721595</td></tr>\n",
       "\t<tr><td>Female</td><td>DM  </td><td>10</td><td>probDHG</td><td>1.0000000</td></tr>\n",
       "\t<tr><td>Male  </td><td>DM  </td><td> 5</td><td>probBC </td><td>0.9993908</td></tr>\n",
       "\t<tr><td>Male  </td><td>DM  </td><td> 5</td><td>probDAL</td><td>1.0000000</td></tr>\n",
       "\t<tr><td>Male  </td><td>DM  </td><td> 5</td><td>probDLT</td><td>0.9977648</td></tr>\n",
       "\t<tr><td>Male  </td><td>DM  </td><td> 5</td><td>probDIS</td><td>0.9936965</td></tr>\n",
       "\t<tr><td>Male  </td><td>DM  </td><td> 5</td><td>probDHG</td><td>0.9997379</td></tr>\n",
       "\t<tr><td>Male  </td><td>DM  </td><td>10</td><td>probBC </td><td>0.9928851</td></tr>\n",
       "\t<tr><td>Male  </td><td>DM  </td><td>10</td><td>probDAL</td><td>0.9834659</td></tr>\n",
       "\t<tr><td>Male  </td><td>DM  </td><td>10</td><td>probDLT</td><td>0.9941154</td></tr>\n",
       "\t<tr><td>Male  </td><td>DM  </td><td>10</td><td>probDIS</td><td>1.0000000</td></tr>\n",
       "\t<tr><td>Male  </td><td>DM  </td><td>10</td><td>probDHG</td><td>1.0000000</td></tr>\n",
       "</tbody>\n",
       "</table>\n"
      ],
      "text/latex": [
       "A tibble: 44 × 5\n",
       "\\begin{tabular}{lllll}\n",
       " sex & outcome & fut & Cluster & AdeqInd\\\\\n",
       " <chr> & <chr> & <dbl> & <chr> & <dbl>\\\\\n",
       "\\hline\n",
       "\t Female & MACE &  5 & probBC  & 0.9721397\\\\\n",
       "\t Female & MACE &  5 & probDHT & 0.9640652\\\\\n",
       "\t Female & MACE &  5 & probDAL & 1.0000000\\\\\n",
       "\t Female & MACE &  5 & probDLT & 1.0000000\\\\\n",
       "\t Female & MACE &  5 & probDIS & 0.9516598\\\\\n",
       "\t Female & MACE &  5 & probDHG & 1.0000000\\\\\n",
       "\t Female & MACE & 10 & probBC  & 0.9808320\\\\\n",
       "\t Female & MACE & 10 & probDHT & 0.9785928\\\\\n",
       "\t Female & MACE & 10 & probDAL & 1.0000000\\\\\n",
       "\t Female & MACE & 10 & probDLT & 1.0000000\\\\\n",
       "\t Female & MACE & 10 & probDIS & 1.0000000\\\\\n",
       "\t Female & MACE & 10 & probDHG & 1.0000000\\\\\n",
       "\t Male   & MACE &  5 & probBC  & 0.9463184\\\\\n",
       "\t Male   & MACE &  5 & probDAL & 0.8472935\\\\\n",
       "\t Male   & MACE &  5 & probDLT & 0.9930479\\\\\n",
       "\t Male   & MACE &  5 & probDIS & 1.0000000\\\\\n",
       "\t Male   & MACE &  5 & probDHG & 1.0000000\\\\\n",
       "\t Male   & MACE & 10 & probBC  & 0.9565878\\\\\n",
       "\t Male   & MACE & 10 & probDAL & 0.8905300\\\\\n",
       "\t Male   & MACE & 10 & probDLT & 1.0000000\\\\\n",
       "\t Male   & MACE & 10 & probDIS & 1.0000000\\\\\n",
       "\t Male   & MACE & 10 & probDHG & 0.9770586\\\\\n",
       "\t Female & DM   &  5 & probBC  & 0.9997475\\\\\n",
       "\t Female & DM   &  5 & probDHT & 0.9966831\\\\\n",
       "\t Female & DM   &  5 & probDAL & 0.9945323\\\\\n",
       "\t Female & DM   &  5 & probDLT & 0.9926989\\\\\n",
       "\t Female & DM   &  5 & probDIS & 1.0000000\\\\\n",
       "\t Female & DM   &  5 & probDHG & 1.0000000\\\\\n",
       "\t Female & DM   & 10 & probBC  & 0.9949573\\\\\n",
       "\t Female & DM   & 10 & probDHT & 0.9960098\\\\\n",
       "\t Female & DM   & 10 & probDAL & 0.9884354\\\\\n",
       "\t Female & DM   & 10 & probDLT & 0.9818388\\\\\n",
       "\t Female & DM   & 10 & probDIS & 0.9721595\\\\\n",
       "\t Female & DM   & 10 & probDHG & 1.0000000\\\\\n",
       "\t Male   & DM   &  5 & probBC  & 0.9993908\\\\\n",
       "\t Male   & DM   &  5 & probDAL & 1.0000000\\\\\n",
       "\t Male   & DM   &  5 & probDLT & 0.9977648\\\\\n",
       "\t Male   & DM   &  5 & probDIS & 0.9936965\\\\\n",
       "\t Male   & DM   &  5 & probDHG & 0.9997379\\\\\n",
       "\t Male   & DM   & 10 & probBC  & 0.9928851\\\\\n",
       "\t Male   & DM   & 10 & probDAL & 0.9834659\\\\\n",
       "\t Male   & DM   & 10 & probDLT & 0.9941154\\\\\n",
       "\t Male   & DM   & 10 & probDIS & 1.0000000\\\\\n",
       "\t Male   & DM   & 10 & probDHG & 1.0000000\\\\\n",
       "\\end{tabular}\n"
      ],
      "text/markdown": [
       "\n",
       "A tibble: 44 × 5\n",
       "\n",
       "| sex &lt;chr&gt; | outcome &lt;chr&gt; | fut &lt;dbl&gt; | Cluster &lt;chr&gt; | AdeqInd &lt;dbl&gt; |\n",
       "|---|---|---|---|---|\n",
       "| Female | MACE |  5 | probBC  | 0.9721397 |\n",
       "| Female | MACE |  5 | probDHT | 0.9640652 |\n",
       "| Female | MACE |  5 | probDAL | 1.0000000 |\n",
       "| Female | MACE |  5 | probDLT | 1.0000000 |\n",
       "| Female | MACE |  5 | probDIS | 0.9516598 |\n",
       "| Female | MACE |  5 | probDHG | 1.0000000 |\n",
       "| Female | MACE | 10 | probBC  | 0.9808320 |\n",
       "| Female | MACE | 10 | probDHT | 0.9785928 |\n",
       "| Female | MACE | 10 | probDAL | 1.0000000 |\n",
       "| Female | MACE | 10 | probDLT | 1.0000000 |\n",
       "| Female | MACE | 10 | probDIS | 1.0000000 |\n",
       "| Female | MACE | 10 | probDHG | 1.0000000 |\n",
       "| Male   | MACE |  5 | probBC  | 0.9463184 |\n",
       "| Male   | MACE |  5 | probDAL | 0.8472935 |\n",
       "| Male   | MACE |  5 | probDLT | 0.9930479 |\n",
       "| Male   | MACE |  5 | probDIS | 1.0000000 |\n",
       "| Male   | MACE |  5 | probDHG | 1.0000000 |\n",
       "| Male   | MACE | 10 | probBC  | 0.9565878 |\n",
       "| Male   | MACE | 10 | probDAL | 0.8905300 |\n",
       "| Male   | MACE | 10 | probDLT | 1.0000000 |\n",
       "| Male   | MACE | 10 | probDIS | 1.0000000 |\n",
       "| Male   | MACE | 10 | probDHG | 0.9770586 |\n",
       "| Female | DM   |  5 | probBC  | 0.9997475 |\n",
       "| Female | DM   |  5 | probDHT | 0.9966831 |\n",
       "| Female | DM   |  5 | probDAL | 0.9945323 |\n",
       "| Female | DM   |  5 | probDLT | 0.9926989 |\n",
       "| Female | DM   |  5 | probDIS | 1.0000000 |\n",
       "| Female | DM   |  5 | probDHG | 1.0000000 |\n",
       "| Female | DM   | 10 | probBC  | 0.9949573 |\n",
       "| Female | DM   | 10 | probDHT | 0.9960098 |\n",
       "| Female | DM   | 10 | probDAL | 0.9884354 |\n",
       "| Female | DM   | 10 | probDLT | 0.9818388 |\n",
       "| Female | DM   | 10 | probDIS | 0.9721595 |\n",
       "| Female | DM   | 10 | probDHG | 1.0000000 |\n",
       "| Male   | DM   |  5 | probBC  | 0.9993908 |\n",
       "| Male   | DM   |  5 | probDAL | 1.0000000 |\n",
       "| Male   | DM   |  5 | probDLT | 0.9977648 |\n",
       "| Male   | DM   |  5 | probDIS | 0.9936965 |\n",
       "| Male   | DM   |  5 | probDHG | 0.9997379 |\n",
       "| Male   | DM   | 10 | probBC  | 0.9928851 |\n",
       "| Male   | DM   | 10 | probDAL | 0.9834659 |\n",
       "| Male   | DM   | 10 | probDLT | 0.9941154 |\n",
       "| Male   | DM   | 10 | probDIS | 1.0000000 |\n",
       "| Male   | DM   | 10 | probDHG | 1.0000000 |\n",
       "\n"
      ],
      "text/plain": [
       "   sex    outcome fut Cluster AdeqInd  \n",
       "1  Female MACE     5  probBC  0.9721397\n",
       "2  Female MACE     5  probDHT 0.9640652\n",
       "3  Female MACE     5  probDAL 1.0000000\n",
       "4  Female MACE     5  probDLT 1.0000000\n",
       "5  Female MACE     5  probDIS 0.9516598\n",
       "6  Female MACE     5  probDHG 1.0000000\n",
       "7  Female MACE    10  probBC  0.9808320\n",
       "8  Female MACE    10  probDHT 0.9785928\n",
       "9  Female MACE    10  probDAL 1.0000000\n",
       "10 Female MACE    10  probDLT 1.0000000\n",
       "11 Female MACE    10  probDIS 1.0000000\n",
       "12 Female MACE    10  probDHG 1.0000000\n",
       "13 Male   MACE     5  probBC  0.9463184\n",
       "14 Male   MACE     5  probDAL 0.8472935\n",
       "15 Male   MACE     5  probDLT 0.9930479\n",
       "16 Male   MACE     5  probDIS 1.0000000\n",
       "17 Male   MACE     5  probDHG 1.0000000\n",
       "18 Male   MACE    10  probBC  0.9565878\n",
       "19 Male   MACE    10  probDAL 0.8905300\n",
       "20 Male   MACE    10  probDLT 1.0000000\n",
       "21 Male   MACE    10  probDIS 1.0000000\n",
       "22 Male   MACE    10  probDHG 0.9770586\n",
       "23 Female DM       5  probBC  0.9997475\n",
       "24 Female DM       5  probDHT 0.9966831\n",
       "25 Female DM       5  probDAL 0.9945323\n",
       "26 Female DM       5  probDLT 0.9926989\n",
       "27 Female DM       5  probDIS 1.0000000\n",
       "28 Female DM       5  probDHG 1.0000000\n",
       "29 Female DM      10  probBC  0.9949573\n",
       "30 Female DM      10  probDHT 0.9960098\n",
       "31 Female DM      10  probDAL 0.9884354\n",
       "32 Female DM      10  probDLT 0.9818388\n",
       "33 Female DM      10  probDIS 0.9721595\n",
       "34 Female DM      10  probDHG 1.0000000\n",
       "35 Male   DM       5  probBC  0.9993908\n",
       "36 Male   DM       5  probDAL 1.0000000\n",
       "37 Male   DM       5  probDLT 0.9977648\n",
       "38 Male   DM       5  probDIS 0.9936965\n",
       "39 Male   DM       5  probDHG 0.9997379\n",
       "40 Male   DM      10  probBC  0.9928851\n",
       "41 Male   DM      10  probDAL 0.9834659\n",
       "42 Male   DM      10  probDLT 0.9941154\n",
       "43 Male   DM      10  probDIS 1.0000000\n",
       "44 Male   DM      10  probDHG 1.0000000"
      ]
     },
     "metadata": {},
     "output_type": "display_data"
    }
   ],
   "source": [
    "adeqindbyclus"
   ]
  },
  {
   "cell_type": "markdown",
   "id": "e7049bc3-8dd7-4567-8ed0-4950e113864e",
   "metadata": {},
   "source": [
    "#### Adequacy index by MACE probability given by baseline model"
   ]
  },
  {
   "cell_type": "markdown",
   "id": "1c44277b-30c6-4dd7-a14a-7b41df0bac38",
   "metadata": {},
   "source": [
    "We are also interested in how the more complex model behaves along the scale of MACE probabilities given by the baseline model:"
   ]
  },
  {
   "cell_type": "code",
   "execution_count": 68,
   "id": "c02a86bc-4286-4ea2-a90d-657c7fb86bb2",
   "metadata": {},
   "outputs": [],
   "source": [
    "adeqindbypre <- AdeqIndByPreFx(coxmoddf)"
   ]
  },
  {
   "cell_type": "code",
   "execution_count": 69,
   "id": "181dcdba-79a2-4520-9335-ce55b06a185e",
   "metadata": {},
   "outputs": [
    {
     "data": {
      "text/html": [
       "<table class=\"dataframe\">\n",
       "<caption>A tibble: 6 × 5</caption>\n",
       "<thead>\n",
       "\t<tr><th scope=col>sex</th><th scope=col>outcome</th><th scope=col>fut</th><th scope=col>threshold</th><th scope=col>AdeqInd</th></tr>\n",
       "\t<tr><th scope=col>&lt;chr&gt;</th><th scope=col>&lt;chr&gt;</th><th scope=col>&lt;dbl&gt;</th><th scope=col>&lt;dbl&gt;</th><th scope=col>&lt;dbl&gt;</th></tr>\n",
       "</thead>\n",
       "<tbody>\n",
       "\t<tr><td>Female</td><td>MACE</td><td>5</td><td>0.00</td><td>0.9768630</td></tr>\n",
       "\t<tr><td>Female</td><td>MACE</td><td>5</td><td>0.01</td><td>0.9525982</td></tr>\n",
       "\t<tr><td>Female</td><td>MACE</td><td>5</td><td>0.02</td><td>0.8928134</td></tr>\n",
       "\t<tr><td>Female</td><td>MACE</td><td>5</td><td>0.03</td><td>0.8220271</td></tr>\n",
       "\t<tr><td>Female</td><td>MACE</td><td>5</td><td>0.04</td><td>0.6485129</td></tr>\n",
       "\t<tr><td>Female</td><td>MACE</td><td>5</td><td>0.05</td><td>0.7717624</td></tr>\n",
       "</tbody>\n",
       "</table>\n"
      ],
      "text/latex": [
       "A tibble: 6 × 5\n",
       "\\begin{tabular}{lllll}\n",
       " sex & outcome & fut & threshold & AdeqInd\\\\\n",
       " <chr> & <chr> & <dbl> & <dbl> & <dbl>\\\\\n",
       "\\hline\n",
       "\t Female & MACE & 5 & 0.00 & 0.9768630\\\\\n",
       "\t Female & MACE & 5 & 0.01 & 0.9525982\\\\\n",
       "\t Female & MACE & 5 & 0.02 & 0.8928134\\\\\n",
       "\t Female & MACE & 5 & 0.03 & 0.8220271\\\\\n",
       "\t Female & MACE & 5 & 0.04 & 0.6485129\\\\\n",
       "\t Female & MACE & 5 & 0.05 & 0.7717624\\\\\n",
       "\\end{tabular}\n"
      ],
      "text/markdown": [
       "\n",
       "A tibble: 6 × 5\n",
       "\n",
       "| sex &lt;chr&gt; | outcome &lt;chr&gt; | fut &lt;dbl&gt; | threshold &lt;dbl&gt; | AdeqInd &lt;dbl&gt; |\n",
       "|---|---|---|---|---|\n",
       "| Female | MACE | 5 | 0.00 | 0.9768630 |\n",
       "| Female | MACE | 5 | 0.01 | 0.9525982 |\n",
       "| Female | MACE | 5 | 0.02 | 0.8928134 |\n",
       "| Female | MACE | 5 | 0.03 | 0.8220271 |\n",
       "| Female | MACE | 5 | 0.04 | 0.6485129 |\n",
       "| Female | MACE | 5 | 0.05 | 0.7717624 |\n",
       "\n"
      ],
      "text/plain": [
       "  sex    outcome fut threshold AdeqInd  \n",
       "1 Female MACE    5   0.00      0.9768630\n",
       "2 Female MACE    5   0.01      0.9525982\n",
       "3 Female MACE    5   0.02      0.8928134\n",
       "4 Female MACE    5   0.03      0.8220271\n",
       "5 Female MACE    5   0.04      0.6485129\n",
       "6 Female MACE    5   0.05      0.7717624"
      ]
     },
     "metadata": {},
     "output_type": "display_data"
    }
   ],
   "source": [
    "head(adeqindbypre)"
   ]
  },
  {
   "cell_type": "markdown",
   "id": "ccd9194b-ba07-4aff-a1b7-96b2cbc964bf",
   "metadata": {},
   "source": [
    "#### Decision curve analysis"
   ]
  },
  {
   "cell_type": "markdown",
   "id": "4f5a9d88-9bef-4a31-81f6-dbee280b826d",
   "metadata": {},
   "source": [
    "The last step in assessing clinical utility of clustering allocations is to perform a decision curve analysis. First we will assess the overall net benefit of both models:"
   ]
  },
  {
   "cell_type": "code",
   "execution_count": 70,
   "id": "0c66afc6-abe9-4581-8a25-2af59f5a8015",
   "metadata": {},
   "outputs": [],
   "source": [
    "dcares <- DCurvFx(coxmoddf)"
   ]
  },
  {
   "cell_type": "code",
   "execution_count": 71,
   "id": "e388a895-b71a-4c6e-b3f3-c27a6e682c91",
   "metadata": {},
   "outputs": [
    {
     "data": {
      "text/html": [
       "<table class=\"dataframe\">\n",
       "<caption>A tibble: 6 × 11</caption>\n",
       "<thead>\n",
       "\t<tr><th scope=col>sex</th><th scope=col>outcome</th><th scope=col>fut</th><th scope=col>pred</th><th scope=col>n</th><th scope=col>threshold</th><th scope=col>pos_rate</th><th scope=col>tp_rate</th><th scope=col>fp_rate</th><th scope=col>net_benefit</th><th scope=col>net_intervention_avoided</th></tr>\n",
       "\t<tr><th scope=col>&lt;chr&gt;</th><th scope=col>&lt;chr&gt;</th><th scope=col>&lt;dbl&gt;</th><th scope=col>&lt;chr&gt;</th><th scope=col>&lt;dbl&gt;</th><th scope=col>&lt;dbl&gt;</th><th scope=col>&lt;dbl&gt;</th><th scope=col>&lt;dbl&gt;</th><th scope=col>&lt;dbl&gt;</th><th scope=col>&lt;dbl&gt;</th><th scope=col>&lt;dbl&gt;</th></tr>\n",
       "</thead>\n",
       "<tbody>\n",
       "\t<tr><td>Female</td><td>MACE</td><td>5</td><td>base</td><td>73378</td><td>0.00</td><td>0.01838426</td><td>0.018384257</td><td>0.98161574</td><td>0.0183842569</td><td>      NaN</td></tr>\n",
       "\t<tr><td>Female</td><td>MACE</td><td>5</td><td>base</td><td>73378</td><td>0.01</td><td>0.01838426</td><td>0.016462700</td><td>0.61087792</td><td>0.0102922160</td><td>0.1805037</td></tr>\n",
       "\t<tr><td>Female</td><td>MACE</td><td>5</td><td>base</td><td>73378</td><td>0.02</td><td>0.01838426</td><td>0.012265257</td><td>0.32002780</td><td>0.0057340770</td><td>0.3617569</td></tr>\n",
       "\t<tr><td>Female</td><td>MACE</td><td>5</td><td>base</td><td>73378</td><td>0.03</td><td>0.01838426</td><td>0.008258606</td><td>0.16134264</td><td>0.0032686277</td><td>0.4928771</td></tr>\n",
       "\t<tr><td>Female</td><td>MACE</td><td>5</td><td>base</td><td>73378</td><td>0.04</td><td>0.01838426</td><td>0.005260432</td><td>0.08452125</td><td>0.0017387137</td><td>0.5821227</td></tr>\n",
       "\t<tr><td>Female</td><td>MACE</td><td>5</td><td>base</td><td>73378</td><td>0.05</td><td>0.01838426</td><td>0.003161711</td><td>0.04514977</td><td>0.0007854068</td><td>0.6472376</td></tr>\n",
       "</tbody>\n",
       "</table>\n"
      ],
      "text/latex": [
       "A tibble: 6 × 11\n",
       "\\begin{tabular}{lllllllllll}\n",
       " sex & outcome & fut & pred & n & threshold & pos\\_rate & tp\\_rate & fp\\_rate & net\\_benefit & net\\_intervention\\_avoided\\\\\n",
       " <chr> & <chr> & <dbl> & <chr> & <dbl> & <dbl> & <dbl> & <dbl> & <dbl> & <dbl> & <dbl>\\\\\n",
       "\\hline\n",
       "\t Female & MACE & 5 & base & 73378 & 0.00 & 0.01838426 & 0.018384257 & 0.98161574 & 0.0183842569 &       NaN\\\\\n",
       "\t Female & MACE & 5 & base & 73378 & 0.01 & 0.01838426 & 0.016462700 & 0.61087792 & 0.0102922160 & 0.1805037\\\\\n",
       "\t Female & MACE & 5 & base & 73378 & 0.02 & 0.01838426 & 0.012265257 & 0.32002780 & 0.0057340770 & 0.3617569\\\\\n",
       "\t Female & MACE & 5 & base & 73378 & 0.03 & 0.01838426 & 0.008258606 & 0.16134264 & 0.0032686277 & 0.4928771\\\\\n",
       "\t Female & MACE & 5 & base & 73378 & 0.04 & 0.01838426 & 0.005260432 & 0.08452125 & 0.0017387137 & 0.5821227\\\\\n",
       "\t Female & MACE & 5 & base & 73378 & 0.05 & 0.01838426 & 0.003161711 & 0.04514977 & 0.0007854068 & 0.6472376\\\\\n",
       "\\end{tabular}\n"
      ],
      "text/markdown": [
       "\n",
       "A tibble: 6 × 11\n",
       "\n",
       "| sex &lt;chr&gt; | outcome &lt;chr&gt; | fut &lt;dbl&gt; | pred &lt;chr&gt; | n &lt;dbl&gt; | threshold &lt;dbl&gt; | pos_rate &lt;dbl&gt; | tp_rate &lt;dbl&gt; | fp_rate &lt;dbl&gt; | net_benefit &lt;dbl&gt; | net_intervention_avoided &lt;dbl&gt; |\n",
       "|---|---|---|---|---|---|---|---|---|---|---|\n",
       "| Female | MACE | 5 | base | 73378 | 0.00 | 0.01838426 | 0.018384257 | 0.98161574 | 0.0183842569 |       NaN |\n",
       "| Female | MACE | 5 | base | 73378 | 0.01 | 0.01838426 | 0.016462700 | 0.61087792 | 0.0102922160 | 0.1805037 |\n",
       "| Female | MACE | 5 | base | 73378 | 0.02 | 0.01838426 | 0.012265257 | 0.32002780 | 0.0057340770 | 0.3617569 |\n",
       "| Female | MACE | 5 | base | 73378 | 0.03 | 0.01838426 | 0.008258606 | 0.16134264 | 0.0032686277 | 0.4928771 |\n",
       "| Female | MACE | 5 | base | 73378 | 0.04 | 0.01838426 | 0.005260432 | 0.08452125 | 0.0017387137 | 0.5821227 |\n",
       "| Female | MACE | 5 | base | 73378 | 0.05 | 0.01838426 | 0.003161711 | 0.04514977 | 0.0007854068 | 0.6472376 |\n",
       "\n"
      ],
      "text/plain": [
       "  sex    outcome fut pred n     threshold pos_rate   tp_rate     fp_rate   \n",
       "1 Female MACE    5   base 73378 0.00      0.01838426 0.018384257 0.98161574\n",
       "2 Female MACE    5   base 73378 0.01      0.01838426 0.016462700 0.61087792\n",
       "3 Female MACE    5   base 73378 0.02      0.01838426 0.012265257 0.32002780\n",
       "4 Female MACE    5   base 73378 0.03      0.01838426 0.008258606 0.16134264\n",
       "5 Female MACE    5   base 73378 0.04      0.01838426 0.005260432 0.08452125\n",
       "6 Female MACE    5   base 73378 0.05      0.01838426 0.003161711 0.04514977\n",
       "  net_benefit  net_intervention_avoided\n",
       "1 0.0183842569       NaN               \n",
       "2 0.0102922160 0.1805037               \n",
       "3 0.0057340770 0.3617569               \n",
       "4 0.0032686277 0.4928771               \n",
       "5 0.0017387137 0.5821227               \n",
       "6 0.0007854068 0.6472376               "
      ]
     },
     "metadata": {},
     "output_type": "display_data"
    }
   ],
   "source": [
    "head(dcares)"
   ]
  },
  {
   "cell_type": "markdown",
   "id": "5a3bb803-79c3-40ac-99c5-3d28967c3684",
   "metadata": {},
   "source": [
    "We will also calculate this by cluster:"
   ]
  },
  {
   "cell_type": "code",
   "execution_count": 72,
   "id": "2f8d5b8a-04d7-4e77-b129-e91737c9cd86",
   "metadata": {},
   "outputs": [],
   "source": [
    "dcaclusres <- DCurvbyClFx(coxmoddf)"
   ]
  },
  {
   "cell_type": "code",
   "execution_count": 73,
   "id": "2169269c-8608-495c-b186-51e50bbfff92",
   "metadata": {},
   "outputs": [
    {
     "data": {
      "text/html": [
       "<table class=\"dataframe\">\n",
       "<caption>A tibble: 6 × 12</caption>\n",
       "<thead>\n",
       "\t<tr><th scope=col>sex</th><th scope=col>outcome</th><th scope=col>fut</th><th scope=col>Cluster</th><th scope=col>pred</th><th scope=col>n</th><th scope=col>threshold</th><th scope=col>pos_rate</th><th scope=col>tp_rate</th><th scope=col>fp_rate</th><th scope=col>net_benefit</th><th scope=col>net_intervention_avoided</th></tr>\n",
       "\t<tr><th scope=col>&lt;chr&gt;</th><th scope=col>&lt;chr&gt;</th><th scope=col>&lt;dbl&gt;</th><th scope=col>&lt;chr&gt;</th><th scope=col>&lt;chr&gt;</th><th scope=col>&lt;dbl&gt;</th><th scope=col>&lt;dbl&gt;</th><th scope=col>&lt;dbl&gt;</th><th scope=col>&lt;dbl&gt;</th><th scope=col>&lt;dbl&gt;</th><th scope=col>&lt;dbl&gt;</th><th scope=col>&lt;dbl&gt;</th></tr>\n",
       "</thead>\n",
       "<tbody>\n",
       "\t<tr><td>Female</td><td>MACE</td><td>5</td><td>probBC</td><td>base</td><td>55802.39</td><td>0.00</td><td>0.01714629</td><td>0.017146286</td><td>0.98285371</td><td>0.0171462861</td><td>      NaN</td></tr>\n",
       "\t<tr><td>Female</td><td>MACE</td><td>5</td><td>probBC</td><td>base</td><td>55802.39</td><td>0.01</td><td>0.01714629</td><td>0.015132583</td><td>0.58025347</td><td>0.0092714372</td><td>0.2032437</td></tr>\n",
       "\t<tr><td>Female</td><td>MACE</td><td>5</td><td>probBC</td><td>base</td><td>55802.39</td><td>0.02</td><td>0.01714629</td><td>0.010878250</td><td>0.28771671</td><td>0.0050064810</td><td>0.3880033</td></tr>\n",
       "\t<tr><td>Female</td><td>MACE</td><td>5</td><td>probBC</td><td>base</td><td>55802.39</td><td>0.03</td><td>0.01714629</td><td>0.006964654</td><td>0.13813947</td><td>0.0026922995</td><td>0.5155081</td></tr>\n",
       "\t<tr><td>Female</td><td>MACE</td><td>5</td><td>probBC</td><td>base</td><td>55802.39</td><td>0.04</td><td>0.01714629</td><td>0.004373570</td><td>0.06933774</td><td>0.0014844973</td><td>0.6069708</td></tr>\n",
       "\t<tr><td>Female</td><td>MACE</td><td>5</td><td>probBC</td><td>base</td><td>55802.39</td><td>0.05</td><td>0.01714629</td><td>0.002497458</td><td>0.03464816</td><td>0.0006738702</td><td>0.6698778</td></tr>\n",
       "</tbody>\n",
       "</table>\n"
      ],
      "text/latex": [
       "A tibble: 6 × 12\n",
       "\\begin{tabular}{llllllllllll}\n",
       " sex & outcome & fut & Cluster & pred & n & threshold & pos\\_rate & tp\\_rate & fp\\_rate & net\\_benefit & net\\_intervention\\_avoided\\\\\n",
       " <chr> & <chr> & <dbl> & <chr> & <chr> & <dbl> & <dbl> & <dbl> & <dbl> & <dbl> & <dbl> & <dbl>\\\\\n",
       "\\hline\n",
       "\t Female & MACE & 5 & probBC & base & 55802.39 & 0.00 & 0.01714629 & 0.017146286 & 0.98285371 & 0.0171462861 &       NaN\\\\\n",
       "\t Female & MACE & 5 & probBC & base & 55802.39 & 0.01 & 0.01714629 & 0.015132583 & 0.58025347 & 0.0092714372 & 0.2032437\\\\\n",
       "\t Female & MACE & 5 & probBC & base & 55802.39 & 0.02 & 0.01714629 & 0.010878250 & 0.28771671 & 0.0050064810 & 0.3880033\\\\\n",
       "\t Female & MACE & 5 & probBC & base & 55802.39 & 0.03 & 0.01714629 & 0.006964654 & 0.13813947 & 0.0026922995 & 0.5155081\\\\\n",
       "\t Female & MACE & 5 & probBC & base & 55802.39 & 0.04 & 0.01714629 & 0.004373570 & 0.06933774 & 0.0014844973 & 0.6069708\\\\\n",
       "\t Female & MACE & 5 & probBC & base & 55802.39 & 0.05 & 0.01714629 & 0.002497458 & 0.03464816 & 0.0006738702 & 0.6698778\\\\\n",
       "\\end{tabular}\n"
      ],
      "text/markdown": [
       "\n",
       "A tibble: 6 × 12\n",
       "\n",
       "| sex &lt;chr&gt; | outcome &lt;chr&gt; | fut &lt;dbl&gt; | Cluster &lt;chr&gt; | pred &lt;chr&gt; | n &lt;dbl&gt; | threshold &lt;dbl&gt; | pos_rate &lt;dbl&gt; | tp_rate &lt;dbl&gt; | fp_rate &lt;dbl&gt; | net_benefit &lt;dbl&gt; | net_intervention_avoided &lt;dbl&gt; |\n",
       "|---|---|---|---|---|---|---|---|---|---|---|---|\n",
       "| Female | MACE | 5 | probBC | base | 55802.39 | 0.00 | 0.01714629 | 0.017146286 | 0.98285371 | 0.0171462861 |       NaN |\n",
       "| Female | MACE | 5 | probBC | base | 55802.39 | 0.01 | 0.01714629 | 0.015132583 | 0.58025347 | 0.0092714372 | 0.2032437 |\n",
       "| Female | MACE | 5 | probBC | base | 55802.39 | 0.02 | 0.01714629 | 0.010878250 | 0.28771671 | 0.0050064810 | 0.3880033 |\n",
       "| Female | MACE | 5 | probBC | base | 55802.39 | 0.03 | 0.01714629 | 0.006964654 | 0.13813947 | 0.0026922995 | 0.5155081 |\n",
       "| Female | MACE | 5 | probBC | base | 55802.39 | 0.04 | 0.01714629 | 0.004373570 | 0.06933774 | 0.0014844973 | 0.6069708 |\n",
       "| Female | MACE | 5 | probBC | base | 55802.39 | 0.05 | 0.01714629 | 0.002497458 | 0.03464816 | 0.0006738702 | 0.6698778 |\n",
       "\n"
      ],
      "text/plain": [
       "  sex    outcome fut Cluster pred n        threshold pos_rate   tp_rate    \n",
       "1 Female MACE    5   probBC  base 55802.39 0.00      0.01714629 0.017146286\n",
       "2 Female MACE    5   probBC  base 55802.39 0.01      0.01714629 0.015132583\n",
       "3 Female MACE    5   probBC  base 55802.39 0.02      0.01714629 0.010878250\n",
       "4 Female MACE    5   probBC  base 55802.39 0.03      0.01714629 0.006964654\n",
       "5 Female MACE    5   probBC  base 55802.39 0.04      0.01714629 0.004373570\n",
       "6 Female MACE    5   probBC  base 55802.39 0.05      0.01714629 0.002497458\n",
       "  fp_rate    net_benefit  net_intervention_avoided\n",
       "1 0.98285371 0.0171462861       NaN               \n",
       "2 0.58025347 0.0092714372 0.2032437               \n",
       "3 0.28771671 0.0050064810 0.3880033               \n",
       "4 0.13813947 0.0026922995 0.5155081               \n",
       "5 0.06933774 0.0014844973 0.6069708               \n",
       "6 0.03464816 0.0006738702 0.6698778               "
      ]
     },
     "metadata": {},
     "output_type": "display_data"
    }
   ],
   "source": [
    "head(dcaclusres)"
   ]
  },
  {
   "cell_type": "markdown",
   "id": "b9e08e45-68ac-42cf-9fb9-54702dd35f19",
   "metadata": {},
   "source": [
    "## Interaction between clusters and medications"
   ]
  },
  {
   "cell_type": "markdown",
   "id": "3515f26c-14b5-41da-947a-3d0eea596e31",
   "metadata": {},
   "source": [
    "Finally, we will assess the interaction between certain medications and clusters:"
   ]
  },
  {
   "cell_type": "code",
   "execution_count": 74,
   "id": "6e0dda42-4c81-4f78-aebd-0e3493789220",
   "metadata": {},
   "outputs": [
    {
     "name": "stderr",
     "output_type": "stream",
     "text": [
      "Warning message:\n",
      "\"\u001b[1m\u001b[22mThere was 1 warning in `dplyr::transmute()`.\n",
      "\u001b[1m\u001b[22m\u001b[36mi\u001b[39m In argument: `mods = purrr::map(...)`.\n",
      "Caused by warning:\n",
      "\u001b[33m!\u001b[39m \u001b[1m\u001b[22mThere was 1 warning in `dplyr::mutate()`.\n",
      "\u001b[1m\u001b[22m\u001b[36mi\u001b[39m In argument: `mods = purrr::map(...)`.\n",
      "Caused by warning in `coxph.fit()`:\n",
      "\u001b[33m!\u001b[39m Loglik converged before variable  7 ; coefficient may be infinite. \"\n"
     ]
    }
   ],
   "source": [
    "interactmods <- interactmodfx(coxmoddf)"
   ]
  },
  {
   "cell_type": "code",
   "execution_count": 75,
   "id": "4d167ee9-a60b-4a7f-8952-a76f05b0489f",
   "metadata": {},
   "outputs": [
    {
     "name": "stdout",
     "output_type": "stream",
     "text": [
      "\u001b[90m# A tibble: 48 x 9\u001b[39m\n",
      "   sex    outcome   fut Med_name   model estimates varcovmat  Means Afit        \n",
      "   \u001b[3m\u001b[90m<chr>\u001b[39m\u001b[23m  \u001b[3m\u001b[90m<chr>\u001b[39m\u001b[23m   \u001b[3m\u001b[90m<dbl>\u001b[39m\u001b[23m \u001b[3m\u001b[90m<chr>\u001b[39m\u001b[23m      \u001b[3m\u001b[90m<chr>\u001b[39m\u001b[23m \u001b[3m\u001b[90m<list>\u001b[39m\u001b[23m    \u001b[3m\u001b[90m<list>\u001b[39m\u001b[23m     \u001b[3m\u001b[90m<lis>\u001b[39m\u001b[23m \u001b[3m\u001b[90m<list>\u001b[39m\u001b[23m      \n",
      "\u001b[90m 1\u001b[39m Female MACE        5 Insulin    Only~ \u001b[90m<dbl>\u001b[39m     \u001b[90m<dbl[...]>\u001b[39m \u001b[90m<dbl>\u001b[39m \u001b[90m<named list>\u001b[39m\n",
      "\u001b[90m 2\u001b[39m Female MACE        5 Insulin    Full~ \u001b[90m<dbl>\u001b[39m     \u001b[90m<dbl[...]>\u001b[39m \u001b[90m<dbl>\u001b[39m \u001b[90m<named list>\u001b[39m\n",
      "\u001b[90m 3\u001b[39m Female MACE        5 AntiDM     Only~ \u001b[90m<dbl>\u001b[39m     \u001b[90m<dbl[...]>\u001b[39m \u001b[90m<dbl>\u001b[39m \u001b[90m<named list>\u001b[39m\n",
      "\u001b[90m 4\u001b[39m Female MACE        5 AntiDM     Full~ \u001b[90m<dbl>\u001b[39m     \u001b[90m<dbl[...]>\u001b[39m \u001b[90m<dbl>\u001b[39m \u001b[90m<named list>\u001b[39m\n",
      "\u001b[90m 5\u001b[39m Female MACE        5 AntiHT     Only~ \u001b[90m<dbl>\u001b[39m     \u001b[90m<dbl[...]>\u001b[39m \u001b[90m<dbl>\u001b[39m \u001b[90m<named list>\u001b[39m\n",
      "\u001b[90m 6\u001b[39m Female MACE        5 AntiHT     Full~ \u001b[90m<dbl>\u001b[39m     \u001b[90m<dbl[...]>\u001b[39m \u001b[90m<dbl>\u001b[39m \u001b[90m<named list>\u001b[39m\n",
      "\u001b[90m 7\u001b[39m Female MACE        5 LipidLower Only~ \u001b[90m<dbl>\u001b[39m     \u001b[90m<dbl[...]>\u001b[39m \u001b[90m<dbl>\u001b[39m \u001b[90m<named list>\u001b[39m\n",
      "\u001b[90m 8\u001b[39m Female MACE        5 LipidLower Full~ \u001b[90m<dbl>\u001b[39m     \u001b[90m<dbl[...]>\u001b[39m \u001b[90m<dbl>\u001b[39m \u001b[90m<named list>\u001b[39m\n",
      "\u001b[90m 9\u001b[39m Female MACE       10 Insulin    Only~ \u001b[90m<dbl>\u001b[39m     \u001b[90m<dbl[...]>\u001b[39m \u001b[90m<dbl>\u001b[39m \u001b[90m<named list>\u001b[39m\n",
      "\u001b[90m10\u001b[39m Female MACE       10 Insulin    Full~ \u001b[90m<dbl>\u001b[39m     \u001b[90m<dbl[...]>\u001b[39m \u001b[90m<dbl>\u001b[39m \u001b[90m<named list>\u001b[39m\n",
      "\u001b[90m# i 38 more rows\u001b[39m\n"
     ]
    }
   ],
   "source": [
    "print(interactmods)"
   ]
  },
  {
   "cell_type": "markdown",
   "id": "6ba21d51-2730-4370-96dc-af40a3e946f9",
   "metadata": {},
   "source": [
    "---"
   ]
  },
  {
   "cell_type": "markdown",
   "id": "e110b0f5-7db2-449b-96fd-93dccc5c45aa",
   "metadata": {},
   "source": [
    "## Saving data"
   ]
  },
  {
   "cell_type": "markdown",
   "id": "3c4b3bbb-9e69-48d6-86ae-4c2bae1b37ae",
   "metadata": {},
   "source": [
    "As done before, we will ask you to save an R file that does not contain any individual data, only summary statistics, as follows:"
   ]
  },
  {
   "cell_type": "code",
   "execution_count": 76,
   "id": "95a7be8f-ea37-4de6-84d5-0f5f7efcf677",
   "metadata": {},
   "outputs": [],
   "source": [
    "result_file2 <- list(\n",
    "    MarkerDistrib = markerdistribdf,\n",
    "    BMIeffOnMarker = bmieffmarkerdf,\n",
    "    CountCovars = countcovarsdf,\n",
    "    CountDXMeds = countdxmed,\n",
    "    CrossSectAssoc = assocdxdf,\n",
    "    SurvSum = survsum,\n",
    "    RatesByClus = ratesbyclus,\n",
    "    RatesByClusMeds = ratesbyclusmed,\n",
    "    SurvCoefs = survcoefs,\n",
    "    Comparison = compmoddf,\n",
    "    AdeqIndByClus = adeqindbyclus,\n",
    "    AdeqIndByPre = adeqindbypre,\n",
    "    DCARes = dcares,\n",
    "    DCAClusREs = dcaclusres,\n",
    "    InteractMods = interactmods\n",
    ")"
   ]
  },
  {
   "cell_type": "code",
   "execution_count": 77,
   "id": "c1279af0-dfdb-4028-bf61-52a24023c52c",
   "metadata": {},
   "outputs": [],
   "source": [
    "save(\n",
    "    result_file2,\n",
    "    file = \"../data/ukb/result_file2.RData\"\n",
    ")"
   ]
  },
  {
   "cell_type": "markdown",
   "id": "c9ad7e84-7cad-4865-ab88-33be22eb6c8e",
   "metadata": {},
   "source": [
    "This file should be uploaded to the respective folder of the cohort in Teams:"
   ]
  },
  {
   "cell_type": "markdown",
   "id": "c8cd95be-03b6-4746-926f-6973eb77ea68",
   "metadata": {},
   "source": [
    "> CrossWP > Analyst working groups > WG1 > UMAP_project > *cohort_name* > data"
   ]
  },
  {
   "cell_type": "markdown",
   "id": "5d91fdd5-7134-4b4c-8616-5cc8e6710b68",
   "metadata": {},
   "source": [
    "---"
   ]
  },
  {
   "cell_type": "markdown",
   "id": "c8640f40-4cd2-4bd6-8772-9f041dc66703",
   "metadata": {},
   "source": [
    "## References"
   ]
  },
  {
   "cell_type": "markdown",
   "id": "c49dd244-ce1d-45b7-a92d-62330e2cfbbb",
   "metadata": {},
   "source": [
    "<!-- BIBLIOGRAPHY START -->\n",
    "<div class=\"csl-bib-body\">\n",
    "  <div class=\"csl-entry\"><i id=\"zotero|10831815/UYLBIXH3\"></i>Coenders, G., &#38; Pawlowsky-Glahn, V. (2020). On interpretations of tests and effect sizes in regression models with a compositional predictor. <i>SORT-Statistics and Operations Research Transactions</i>, <i>44</i>(1), 201–220. https://doi.org/10.2436/20.8080.02.100</div>\n",
    "  <div class=\"csl-entry\"><i id=\"zotero|10831815/ZY2CL5NC\"></i>SCORE2 working group and ESC Cardiovascular risk collaboration. (2021). SCORE2 risk prediction algorithms: new models to estimate 10-year risk of cardiovascular disease in Europe. <i>European Heart Journal</i>, <i>42</i>(25), 2439–2454. https://doi.org/10.1093/eurheartj/ehab309</div>\n",
    "  <div class=\"csl-entry\"><i id=\"zotero|10831815/FPUFQKFI\"></i>SCORE2-Diabetes Working Group and the ESC Cardiovascular Risk Collaboration. (2023). SCORE2-Diabetes: 10-year cardiovascular risk estimation in type 2 diabetes in Europe. <i>European Heart Journal</i>, ehad260. https://doi.org/10.1093/eurheartj/ehad260</div>\n",
    "</div>\n",
    "<!-- BIBLIOGRAPHY END -->"
   ]
  }
 ],
 "metadata": {
  "citation-manager": {
   "items": {
    "zotero": {
     "10831815/FPUFQKFI": {
      "DOI": "10.1093/eurheartj/ehad260",
      "URL": "https://doi.org/10.1093/eurheartj/ehad260",
      "abstract": "To develop and validate a recalibrated prediction model (SCORE2-Diabetes) to estimate the 10-year risk of cardiovascular disease (CVD) in individuals with type 2 diabetes in Europe.SCORE2-Diabetes was developed by extending SCORE2 algorithms using individual-participant data from four large-scale datasets comprising 229 460 participants (43 706 CVD events) with type 2 diabetes and without previous CVD. Sex-specific competing risk-adjusted models were used including conventional risk factors (i.e. age, smoking, systolic blood pressure, total, and HDL-cholesterol), as well as diabetes-related variables (i.e. age at diabetes diagnosis, glycated haemoglobin [HbA1c] and creatinine-based estimated glomerular filtration rate [eGFR]). Models were recalibrated to CVD incidence in four European risk regions. External validation included 217 036 further individuals (38 602 CVD events), and showed good discrimination, and improvement over SCORE2 (C-index change from 0.009 to 0.031). Regional calibration was satisfactory. SCORE2-Diabetes risk predictions varied several-fold, depending on individuals’ levels of diabetes-related factors. For example, in the moderate-risk region, the estimated 10-year CVD risk was 11% for a 60-year-old man, non-smoker, with type 2 diabetes, average conventional risk factors, HbA1c of 50 mmol/mol, eGFR of 90 mL/min/1.73 m2, and age at diabetes diagnosis of 60 years. By contrast, the estimated risk was 17% in a similar man, with HbA1c of 70 mmol/mol, eGFR of 60 mL/min/1.73 m2, and age at diabetes diagnosis of 50 years. For a woman with the same characteristics, the risk was 8% and 13%, respectively.SCORE2-Diabetes, a new algorithm developed, calibrated, and validated to predict 10-year risk of CVD in individuals with type 2 diabetes, enhances identification of individuals at higher risk of developing CVD across Europe.",
      "accessed": {
       "date-parts": [
        [
         2023,
         7,
         13
        ]
       ]
      },
      "author": [
       {
        "family": "SCORE2-Diabetes Working Group and the ESC Cardiovascular Risk Collaboration",
        "given": ""
       }
      ],
      "container-title": "European Heart Journal",
      "id": "10831815/FPUFQKFI",
      "issued": {
       "date-parts": [
        [
         2023,
         5,
         29
        ]
       ]
      },
      "journalAbbreviation": "European Heart Journal",
      "page": "ehad260",
      "shortTitle": "SCORE2-Diabetes",
      "system_id": "zotero|10831815/FPUFQKFI",
      "title": "SCORE2-Diabetes: 10-year cardiovascular risk estimation in type 2 diabetes in Europe",
      "type": "article-journal"
     },
     "10831815/UYLBIXH3": {
      "DOI": "10.2436/20.8080.02.100",
      "URL": "https://raco.cat/index.php/SORT/article/view/371189",
      "accessed": {
       "date-parts": [
        [
         2023,
         7,
         28
        ]
       ]
      },
      "author": [
       {
        "family": "Coenders",
        "given": "Germà"
       },
       {
        "family": "Pawlowsky-Glahn",
        "given": "Vera"
       }
      ],
      "container-title": "SORT-Statistics and Operations Research Transactions",
      "id": "10831815/UYLBIXH3",
      "issue": "1",
      "issued": {
       "date-parts": [
        [
         2020,
         6,
         26
        ]
       ]
      },
      "language": "en",
      "note": "Number: 1",
      "page": "201-220",
      "system_id": "zotero|10831815/UYLBIXH3",
      "title": "On interpretations of tests and effect sizes in regression models with a compositional predictor",
      "type": "article-journal",
      "volume": "44"
     },
     "10831815/ZY2CL5NC": {
      "DOI": "10.1093/eurheartj/ehab309",
      "URL": "https://doi.org/10.1093/eurheartj/ehab309",
      "abstract": "The aim of this study was to develop, validate, and illustrate an updated prediction model (SCORE2) to estimate 10-year fatal and non-fatal cardiovascular disease (CVD) risk in individuals without previous CVD or diabetes aged 40–69 years in Europe.We derived risk prediction models using individual-participant data from 45 cohorts in 13 countries (677 684 individuals, 30 121 CVD events). We used sex-specific and competing risk-adjusted models, including age, smoking status, systolic blood pressure, and total- and HDL-cholesterol. We defined four risk regions in Europe according to country-specific CVD mortality, recalibrating models to each region using expected incidences and risk factor distributions. Region-specific incidence was estimated using CVD mortality and incidence data on 10 776 466 individuals. For external validation, we analysed data from 25 additional cohorts in 15 European countries (1 133 181 individuals, 43 492 CVD events). After applying the derived risk prediction models to external validation cohorts, C-indices ranged from 0.67 (0.65–0.68) to 0.81 (0.76–0.86). Predicted CVD risk varied several-fold across European regions. For example, the estimated 10-year CVD risk for a 50-year-old smoker, with a systolic blood pressure of 140 mmHg, total cholesterol of 5.5 mmol/L, and HDL-cholesterol of 1.3 mmol/L, ranged from 5.9% for men in low-risk countries to 14.0% for men in very high-risk countries, and from 4.2% for women in low-risk countries to 13.7% for women in very high-risk countries.SCORE2—a new algorithm derived, calibrated, and validated to predict 10-year risk of first-onset CVD in European populations—enhances the identification of individuals at higher risk of developing CVD across Europe.",
      "accessed": {
       "date-parts": [
        [
         2023,
         7,
         20
        ]
       ]
      },
      "author": [
       {
        "family": "SCORE2 working group and ESC Cardiovascular risk collaboration",
        "given": ""
       }
      ],
      "container-title": "European Heart Journal",
      "id": "10831815/ZY2CL5NC",
      "issue": "25",
      "issued": {
       "date-parts": [
        [
         2021,
         7,
         1
        ]
       ]
      },
      "journalAbbreviation": "European Heart Journal",
      "page": "2439-2454",
      "shortTitle": "SCORE2 risk prediction algorithms",
      "system_id": "zotero|10831815/ZY2CL5NC",
      "title": "SCORE2 risk prediction algorithms: new models to estimate 10-year risk of cardiovascular disease in Europe",
      "type": "article-journal",
      "volume": "42"
     }
    }
   },
   "style": "apa.csl"
  },
  "kernelspec": {
   "display_name": "R",
   "language": "R",
   "name": "ir"
  },
  "language_info": {
   "codemirror_mode": "r",
   "file_extension": ".r",
   "mimetype": "text/x-r-source",
   "name": "R",
   "pygments_lexer": "r",
   "version": "4.1.2"
  },
  "toc-showtags": false
 },
 "nbformat": 4,
 "nbformat_minor": 5
}
